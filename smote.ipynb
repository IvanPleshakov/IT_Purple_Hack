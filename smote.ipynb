{
 "cells": [
  {
   "cell_type": "code",
   "execution_count": 1,
   "metadata": {
    "id": "ir46DPCaH9LI"
   },
   "outputs": [
    {
     "name": "stderr",
     "output_type": "stream",
     "text": [
      "<frozen importlib._bootstrap>:241: RuntimeWarning: numpy.ufunc size changed, may indicate binary incompatibility. Expected 216 from C header, got 232 from PyObject\n"
     ]
    }
   ],
   "source": [
    "import os\n",
    "import random\n",
    "import numpy as np\n",
    "import pandas as pd\n",
    "import typing as tp\n",
    "import seaborn as sns\n",
    "import matplotlib.pyplot as plt\n",
    "import warnings\n",
    "\n",
    "\n",
    "from tqdm.notebook import tqdm\n",
    "from sklearn.preprocessing import MultiLabelBinarizer\n",
    "from catboost import CatBoostClassifier\n",
    "from sklearn.linear_model import LinearRegression\n",
    "from sklearn.metrics import confusion_matrix,  accuracy_score, roc_auc_score\n",
    "\n",
    "warnings.filterwarnings(\"ignore\")\n",
    "\n",
    "def set_seed(seed):\n",
    "    np.random.seed(seed)\n",
    "    random.seed(seed)\n",
    "    os.environ[\"PYTHONHASHSEED\"] = str(seed)\n",
    "\n",
    "TEST_SIZE = 0.15\n",
    "set_seed(560)"
   ]
  },
  {
   "cell_type": "code",
   "execution_count": 2,
   "metadata": {
    "id": "-MppT8IaVaDJ"
   },
   "outputs": [],
   "source": [
    "TRAIN_PATH = 'data/train_data.pqt'\n",
    "TEST_PATH = 'data/test_data.pqt'\n",
    "SAMPLE_SUBM_PATH = 'data/sample_submission.csv'\n",
    "RESULT_PATH = 'data/top_g_segment.csv'\n",
    "MODEL_PATH = 'data/agg_feats.cbm'\n",
    "WEIGHTS_PATH = 'data/cluster_weights.xlsx'\n",
    "\n",
    "# TRAIN_PROCESS_PATH = 'drive/MyDrive/Contests/IT_Purple_Hack/process_data/train_data.pqt'\n",
    "# VAL_PROCESS_PATH = 'drive/MyDrive/Contests/IT_Purple_Hack/process_data/val_data.pqt'\n",
    "# TEST_PROCESS_PATH = 'drive/MyDrive/Contests/IT_Purple_Hack/process_data/test_data.pqt'\n",
    "\n",
    "train = pd.read_parquet(TRAIN_PATH)"
   ]
  },
  {
   "cell_type": "code",
   "execution_count": 3,
   "metadata": {
    "id": "ap_mTZLvFc-B"
   },
   "outputs": [],
   "source": [
    "train.fillna(0, inplace=True)"
   ]
  },
  {
   "cell_type": "code",
   "execution_count": 4,
   "metadata": {
    "id": "9Te0SVh-fRzD"
   },
   "outputs": [],
   "source": [
    "def generate_features(\n",
    "        train_dataset: pd.DataFrame,\n",
    "        num_features: tp.List[tp.Union[str, str]],\n",
    "        test_dataset = None,\n",
    "        target_col: str = 'end_cluster',\n",
    "):\n",
    "\n",
    "    train_df = train_dataset.copy()\n",
    "    if isinstance(test_dataset, pd.DataFrame):\n",
    "         test_df = test_dataset.copy()\n",
    "    else:\n",
    "         test_df = None\n",
    "    for value in train_df[target_col].unique():\n",
    "        for feat_1, feat_2 in num_features:\n",
    "            reg = LinearRegression().fit(train_df[[feat_1]], train_df[[feat_2]])\n",
    "            line = reg.predict(train_df[[feat_1]]).reshape(-1)\n",
    "            train_df[f'reg_dist_{value}_{feat_2}_{feat_1}'] = train_df[feat_2].values - line\n",
    "            if isinstance(test_dataset, pd.DataFrame):\n",
    "                  line = reg.predict(test_df[[feat_1]]).reshape(-1)\n",
    "                  test_df[f'reg_dist_{value}_{feat_2}_{feat_1}'] = test_df[feat_2] - line\n",
    "\n",
    "    return train_df, test_df"
   ]
  },
  {
   "cell_type": "code",
   "execution_count": 5,
   "metadata": {
    "id": "Z0vJHsOUPlh2"
   },
   "outputs": [],
   "source": [
    "import typing as tp\n",
    "\n",
    "def generate_agg_features(\n",
    "    dataset: pd.DataFrame,\n",
    "    feats_to_agg_list: tp.List[str],\n",
    "    feats_by_agg_list: tp.List[str],\n",
    "    build_for_train: bool = True,\n",
    "    agg_by_3rd_month: bool = True,\n",
    "    agg_func_list: tp.List[str] = ['max', 'mean'],\n",
    "    test_dataset= None\n",
    ") -> pd.DataFrame:\n",
    "    if build_for_train:\n",
    "        train_df = dataset.copy()\n",
    "        to_agg = dataset[dataset.date == 'month_3'].copy() if agg_by_3rd_month else dataset.copy()\n",
    "        for agg_feat in feats_by_agg_list:\n",
    "            grouped = to_agg.groupby(agg_feat)[feats_to_agg_list].agg(agg_func_list).reset_index()\n",
    "            grouped.columns = [col[0] if col[1] == '' else 'agg_{}_{}_{}'.format(agg_feat, col[0], col[1]) for col in grouped.columns]\n",
    "            train_df = pd.merge(train_df, grouped, on=agg_feat, how='left')\n",
    "        return train_df\n",
    "    else:\n",
    "        test_df = test_dataset.copy()\n",
    "        for agg_feat in feats_by_agg_list:\n",
    "            subset_cols = list(dataset.filter(like=('agg_'+agg_feat)).columns) + [agg_feat]\n",
    "            print(subset_cols)\n",
    "            grouped = dataset[subset_cols].groupby(agg_feat).max()\n",
    "            test_df = pd.merge(test_df, grouped, on=agg_feat, how='left')\n",
    "        return test_df\n"
   ]
  },
  {
   "cell_type": "code",
   "execution_count": 6,
   "metadata": {
    "id": "YE4K_b7-4TXq"
   },
   "outputs": [],
   "source": [
    "def ohe_start_cluster(train_dataset: pd.DataFrame, test_dataset: pd.DataFrame) -> pd.DataFrame:\n",
    "\n",
    "    result = test_dataset.copy()\n",
    "\n",
    "    # Инициализация MultiLabelBinarizer\n",
    "    mlb = MultiLabelBinarizer()\n",
    "    products_train = train_dataset['start_cluster'].str.lstrip(\"{\").str.rstrip(\"}\").str.replace(\" \", \"\").str.split(',')\n",
    "    mlb.fit(products_train)\n",
    "\n",
    "    products_test = result['start_cluster'].str.lstrip(\"{\").str.rstrip(\"}\").str.replace(\" \", \"\").str.split(',')\n",
    "    one_hot_encoded_labels = mlb.transform(products_test)\n",
    "    for idx, product in tqdm(enumerate(mlb.classes_)):\n",
    "        result['start_cluster_product_' + product] = one_hot_encoded_labels[:, idx]\n",
    "\n",
    "    return result"
   ]
  },
  {
   "cell_type": "code",
   "execution_count": 7,
   "metadata": {
    "id": "LDbIT434ZiDG"
   },
   "outputs": [],
   "source": [
    "def make_lags(dataset: pd.DataFrame,\n",
    "              columns_not_to_use,\n",
    "              drop_months: bool=False,\n",
    "              lags: bool=True) -> pd.DataFrame:\n",
    "\n",
    "    result = dataset.copy()\n",
    "\n",
    "    if lags:\n",
    "        for column in tqdm(result.columns):\n",
    "\n",
    "            if column not in columns_not_to_use:\n",
    "                result[column + '_lag1'] = result.groupby('id')[column].shift(1)\n",
    "                result[column + '_lag2'] = result.groupby('id')[column].shift(2)\n",
    "\n",
    "    if drop_months:\n",
    "\n",
    "        result = result.drop(result[(result['date'] == 'month_1') | (result['date'] == 'month_2')].index)\n",
    "        result = result.drop(result[(result['date'] == 'month_4') | (result['date'] == 'month_5')].index)\n",
    "\n",
    "    return result"
   ]
  },
  {
   "cell_type": "markdown",
   "metadata": {
    "id": "53Lr0oQTQX3V"
   },
   "source": [
    "### Split"
   ]
  },
  {
   "cell_type": "code",
   "execution_count": 8,
   "metadata": {
    "id": "L34-Myad0kIb"
   },
   "outputs": [],
   "source": [
    "feats_to_agg = ['balance_amt_min', 'balance_amt_max', 'sum_cred_e_oper_3m', 'sum_deb_h_oper_3m', 'sum_of_paym_2m', 'sum_of_paym_1y']\n",
    "feats_by_agg = ['okved', 'city', 'channel_code']\n",
    "agg_func = ['max', 'mean', 'min', 'median', 'count']\n",
    "train = generate_agg_features(\n",
    "    train,\n",
    "    feats_to_agg,\n",
    "    feats_by_agg,\n",
    "    agg_func_list=agg_func,\n",
    ")"
   ]
  },
  {
   "cell_type": "code",
   "execution_count": 9,
   "metadata": {
    "id": "fgW_uP4Kuq6u"
   },
   "outputs": [],
   "source": [
    "from sklearn.model_selection import train_test_split\n",
    "ids_and_clusters = train[train['date'] == 'month_3'][['id', 'end_cluster']].drop_duplicates()\n",
    "train_ids, test_ids, _, _ = train_test_split(ids_and_clusters['id'], ids_and_clusters['end_cluster'], stratify=ids_and_clusters['end_cluster'], test_size=0.15, random_state=560, shuffle=True)\n",
    "\n",
    "dataset_train = train[train['id'].isin(train_ids)]\n",
    "dataset_val = train[train['id'].isin(test_ids)]"
   ]
  },
  {
   "cell_type": "code",
   "execution_count": 10,
   "metadata": {
    "colab": {
     "base_uri": "https://localhost:8080/",
     "height": 81,
     "referenced_widgets": [
      "3e1be19e278247ae81bc13f51e9ff802",
      "b99a21e9fb014fa782a5a179b11dfe4a",
      "b872b6e7e9154550b385cac30caf2139",
      "be47c25d3fec406f8fb17751a364572a",
      "c64a9789419d45b7a0627943f5b621ed",
      "24c3f160ed8b40179946d22a2ad98485",
      "d3c9837f37494642b7a294a6b2a9f1ac",
      "a2138586b37b4d9daea20da180f7582a",
      "779f2be70d0f40488bec425bfe709872",
      "4e5bd8aca74e46c59fe8c5e6329b5c49",
      "0738e2473eed493e8d5eb58cf3efb9ba",
      "98a645903ec24d118942ffbf28d4e247",
      "d3973c520108419483f8425b1ef6c76f",
      "881c46e7fe0340c7b9cc7d92bfdf8f48",
      "c6fa605161bc48abbe8ba1d60efd4483",
      "aa676ef707874d818156b199afb0d97a",
      "7bf51e10e7a242d29f8dec102d06bd30",
      "28a237dd989f473680dc37e8c7297d49",
      "ff30f7e0b6504b0e97e5caaaaedd8df5",
      "fec4d4605c074825b797e08d22672929",
      "288ba4d0fcb24bf49c0dc15547031d3b",
      "1dc3524976794384b57c9ea0d34d2b0d"
     ]
    },
    "id": "fViWxGTA0Mxn",
    "outputId": "f2ed0d5e-b146-4707-ffbc-21264f15ad73"
   },
   "outputs": [
    {
     "data": {
      "application/vnd.jupyter.widget-view+json": {
       "model_id": "66320d8ad6924affba9e931448ff2c91",
       "version_major": 2,
       "version_minor": 0
      },
      "text/plain": [
       "0it [00:00, ?it/s]"
      ]
     },
     "metadata": {},
     "output_type": "display_data"
    },
    {
     "data": {
      "application/vnd.jupyter.widget-view+json": {
       "model_id": "c5639fda5062449198311e820143e7b2",
       "version_major": 2,
       "version_minor": 0
      },
      "text/plain": [
       "  0%|          | 0/196 [00:00<?, ?it/s]"
      ]
     },
     "metadata": {},
     "output_type": "display_data"
    }
   ],
   "source": [
    "train_ohe = ohe_start_cluster(train, train)\n",
    "not_to_lag = list(train.filter(like='agg_').columns) + ['id', 'date', 'end_cluster']\n",
    "train_lagged = make_lags(train_ohe, columns_not_to_use=not_to_lag, drop_months=True)"
   ]
  },
  {
   "cell_type": "markdown",
   "metadata": {
    "id": "KyG4lxQ1PYaG"
   },
   "source": [
    "### Train dataset"
   ]
  },
  {
   "cell_type": "code",
   "execution_count": 11,
   "metadata": {
    "id": "dp1ZarzDPZvk"
   },
   "outputs": [
    {
     "data": {
      "application/vnd.jupyter.widget-view+json": {
       "model_id": "1ed19b234db04e64bac0d320a990fd0f",
       "version_major": 2,
       "version_minor": 0
      },
      "text/plain": [
       "0it [00:00, ?it/s]"
      ]
     },
     "metadata": {},
     "output_type": "display_data"
    },
    {
     "data": {
      "application/vnd.jupyter.widget-view+json": {
       "model_id": "115eab4b6cc641ccae1a252f2e53ccf4",
       "version_major": 2,
       "version_minor": 0
      },
      "text/plain": [
       "  0%|          | 0/196 [00:00<?, ?it/s]"
      ]
     },
     "metadata": {},
     "output_type": "display_data"
    }
   ],
   "source": [
    "X_train_ohe = ohe_start_cluster(dataset_train, dataset_train)\n",
    "X_train_lagged = make_lags(X_train_ohe, columns_not_to_use=not_to_lag, drop_months=True, lags=True)"
   ]
  },
  {
   "cell_type": "code",
   "execution_count": 12,
   "metadata": {
    "id": "axXtPyIWPkxD"
   },
   "outputs": [
    {
     "name": "stdout",
     "output_type": "stream",
     "text": [
      "(510000, 183)\n",
      "(510000, 196)\n",
      "(170000, 402)\n"
     ]
    }
   ],
   "source": [
    "print(dataset_train.shape)\n",
    "print(X_train_ohe.shape)\n",
    "print(X_train_lagged.shape)"
   ]
  },
  {
   "cell_type": "code",
   "execution_count": 13,
   "metadata": {
    "id": "heS_KulsPw-W"
   },
   "outputs": [
    {
     "data": {
      "text/html": [
       "<div>\n",
       "<style scoped>\n",
       "    .dataframe tbody tr th:only-of-type {\n",
       "        vertical-align: middle;\n",
       "    }\n",
       "\n",
       "    .dataframe tbody tr th {\n",
       "        vertical-align: top;\n",
       "    }\n",
       "\n",
       "    .dataframe thead th {\n",
       "        text-align: right;\n",
       "    }\n",
       "</style>\n",
       "<table border=\"1\" class=\"dataframe\">\n",
       "  <thead>\n",
       "    <tr style=\"text-align: right;\">\n",
       "      <th></th>\n",
       "      <th>id</th>\n",
       "      <th>date</th>\n",
       "      <th>start_cluster</th>\n",
       "      <th>start_cluster_lag1</th>\n",
       "      <th>start_cluster_lag2</th>\n",
       "      <th>start_cluster_product_α</th>\n",
       "      <th>start_cluster_product_α_lag1</th>\n",
       "      <th>start_cluster_product_α_lag2</th>\n",
       "    </tr>\n",
       "  </thead>\n",
       "  <tbody>\n",
       "    <tr>\n",
       "      <th>2</th>\n",
       "      <td>0</td>\n",
       "      <td>month_3</td>\n",
       "      <td>{α, γ}</td>\n",
       "      <td>{α, γ}</td>\n",
       "      <td>{α, γ}</td>\n",
       "      <td>1</td>\n",
       "      <td>1.0</td>\n",
       "      <td>1.0</td>\n",
       "    </tr>\n",
       "    <tr>\n",
       "      <th>5</th>\n",
       "      <td>1</td>\n",
       "      <td>month_3</td>\n",
       "      <td>{other}</td>\n",
       "      <td>{other}</td>\n",
       "      <td>{other}</td>\n",
       "      <td>0</td>\n",
       "      <td>0.0</td>\n",
       "      <td>0.0</td>\n",
       "    </tr>\n",
       "    <tr>\n",
       "      <th>8</th>\n",
       "      <td>2</td>\n",
       "      <td>month_3</td>\n",
       "      <td>{α}</td>\n",
       "      <td>{α}</td>\n",
       "      <td>{α}</td>\n",
       "      <td>1</td>\n",
       "      <td>1.0</td>\n",
       "      <td>1.0</td>\n",
       "    </tr>\n",
       "    <tr>\n",
       "      <th>11</th>\n",
       "      <td>3</td>\n",
       "      <td>month_3</td>\n",
       "      <td>{α}</td>\n",
       "      <td>{α}</td>\n",
       "      <td>{α}</td>\n",
       "      <td>1</td>\n",
       "      <td>1.0</td>\n",
       "      <td>1.0</td>\n",
       "    </tr>\n",
       "    <tr>\n",
       "      <th>14</th>\n",
       "      <td>4</td>\n",
       "      <td>month_3</td>\n",
       "      <td>{α}</td>\n",
       "      <td>{α}</td>\n",
       "      <td>{α}</td>\n",
       "      <td>1</td>\n",
       "      <td>1.0</td>\n",
       "      <td>1.0</td>\n",
       "    </tr>\n",
       "    <tr>\n",
       "      <th>17</th>\n",
       "      <td>5</td>\n",
       "      <td>month_3</td>\n",
       "      <td>{α}</td>\n",
       "      <td>{}</td>\n",
       "      <td>{}</td>\n",
       "      <td>1</td>\n",
       "      <td>0.0</td>\n",
       "      <td>0.0</td>\n",
       "    </tr>\n",
       "    <tr>\n",
       "      <th>20</th>\n",
       "      <td>6</td>\n",
       "      <td>month_3</td>\n",
       "      <td>{α, γ}</td>\n",
       "      <td>{α, γ}</td>\n",
       "      <td>{α, γ}</td>\n",
       "      <td>1</td>\n",
       "      <td>1.0</td>\n",
       "      <td>1.0</td>\n",
       "    </tr>\n",
       "    <tr>\n",
       "      <th>23</th>\n",
       "      <td>7</td>\n",
       "      <td>month_3</td>\n",
       "      <td>{α}</td>\n",
       "      <td>{α}</td>\n",
       "      <td>{α}</td>\n",
       "      <td>1</td>\n",
       "      <td>1.0</td>\n",
       "      <td>1.0</td>\n",
       "    </tr>\n",
       "    <tr>\n",
       "      <th>26</th>\n",
       "      <td>8</td>\n",
       "      <td>month_3</td>\n",
       "      <td>{α, γ}</td>\n",
       "      <td>{α, γ}</td>\n",
       "      <td>{α, γ}</td>\n",
       "      <td>1</td>\n",
       "      <td>1.0</td>\n",
       "      <td>1.0</td>\n",
       "    </tr>\n",
       "    <tr>\n",
       "      <th>29</th>\n",
       "      <td>9</td>\n",
       "      <td>month_3</td>\n",
       "      <td>{α}</td>\n",
       "      <td>{α}</td>\n",
       "      <td>{α}</td>\n",
       "      <td>1</td>\n",
       "      <td>1.0</td>\n",
       "      <td>1.0</td>\n",
       "    </tr>\n",
       "  </tbody>\n",
       "</table>\n",
       "</div>"
      ],
      "text/plain": [
       "    id     date start_cluster start_cluster_lag1 start_cluster_lag2  \\\n",
       "2    0  month_3        {α, γ}             {α, γ}             {α, γ}   \n",
       "5    1  month_3       {other}            {other}            {other}   \n",
       "8    2  month_3           {α}                {α}                {α}   \n",
       "11   3  month_3           {α}                {α}                {α}   \n",
       "14   4  month_3           {α}                {α}                {α}   \n",
       "17   5  month_3           {α}                 {}                 {}   \n",
       "20   6  month_3        {α, γ}             {α, γ}             {α, γ}   \n",
       "23   7  month_3           {α}                {α}                {α}   \n",
       "26   8  month_3        {α, γ}             {α, γ}             {α, γ}   \n",
       "29   9  month_3           {α}                {α}                {α}   \n",
       "\n",
       "    start_cluster_product_α  start_cluster_product_α_lag1  \\\n",
       "2                         1                           1.0   \n",
       "5                         0                           0.0   \n",
       "8                         1                           1.0   \n",
       "11                        1                           1.0   \n",
       "14                        1                           1.0   \n",
       "17                        1                           0.0   \n",
       "20                        1                           1.0   \n",
       "23                        1                           1.0   \n",
       "26                        1                           1.0   \n",
       "29                        1                           1.0   \n",
       "\n",
       "    start_cluster_product_α_lag2  \n",
       "2                            1.0  \n",
       "5                            0.0  \n",
       "8                            1.0  \n",
       "11                           1.0  \n",
       "14                           1.0  \n",
       "17                           0.0  \n",
       "20                           1.0  \n",
       "23                           1.0  \n",
       "26                           1.0  \n",
       "29                           1.0  "
      ]
     },
     "execution_count": 13,
     "metadata": {},
     "output_type": "execute_result"
    }
   ],
   "source": [
    "X_train_lagged[['id', 'date', 'start_cluster', 'start_cluster_lag1', 'start_cluster_lag2', 'start_cluster_product_α', 'start_cluster_product_α_lag1', 'start_cluster_product_α_lag2']].head(10)"
   ]
  },
  {
   "cell_type": "code",
   "execution_count": 15,
   "metadata": {
    "id": "pj4RCrSulpnp"
   },
   "outputs": [],
   "source": [
    "X_train, y_train = X_train_lagged.drop(columns=['end_cluster']), X_train_lagged['end_cluster']"
   ]
  },
  {
   "cell_type": "code",
   "execution_count": 16,
   "metadata": {
    "id": "AVPUQKJf_F74"
   },
   "outputs": [],
   "source": [
    "X_train['changed_m1_m2'] = (X_train['start_cluster_lag2'] != X_train['start_cluster_lag1']) * 1\n",
    "X_train['changed_m2_m3'] = (X_train['start_cluster_lag1'] != X_train['start_cluster']) * 1\n",
    "X_train['changed_m1_m3'] = (X_train['start_cluster_lag2'] != X_train['start_cluster']) * 1"
   ]
  },
  {
   "cell_type": "code",
   "execution_count": 17,
   "metadata": {
    "id": "WlfcM5B4_yn0"
   },
   "outputs": [
    {
     "data": {
      "text/plain": [
       "changed_m1_m2    15426\n",
       "changed_m2_m3    20185\n",
       "changed_m1_m3    33163\n",
       "dtype: int64"
      ]
     },
     "execution_count": 17,
     "metadata": {},
     "output_type": "execute_result"
    }
   ],
   "source": [
    "X_train[['changed_m1_m2', 'changed_m2_m3', 'changed_m1_m3']].sum()"
   ]
  },
  {
   "cell_type": "markdown",
   "metadata": {
    "id": "qhFuhtU3QNKT"
   },
   "source": [
    "### Val dataset"
   ]
  },
  {
   "cell_type": "code",
   "execution_count": 18,
   "metadata": {
    "id": "A2m-i1t3QT5T"
   },
   "outputs": [
    {
     "data": {
      "application/vnd.jupyter.widget-view+json": {
       "model_id": "8bb5db3470dd4c45b327a91102365b04",
       "version_major": 2,
       "version_minor": 0
      },
      "text/plain": [
       "0it [00:00, ?it/s]"
      ]
     },
     "metadata": {},
     "output_type": "display_data"
    },
    {
     "data": {
      "application/vnd.jupyter.widget-view+json": {
       "model_id": "ef0b7e6e475a49a9bc2f9feca80c5a09",
       "version_major": 2,
       "version_minor": 0
      },
      "text/plain": [
       "  0%|          | 0/196 [00:00<?, ?it/s]"
      ]
     },
     "metadata": {},
     "output_type": "display_data"
    }
   ],
   "source": [
    "# dataset_val.loc[dataset_val['date'] == 'month_3', 'start_cluster'] = np.nan\n",
    "X_val_ohe = ohe_start_cluster(dataset_train, dataset_val)\n",
    "X_val_lagged = make_lags(X_val_ohe, columns_not_to_use=not_to_lag, drop_months=True, lags=True)"
   ]
  },
  {
   "cell_type": "code",
   "execution_count": 19,
   "metadata": {
    "id": "XLVcDsxSjbGx"
   },
   "outputs": [
    {
     "name": "stdout",
     "output_type": "stream",
     "text": [
      "(90000, 183)\n",
      "(90000, 196)\n",
      "(30000, 402)\n"
     ]
    }
   ],
   "source": [
    "print(dataset_val.shape)\n",
    "print(X_val_ohe.shape)\n",
    "print(X_val_lagged.shape)"
   ]
  },
  {
   "cell_type": "code",
   "execution_count": null,
   "metadata": {
    "id": "CtZSt6EeuOmP"
   },
   "outputs": [],
   "source": [
    "# X_val_lagged.to_parquet(VAL_PROCESS_PATH)"
   ]
  },
  {
   "cell_type": "code",
   "execution_count": 20,
   "metadata": {
    "id": "oVu9E4oZlrZR"
   },
   "outputs": [],
   "source": [
    "X_val, y_val = X_val_lagged.drop(columns=['end_cluster']), X_val_lagged['end_cluster']"
   ]
  },
  {
   "cell_type": "code",
   "execution_count": 21,
   "metadata": {
    "id": "Rgztj7haAOMV"
   },
   "outputs": [],
   "source": [
    "X_val['changed_m1_m2'] = (X_val['start_cluster_lag2'] != X_val['start_cluster_lag1']) * 1\n",
    "X_val['changed_m2_m3'] = (X_val['start_cluster_lag1'] != X_val['start_cluster']) * 1\n",
    "X_val['changed_m1_m3'] = (X_val['start_cluster_lag2'] != X_val['start_cluster']) * 1"
   ]
  },
  {
   "cell_type": "markdown",
   "metadata": {
    "id": "p9H4lsKVRvU8"
   },
   "source": [
    "### Train baseline"
   ]
  },
  {
   "cell_type": "code",
   "execution_count": 22,
   "metadata": {
    "id": "QUA2OiOjnP0N"
   },
   "outputs": [],
   "source": [
    "cat_cols = [\n",
    "    \"channel_code\", \"city\", \"city_type\",\n",
    "    \"okved\", \"segment\", \"start_cluster\",\n",
    "    \"index_city_code\", \"ogrn_month\", \"ogrn_year\",\n",
    "]\n",
    "\n",
    "cat_cols_lagged = []\n",
    "for col in cat_cols:\n",
    "    cat_cols_lagged.append(col)\n",
    "    cat_cols_lagged.append(col + '_lag1')\n",
    "    cat_cols_lagged.append(col + '_lag2')\n",
    "\n",
    "X_train.fillna('none', inplace=True)\n",
    "X_train[cat_cols_lagged] = X_train[cat_cols_lagged].astype(\"category\")\n",
    "\n",
    "X_val.fillna('none', inplace=True)\n",
    "X_val[cat_cols_lagged] = X_val[cat_cols_lagged].astype(\"category\")"
   ]
  },
  {
   "cell_type": "code",
   "execution_count": 23,
   "metadata": {
    "id": "CXNTcW2cpM2k"
   },
   "outputs": [
    {
     "data": {
      "text/plain": [
       "(170000, 404)"
      ]
     },
     "execution_count": 23,
     "metadata": {},
     "output_type": "execute_result"
    }
   ],
   "source": [
    "X_train.shape"
   ]
  },
  {
   "cell_type": "code",
   "execution_count": 24,
   "metadata": {
    "id": "IsJfAjp5pNuE"
   },
   "outputs": [
    {
     "data": {
      "text/plain": [
       "(30000, 404)"
      ]
     },
     "execution_count": 24,
     "metadata": {},
     "output_type": "execute_result"
    }
   ],
   "source": [
    "X_val.shape"
   ]
  },
  {
   "cell_type": "code",
   "execution_count": 25,
   "metadata": {
    "id": "aLnEtfNE9xrU"
   },
   "outputs": [],
   "source": [
    "X_train = X_train.drop(columns=[\"id\", \"date\"])\n",
    "X_val = X_val.drop(columns=[\"id\", \"date\"])"
   ]
  },
  {
   "cell_type": "code",
   "execution_count": 26,
   "metadata": {},
   "outputs": [],
   "source": [
    "categorical_features_indices = [i for i, col in enumerate(X_train.columns) if X_train[col].dtype == 'category']\n",
    "X_train.iloc[:, categorical_features_indices] = X_train.iloc[:, categorical_features_indices].astype(str)"
   ]
  },
  {
   "cell_type": "code",
   "execution_count": 29,
   "metadata": {},
   "outputs": [
    {
     "data": {
      "text/plain": [
       "(170000,)"
      ]
     },
     "execution_count": 29,
     "metadata": {},
     "output_type": "execute_result"
    }
   ],
   "source": [
    "y_train.shape"
   ]
  },
  {
   "cell_type": "code",
   "execution_count": null,
   "metadata": {},
   "outputs": [],
   "source": [
    "from imblearn.over_sampling import SMOTENC\n",
    "sm = SMOTENC(random_state=560, categorical_features=categorical_features_indices,\n",
    "            sampling_strategy='minority', k_neighbors=3)\n",
    "X_train, y_train = sm.fit_resample(X_train, y_train)"
   ]
  },
  {
   "cell_type": "code",
   "execution_count": null,
   "metadata": {
    "id": "hDjAvXOmuN8o",
    "scrolled": true
   },
   "outputs": [],
   "source": [
    "# catboost\n",
    "params_cat = {\n",
    "    'cat_features': cat_cols_lagged,\n",
    "    # 'n_estimators': 5000,\n",
    "    'iterations': 3000,\n",
    "    'task_type':'GPU',\n",
    "    'devices': '3'\n",
    "}\n",
    "model = CatBoostClassifier(**params_cat)\n",
    "model.fit(X_train, y_train, cat_features=cat_cols_lagged, eval_set=(X_val, y_val))"
   ]
  },
  {
   "cell_type": "code",
   "execution_count": null,
   "metadata": {},
   "outputs": [],
   "source": [
    "def weighted_roc_auc(y_true, y_pred, labels, weights_dict):\n",
    "    unnorm_weights = np.array([weights_dict[label] for label in labels])\n",
    "    weights = unnorm_weights / unnorm_weights.sum()\n",
    "    classes_roc_auc = roc_auc_score(\n",
    "        y_true, y_pred, labels=labels, multi_class=\"ovr\", average=None\n",
    "    )\n",
    "    return sum(weights * classes_roc_auc), classes_roc_auc\n",
    "\n",
    "\n",
    "cluster_weights = pd.read_excel(\"cluster_weights.xlsx\").set_index(\"cluster\")\n",
    "weights_dict = cluster_weights[\"unnorm_weight\"].to_dict()"
   ]
  },
  {
   "cell_type": "code",
   "execution_count": null,
   "metadata": {
    "id": "uMPSIrpGq1Bd",
    "scrolled": true
   },
   "outputs": [],
   "source": [
    "y_pred_proba = model.predict_proba(X_val)\n",
    "\n",
    "weighted_roc_auc(y_val, y_pred_proba, model.classes_, weights_dict)"
   ]
  },
  {
   "cell_type": "code",
   "execution_count": null,
   "metadata": {
    "id": "f5VBtvGJOjic"
   },
   "outputs": [],
   "source": [
    "# 0.909668 0.9103184735953871"
   ]
  },
  {
   "cell_type": "code",
   "execution_count": null,
   "metadata": {
    "id": "3qvSPKjD9axI"
   },
   "outputs": [],
   "source": [
    "y_pred = model.predict(X_val)"
   ]
  },
  {
   "cell_type": "code",
   "execution_count": null,
   "metadata": {
    "id": "2W2_CmR2yLss"
   },
   "outputs": [],
   "source": [
    "accuracy_score(y_val, y_pred)"
   ]
  },
  {
   "cell_type": "code",
   "execution_count": null,
   "metadata": {
    "id": "5E91tLFJ2IbM"
   },
   "outputs": [],
   "source": [
    "# 0.731066"
   ]
  },
  {
   "cell_type": "markdown",
   "metadata": {
    "id": "xtMN0ZSHiu_M"
   },
   "source": [
    "### Confusion matrix"
   ]
  },
  {
   "cell_type": "code",
   "execution_count": null,
   "metadata": {
    "id": "q14BG2xgjBC4"
   },
   "outputs": [],
   "source": [
    "cm = confusion_matrix(y_val, y_pred)\n",
    "\n",
    "plt.figure(figsize=(17, 17))\n",
    "sns.heatmap(cm,\n",
    "            annot=True,\n",
    "            fmt='g',\n",
    "            xticklabels=np.unique(y_val.ravel()),\n",
    "            yticklabels=np.unique(y_val.ravel()),\n",
    "            vmin=0, vmax=2000)\n",
    "plt.xticks(rotation=0)\n",
    "plt.yticks(rotation=0)\n",
    "plt.ylabel('Prediction', fontsize=11, rotation=0)\n",
    "plt.xlabel('Actual', fontsize=11)\n",
    "plt.title('Confusion Matrix', fontsize=17)\n",
    "plt.show()"
   ]
  },
  {
   "cell_type": "code",
   "execution_count": null,
   "metadata": {
    "id": "IkJK2fs43Cd0"
   },
   "outputs": [],
   "source": [
    "def plot_feature_importance(importance, names, model_type):\n",
    "\n",
    "    #Create arrays from feature importance and feature names\n",
    "    feature_importance = np.array(importance)\n",
    "    feature_names = np.array(names)\n",
    "\n",
    "    #Create a DataFrame using a Dictionary\n",
    "    data={'feature_names':feature_names,'feature_importance':feature_importance}\n",
    "    fi_df = pd.DataFrame(data)\n",
    "\n",
    "    #Sort the DataFrame in order decreasing feature importance\n",
    "    fi_df.sort_values(by=['feature_importance'], ascending=False,inplace=True)\n",
    "    fi_df = fi_df.iloc[:30]\n",
    "\n",
    "    #Define size of bar plot\n",
    "    plt.figure(figsize=(10,8))\n",
    "    #Plot Searborn bar chart\n",
    "    sns.barplot(x=fi_df['feature_importance'], y=fi_df['feature_names'])\n",
    "    #Add chart labels\n",
    "    plt.title(model_type + 'FEATURE IMPORTANCE')\n",
    "    plt.xlabel('FEATURE IMPORTANCE')\n",
    "    plt.ylabel('FEATURE NAMES')"
   ]
  },
  {
   "cell_type": "code",
   "execution_count": null,
   "metadata": {
    "id": "xLU67Siw3DBU"
   },
   "outputs": [],
   "source": [
    "#plot the catboost result\n",
    "plot_feature_importance(model.get_feature_importance(), X_val.columns, 'CATBOOST')"
   ]
  },
  {
   "cell_type": "code",
   "execution_count": null,
   "metadata": {
    "id": "Mnjwagxw5EgO"
   },
   "outputs": [],
   "source": [
    "model.save_model('smote',\n",
    "                 format=\"cbm\",\n",
    "                 export_parameters=None,\n",
    "                 pool=None)"
   ]
  },
  {
   "cell_type": "code",
   "execution_count": null,
   "metadata": {
    "id": "neZB1BBv5nz0"
   },
   "outputs": [],
   "source": [
    "# model1 = CatBoostClassifier()\n",
    "# model1.load_model(MODEL_PATH)"
   ]
  },
  {
   "cell_type": "code",
   "execution_count": null,
   "metadata": {
    "id": "t_Tguw0PCLE-"
   },
   "outputs": [],
   "source": [
    "train['okved']"
   ]
  },
  {
   "cell_type": "markdown",
   "metadata": {
    "id": "mICa9D-mP3qe"
   },
   "source": [
    "### Test dataset"
   ]
  },
  {
   "cell_type": "code",
   "execution_count": null,
   "metadata": {
    "id": "lXt4_tqrjMMz"
   },
   "outputs": [],
   "source": [
    "test = pd.read_parquet(TEST_PATH)"
   ]
  },
  {
   "cell_type": "code",
   "execution_count": null,
   "metadata": {
    "id": "dEO7JhS249to"
   },
   "outputs": [],
   "source": [
    "feats_by_agg"
   ]
  },
  {
   "cell_type": "code",
   "execution_count": null,
   "metadata": {
    "id": "u9LyzVbw8RF6"
   },
   "outputs": [],
   "source": [
    "train"
   ]
  },
  {
   "cell_type": "code",
   "execution_count": null,
   "metadata": {
    "id": "BNK1Q7UD4wzX"
   },
   "outputs": [],
   "source": [
    "test.fillna(0, inplace=True)\n",
    "test = generate_agg_features(\n",
    "    train,\n",
    "    feats_to_agg,\n",
    "    feats_by_agg,\n",
    "    build_for_train=False,\n",
    "    agg_func_list=agg_func,\n",
    "    test_dataset=test\n",
    ")"
   ]
  },
  {
   "cell_type": "code",
   "execution_count": null,
   "metadata": {
    "id": "md3UrvTw7qWZ"
   },
   "outputs": [],
   "source": [
    "test.filter(like='agg')"
   ]
  },
  {
   "cell_type": "code",
   "execution_count": null,
   "metadata": {
    "id": "sN8RCgN0hzcz"
   },
   "outputs": [],
   "source": [
    "def predict_start(\n",
    "    dataset_df: pd.DataFrame,\n",
    "    cat_features: tp.List[str],\n",
    "    task_type: str = 'GPU',\n",
    "    model = None,\n",
    "    params = None,\n",
    "):\n",
    "    \"\"\"\n",
    "    Заполняем пропуски в start_cluster для 6 месяца, обучаемся на 2\n",
    "    Возвращаем копию датасета и модель\n",
    "    \"\"\"\n",
    "    dataset = dataset_df.copy()\n",
    "    dataset.fillna(0, inplace=True)\n",
    "    cat_features = [feat for feat in cat_features if feat != 'start_cluster']\n",
    "    cat_features = cat_features + ['prev_month']\n",
    "    if not params:\n",
    "        params = {\n",
    "            'random_state': 560,\n",
    "            'iterations': 3000,\n",
    "            'task_type': 'GPU',\n",
    "            'devices':'3',\n",
    "            'cat_features': cat_features,\n",
    "        }\n",
    "    if not model:\n",
    "        model1 = CatBoostClassifier(**params)\n",
    "    month_4 = dataset[dataset.date == 'month_4'].copy()\n",
    "    month_5 = dataset[dataset.date == 'month_5'].copy()\n",
    "    month_6 = dataset[dataset.date == 'month_6'].copy()\n",
    "    train_dataset = month_5.merge(month_4[['id', 'start_cluster']], on='id', how='right')\n",
    "    pred_dataset = month_6.merge(month_5[['id', 'start_cluster']], on='id', how='right')\n",
    "    train_dataset.rename(columns={'start_cluster_x': 'target', 'start_cluster_y': 'prev_month'}, inplace=True)\n",
    "    pred_dataset.rename(columns={'start_cluster_x': 'target', 'start_cluster_y': 'prev_month'}, inplace=True)\n",
    "    X = train_dataset.drop([\"id\", \"date\", \"target\"], axis=1)\n",
    "    y = train_dataset[\"target\"]\n",
    "    model1.fit(X, y, verbose=False)\n",
    "    dataset.loc[dataset.date == 'month_6', 'start_cluster'] = model1.predict(pred_dataset.drop([\"id\", \"date\", \"target\"], axis=1))\n",
    "    return dataset, model"
   ]
  },
  {
   "cell_type": "code",
   "execution_count": null,
   "metadata": {
    "id": "MJFj6rg75aft"
   },
   "outputs": [],
   "source": [
    "test.filter(like='city_type')"
   ]
  },
  {
   "cell_type": "code",
   "execution_count": null,
   "metadata": {
    "id": "BCDfR0Ukh52K"
   },
   "outputs": [],
   "source": [
    "cat_cols = [\n",
    "    \"channel_code\", \"city\", \"city_type\",\n",
    "    \"okved\", \"segment\", \"start_cluster\",\n",
    "    \"index_city_code\", \"ogrn_month\", \"ogrn_year\",\n",
    "]\n",
    "\n",
    "dataset_test, _ = predict_start(test, cat_cols)"
   ]
  },
  {
   "cell_type": "code",
   "execution_count": null,
   "metadata": {
    "id": "P5Dskg0ss7XM"
   },
   "outputs": [],
   "source": [
    "test['start_cluster'] = dataset_test['start_cluster'].copy()"
   ]
  },
  {
   "cell_type": "code",
   "execution_count": null,
   "metadata": {
    "id": "XQKjWJ8lIJrD"
   },
   "outputs": [],
   "source": [
    "test.fillna(0, inplace=True)\n",
    "\n",
    "# pairs = [('cnt_cred_h_oper_3m', 'sum_cred_h_oper_3m')]\n",
    "# dataset_train, test = generate_features(train_dataset=dataset_train,\n",
    "#                                         num_features=pairs,\n",
    "#                                         test_dataset=test)"
   ]
  },
  {
   "cell_type": "code",
   "execution_count": null,
   "metadata": {
    "id": "JuKl1OW3hiln"
   },
   "outputs": [],
   "source": [
    "X_test_ohe = ohe_start_cluster(train, test)\n",
    "X_test = make_lags(X_test_ohe, columns_not_to_use=not_to_lag, drop_months=True)"
   ]
  },
  {
   "cell_type": "code",
   "execution_count": null,
   "metadata": {
    "id": "V5G3aiY0zcac"
   },
   "outputs": [],
   "source": [
    "# X_test.to_parquet(TEST_PROCESS_PATH)"
   ]
  },
  {
   "cell_type": "code",
   "execution_count": null,
   "metadata": {
    "id": "7dEWi7cXuKDU"
   },
   "outputs": [],
   "source": [
    "X_test[['id', 'date', 'start_cluster', 'start_cluster_lag1', 'start_cluster_lag2']].iloc[:15]"
   ]
  },
  {
   "cell_type": "code",
   "execution_count": null,
   "metadata": {
    "id": "I8yosV9DpNLN"
   },
   "outputs": [],
   "source": [
    "print(test.shape)\n",
    "print(X_test_ohe.shape)\n",
    "print(X_test.shape)"
   ]
  },
  {
   "cell_type": "code",
   "execution_count": null,
   "metadata": {
    "id": "sAqtcCYQAxh6"
   },
   "outputs": [],
   "source": [
    "X_test['changed_m1_m2'] = (X_test['start_cluster_lag2'] != X_test['start_cluster_lag1']) * 1\n",
    "X_test['changed_m2_m3'] = (X_test['start_cluster_lag1'] != X_test['start_cluster']) * 1\n",
    "X_test['changed_m1_m3'] = (X_test['start_cluster_lag2'] != X_test['start_cluster']) * 1"
   ]
  },
  {
   "cell_type": "code",
   "execution_count": null,
   "metadata": {
    "id": "2D9nEyN_BtME"
   },
   "outputs": [],
   "source": [
    "X_test[['changed_m1_m2', 'changed_m2_m3', 'changed_m1_m3']].sum()"
   ]
  },
  {
   "cell_type": "code",
   "execution_count": null,
   "metadata": {
    "id": "dHtjHHeBoQdz"
   },
   "outputs": [],
   "source": [
    "X_test.fillna('none', inplace=True)\n",
    "X_test[cat_cols_lagged] = X_test[cat_cols_lagged].astype(\"category\")\n",
    "X_test = X_test.drop(columns=[\"id\", \"date\"])"
   ]
  },
  {
   "cell_type": "code",
   "execution_count": null,
   "metadata": {
    "id": "OiWQhw3FZlRJ"
   },
   "outputs": [],
   "source": [
    "cat_cols_lagged"
   ]
  },
  {
   "cell_type": "code",
   "execution_count": null,
   "metadata": {
    "id": "UUS7JhcJkoRK"
   },
   "outputs": [],
   "source": [
    "test_pred_proba = model.predict_proba(X_test)\n",
    "test_pred_proba_df = pd.DataFrame(test_pred_proba, columns=model.classes_)\n",
    "sorted_classes = sorted(test_pred_proba_df.columns.to_list())\n",
    "test_pred_proba_df = test_pred_proba_df[sorted_classes]"
   ]
  },
  {
   "cell_type": "code",
   "execution_count": null,
   "metadata": {},
   "outputs": [],
   "source": [
    "test_pred_proba_df.to_csv('IPA.csv', index=False)"
   ]
  },
  {
   "cell_type": "code",
   "execution_count": null,
   "metadata": {},
   "outputs": [],
   "source": []
  },
  {
   "cell_type": "markdown",
   "metadata": {
    "id": "cwPRCWI2kWuL"
   },
   "source": [
    "### Submission"
   ]
  },
  {
   "cell_type": "code",
   "execution_count": null,
   "metadata": {
    "id": "VBlWQDRDkZBJ"
   },
   "outputs": [],
   "source": [
    "sample_submission_df = pd.read_csv('data/sample_submission.csv')"
   ]
  },
  {
   "cell_type": "code",
   "execution_count": null,
   "metadata": {
    "id": "JE4jdMkOr6nj"
   },
   "outputs": [],
   "source": [
    "sample_submission_df"
   ]
  },
  {
   "cell_type": "code",
   "execution_count": null,
   "metadata": {
    "id": "vbqY5Q_Er8xC"
   },
   "outputs": [],
   "source": [
    "test_pred_proba_df"
   ]
  },
  {
   "cell_type": "code",
   "execution_count": null,
   "metadata": {
    "id": "YvxlKwT1E-Wk"
   },
   "outputs": [],
   "source": [
    "chopa = pd.read_csv('data/gpt_classif.csv')"
   ]
  },
  {
   "cell_type": "code",
   "execution_count": null,
   "metadata": {
    "id": "211N1_vIFCz0"
   },
   "outputs": [],
   "source": [
    "test_pred_proba_df"
   ]
  },
  {
   "cell_type": "code",
   "execution_count": null,
   "metadata": {
    "id": "ltjrRi7qFM3N"
   },
   "outputs": [],
   "source": [
    "chopa[sorted_classes]"
   ]
  },
  {
   "cell_type": "code",
   "execution_count": null,
   "metadata": {
    "id": "LR1zTodfpfvB"
   },
   "outputs": [],
   "source": [
    "top_g_model = pd.read_csv(RESULT_PATH)\n",
    "top_g_blend = pd.read_csv('data/top_g_blend.csv')"
   ]
  },
  {
   "cell_type": "code",
   "execution_count": null,
   "metadata": {
    "id": "a5_vB-uWksIT"
   },
   "outputs": [],
   "source": [
    "sample_submission_df[sorted_classes] = (test_pred_proba_df[sorted_classes] + top_g_blend[sorted_classes] + top_g_model[sorted_classes]) / 3\n",
    "sample_submission_df.to_csv('йорш.csv', index=False)"
   ]
  },
  {
   "cell_type": "code",
   "execution_count": null,
   "metadata": {
    "id": "RBETL8k5qpZA"
   },
   "outputs": [],
   "source": [
    "sample_submission_df[sorted_classes] = test_pred_proba_df[sorted_classes]"
   ]
  },
  {
   "cell_type": "code",
   "execution_count": null,
   "metadata": {},
   "outputs": [],
   "source": [
    "sample_submission_df.to_csv('Cider.csv', index=False)"
   ]
  },
  {
   "cell_type": "code",
   "execution_count": null,
   "metadata": {},
   "outputs": [],
   "source": []
  }
 ],
 "metadata": {
  "accelerator": "GPU",
  "colab": {
   "gpuType": "T4",
   "provenance": []
  },
  "kernelspec": {
   "display_name": "Python 3 (ipykernel)",
   "language": "python",
   "name": "python3"
  },
  "language_info": {
   "codemirror_mode": {
    "name": "ipython",
    "version": 3
   },
   "file_extension": ".py",
   "mimetype": "text/x-python",
   "name": "python",
   "nbconvert_exporter": "python",
   "pygments_lexer": "ipython3",
   "version": "3.10.0"
  },
  "widgets": {
   "application/vnd.jupyter.widget-state+json": {
    "0738e2473eed493e8d5eb58cf3efb9ba": {
     "model_module": "@jupyter-widgets/controls",
     "model_module_version": "1.5.0",
     "model_name": "DescriptionStyleModel",
     "state": {
      "_model_module": "@jupyter-widgets/controls",
      "_model_module_version": "1.5.0",
      "_model_name": "DescriptionStyleModel",
      "_view_count": null,
      "_view_module": "@jupyter-widgets/base",
      "_view_module_version": "1.2.0",
      "_view_name": "StyleView",
      "description_width": ""
     }
    },
    "1dc3524976794384b57c9ea0d34d2b0d": {
     "model_module": "@jupyter-widgets/controls",
     "model_module_version": "1.5.0",
     "model_name": "DescriptionStyleModel",
     "state": {
      "_model_module": "@jupyter-widgets/controls",
      "_model_module_version": "1.5.0",
      "_model_name": "DescriptionStyleModel",
      "_view_count": null,
      "_view_module": "@jupyter-widgets/base",
      "_view_module_version": "1.2.0",
      "_view_name": "StyleView",
      "description_width": ""
     }
    },
    "24c3f160ed8b40179946d22a2ad98485": {
     "model_module": "@jupyter-widgets/base",
     "model_module_version": "1.2.0",
     "model_name": "LayoutModel",
     "state": {
      "_model_module": "@jupyter-widgets/base",
      "_model_module_version": "1.2.0",
      "_model_name": "LayoutModel",
      "_view_count": null,
      "_view_module": "@jupyter-widgets/base",
      "_view_module_version": "1.2.0",
      "_view_name": "LayoutView",
      "align_content": null,
      "align_items": null,
      "align_self": null,
      "border": null,
      "bottom": null,
      "display": null,
      "flex": null,
      "flex_flow": null,
      "grid_area": null,
      "grid_auto_columns": null,
      "grid_auto_flow": null,
      "grid_auto_rows": null,
      "grid_column": null,
      "grid_gap": null,
      "grid_row": null,
      "grid_template_areas": null,
      "grid_template_columns": null,
      "grid_template_rows": null,
      "height": null,
      "justify_content": null,
      "justify_items": null,
      "left": null,
      "margin": null,
      "max_height": null,
      "max_width": null,
      "min_height": null,
      "min_width": null,
      "object_fit": null,
      "object_position": null,
      "order": null,
      "overflow": null,
      "overflow_x": null,
      "overflow_y": null,
      "padding": null,
      "right": null,
      "top": null,
      "visibility": null,
      "width": null
     }
    },
    "288ba4d0fcb24bf49c0dc15547031d3b": {
     "model_module": "@jupyter-widgets/base",
     "model_module_version": "1.2.0",
     "model_name": "LayoutModel",
     "state": {
      "_model_module": "@jupyter-widgets/base",
      "_model_module_version": "1.2.0",
      "_model_name": "LayoutModel",
      "_view_count": null,
      "_view_module": "@jupyter-widgets/base",
      "_view_module_version": "1.2.0",
      "_view_name": "LayoutView",
      "align_content": null,
      "align_items": null,
      "align_self": null,
      "border": null,
      "bottom": null,
      "display": null,
      "flex": null,
      "flex_flow": null,
      "grid_area": null,
      "grid_auto_columns": null,
      "grid_auto_flow": null,
      "grid_auto_rows": null,
      "grid_column": null,
      "grid_gap": null,
      "grid_row": null,
      "grid_template_areas": null,
      "grid_template_columns": null,
      "grid_template_rows": null,
      "height": null,
      "justify_content": null,
      "justify_items": null,
      "left": null,
      "margin": null,
      "max_height": null,
      "max_width": null,
      "min_height": null,
      "min_width": null,
      "object_fit": null,
      "object_position": null,
      "order": null,
      "overflow": null,
      "overflow_x": null,
      "overflow_y": null,
      "padding": null,
      "right": null,
      "top": null,
      "visibility": null,
      "width": null
     }
    },
    "28a237dd989f473680dc37e8c7297d49": {
     "model_module": "@jupyter-widgets/controls",
     "model_module_version": "1.5.0",
     "model_name": "DescriptionStyleModel",
     "state": {
      "_model_module": "@jupyter-widgets/controls",
      "_model_module_version": "1.5.0",
      "_model_name": "DescriptionStyleModel",
      "_view_count": null,
      "_view_module": "@jupyter-widgets/base",
      "_view_module_version": "1.2.0",
      "_view_name": "StyleView",
      "description_width": ""
     }
    },
    "3e1be19e278247ae81bc13f51e9ff802": {
     "model_module": "@jupyter-widgets/controls",
     "model_module_version": "1.5.0",
     "model_name": "HBoxModel",
     "state": {
      "_dom_classes": [],
      "_model_module": "@jupyter-widgets/controls",
      "_model_module_version": "1.5.0",
      "_model_name": "HBoxModel",
      "_view_count": null,
      "_view_module": "@jupyter-widgets/controls",
      "_view_module_version": "1.5.0",
      "_view_name": "HBoxView",
      "box_style": "",
      "children": [
       "IPY_MODEL_b99a21e9fb014fa782a5a179b11dfe4a",
       "IPY_MODEL_b872b6e7e9154550b385cac30caf2139",
       "IPY_MODEL_be47c25d3fec406f8fb17751a364572a"
      ],
      "layout": "IPY_MODEL_c64a9789419d45b7a0627943f5b621ed"
     }
    },
    "4e5bd8aca74e46c59fe8c5e6329b5c49": {
     "model_module": "@jupyter-widgets/base",
     "model_module_version": "1.2.0",
     "model_name": "LayoutModel",
     "state": {
      "_model_module": "@jupyter-widgets/base",
      "_model_module_version": "1.2.0",
      "_model_name": "LayoutModel",
      "_view_count": null,
      "_view_module": "@jupyter-widgets/base",
      "_view_module_version": "1.2.0",
      "_view_name": "LayoutView",
      "align_content": null,
      "align_items": null,
      "align_self": null,
      "border": null,
      "bottom": null,
      "display": null,
      "flex": null,
      "flex_flow": null,
      "grid_area": null,
      "grid_auto_columns": null,
      "grid_auto_flow": null,
      "grid_auto_rows": null,
      "grid_column": null,
      "grid_gap": null,
      "grid_row": null,
      "grid_template_areas": null,
      "grid_template_columns": null,
      "grid_template_rows": null,
      "height": null,
      "justify_content": null,
      "justify_items": null,
      "left": null,
      "margin": null,
      "max_height": null,
      "max_width": null,
      "min_height": null,
      "min_width": null,
      "object_fit": null,
      "object_position": null,
      "order": null,
      "overflow": null,
      "overflow_x": null,
      "overflow_y": null,
      "padding": null,
      "right": null,
      "top": null,
      "visibility": null,
      "width": null
     }
    },
    "779f2be70d0f40488bec425bfe709872": {
     "model_module": "@jupyter-widgets/controls",
     "model_module_version": "1.5.0",
     "model_name": "ProgressStyleModel",
     "state": {
      "_model_module": "@jupyter-widgets/controls",
      "_model_module_version": "1.5.0",
      "_model_name": "ProgressStyleModel",
      "_view_count": null,
      "_view_module": "@jupyter-widgets/base",
      "_view_module_version": "1.2.0",
      "_view_name": "StyleView",
      "bar_color": null,
      "description_width": ""
     }
    },
    "7bf51e10e7a242d29f8dec102d06bd30": {
     "model_module": "@jupyter-widgets/base",
     "model_module_version": "1.2.0",
     "model_name": "LayoutModel",
     "state": {
      "_model_module": "@jupyter-widgets/base",
      "_model_module_version": "1.2.0",
      "_model_name": "LayoutModel",
      "_view_count": null,
      "_view_module": "@jupyter-widgets/base",
      "_view_module_version": "1.2.0",
      "_view_name": "LayoutView",
      "align_content": null,
      "align_items": null,
      "align_self": null,
      "border": null,
      "bottom": null,
      "display": null,
      "flex": null,
      "flex_flow": null,
      "grid_area": null,
      "grid_auto_columns": null,
      "grid_auto_flow": null,
      "grid_auto_rows": null,
      "grid_column": null,
      "grid_gap": null,
      "grid_row": null,
      "grid_template_areas": null,
      "grid_template_columns": null,
      "grid_template_rows": null,
      "height": null,
      "justify_content": null,
      "justify_items": null,
      "left": null,
      "margin": null,
      "max_height": null,
      "max_width": null,
      "min_height": null,
      "min_width": null,
      "object_fit": null,
      "object_position": null,
      "order": null,
      "overflow": null,
      "overflow_x": null,
      "overflow_y": null,
      "padding": null,
      "right": null,
      "top": null,
      "visibility": null,
      "width": null
     }
    },
    "881c46e7fe0340c7b9cc7d92bfdf8f48": {
     "model_module": "@jupyter-widgets/controls",
     "model_module_version": "1.5.0",
     "model_name": "FloatProgressModel",
     "state": {
      "_dom_classes": [],
      "_model_module": "@jupyter-widgets/controls",
      "_model_module_version": "1.5.0",
      "_model_name": "FloatProgressModel",
      "_view_count": null,
      "_view_module": "@jupyter-widgets/controls",
      "_view_module_version": "1.5.0",
      "_view_name": "ProgressView",
      "bar_style": "success",
      "description": "",
      "description_tooltip": null,
      "layout": "IPY_MODEL_ff30f7e0b6504b0e97e5caaaaedd8df5",
      "max": 196,
      "min": 0,
      "orientation": "horizontal",
      "style": "IPY_MODEL_fec4d4605c074825b797e08d22672929",
      "value": 196
     }
    },
    "98a645903ec24d118942ffbf28d4e247": {
     "model_module": "@jupyter-widgets/controls",
     "model_module_version": "1.5.0",
     "model_name": "HBoxModel",
     "state": {
      "_dom_classes": [],
      "_model_module": "@jupyter-widgets/controls",
      "_model_module_version": "1.5.0",
      "_model_name": "HBoxModel",
      "_view_count": null,
      "_view_module": "@jupyter-widgets/controls",
      "_view_module_version": "1.5.0",
      "_view_name": "HBoxView",
      "box_style": "",
      "children": [
       "IPY_MODEL_d3973c520108419483f8425b1ef6c76f",
       "IPY_MODEL_881c46e7fe0340c7b9cc7d92bfdf8f48",
       "IPY_MODEL_c6fa605161bc48abbe8ba1d60efd4483"
      ],
      "layout": "IPY_MODEL_aa676ef707874d818156b199afb0d97a"
     }
    },
    "a2138586b37b4d9daea20da180f7582a": {
     "model_module": "@jupyter-widgets/base",
     "model_module_version": "1.2.0",
     "model_name": "LayoutModel",
     "state": {
      "_model_module": "@jupyter-widgets/base",
      "_model_module_version": "1.2.0",
      "_model_name": "LayoutModel",
      "_view_count": null,
      "_view_module": "@jupyter-widgets/base",
      "_view_module_version": "1.2.0",
      "_view_name": "LayoutView",
      "align_content": null,
      "align_items": null,
      "align_self": null,
      "border": null,
      "bottom": null,
      "display": null,
      "flex": null,
      "flex_flow": null,
      "grid_area": null,
      "grid_auto_columns": null,
      "grid_auto_flow": null,
      "grid_auto_rows": null,
      "grid_column": null,
      "grid_gap": null,
      "grid_row": null,
      "grid_template_areas": null,
      "grid_template_columns": null,
      "grid_template_rows": null,
      "height": null,
      "justify_content": null,
      "justify_items": null,
      "left": null,
      "margin": null,
      "max_height": null,
      "max_width": null,
      "min_height": null,
      "min_width": null,
      "object_fit": null,
      "object_position": null,
      "order": null,
      "overflow": null,
      "overflow_x": null,
      "overflow_y": null,
      "padding": null,
      "right": null,
      "top": null,
      "visibility": null,
      "width": "20px"
     }
    },
    "aa676ef707874d818156b199afb0d97a": {
     "model_module": "@jupyter-widgets/base",
     "model_module_version": "1.2.0",
     "model_name": "LayoutModel",
     "state": {
      "_model_module": "@jupyter-widgets/base",
      "_model_module_version": "1.2.0",
      "_model_name": "LayoutModel",
      "_view_count": null,
      "_view_module": "@jupyter-widgets/base",
      "_view_module_version": "1.2.0",
      "_view_name": "LayoutView",
      "align_content": null,
      "align_items": null,
      "align_self": null,
      "border": null,
      "bottom": null,
      "display": null,
      "flex": null,
      "flex_flow": null,
      "grid_area": null,
      "grid_auto_columns": null,
      "grid_auto_flow": null,
      "grid_auto_rows": null,
      "grid_column": null,
      "grid_gap": null,
      "grid_row": null,
      "grid_template_areas": null,
      "grid_template_columns": null,
      "grid_template_rows": null,
      "height": null,
      "justify_content": null,
      "justify_items": null,
      "left": null,
      "margin": null,
      "max_height": null,
      "max_width": null,
      "min_height": null,
      "min_width": null,
      "object_fit": null,
      "object_position": null,
      "order": null,
      "overflow": null,
      "overflow_x": null,
      "overflow_y": null,
      "padding": null,
      "right": null,
      "top": null,
      "visibility": null,
      "width": null
     }
    },
    "b872b6e7e9154550b385cac30caf2139": {
     "model_module": "@jupyter-widgets/controls",
     "model_module_version": "1.5.0",
     "model_name": "FloatProgressModel",
     "state": {
      "_dom_classes": [],
      "_model_module": "@jupyter-widgets/controls",
      "_model_module_version": "1.5.0",
      "_model_name": "FloatProgressModel",
      "_view_count": null,
      "_view_module": "@jupyter-widgets/controls",
      "_view_module_version": "1.5.0",
      "_view_name": "ProgressView",
      "bar_style": "success",
      "description": "",
      "description_tooltip": null,
      "layout": "IPY_MODEL_a2138586b37b4d9daea20da180f7582a",
      "max": 1,
      "min": 0,
      "orientation": "horizontal",
      "style": "IPY_MODEL_779f2be70d0f40488bec425bfe709872",
      "value": 1
     }
    },
    "b99a21e9fb014fa782a5a179b11dfe4a": {
     "model_module": "@jupyter-widgets/controls",
     "model_module_version": "1.5.0",
     "model_name": "HTMLModel",
     "state": {
      "_dom_classes": [],
      "_model_module": "@jupyter-widgets/controls",
      "_model_module_version": "1.5.0",
      "_model_name": "HTMLModel",
      "_view_count": null,
      "_view_module": "@jupyter-widgets/controls",
      "_view_module_version": "1.5.0",
      "_view_name": "HTMLView",
      "description": "",
      "description_tooltip": null,
      "layout": "IPY_MODEL_24c3f160ed8b40179946d22a2ad98485",
      "placeholder": "​",
      "style": "IPY_MODEL_d3c9837f37494642b7a294a6b2a9f1ac",
      "value": ""
     }
    },
    "be47c25d3fec406f8fb17751a364572a": {
     "model_module": "@jupyter-widgets/controls",
     "model_module_version": "1.5.0",
     "model_name": "HTMLModel",
     "state": {
      "_dom_classes": [],
      "_model_module": "@jupyter-widgets/controls",
      "_model_module_version": "1.5.0",
      "_model_name": "HTMLModel",
      "_view_count": null,
      "_view_module": "@jupyter-widgets/controls",
      "_view_module_version": "1.5.0",
      "_view_name": "HTMLView",
      "description": "",
      "description_tooltip": null,
      "layout": "IPY_MODEL_4e5bd8aca74e46c59fe8c5e6329b5c49",
      "placeholder": "​",
      "style": "IPY_MODEL_0738e2473eed493e8d5eb58cf3efb9ba",
      "value": " 13/? [00:00&lt;00:00, 35.14it/s]"
     }
    },
    "c64a9789419d45b7a0627943f5b621ed": {
     "model_module": "@jupyter-widgets/base",
     "model_module_version": "1.2.0",
     "model_name": "LayoutModel",
     "state": {
      "_model_module": "@jupyter-widgets/base",
      "_model_module_version": "1.2.0",
      "_model_name": "LayoutModel",
      "_view_count": null,
      "_view_module": "@jupyter-widgets/base",
      "_view_module_version": "1.2.0",
      "_view_name": "LayoutView",
      "align_content": null,
      "align_items": null,
      "align_self": null,
      "border": null,
      "bottom": null,
      "display": null,
      "flex": null,
      "flex_flow": null,
      "grid_area": null,
      "grid_auto_columns": null,
      "grid_auto_flow": null,
      "grid_auto_rows": null,
      "grid_column": null,
      "grid_gap": null,
      "grid_row": null,
      "grid_template_areas": null,
      "grid_template_columns": null,
      "grid_template_rows": null,
      "height": null,
      "justify_content": null,
      "justify_items": null,
      "left": null,
      "margin": null,
      "max_height": null,
      "max_width": null,
      "min_height": null,
      "min_width": null,
      "object_fit": null,
      "object_position": null,
      "order": null,
      "overflow": null,
      "overflow_x": null,
      "overflow_y": null,
      "padding": null,
      "right": null,
      "top": null,
      "visibility": null,
      "width": null
     }
    },
    "c6fa605161bc48abbe8ba1d60efd4483": {
     "model_module": "@jupyter-widgets/controls",
     "model_module_version": "1.5.0",
     "model_name": "HTMLModel",
     "state": {
      "_dom_classes": [],
      "_model_module": "@jupyter-widgets/controls",
      "_model_module_version": "1.5.0",
      "_model_name": "HTMLModel",
      "_view_count": null,
      "_view_module": "@jupyter-widgets/controls",
      "_view_module_version": "1.5.0",
      "_view_name": "HTMLView",
      "description": "",
      "description_tooltip": null,
      "layout": "IPY_MODEL_288ba4d0fcb24bf49c0dc15547031d3b",
      "placeholder": "​",
      "style": "IPY_MODEL_1dc3524976794384b57c9ea0d34d2b0d",
      "value": " 196/196 [00:13&lt;00:00, 203.05it/s]"
     }
    },
    "d3973c520108419483f8425b1ef6c76f": {
     "model_module": "@jupyter-widgets/controls",
     "model_module_version": "1.5.0",
     "model_name": "HTMLModel",
     "state": {
      "_dom_classes": [],
      "_model_module": "@jupyter-widgets/controls",
      "_model_module_version": "1.5.0",
      "_model_name": "HTMLModel",
      "_view_count": null,
      "_view_module": "@jupyter-widgets/controls",
      "_view_module_version": "1.5.0",
      "_view_name": "HTMLView",
      "description": "",
      "description_tooltip": null,
      "layout": "IPY_MODEL_7bf51e10e7a242d29f8dec102d06bd30",
      "placeholder": "​",
      "style": "IPY_MODEL_28a237dd989f473680dc37e8c7297d49",
      "value": "100%"
     }
    },
    "d3c9837f37494642b7a294a6b2a9f1ac": {
     "model_module": "@jupyter-widgets/controls",
     "model_module_version": "1.5.0",
     "model_name": "DescriptionStyleModel",
     "state": {
      "_model_module": "@jupyter-widgets/controls",
      "_model_module_version": "1.5.0",
      "_model_name": "DescriptionStyleModel",
      "_view_count": null,
      "_view_module": "@jupyter-widgets/base",
      "_view_module_version": "1.2.0",
      "_view_name": "StyleView",
      "description_width": ""
     }
    },
    "fec4d4605c074825b797e08d22672929": {
     "model_module": "@jupyter-widgets/controls",
     "model_module_version": "1.5.0",
     "model_name": "ProgressStyleModel",
     "state": {
      "_model_module": "@jupyter-widgets/controls",
      "_model_module_version": "1.5.0",
      "_model_name": "ProgressStyleModel",
      "_view_count": null,
      "_view_module": "@jupyter-widgets/base",
      "_view_module_version": "1.2.0",
      "_view_name": "StyleView",
      "bar_color": null,
      "description_width": ""
     }
    },
    "ff30f7e0b6504b0e97e5caaaaedd8df5": {
     "model_module": "@jupyter-widgets/base",
     "model_module_version": "1.2.0",
     "model_name": "LayoutModel",
     "state": {
      "_model_module": "@jupyter-widgets/base",
      "_model_module_version": "1.2.0",
      "_model_name": "LayoutModel",
      "_view_count": null,
      "_view_module": "@jupyter-widgets/base",
      "_view_module_version": "1.2.0",
      "_view_name": "LayoutView",
      "align_content": null,
      "align_items": null,
      "align_self": null,
      "border": null,
      "bottom": null,
      "display": null,
      "flex": null,
      "flex_flow": null,
      "grid_area": null,
      "grid_auto_columns": null,
      "grid_auto_flow": null,
      "grid_auto_rows": null,
      "grid_column": null,
      "grid_gap": null,
      "grid_row": null,
      "grid_template_areas": null,
      "grid_template_columns": null,
      "grid_template_rows": null,
      "height": null,
      "justify_content": null,
      "justify_items": null,
      "left": null,
      "margin": null,
      "max_height": null,
      "max_width": null,
      "min_height": null,
      "min_width": null,
      "object_fit": null,
      "object_position": null,
      "order": null,
      "overflow": null,
      "overflow_x": null,
      "overflow_y": null,
      "padding": null,
      "right": null,
      "top": null,
      "visibility": null,
      "width": null
     }
    }
   }
  }
 },
 "nbformat": 4,
 "nbformat_minor": 4
}
