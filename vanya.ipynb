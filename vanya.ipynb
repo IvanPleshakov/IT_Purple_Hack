{
 "cells": [
  {
   "cell_type": "markdown",
   "metadata": {
    "id": "ZfZXEzq4wfJG"
   },
   "source": [
    "### Imports & Installs"
   ]
  },
  {
   "cell_type": "code",
   "execution_count": 28,
   "metadata": {
    "executionInfo": {
     "elapsed": 1953,
     "status": "ok",
     "timestamp": 1710369900075,
     "user": {
      "displayName": "Иван Плешаков",
      "userId": "10092824641707831190"
     },
     "user_tz": -180
    },
    "id": "ir46DPCaH9LI"
   },
   "outputs": [],
   "source": [
    "import os\n",
    "import random\n",
    "import typing as tp\n",
    "import warnings\n",
    "from pathlib import Path\n",
    "\n",
    "import matplotlib.pyplot as plt\n",
    "import numpy as np\n",
    "import pandas as pd\n",
    "import seaborn as sns\n",
    "from catboost import CatBoostClassifier\n",
    "from sklearn.metrics import accuracy_score, confusion_matrix, roc_auc_score\n",
    "from sklearn.model_selection import train_test_split\n",
    "from sklearn.preprocessing import MultiLabelBinarizer\n",
    "from tqdm.notebook import tqdm\n",
    "\n",
    "warnings.filterwarnings(\"ignore\")\n",
    "\n",
    "\n",
    "def set_seed(seed):\n",
    "\n",
    "    np.random.seed(seed)\n",
    "    random.seed(seed)\n",
    "    os.environ[\"PYTHONHASHSEED\"] = str(seed)\n",
    "\n",
    "\n",
    "TEST_SIZE = 0.15\n",
    "SEED = 560\n",
    "set_seed(SEED)"
   ]
  },
  {
   "cell_type": "markdown",
   "metadata": {
    "id": "eH6mTZctwl6l"
   },
   "source": [
    "### Paths"
   ]
  },
  {
   "cell_type": "code",
   "execution_count": 32,
   "metadata": {
    "executionInfo": {
     "elapsed": 13610,
     "status": "ok",
     "timestamp": 1710369930290,
     "user": {
      "displayName": "Иван Плешаков",
      "userId": "10092824641707831190"
     },
     "user_tz": -180
    },
    "id": "-MppT8IaVaDJ"
   },
   "outputs": [],
   "source": [
    "# TRAIN_PATH = 'drive/MyDrive/Contests/IT_Purple_Hack/data/faiss_imputed_train_final_final.pqt'\n",
    "# TEST_PATH = 'drive/MyDrive/Contests/IT_Purple_Hack/data/imputed_test.pqt'\n",
    "\n",
    "TRAIN_PATH = \"data/train_cluster_kmeans12.pqt\"\n",
    "TEST_PATH = \"data/test_cluster_kmeans12.pqt\"\n",
    "\n",
    "SAMPLE_SUBM_PATH = \"submissions/sample_submission.csv\"\n",
    "RESULT_PATH = \"submissions/cur.csv\"\n",
    "MODEL_PATH = \"models/baseline_model.cbm\"\n",
    "WEIGHTS_PATH = \"cluster_weights.xlsx\"\n",
    "\n",
    "Path(MODEL_PATH).parent.mkdir(parents=True, exist_ok=True)\n",
    "\n",
    "train = pd.read_parquet(TRAIN_PATH)"
   ]
  },
  {
   "cell_type": "markdown",
   "metadata": {
    "id": "DitM-C1KwqDL"
   },
   "source": [
    "### Feature Engineering"
   ]
  },
  {
   "cell_type": "code",
   "execution_count": 3,
   "metadata": {
    "executionInfo": {
     "elapsed": 5,
     "status": "ok",
     "timestamp": 1710369930290,
     "user": {
      "displayName": "Иван Плешаков",
      "userId": "10092824641707831190"
     },
     "user_tz": -180
    },
    "id": "bBtIh38XDzJA"
   },
   "outputs": [],
   "source": [
    "def generate_agg_features(\n",
    "    dataset: pd.DataFrame,\n",
    "    feats_to_agg_list: tp.List[str],\n",
    "    feats_by_agg_list: tp.List[str],\n",
    "    build_for_train: bool = True,\n",
    "    agg_by_3rd_month: bool = True,\n",
    "    agg_func_list: tp.List[str] = [\"max\", \"mean\"],\n",
    "    test_dataset: pd.DataFrame | None = None,\n",
    ") -> pd.DataFrame:\n",
    "    \"\"\"Generates groupby-features using categorical columns\n",
    "\n",
    "    Args:\n",
    "        dataset: train dataset\n",
    "        feats_to_agg_list: numerical features for aggregations\n",
    "        feats_by_agg_list: categorical features for aggregations\n",
    "        build_for_train: flag to create features for train dataset\n",
    "        agg_by_3rd_month: if True, we calculate groupby features for samples with date=month_3\n",
    "        agg_func_list: list of aggregating functions\n",
    "        test_dataset: test dataset (if not None, we merge calculated on train dataset groupby-features to test_dataset)\n",
    "\n",
    "    Returns:\n",
    "        test_df: dataset with groupby-features\n",
    "    \"\"\"\n",
    "\n",
    "    if build_for_train:\n",
    "        train_df = dataset.copy()\n",
    "        to_agg = (\n",
    "            dataset[dataset.date == \"month_3\"].copy()\n",
    "            if agg_by_3rd_month\n",
    "            else dataset.copy()\n",
    "        )\n",
    "        for agg_feat in feats_by_agg_list:\n",
    "            grouped = (\n",
    "                to_agg.groupby(agg_feat)[feats_to_agg_list]\n",
    "                .agg(agg_func_list)\n",
    "                .reset_index()\n",
    "            )\n",
    "            grouped.columns = [\n",
    "                (\n",
    "                    col[0]\n",
    "                    if col[1] == \"\"\n",
    "                    else \"agg_{}_{}_{}\".format(agg_feat, col[0], col[1])\n",
    "                )\n",
    "                for col in grouped.columns\n",
    "            ]\n",
    "            train_df = pd.merge(train_df, grouped, on=agg_feat, how=\"left\")\n",
    "\n",
    "        return train_df\n",
    "\n",
    "    else:\n",
    "        test_df = test_dataset.copy()\n",
    "        for agg_feat in feats_by_agg_list:\n",
    "            subset_cols = list(dataset.filter(like=(\"agg_\" + agg_feat)).columns) + [\n",
    "                agg_feat\n",
    "            ]\n",
    "            grouped = dataset[subset_cols].groupby(agg_feat).max()\n",
    "            test_df = pd.merge(test_df, grouped, on=agg_feat, how=\"left\")\n",
    "\n",
    "        return test_df"
   ]
  },
  {
   "cell_type": "code",
   "execution_count": 4,
   "metadata": {
    "executionInfo": {
     "elapsed": 4,
     "status": "ok",
     "timestamp": 1710369930290,
     "user": {
      "displayName": "Иван Плешаков",
      "userId": "10092824641707831190"
     },
     "user_tz": -180
    },
    "id": "YE4K_b7-4TXq"
   },
   "outputs": [],
   "source": [
    "def ohe_start_cluster(\n",
    "    train_dataset: pd.DataFrame, test_dataset: pd.DataFrame\n",
    ") -> pd.DataFrame:\n",
    "    \"\"\"One Hot Encoding for products in \"start_cluster\" feature\n",
    "\n",
    "    Args:\n",
    "        train_dataset: dataset for fitting OneHotEncoder\n",
    "        test_dataset: dataset that must be encoded by trained OneHotEncoder\n",
    "\n",
    "    Returns:\n",
    "        test_df: transformed dataset\n",
    "    \"\"\"\n",
    "\n",
    "    result = test_dataset.copy()\n",
    "\n",
    "    # Инициализация MultiLabelBinarizer\n",
    "    mlb = MultiLabelBinarizer()\n",
    "    products_train = (\n",
    "        train_dataset[\"start_cluster\"]\n",
    "        .str.lstrip(\"{\")\n",
    "        .str.rstrip(\"}\")\n",
    "        .str.replace(\" \", \"\")\n",
    "        .str.split(\",\")\n",
    "    )\n",
    "    mlb.fit(products_train)\n",
    "\n",
    "    products_test = (\n",
    "        result[\"start_cluster\"]\n",
    "        .str.lstrip(\"{\")\n",
    "        .str.rstrip(\"}\")\n",
    "        .str.replace(\" \", \"\")\n",
    "        .str.split(\",\")\n",
    "    )\n",
    "    one_hot_encoded_labels = mlb.transform(products_test)\n",
    "    for idx, product in tqdm(enumerate(mlb.classes_)):\n",
    "        result[\"start_cluster_product_\" + product] = one_hot_encoded_labels[:, idx]\n",
    "\n",
    "    return result"
   ]
  },
  {
   "cell_type": "code",
   "execution_count": 5,
   "metadata": {
    "executionInfo": {
     "elapsed": 5,
     "status": "ok",
     "timestamp": 1710369930291,
     "user": {
      "displayName": "Иван Плешаков",
      "userId": "10092824641707831190"
     },
     "user_tz": -180
    },
    "id": "LDbIT434ZiDG"
   },
   "outputs": [],
   "source": [
    "def make_lags(\n",
    "    dataset: pd.DataFrame,\n",
    "    columns_not_to_use: list[str],\n",
    "    drop_months: bool = False,\n",
    "    lags: bool = True,\n",
    ") -> pd.DataFrame:\n",
    "    \"\"\"Generates lags features with 1 and 2 shifts\n",
    "\n",
    "    Args:\n",
    "        dataset: dataset to be transformed\n",
    "        columns_not_to_use: name of columns that we do not want to be lagged\n",
    "        drop_months: if True, we drop samples with date=month_1 and month_2 (in train) and date=month_4 and month_5 (in test)\n",
    "        lags: if True, we calculate lags\n",
    "\n",
    "    Returns:\n",
    "        test_df: transformed dataset with lags\n",
    "    \"\"\"\n",
    "\n",
    "    result = dataset.copy()\n",
    "\n",
    "    if lags:\n",
    "\n",
    "        for column in tqdm(result.columns):\n",
    "\n",
    "            if column not in columns_not_to_use:\n",
    "                result[column + \"_lag1\"] = result.groupby(\"id\")[column].shift(1)\n",
    "                result[column + \"_lag2\"] = result.groupby(\"id\")[column].shift(2)\n",
    "\n",
    "    if drop_months:\n",
    "\n",
    "        result = result.drop(\n",
    "            result[(result[\"date\"] == \"month_1\") | (result[\"date\"] == \"month_2\")].index\n",
    "        )\n",
    "        result = result.drop(\n",
    "            result[(result[\"date\"] == \"month_4\") | (result[\"date\"] == \"month_5\")].index\n",
    "        )\n",
    "\n",
    "    return result"
   ]
  },
  {
   "cell_type": "code",
   "execution_count": 6,
   "metadata": {
    "executionInfo": {
     "elapsed": 5,
     "status": "ok",
     "timestamp": 1710369930291,
     "user": {
      "displayName": "Иван Плешаков",
      "userId": "10092824641707831190"
     },
     "user_tz": -180
    },
    "id": "4rcwUPvpzCCT"
   },
   "outputs": [],
   "source": [
    "# Encode embedding clusters to letters, like cluster_0 -> cluster_a, cluster_1 -> cluster_b\n",
    "# It is needed because, for example, cluster_1 is the prefix if cluster_10 and it breaks our code\n",
    "\n",
    "cluster_letters = [\n",
    "    \"a\",\n",
    "    \"b\",\n",
    "    \"c\",\n",
    "    \"d\",\n",
    "    \"e\",\n",
    "    \"f\",\n",
    "    \"g\",\n",
    "    \"h\",\n",
    "    \"i\",\n",
    "    \"j\",\n",
    "    \"k\",\n",
    "    \"l\",\n",
    "    \"m\",\n",
    "    \"n\",\n",
    "    \"o\",\n",
    "    \"p\",\n",
    "]\n",
    "train.rename(\n",
    "    columns={\n",
    "        (\"cluster_\" + str(i)): (\"cluster_\" + cluster_letters[i]) for i in range(16)\n",
    "    },\n",
    "    inplace=True,\n",
    ")"
   ]
  },
  {
   "cell_type": "markdown",
   "metadata": {
    "id": "53Lr0oQTQX3V"
   },
   "source": [
    "#### Split"
   ]
  },
  {
   "cell_type": "code",
   "execution_count": 7,
   "metadata": {
    "executionInfo": {
     "elapsed": 1203,
     "status": "ok",
     "timestamp": 1710369931489,
     "user": {
      "displayName": "Иван Плешаков",
      "userId": "10092824641707831190"
     },
     "user_tz": -180
    },
    "id": "fgW_uP4Kuq6u"
   },
   "outputs": [],
   "source": [
    "# Get IDs of users for train_dataset and test_datset with target stratification\n",
    "ids_and_clusters = train[train[\"date\"] == \"month_3\"][\n",
    "    [\"id\", \"end_cluster\"]\n",
    "].drop_duplicates()\n",
    "train_ids, test_ids, _, _ = train_test_split(\n",
    "    ids_and_clusters[\"id\"],\n",
    "    ids_and_clusters[\"end_cluster\"],\n",
    "    stratify=ids_and_clusters[\"end_cluster\"],\n",
    "    test_size=TEST_SIZE,\n",
    "    random_state=SEED,\n",
    "    shuffle=True,\n",
    ")\n",
    "\n",
    "dataset_train = train[train[\"id\"].isin(train_ids)]\n",
    "dataset_val = train[train[\"id\"].isin(test_ids)]"
   ]
  },
  {
   "cell_type": "markdown",
   "metadata": {
    "id": "KyG4lxQ1PYaG"
   },
   "source": [
    "#### Train dataset"
   ]
  },
  {
   "cell_type": "code",
   "execution_count": 8,
   "metadata": {
    "executionInfo": {
     "elapsed": 17356,
     "status": "ok",
     "timestamp": 1710369948841,
     "user": {
      "displayName": "Иван Плешаков",
      "userId": "10092824641707831190"
     },
     "user_tz": -180
    },
    "id": "jXaCx6hyFA8I"
   },
   "outputs": [],
   "source": [
    "# Generate groupby-features for train dataset\n",
    "feats_to_agg = [\n",
    "    \"balance_amt_min\",\n",
    "    \"balance_amt_max\",\n",
    "    \"sum_cred_e_oper_3m\",\n",
    "    \"sum_deb_h_oper_3m\",\n",
    "    \"sum_of_paym_2m\",\n",
    "    \"sum_of_paym_1y\",\n",
    "]\n",
    "feats_by_agg = [\"okved\", \"city\", \"channel_code\", \"segment\"] + [\n",
    "    \"cluster_\" + cluster_letters[i] for i in range(16)\n",
    "]\n",
    "agg_func = [\"mean\"]\n",
    "dataset_train = generate_agg_features(\n",
    "    dataset_train,\n",
    "    feats_to_agg,\n",
    "    feats_by_agg,\n",
    "    agg_func_list=agg_func,\n",
    ")"
   ]
  },
  {
   "cell_type": "code",
   "execution_count": 9,
   "metadata": {
    "colab": {
     "base_uri": "https://localhost:8080/",
     "height": 81,
     "referenced_widgets": [
      "d787bc0ae5634667b1c2f2e70510b032",
      "9bb4c5d4bf2e4d01b85369282b7487fc",
      "a467940753404caaa17483471bf1084e",
      "e3369f55ebe54a98a0f0c92c144a0c59",
      "929090a640a747dbb3099094a79aaa91",
      "9c47aad7802b4d92b8c0da59e223ff75",
      "6b3a0b79a02c4f749692896248b9f15d",
      "08bce9cf61fb42f29074b0f42ba0de6a",
      "76ad2feb073a410c88aee8112762ab14",
      "d90efb15e5894d5c85376c532d4df443",
      "febf184d3a184d21a4ab324243918874",
      "4a103aa2452945ad8a93891825ef5882",
      "6f8577fbd8cf4cb78573a0f596a0e2ed",
      "1f10e6c66a4640e1b71289a9045c3f25",
      "787682aa97744dfbbd4b618efac4388b",
      "6035b01053ad4039b668a03d88d2723f",
      "dfa7f4194e95499ba9e1f9db090e54f0",
      "0871b2b1dcd34570b53bb6ee70f1a206",
      "a9b6fa3b8f78434baecd07c1b8a6eb20",
      "386516d5cd524c928ff986c49fad5c8f",
      "c84eff4a339d45ce9a73f88e40de10e4",
      "9631b89ada2647389445955b0a26a112"
     ]
    },
    "executionInfo": {
     "elapsed": 13515,
     "status": "ok",
     "timestamp": 1710369962349,
     "user": {
      "displayName": "Иван Плешаков",
      "userId": "10092824641707831190"
     },
     "user_tz": -180
    },
    "id": "dp1ZarzDPZvk",
    "outputId": "2fb22db6-c46d-44a8-fcde-5143ec63ea77"
   },
   "outputs": [
    {
     "data": {
      "application/vnd.jupyter.widget-view+json": {
       "model_id": "f4d813683a9e4ce7aa2f5299b1cd706d",
       "version_major": 2,
       "version_minor": 0
      },
      "text/plain": [
       "0it [00:00, ?it/s]"
      ]
     },
     "metadata": {},
     "output_type": "display_data"
    },
    {
     "data": {
      "application/vnd.jupyter.widget-view+json": {
       "model_id": "abd7d55470ce4173967eaec8045f195e",
       "version_major": 2,
       "version_minor": 0
      },
      "text/plain": [
       "  0%|          | 0/242 [00:00<?, ?it/s]"
      ]
     },
     "metadata": {},
     "output_type": "display_data"
    }
   ],
   "source": [
    "# Generate OneHotEncoded start_cluster for train dataset\n",
    "X_train_ohe = ohe_start_cluster(dataset_train, dataset_train)\n",
    "\n",
    "# Generate lags for train dataset\n",
    "not_to_lag = (\n",
    "    list(X_train_ohe.filter(like=\"agg_\").columns)\n",
    "    + [\"id\", \"date\", \"end_cluster\"]\n",
    "    + [\"cluster_\" + cluster_letters[i] for i in range(16)]\n",
    ")\n",
    "X_train_lagged = make_lags(\n",
    "    X_train_ohe, columns_not_to_use=not_to_lag, drop_months=True, lags=True\n",
    ")"
   ]
  },
  {
   "cell_type": "code",
   "execution_count": 10,
   "metadata": {
    "colab": {
     "base_uri": "https://localhost:8080/",
     "height": 363
    },
    "executionInfo": {
     "elapsed": 11,
     "status": "ok",
     "timestamp": 1710369962350,
     "user": {
      "displayName": "Иван Плешаков",
      "userId": "10092824641707831190"
     },
     "user_tz": -180
    },
    "id": "heS_KulsPw-W",
    "outputId": "6ec9d78f-f912-4e11-af9d-c9510cbd599d"
   },
   "outputs": [
    {
     "data": {
      "text/html": [
       "<div>\n",
       "<style scoped>\n",
       "    .dataframe tbody tr th:only-of-type {\n",
       "        vertical-align: middle;\n",
       "    }\n",
       "\n",
       "    .dataframe tbody tr th {\n",
       "        vertical-align: top;\n",
       "    }\n",
       "\n",
       "    .dataframe thead th {\n",
       "        text-align: right;\n",
       "    }\n",
       "</style>\n",
       "<table border=\"1\" class=\"dataframe\">\n",
       "  <thead>\n",
       "    <tr style=\"text-align: right;\">\n",
       "      <th></th>\n",
       "      <th>id</th>\n",
       "      <th>date</th>\n",
       "      <th>start_cluster</th>\n",
       "      <th>start_cluster_lag1</th>\n",
       "      <th>start_cluster_lag2</th>\n",
       "      <th>start_cluster_product_α</th>\n",
       "      <th>start_cluster_product_α_lag1</th>\n",
       "      <th>start_cluster_product_α_lag2</th>\n",
       "    </tr>\n",
       "  </thead>\n",
       "  <tbody>\n",
       "    <tr>\n",
       "      <th>2</th>\n",
       "      <td>0</td>\n",
       "      <td>month_3</td>\n",
       "      <td>{α, γ}</td>\n",
       "      <td>{α, γ}</td>\n",
       "      <td>{α, γ}</td>\n",
       "      <td>1</td>\n",
       "      <td>1.0</td>\n",
       "      <td>1.0</td>\n",
       "    </tr>\n",
       "    <tr>\n",
       "      <th>5</th>\n",
       "      <td>1</td>\n",
       "      <td>month_3</td>\n",
       "      <td>{other}</td>\n",
       "      <td>{other}</td>\n",
       "      <td>{other}</td>\n",
       "      <td>0</td>\n",
       "      <td>0.0</td>\n",
       "      <td>0.0</td>\n",
       "    </tr>\n",
       "    <tr>\n",
       "      <th>8</th>\n",
       "      <td>2</td>\n",
       "      <td>month_3</td>\n",
       "      <td>{α}</td>\n",
       "      <td>{α}</td>\n",
       "      <td>{α}</td>\n",
       "      <td>1</td>\n",
       "      <td>1.0</td>\n",
       "      <td>1.0</td>\n",
       "    </tr>\n",
       "    <tr>\n",
       "      <th>11</th>\n",
       "      <td>3</td>\n",
       "      <td>month_3</td>\n",
       "      <td>{α}</td>\n",
       "      <td>{α}</td>\n",
       "      <td>{α}</td>\n",
       "      <td>1</td>\n",
       "      <td>1.0</td>\n",
       "      <td>1.0</td>\n",
       "    </tr>\n",
       "    <tr>\n",
       "      <th>14</th>\n",
       "      <td>4</td>\n",
       "      <td>month_3</td>\n",
       "      <td>{α}</td>\n",
       "      <td>{α}</td>\n",
       "      <td>{α}</td>\n",
       "      <td>1</td>\n",
       "      <td>1.0</td>\n",
       "      <td>1.0</td>\n",
       "    </tr>\n",
       "    <tr>\n",
       "      <th>17</th>\n",
       "      <td>5</td>\n",
       "      <td>month_3</td>\n",
       "      <td>{α}</td>\n",
       "      <td>{}</td>\n",
       "      <td>{}</td>\n",
       "      <td>1</td>\n",
       "      <td>0.0</td>\n",
       "      <td>0.0</td>\n",
       "    </tr>\n",
       "    <tr>\n",
       "      <th>20</th>\n",
       "      <td>6</td>\n",
       "      <td>month_3</td>\n",
       "      <td>{α, γ}</td>\n",
       "      <td>{α, γ}</td>\n",
       "      <td>{α, γ}</td>\n",
       "      <td>1</td>\n",
       "      <td>1.0</td>\n",
       "      <td>1.0</td>\n",
       "    </tr>\n",
       "    <tr>\n",
       "      <th>23</th>\n",
       "      <td>7</td>\n",
       "      <td>month_3</td>\n",
       "      <td>{α}</td>\n",
       "      <td>{α}</td>\n",
       "      <td>{α}</td>\n",
       "      <td>1</td>\n",
       "      <td>1.0</td>\n",
       "      <td>1.0</td>\n",
       "    </tr>\n",
       "    <tr>\n",
       "      <th>26</th>\n",
       "      <td>8</td>\n",
       "      <td>month_3</td>\n",
       "      <td>{α, γ}</td>\n",
       "      <td>{α, γ}</td>\n",
       "      <td>{α, γ}</td>\n",
       "      <td>1</td>\n",
       "      <td>1.0</td>\n",
       "      <td>1.0</td>\n",
       "    </tr>\n",
       "    <tr>\n",
       "      <th>29</th>\n",
       "      <td>9</td>\n",
       "      <td>month_3</td>\n",
       "      <td>{α}</td>\n",
       "      <td>{α}</td>\n",
       "      <td>{α}</td>\n",
       "      <td>1</td>\n",
       "      <td>1.0</td>\n",
       "      <td>1.0</td>\n",
       "    </tr>\n",
       "  </tbody>\n",
       "</table>\n",
       "</div>"
      ],
      "text/plain": [
       "    id     date  ... start_cluster_product_α_lag1 start_cluster_product_α_lag2\n",
       "2    0  month_3  ...                          1.0                          1.0\n",
       "5    1  month_3  ...                          0.0                          0.0\n",
       "8    2  month_3  ...                          1.0                          1.0\n",
       "11   3  month_3  ...                          1.0                          1.0\n",
       "14   4  month_3  ...                          1.0                          1.0\n",
       "17   5  month_3  ...                          0.0                          0.0\n",
       "20   6  month_3  ...                          1.0                          1.0\n",
       "23   7  month_3  ...                          1.0                          1.0\n",
       "26   8  month_3  ...                          1.0                          1.0\n",
       "29   9  month_3  ...                          1.0                          1.0\n",
       "\n",
       "[10 rows x 8 columns]"
      ]
     },
     "execution_count": 10,
     "metadata": {},
     "output_type": "execute_result"
    }
   ],
   "source": [
    "X_train_lagged[\n",
    "    [\n",
    "        \"id\",\n",
    "        \"date\",\n",
    "        \"start_cluster\",\n",
    "        \"start_cluster_lag1\",\n",
    "        \"start_cluster_lag2\",\n",
    "        \"start_cluster_product_α\",\n",
    "        \"start_cluster_product_α_lag1\",\n",
    "        \"start_cluster_product_α_lag2\",\n",
    "    ]\n",
    "].head(10)"
   ]
  },
  {
   "cell_type": "code",
   "execution_count": 11,
   "metadata": {
    "executionInfo": {
     "elapsed": 382,
     "status": "ok",
     "timestamp": 1710369962723,
     "user": {
      "displayName": "Иван Плешаков",
      "userId": "10092824641707831190"
     },
     "user_tz": -180
    },
    "id": "pj4RCrSulpnp"
   },
   "outputs": [],
   "source": [
    "X_train, y_train = (\n",
    "    X_train_lagged.drop(columns=[\"end_cluster\"]),\n",
    "    X_train_lagged[\"end_cluster\"],\n",
    ")"
   ]
  },
  {
   "cell_type": "code",
   "execution_count": 12,
   "metadata": {
    "executionInfo": {
     "elapsed": 3,
     "status": "ok",
     "timestamp": 1710369962723,
     "user": {
      "displayName": "Иван Плешаков",
      "userId": "10092824641707831190"
     },
     "user_tz": -180
    },
    "id": "WlfcM5B4_yn0"
   },
   "outputs": [],
   "source": [
    "# Get features that show changing of start_cluster between month_1, month_2 and month_3\n",
    "X_train[\"changed_m1_m2\"] = (\n",
    "    X_train[\"start_cluster_lag2\"] != X_train[\"start_cluster_lag1\"]\n",
    ") * 1\n",
    "X_train[\"changed_m2_m3\"] = (\n",
    "    X_train[\"start_cluster_lag1\"] != X_train[\"start_cluster\"]\n",
    ") * 1\n",
    "X_train[\"changed_m1_m3\"] = (\n",
    "    X_train[\"start_cluster_lag2\"] != X_train[\"start_cluster\"]\n",
    ") * 1"
   ]
  },
  {
   "cell_type": "markdown",
   "metadata": {
    "id": "qhFuhtU3QNKT"
   },
   "source": [
    "#### Val dataset"
   ]
  },
  {
   "cell_type": "code",
   "execution_count": 13,
   "metadata": {
    "executionInfo": {
     "elapsed": 2331,
     "status": "ok",
     "timestamp": 1710369965051,
     "user": {
      "displayName": "Иван Плешаков",
      "userId": "10092824641707831190"
     },
     "user_tz": -180
    },
    "id": "6bdET7pnSDVJ"
   },
   "outputs": [],
   "source": [
    "# Generate groupby-features for val dataset\n",
    "dataset_val = generate_agg_features(\n",
    "    dataset_train,\n",
    "    feats_to_agg,\n",
    "    feats_by_agg,\n",
    "    build_for_train=False,\n",
    "    agg_func_list=agg_func,\n",
    "    test_dataset=dataset_val,\n",
    ")"
   ]
  },
  {
   "cell_type": "code",
   "execution_count": 14,
   "metadata": {
    "colab": {
     "base_uri": "https://localhost:8080/",
     "height": 81,
     "referenced_widgets": [
      "0f5072f7b0e745a39ac47d691af55e7c",
      "84f73c70ba6d44c8abdf4798714d9492",
      "94abe9f4a976474ebe26814f42f76e6a",
      "e44ba37ddd4d43d095970ee8bd235aac",
      "ff61b59b43d14de08ebbb416b0093c7a",
      "f42a69e08c15444e95fdeab6320a22d1",
      "d164b8030885402192419e0e11e18377",
      "c6364cbe977c453c80ba4cd9a7c80a00",
      "8478a865d7014bf998c4b4c4a2e5a7ed",
      "9e896f11a14e42db89440440fa88a7d4",
      "fadf9ae4f8cc4ae2ba8a853e5ea75d81",
      "091deeb095ce43adbe54ed2dbb395ad9",
      "36d822d5321141478b07f248595698e7",
      "1f9a7fa317104b64a767aef649e7f3a8",
      "863f2a46e1054c708f8e89781de48071",
      "bbf2094d82a64f728edd62426eb9eb38",
      "995a04874aa4407d98b8671219e3de16",
      "60ff3a09748945b4bf597da0b2d031cb",
      "db83ef95d30f49849a541d25c80eabaa",
      "8d7a0182f6744f0ebf61b952bbfbb3a3",
      "60cefb4eee6a49398ab4c5168f8fd0f6",
      "ef9c7e1ddb4e4729b9e0f93d33f7e40c"
     ]
    },
    "executionInfo": {
     "elapsed": 3198,
     "status": "ok",
     "timestamp": 1710369968588,
     "user": {
      "displayName": "Иван Плешаков",
      "userId": "10092824641707831190"
     },
     "user_tz": -180
    },
    "id": "A2m-i1t3QT5T",
    "outputId": "0c4c0eb0-a59c-459e-a3d9-e59fb5a925f0"
   },
   "outputs": [
    {
     "data": {
      "application/vnd.jupyter.widget-view+json": {
       "model_id": "f54ac0c2b999495f83161c022db046da",
       "version_major": 2,
       "version_minor": 0
      },
      "text/plain": [
       "0it [00:00, ?it/s]"
      ]
     },
     "metadata": {},
     "output_type": "display_data"
    },
    {
     "data": {
      "application/vnd.jupyter.widget-view+json": {
       "model_id": "8cc5d370b71840019548833580bc7d3a",
       "version_major": 2,
       "version_minor": 0
      },
      "text/plain": [
       "  0%|          | 0/242 [00:00<?, ?it/s]"
      ]
     },
     "metadata": {},
     "output_type": "display_data"
    }
   ],
   "source": [
    "# Generate OneHotEncoded start_cluster for val dataset\n",
    "X_val_ohe = ohe_start_cluster(dataset_train, dataset_val)\n",
    "\n",
    "# Generate lags for val dataset\n",
    "not_to_lag = (\n",
    "    list(X_val_ohe.filter(like=\"agg_\").columns)\n",
    "    + [\"id\", \"date\", \"end_cluster\"]\n",
    "    + [\"cluster_\" + cluster_letters[i] for i in range(16)]\n",
    ")\n",
    "X_val_lagged = make_lags(\n",
    "    X_val_ohe, columns_not_to_use=not_to_lag, drop_months=True, lags=True\n",
    ")"
   ]
  },
  {
   "cell_type": "code",
   "execution_count": 15,
   "metadata": {
    "executionInfo": {
     "elapsed": 248,
     "status": "ok",
     "timestamp": 1710369968833,
     "user": {
      "displayName": "Иван Плешаков",
      "userId": "10092824641707831190"
     },
     "user_tz": -180
    },
    "id": "oVu9E4oZlrZR"
   },
   "outputs": [],
   "source": [
    "X_val, y_val = X_val_lagged.drop(columns=[\"end_cluster\"]), X_val_lagged[\"end_cluster\"]"
   ]
  },
  {
   "cell_type": "code",
   "execution_count": 16,
   "metadata": {
    "executionInfo": {
     "elapsed": 6,
     "status": "ok",
     "timestamp": 1710369968834,
     "user": {
      "displayName": "Иван Плешаков",
      "userId": "10092824641707831190"
     },
     "user_tz": -180
    },
    "id": "Rgztj7haAOMV"
   },
   "outputs": [],
   "source": [
    "# Get features that show changing of start_cluster between month_1, month_2 and month_3\n",
    "X_val[\"changed_m1_m2\"] = (\n",
    "    X_val[\"start_cluster_lag2\"] != X_val[\"start_cluster_lag1\"]\n",
    ") * 1\n",
    "X_val[\"changed_m2_m3\"] = (X_val[\"start_cluster_lag1\"] != X_val[\"start_cluster\"]) * 1\n",
    "X_val[\"changed_m1_m3\"] = (X_val[\"start_cluster_lag2\"] != X_val[\"start_cluster\"]) * 1"
   ]
  },
  {
   "cell_type": "markdown",
   "metadata": {
    "id": "p9H4lsKVRvU8"
   },
   "source": [
    "### Fit model"
   ]
  },
  {
   "cell_type": "code",
   "execution_count": 17,
   "metadata": {
    "executionInfo": {
     "elapsed": 73658,
     "status": "ok",
     "timestamp": 1710370042487,
     "user": {
      "displayName": "Иван Плешаков",
      "userId": "10092824641707831190"
     },
     "user_tz": -180
    },
    "id": "QUA2OiOjnP0N"
   },
   "outputs": [],
   "source": [
    "cat_cols = [\n",
    "    \"channel_code\",\n",
    "    \"city\",\n",
    "    \"city_type\",\n",
    "    \"okved\",\n",
    "    \"segment\",\n",
    "    \"start_cluster\",\n",
    "    \"index_city_code\",\n",
    "    \"ogrn_month\",\n",
    "    \"ogrn_year\",\n",
    "]\n",
    "\n",
    "# Create array of categorical columns names for Catboost\n",
    "cat_cols_lagged = []\n",
    "for col in cat_cols:\n",
    "    cat_cols_lagged.append(col)\n",
    "    cat_cols_lagged.append(col + \"_lag1\")\n",
    "    cat_cols_lagged.append(col + \"_lag2\")\n",
    "\n",
    "cat_cols_lagged += [\"cluster_\" + cluster_letters[i] for i in range(16)]\n",
    "\n",
    "X_train = X_train.drop(columns=[\"id\", \"date\"])\n",
    "X_val = X_val.drop(columns=[\"id\", \"date\"])\n",
    "\n",
    "# We fill NaNs by zero because NaNs appear due to new users and zeros describe them better than other numbers\n",
    "X_train.fillna(\"0\", inplace=True)\n",
    "X_train[cat_cols_lagged] = X_train[cat_cols_lagged].astype(\"category\")\n",
    "X_train[X_train.dtypes[X_train.dtypes == \"object\"].index] = X_train[\n",
    "    X_train.dtypes[X_train.dtypes == \"object\"].index\n",
    "].astype(float)\n",
    "\n",
    "# We fill NaNs by zero because NaNs appear due to new users and zeros describe them better than other numbers\n",
    "X_val.fillna(\"0\", inplace=True)\n",
    "X_val[cat_cols_lagged] = X_val[cat_cols_lagged].astype(\"category\")\n",
    "X_val[X_val.dtypes[X_val.dtypes == \"object\"].index] = X_val[\n",
    "    X_val.dtypes[X_val.dtypes == \"object\"].index\n",
    "].astype(float)"
   ]
  },
  {
   "cell_type": "code",
   "execution_count": 18,
   "metadata": {
    "colab": {
     "base_uri": "https://localhost:8080/"
    },
    "executionInfo": {
     "elapsed": 23,
     "status": "ok",
     "timestamp": 1710370042487,
     "user": {
      "displayName": "Иван Плешаков",
      "userId": "10092824641707831190"
     },
     "user_tz": -180
    },
    "id": "CXNTcW2cpM2k",
    "outputId": "8d1bea66-27bc-40f3-f23f-b571f6bd7fba"
   },
   "outputs": [
    {
     "data": {
      "text/plain": [
       "(170000, 448)"
      ]
     },
     "execution_count": 18,
     "metadata": {},
     "output_type": "execute_result"
    }
   ],
   "source": [
    "X_train.shape"
   ]
  },
  {
   "cell_type": "code",
   "execution_count": 19,
   "metadata": {
    "colab": {
     "base_uri": "https://localhost:8080/"
    },
    "executionInfo": {
     "elapsed": 8,
     "status": "ok",
     "timestamp": 1710370042488,
     "user": {
      "displayName": "Иван Плешаков",
      "userId": "10092824641707831190"
     },
     "user_tz": -180
    },
    "id": "IsJfAjp5pNuE",
    "outputId": "1e7facee-4aba-4edb-dc72-63b2b202da76"
   },
   "outputs": [
    {
     "data": {
      "text/plain": [
       "(30000, 448)"
      ]
     },
     "execution_count": 19,
     "metadata": {},
     "output_type": "execute_result"
    }
   ],
   "source": [
    "X_val.shape"
   ]
  },
  {
   "cell_type": "code",
   "execution_count": 20,
   "metadata": {
    "colab": {
     "base_uri": "https://localhost:8080/",
     "height": 1000,
     "referenced_widgets": [
      "86d92bea3fdb4baeba184bb9a998a0f6"
     ]
    },
    "executionInfo": {
     "elapsed": 94979,
     "status": "ok",
     "timestamp": 1710370137461,
     "user": {
      "displayName": "Иван Плешаков",
      "userId": "10092824641707831190"
     },
     "user_tz": -180
    },
    "id": "q2wrLHFdjjmb",
    "outputId": "ad698f59-e18f-4b86-803f-51736f20617a"
   },
   "outputs": [
    {
     "data": {
      "application/vnd.jupyter.widget-view+json": {
       "model_id": "f858d28398124b98925b77b6dcf034bd",
       "version_major": 2,
       "version_minor": 0
      },
      "text/plain": [
       "MetricVisualizer(layout=Layout(align_self='stretch', height='500px'))"
      ]
     },
     "metadata": {},
     "output_type": "display_data"
    },
    {
     "name": "stdout",
     "output_type": "stream",
     "text": [
      "Learning rate set to 0.176647\n",
      "0:\tlearn: 1.5833827\ttest: 1.5818757\tbest: 1.5818757 (0)\ttotal: 66.5ms\tremaining: 1m 6s\n",
      "1:\tlearn: 1.4035809\ttest: 1.4023176\tbest: 1.4023176 (1)\ttotal: 127ms\tremaining: 1m 3s\n",
      "2:\tlearn: 1.2817445\ttest: 1.2806667\tbest: 1.2806667 (2)\ttotal: 187ms\tremaining: 1m 2s\n",
      "3:\tlearn: 1.1945835\ttest: 1.1938568\tbest: 1.1938568 (3)\ttotal: 244ms\tremaining: 1m\n",
      "4:\tlearn: 1.1287161\ttest: 1.1279385\tbest: 1.1279385 (4)\ttotal: 306ms\tremaining: 1m\n",
      "5:\tlearn: 1.0791574\ttest: 1.0786070\tbest: 1.0786070 (5)\ttotal: 378ms\tremaining: 1m 2s\n",
      "6:\tlearn: 1.0420882\ttest: 1.0414947\tbest: 1.0414947 (6)\ttotal: 434ms\tremaining: 1m 1s\n",
      "7:\tlearn: 1.0101880\ttest: 1.0096105\tbest: 1.0096105 (7)\ttotal: 487ms\tremaining: 1m\n",
      "8:\tlearn: 0.9852004\ttest: 0.9850448\tbest: 0.9850448 (8)\ttotal: 539ms\tremaining: 59.3s\n",
      "9:\tlearn: 0.9642414\ttest: 0.9643629\tbest: 0.9643629 (9)\ttotal: 593ms\tremaining: 58.7s\n",
      "10:\tlearn: 0.9463324\ttest: 0.9470633\tbest: 0.9470633 (10)\ttotal: 649ms\tremaining: 58.3s\n",
      "11:\tlearn: 0.9296356\ttest: 0.9306747\tbest: 0.9306747 (11)\ttotal: 702ms\tremaining: 57.8s\n",
      "12:\tlearn: 0.9168047\ttest: 0.9181404\tbest: 0.9181404 (12)\ttotal: 755ms\tremaining: 57.4s\n",
      "13:\tlearn: 0.9047091\ttest: 0.9065592\tbest: 0.9065592 (13)\ttotal: 802ms\tremaining: 56.4s\n",
      "14:\tlearn: 0.8972854\ttest: 0.8993426\tbest: 0.8993426 (14)\ttotal: 858ms\tremaining: 56.3s\n",
      "15:\tlearn: 0.8885231\ttest: 0.8910698\tbest: 0.8910698 (15)\ttotal: 901ms\tremaining: 55.4s\n",
      "16:\tlearn: 0.8820685\ttest: 0.8848518\tbest: 0.8848518 (16)\ttotal: 954ms\tremaining: 55.2s\n",
      "17:\tlearn: 0.8766369\ttest: 0.8794743\tbest: 0.8794743 (17)\ttotal: 1s\tremaining: 54.7s\n",
      "18:\tlearn: 0.8724058\ttest: 0.8755447\tbest: 0.8755447 (18)\ttotal: 1.05s\tremaining: 54.4s\n",
      "19:\tlearn: 0.8674523\ttest: 0.8708258\tbest: 0.8708258 (19)\ttotal: 1.11s\tremaining: 54.2s\n",
      "20:\tlearn: 0.8647100\ttest: 0.8684299\tbest: 0.8684299 (20)\ttotal: 1.15s\tremaining: 53.8s\n",
      "21:\tlearn: 0.8612337\ttest: 0.8653342\tbest: 0.8653342 (21)\ttotal: 1.21s\tremaining: 53.7s\n",
      "22:\tlearn: 0.8583858\ttest: 0.8627322\tbest: 0.8627322 (22)\ttotal: 1.25s\tremaining: 53.3s\n",
      "23:\tlearn: 0.8558740\ttest: 0.8605546\tbest: 0.8605546 (23)\ttotal: 1.3s\tremaining: 53s\n",
      "24:\tlearn: 0.8533358\ttest: 0.8583256\tbest: 0.8583256 (24)\ttotal: 1.34s\tremaining: 52.5s\n",
      "25:\tlearn: 0.8517971\ttest: 0.8568626\tbest: 0.8568626 (25)\ttotal: 1.38s\tremaining: 51.9s\n",
      "26:\tlearn: 0.8491667\ttest: 0.8543017\tbest: 0.8543017 (26)\ttotal: 1.43s\tremaining: 51.7s\n",
      "27:\tlearn: 0.8469132\ttest: 0.8522935\tbest: 0.8522935 (27)\ttotal: 1.48s\tremaining: 51.3s\n",
      "28:\tlearn: 0.8456902\ttest: 0.8511952\tbest: 0.8511952 (28)\ttotal: 1.53s\tremaining: 51.1s\n",
      "29:\tlearn: 0.8431218\ttest: 0.8491465\tbest: 0.8491465 (29)\ttotal: 1.58s\tremaining: 51.3s\n",
      "30:\tlearn: 0.8416687\ttest: 0.8479190\tbest: 0.8479190 (30)\ttotal: 1.63s\tremaining: 51s\n",
      "31:\tlearn: 0.8404738\ttest: 0.8469235\tbest: 0.8469235 (31)\ttotal: 1.68s\tremaining: 50.8s\n",
      "32:\tlearn: 0.8386129\ttest: 0.8456424\tbest: 0.8456424 (32)\ttotal: 1.73s\tremaining: 50.7s\n",
      "33:\tlearn: 0.8372087\ttest: 0.8446164\tbest: 0.8446164 (33)\ttotal: 1.78s\tremaining: 50.5s\n",
      "34:\tlearn: 0.8353809\ttest: 0.8430888\tbest: 0.8430888 (34)\ttotal: 1.83s\tremaining: 50.5s\n",
      "35:\tlearn: 0.8339082\ttest: 0.8419345\tbest: 0.8419345 (35)\ttotal: 1.88s\tremaining: 50.4s\n",
      "36:\tlearn: 0.8328724\ttest: 0.8410821\tbest: 0.8410821 (36)\ttotal: 1.93s\tremaining: 50.3s\n",
      "37:\tlearn: 0.8321006\ttest: 0.8404462\tbest: 0.8404462 (37)\ttotal: 1.98s\tremaining: 50.1s\n",
      "38:\tlearn: 0.8309788\ttest: 0.8396992\tbest: 0.8396992 (38)\ttotal: 2.03s\tremaining: 50s\n",
      "39:\tlearn: 0.8298547\ttest: 0.8389486\tbest: 0.8389486 (39)\ttotal: 2.08s\tremaining: 49.9s\n",
      "40:\tlearn: 0.8287030\ttest: 0.8380670\tbest: 0.8380670 (40)\ttotal: 2.13s\tremaining: 49.8s\n",
      "41:\tlearn: 0.8279042\ttest: 0.8374419\tbest: 0.8374419 (41)\ttotal: 2.17s\tremaining: 49.5s\n",
      "42:\tlearn: 0.8268401\ttest: 0.8365998\tbest: 0.8365998 (42)\ttotal: 2.22s\tremaining: 49.5s\n",
      "43:\tlearn: 0.8259335\ttest: 0.8359134\tbest: 0.8359134 (43)\ttotal: 2.27s\tremaining: 49.2s\n",
      "44:\tlearn: 0.8251419\ttest: 0.8352957\tbest: 0.8352957 (44)\ttotal: 2.32s\tremaining: 49.2s\n",
      "45:\tlearn: 0.8241624\ttest: 0.8346086\tbest: 0.8346086 (45)\ttotal: 2.39s\tremaining: 49.5s\n",
      "46:\tlearn: 0.8234632\ttest: 0.8340822\tbest: 0.8340822 (46)\ttotal: 2.44s\tremaining: 49.4s\n",
      "47:\tlearn: 0.8229615\ttest: 0.8337536\tbest: 0.8337536 (47)\ttotal: 2.48s\tremaining: 49.2s\n",
      "48:\tlearn: 0.8217758\ttest: 0.8328128\tbest: 0.8328128 (48)\ttotal: 2.53s\tremaining: 49.1s\n",
      "49:\tlearn: 0.8209631\ttest: 0.8322164\tbest: 0.8322164 (49)\ttotal: 2.58s\tremaining: 49s\n",
      "50:\tlearn: 0.8202286\ttest: 0.8317831\tbest: 0.8317831 (50)\ttotal: 2.63s\tremaining: 49s\n",
      "51:\tlearn: 0.8194511\ttest: 0.8311418\tbest: 0.8311418 (51)\ttotal: 2.68s\tremaining: 48.8s\n",
      "52:\tlearn: 0.8182711\ttest: 0.8301516\tbest: 0.8301516 (52)\ttotal: 2.73s\tremaining: 48.8s\n",
      "53:\tlearn: 0.8172699\ttest: 0.8296299\tbest: 0.8296299 (53)\ttotal: 2.79s\tremaining: 48.8s\n",
      "54:\tlearn: 0.8163105\ttest: 0.8290426\tbest: 0.8290426 (54)\ttotal: 2.84s\tremaining: 48.8s\n",
      "55:\tlearn: 0.8154574\ttest: 0.8283806\tbest: 0.8283806 (55)\ttotal: 2.89s\tremaining: 48.8s\n",
      "56:\tlearn: 0.8147470\ttest: 0.8280448\tbest: 0.8280448 (56)\ttotal: 2.94s\tremaining: 48.7s\n",
      "57:\tlearn: 0.8139801\ttest: 0.8275439\tbest: 0.8275439 (57)\ttotal: 2.99s\tremaining: 48.6s\n",
      "58:\tlearn: 0.8133516\ttest: 0.8272688\tbest: 0.8272688 (58)\ttotal: 3.04s\tremaining: 48.5s\n",
      "59:\tlearn: 0.8127987\ttest: 0.8269091\tbest: 0.8269091 (59)\ttotal: 3.09s\tremaining: 48.4s\n",
      "60:\tlearn: 0.8119238\ttest: 0.8262562\tbest: 0.8262562 (60)\ttotal: 3.14s\tremaining: 48.3s\n",
      "61:\tlearn: 0.8111766\ttest: 0.8257425\tbest: 0.8257425 (61)\ttotal: 3.19s\tremaining: 48.2s\n",
      "62:\tlearn: 0.8106396\ttest: 0.8254557\tbest: 0.8254557 (62)\ttotal: 3.23s\tremaining: 48.1s\n",
      "63:\tlearn: 0.8100733\ttest: 0.8251297\tbest: 0.8251297 (63)\ttotal: 3.29s\tremaining: 48s\n",
      "64:\tlearn: 0.8094023\ttest: 0.8247868\tbest: 0.8247868 (64)\ttotal: 3.33s\tremaining: 48s\n",
      "65:\tlearn: 0.8089791\ttest: 0.8244849\tbest: 0.8244849 (65)\ttotal: 3.38s\tremaining: 47.8s\n",
      "66:\tlearn: 0.8082324\ttest: 0.8240502\tbest: 0.8240502 (66)\ttotal: 3.43s\tremaining: 47.7s\n",
      "67:\tlearn: 0.8076345\ttest: 0.8237894\tbest: 0.8237894 (67)\ttotal: 3.48s\tremaining: 47.7s\n",
      "68:\tlearn: 0.8069436\ttest: 0.8234634\tbest: 0.8234634 (68)\ttotal: 3.53s\tremaining: 47.6s\n",
      "69:\tlearn: 0.8062008\ttest: 0.8229893\tbest: 0.8229893 (69)\ttotal: 3.58s\tremaining: 47.5s\n",
      "70:\tlearn: 0.8055220\ttest: 0.8226222\tbest: 0.8226222 (70)\ttotal: 3.63s\tremaining: 47.5s\n",
      "71:\tlearn: 0.8048658\ttest: 0.8222898\tbest: 0.8222898 (71)\ttotal: 3.68s\tremaining: 47.4s\n",
      "72:\tlearn: 0.8040337\ttest: 0.8216513\tbest: 0.8216513 (72)\ttotal: 3.73s\tremaining: 47.4s\n",
      "73:\tlearn: 0.8034839\ttest: 0.8213939\tbest: 0.8213939 (73)\ttotal: 3.77s\tremaining: 47.2s\n",
      "74:\tlearn: 0.8028855\ttest: 0.8210756\tbest: 0.8210756 (74)\ttotal: 3.83s\tremaining: 47.2s\n",
      "75:\tlearn: 0.8022410\ttest: 0.8207463\tbest: 0.8207463 (75)\ttotal: 3.88s\tremaining: 47.2s\n",
      "76:\tlearn: 0.8016646\ttest: 0.8204393\tbest: 0.8204393 (76)\ttotal: 3.94s\tremaining: 47.2s\n",
      "77:\tlearn: 0.8010584\ttest: 0.8201402\tbest: 0.8201402 (77)\ttotal: 3.99s\tremaining: 47.1s\n",
      "78:\tlearn: 0.8005626\ttest: 0.8200762\tbest: 0.8200762 (78)\ttotal: 4.04s\tremaining: 47.1s\n",
      "79:\tlearn: 0.7999858\ttest: 0.8198285\tbest: 0.8198285 (79)\ttotal: 4.09s\tremaining: 47s\n",
      "80:\tlearn: 0.7995227\ttest: 0.8196173\tbest: 0.8196173 (80)\ttotal: 4.14s\tremaining: 47s\n",
      "81:\tlearn: 0.7991443\ttest: 0.8194672\tbest: 0.8194672 (81)\ttotal: 4.18s\tremaining: 46.8s\n",
      "82:\tlearn: 0.7986447\ttest: 0.8191499\tbest: 0.8191499 (82)\ttotal: 4.23s\tremaining: 46.7s\n",
      "83:\tlearn: 0.7983097\ttest: 0.8190180\tbest: 0.8190180 (83)\ttotal: 4.27s\tremaining: 46.6s\n",
      "84:\tlearn: 0.7980040\ttest: 0.8188676\tbest: 0.8188676 (84)\ttotal: 4.32s\tremaining: 46.5s\n",
      "85:\tlearn: 0.7972171\ttest: 0.8183637\tbest: 0.8183637 (85)\ttotal: 4.37s\tremaining: 46.5s\n",
      "86:\tlearn: 0.7968476\ttest: 0.8182076\tbest: 0.8182076 (86)\ttotal: 4.42s\tremaining: 46.4s\n",
      "87:\tlearn: 0.7964844\ttest: 0.8181708\tbest: 0.8181708 (87)\ttotal: 4.46s\tremaining: 46.3s\n",
      "88:\tlearn: 0.7959437\ttest: 0.8177493\tbest: 0.8177493 (88)\ttotal: 4.51s\tremaining: 46.2s\n",
      "89:\tlearn: 0.7956358\ttest: 0.8176402\tbest: 0.8176402 (89)\ttotal: 4.56s\tremaining: 46.1s\n",
      "90:\tlearn: 0.7952365\ttest: 0.8175194\tbest: 0.8175194 (90)\ttotal: 4.61s\tremaining: 46s\n",
      "91:\tlearn: 0.7948440\ttest: 0.8172513\tbest: 0.8172513 (91)\ttotal: 4.66s\tremaining: 46s\n",
      "92:\tlearn: 0.7945278\ttest: 0.8171223\tbest: 0.8171223 (92)\ttotal: 4.7s\tremaining: 45.9s\n",
      "93:\tlearn: 0.7942146\ttest: 0.8169212\tbest: 0.8169212 (93)\ttotal: 4.75s\tremaining: 45.8s\n",
      "94:\tlearn: 0.7939888\ttest: 0.8169417\tbest: 0.8169212 (93)\ttotal: 4.79s\tremaining: 45.7s\n",
      "95:\tlearn: 0.7935866\ttest: 0.8167398\tbest: 0.8167398 (95)\ttotal: 4.85s\tremaining: 45.6s\n",
      "96:\tlearn: 0.7932650\ttest: 0.8166779\tbest: 0.8166779 (96)\ttotal: 4.89s\tremaining: 45.5s\n",
      "97:\tlearn: 0.7929501\ttest: 0.8165480\tbest: 0.8165480 (97)\ttotal: 4.93s\tremaining: 45.4s\n",
      "98:\tlearn: 0.7926357\ttest: 0.8164299\tbest: 0.8164299 (98)\ttotal: 4.98s\tremaining: 45.4s\n",
      "99:\tlearn: 0.7918907\ttest: 0.8161534\tbest: 0.8161534 (99)\ttotal: 5.04s\tremaining: 45.4s\n",
      "100:\tlearn: 0.7915481\ttest: 0.8161041\tbest: 0.8161041 (100)\ttotal: 5.09s\tremaining: 45.3s\n",
      "101:\tlearn: 0.7910486\ttest: 0.8158260\tbest: 0.8158260 (101)\ttotal: 5.14s\tremaining: 45.3s\n",
      "102:\tlearn: 0.7908352\ttest: 0.8157871\tbest: 0.8157871 (102)\ttotal: 5.19s\tremaining: 45.2s\n",
      "103:\tlearn: 0.7903920\ttest: 0.8155731\tbest: 0.8155731 (103)\ttotal: 5.24s\tremaining: 45.1s\n",
      "104:\tlearn: 0.7897537\ttest: 0.8152019\tbest: 0.8152019 (104)\ttotal: 5.29s\tremaining: 45.1s\n",
      "105:\tlearn: 0.7893922\ttest: 0.8150627\tbest: 0.8150627 (105)\ttotal: 5.34s\tremaining: 45s\n",
      "106:\tlearn: 0.7890733\ttest: 0.8149497\tbest: 0.8149497 (106)\ttotal: 5.39s\tremaining: 45s\n",
      "107:\tlearn: 0.7888053\ttest: 0.8149960\tbest: 0.8149497 (106)\ttotal: 5.44s\tremaining: 44.9s\n",
      "108:\tlearn: 0.7884302\ttest: 0.8149212\tbest: 0.8149212 (108)\ttotal: 5.49s\tremaining: 44.9s\n",
      "109:\tlearn: 0.7880661\ttest: 0.8147951\tbest: 0.8147951 (109)\ttotal: 5.54s\tremaining: 44.8s\n",
      "110:\tlearn: 0.7878180\ttest: 0.8147472\tbest: 0.8147472 (110)\ttotal: 5.58s\tremaining: 44.7s\n",
      "111:\tlearn: 0.7876106\ttest: 0.8146632\tbest: 0.8146632 (111)\ttotal: 5.63s\tremaining: 44.6s\n",
      "112:\tlearn: 0.7874007\ttest: 0.8146153\tbest: 0.8146153 (112)\ttotal: 5.67s\tremaining: 44.5s\n",
      "113:\tlearn: 0.7869935\ttest: 0.8144803\tbest: 0.8144803 (113)\ttotal: 5.72s\tremaining: 44.5s\n",
      "114:\tlearn: 0.7867961\ttest: 0.8143895\tbest: 0.8143895 (114)\ttotal: 5.77s\tremaining: 44.4s\n",
      "115:\tlearn: 0.7864281\ttest: 0.8141979\tbest: 0.8141979 (115)\ttotal: 5.81s\tremaining: 44.3s\n",
      "116:\tlearn: 0.7861001\ttest: 0.8141061\tbest: 0.8141061 (116)\ttotal: 5.86s\tremaining: 44.2s\n",
      "117:\tlearn: 0.7856634\ttest: 0.8139849\tbest: 0.8139849 (117)\ttotal: 5.91s\tremaining: 44.2s\n",
      "118:\tlearn: 0.7852714\ttest: 0.8137331\tbest: 0.8137331 (118)\ttotal: 5.95s\tremaining: 44.1s\n",
      "119:\tlearn: 0.7850018\ttest: 0.8136504\tbest: 0.8136504 (119)\ttotal: 6s\tremaining: 44s\n",
      "120:\tlearn: 0.7845915\ttest: 0.8136464\tbest: 0.8136464 (120)\ttotal: 6.05s\tremaining: 44s\n",
      "121:\tlearn: 0.7841765\ttest: 0.8134487\tbest: 0.8134487 (121)\ttotal: 6.1s\tremaining: 43.9s\n",
      "122:\tlearn: 0.7836082\ttest: 0.8132436\tbest: 0.8132436 (122)\ttotal: 6.16s\tremaining: 43.9s\n",
      "123:\tlearn: 0.7831564\ttest: 0.8130510\tbest: 0.8130510 (123)\ttotal: 6.21s\tremaining: 43.9s\n",
      "124:\tlearn: 0.7830434\ttest: 0.8130268\tbest: 0.8130268 (124)\ttotal: 6.25s\tremaining: 43.7s\n",
      "125:\tlearn: 0.7827104\ttest: 0.8129467\tbest: 0.8129467 (125)\ttotal: 6.3s\tremaining: 43.7s\n",
      "126:\tlearn: 0.7823869\ttest: 0.8128583\tbest: 0.8128583 (126)\ttotal: 6.35s\tremaining: 43.6s\n",
      "127:\tlearn: 0.7820674\ttest: 0.8126882\tbest: 0.8126882 (127)\ttotal: 6.39s\tremaining: 43.5s\n",
      "128:\tlearn: 0.7816921\ttest: 0.8125202\tbest: 0.8125202 (128)\ttotal: 6.44s\tremaining: 43.5s\n",
      "129:\tlearn: 0.7813364\ttest: 0.8124895\tbest: 0.8124895 (129)\ttotal: 6.49s\tremaining: 43.4s\n",
      "130:\tlearn: 0.7810721\ttest: 0.8123713\tbest: 0.8123713 (130)\ttotal: 6.54s\tremaining: 43.4s\n",
      "131:\tlearn: 0.7807588\ttest: 0.8122249\tbest: 0.8122249 (131)\ttotal: 6.59s\tremaining: 43.3s\n",
      "132:\tlearn: 0.7802855\ttest: 0.8120738\tbest: 0.8120738 (132)\ttotal: 6.63s\tremaining: 43.3s\n",
      "133:\tlearn: 0.7800233\ttest: 0.8118884\tbest: 0.8118884 (133)\ttotal: 6.68s\tremaining: 43.2s\n",
      "134:\tlearn: 0.7797773\ttest: 0.8117490\tbest: 0.8117490 (134)\ttotal: 6.73s\tremaining: 43.1s\n",
      "135:\tlearn: 0.7796033\ttest: 0.8116826\tbest: 0.8116826 (135)\ttotal: 6.78s\tremaining: 43s\n",
      "136:\tlearn: 0.7792062\ttest: 0.8116085\tbest: 0.8116085 (136)\ttotal: 6.83s\tremaining: 43s\n",
      "137:\tlearn: 0.7789108\ttest: 0.8115322\tbest: 0.8115322 (137)\ttotal: 6.87s\tremaining: 42.9s\n",
      "138:\tlearn: 0.7785899\ttest: 0.8115165\tbest: 0.8115165 (138)\ttotal: 6.93s\tremaining: 42.9s\n",
      "139:\tlearn: 0.7782700\ttest: 0.8114556\tbest: 0.8114556 (139)\ttotal: 6.98s\tremaining: 42.9s\n",
      "140:\tlearn: 0.7780976\ttest: 0.8114131\tbest: 0.8114131 (140)\ttotal: 7.02s\tremaining: 42.8s\n",
      "141:\tlearn: 0.7776233\ttest: 0.8112305\tbest: 0.8112305 (141)\ttotal: 7.07s\tremaining: 42.7s\n",
      "142:\tlearn: 0.7772826\ttest: 0.8109811\tbest: 0.8109811 (142)\ttotal: 7.12s\tremaining: 42.7s\n",
      "143:\tlearn: 0.7769373\ttest: 0.8109097\tbest: 0.8109097 (143)\ttotal: 7.17s\tremaining: 42.6s\n",
      "144:\tlearn: 0.7767820\ttest: 0.8108839\tbest: 0.8108839 (144)\ttotal: 7.21s\tremaining: 42.5s\n",
      "145:\tlearn: 0.7766656\ttest: 0.8108340\tbest: 0.8108340 (145)\ttotal: 7.25s\tremaining: 42.4s\n",
      "146:\tlearn: 0.7764456\ttest: 0.8107827\tbest: 0.8107827 (146)\ttotal: 7.3s\tremaining: 42.4s\n",
      "147:\tlearn: 0.7761175\ttest: 0.8106434\tbest: 0.8106434 (147)\ttotal: 7.34s\tremaining: 42.3s\n",
      "148:\tlearn: 0.7759408\ttest: 0.8106137\tbest: 0.8106137 (148)\ttotal: 7.39s\tremaining: 42.2s\n",
      "149:\tlearn: 0.7756188\ttest: 0.8105077\tbest: 0.8105077 (149)\ttotal: 7.44s\tremaining: 42.2s\n",
      "150:\tlearn: 0.7751935\ttest: 0.8104775\tbest: 0.8104775 (150)\ttotal: 7.49s\tremaining: 42.1s\n",
      "151:\tlearn: 0.7749997\ttest: 0.8104501\tbest: 0.8104501 (151)\ttotal: 7.53s\tremaining: 42s\n",
      "152:\tlearn: 0.7745485\ttest: 0.8101863\tbest: 0.8101863 (152)\ttotal: 7.58s\tremaining: 42s\n",
      "153:\tlearn: 0.7743535\ttest: 0.8101328\tbest: 0.8101328 (153)\ttotal: 7.63s\tremaining: 41.9s\n",
      "154:\tlearn: 0.7741637\ttest: 0.8101063\tbest: 0.8101063 (154)\ttotal: 7.67s\tremaining: 41.8s\n",
      "155:\tlearn: 0.7739569\ttest: 0.8100188\tbest: 0.8100188 (155)\ttotal: 7.72s\tremaining: 41.7s\n",
      "156:\tlearn: 0.7737455\ttest: 0.8100343\tbest: 0.8100188 (155)\ttotal: 7.76s\tremaining: 41.7s\n",
      "157:\tlearn: 0.7736432\ttest: 0.8099972\tbest: 0.8099972 (157)\ttotal: 7.8s\tremaining: 41.6s\n",
      "158:\tlearn: 0.7732864\ttest: 0.8098785\tbest: 0.8098785 (158)\ttotal: 7.86s\tremaining: 41.6s\n",
      "159:\tlearn: 0.7729549\ttest: 0.8098424\tbest: 0.8098424 (159)\ttotal: 7.9s\tremaining: 41.5s\n",
      "160:\tlearn: 0.7726330\ttest: 0.8096036\tbest: 0.8096036 (160)\ttotal: 7.96s\tremaining: 41.5s\n",
      "161:\tlearn: 0.7724066\ttest: 0.8095827\tbest: 0.8095827 (161)\ttotal: 8s\tremaining: 41.4s\n",
      "162:\tlearn: 0.7719790\ttest: 0.8096030\tbest: 0.8095827 (161)\ttotal: 8.05s\tremaining: 41.3s\n",
      "163:\tlearn: 0.7717093\ttest: 0.8095904\tbest: 0.8095827 (161)\ttotal: 8.1s\tremaining: 41.3s\n",
      "164:\tlearn: 0.7714862\ttest: 0.8095727\tbest: 0.8095727 (164)\ttotal: 8.15s\tremaining: 41.3s\n",
      "165:\tlearn: 0.7712824\ttest: 0.8095257\tbest: 0.8095257 (165)\ttotal: 8.2s\tremaining: 41.2s\n",
      "166:\tlearn: 0.7710623\ttest: 0.8094508\tbest: 0.8094508 (166)\ttotal: 8.24s\tremaining: 41.1s\n",
      "167:\tlearn: 0.7709387\ttest: 0.8094055\tbest: 0.8094055 (167)\ttotal: 8.29s\tremaining: 41.1s\n",
      "168:\tlearn: 0.7707163\ttest: 0.8093908\tbest: 0.8093908 (168)\ttotal: 8.34s\tremaining: 41s\n",
      "169:\tlearn: 0.7706329\ttest: 0.8093672\tbest: 0.8093672 (169)\ttotal: 8.38s\tremaining: 40.9s\n",
      "170:\tlearn: 0.7703821\ttest: 0.8093150\tbest: 0.8093150 (170)\ttotal: 8.42s\tremaining: 40.8s\n",
      "171:\tlearn: 0.7701568\ttest: 0.8093206\tbest: 0.8093150 (170)\ttotal: 8.47s\tremaining: 40.8s\n",
      "172:\tlearn: 0.7696979\ttest: 0.8092469\tbest: 0.8092469 (172)\ttotal: 8.52s\tremaining: 40.7s\n",
      "173:\tlearn: 0.7694256\ttest: 0.8092429\tbest: 0.8092429 (173)\ttotal: 8.57s\tremaining: 40.7s\n",
      "174:\tlearn: 0.7692267\ttest: 0.8092594\tbest: 0.8092429 (173)\ttotal: 8.61s\tremaining: 40.6s\n",
      "175:\tlearn: 0.7687776\ttest: 0.8090563\tbest: 0.8090563 (175)\ttotal: 8.66s\tremaining: 40.6s\n",
      "176:\tlearn: 0.7684837\ttest: 0.8089693\tbest: 0.8089693 (176)\ttotal: 8.71s\tremaining: 40.5s\n",
      "177:\tlearn: 0.7682492\ttest: 0.8089304\tbest: 0.8089304 (177)\ttotal: 8.76s\tremaining: 40.4s\n",
      "178:\tlearn: 0.7680761\ttest: 0.8088953\tbest: 0.8088953 (178)\ttotal: 8.8s\tremaining: 40.4s\n",
      "179:\tlearn: 0.7678214\ttest: 0.8088412\tbest: 0.8088412 (179)\ttotal: 8.85s\tremaining: 40.3s\n",
      "180:\tlearn: 0.7676202\ttest: 0.8087920\tbest: 0.8087920 (180)\ttotal: 8.89s\tremaining: 40.2s\n",
      "181:\tlearn: 0.7673988\ttest: 0.8088444\tbest: 0.8087920 (180)\ttotal: 8.94s\tremaining: 40.2s\n",
      "182:\tlearn: 0.7672548\ttest: 0.8089197\tbest: 0.8087920 (180)\ttotal: 8.98s\tremaining: 40.1s\n",
      "183:\tlearn: 0.7669067\ttest: 0.8088814\tbest: 0.8087920 (180)\ttotal: 9.03s\tremaining: 40.1s\n",
      "184:\tlearn: 0.7666750\ttest: 0.8088798\tbest: 0.8087920 (180)\ttotal: 9.08s\tremaining: 40s\n",
      "185:\tlearn: 0.7664887\ttest: 0.8088043\tbest: 0.8087920 (180)\ttotal: 9.13s\tremaining: 39.9s\n",
      "186:\tlearn: 0.7662630\ttest: 0.8087428\tbest: 0.8087428 (186)\ttotal: 9.17s\tremaining: 39.9s\n",
      "187:\tlearn: 0.7659892\ttest: 0.8086590\tbest: 0.8086590 (187)\ttotal: 9.22s\tremaining: 39.8s\n",
      "188:\tlearn: 0.7658928\ttest: 0.8086219\tbest: 0.8086219 (188)\ttotal: 9.26s\tremaining: 39.7s\n",
      "189:\tlearn: 0.7655898\ttest: 0.8085661\tbest: 0.8085661 (189)\ttotal: 9.32s\tremaining: 39.7s\n",
      "190:\tlearn: 0.7654818\ttest: 0.8085693\tbest: 0.8085661 (189)\ttotal: 9.36s\tremaining: 39.7s\n",
      "191:\tlearn: 0.7652840\ttest: 0.8085208\tbest: 0.8085208 (191)\ttotal: 9.4s\tremaining: 39.6s\n",
      "192:\tlearn: 0.7652262\ttest: 0.8084976\tbest: 0.8084976 (192)\ttotal: 9.45s\tremaining: 39.5s\n",
      "193:\tlearn: 0.7650153\ttest: 0.8084499\tbest: 0.8084499 (193)\ttotal: 9.49s\tremaining: 39.4s\n",
      "194:\tlearn: 0.7647024\ttest: 0.8083201\tbest: 0.8083201 (194)\ttotal: 9.55s\tremaining: 39.4s\n",
      "195:\tlearn: 0.7645966\ttest: 0.8083182\tbest: 0.8083182 (195)\ttotal: 9.59s\tremaining: 39.3s\n",
      "196:\tlearn: 0.7644978\ttest: 0.8083279\tbest: 0.8083182 (195)\ttotal: 9.63s\tremaining: 39.2s\n",
      "197:\tlearn: 0.7642760\ttest: 0.8082292\tbest: 0.8082292 (197)\ttotal: 9.67s\tremaining: 39.2s\n",
      "198:\tlearn: 0.7641847\ttest: 0.8082294\tbest: 0.8082292 (197)\ttotal: 9.71s\tremaining: 39.1s\n",
      "199:\tlearn: 0.7640046\ttest: 0.8081647\tbest: 0.8081647 (199)\ttotal: 9.75s\tremaining: 39s\n",
      "200:\tlearn: 0.7636965\ttest: 0.8081346\tbest: 0.8081346 (200)\ttotal: 9.79s\tremaining: 38.9s\n",
      "201:\tlearn: 0.7636287\ttest: 0.8081340\tbest: 0.8081340 (201)\ttotal: 9.83s\tremaining: 38.8s\n",
      "202:\tlearn: 0.7633812\ttest: 0.8080535\tbest: 0.8080535 (202)\ttotal: 9.88s\tremaining: 38.8s\n",
      "203:\tlearn: 0.7631959\ttest: 0.8080382\tbest: 0.8080382 (203)\ttotal: 9.92s\tremaining: 38.7s\n",
      "204:\tlearn: 0.7629399\ttest: 0.8079720\tbest: 0.8079720 (204)\ttotal: 9.96s\tremaining: 38.6s\n",
      "205:\tlearn: 0.7627463\ttest: 0.8079962\tbest: 0.8079720 (204)\ttotal: 10s\tremaining: 38.6s\n",
      "206:\tlearn: 0.7624339\ttest: 0.8079411\tbest: 0.8079411 (206)\ttotal: 10.1s\tremaining: 38.5s\n",
      "207:\tlearn: 0.7621945\ttest: 0.8079191\tbest: 0.8079191 (207)\ttotal: 10.1s\tremaining: 38.5s\n",
      "208:\tlearn: 0.7617833\ttest: 0.8079189\tbest: 0.8079189 (208)\ttotal: 10.2s\tremaining: 38.4s\n",
      "209:\tlearn: 0.7617143\ttest: 0.8078886\tbest: 0.8078886 (209)\ttotal: 10.2s\tremaining: 38.4s\n",
      "210:\tlearn: 0.7614895\ttest: 0.8078345\tbest: 0.8078345 (210)\ttotal: 10.2s\tremaining: 38.3s\n",
      "211:\tlearn: 0.7613589\ttest: 0.8078209\tbest: 0.8078209 (211)\ttotal: 10.3s\tremaining: 38.2s\n",
      "212:\tlearn: 0.7611256\ttest: 0.8077663\tbest: 0.8077663 (212)\ttotal: 10.3s\tremaining: 38.2s\n",
      "213:\tlearn: 0.7610426\ttest: 0.8077675\tbest: 0.8077663 (212)\ttotal: 10.4s\tremaining: 38.1s\n",
      "214:\tlearn: 0.7609335\ttest: 0.8077546\tbest: 0.8077546 (214)\ttotal: 10.4s\tremaining: 38s\n",
      "215:\tlearn: 0.7608675\ttest: 0.8077576\tbest: 0.8077546 (214)\ttotal: 10.4s\tremaining: 37.9s\n",
      "216:\tlearn: 0.7606188\ttest: 0.8077704\tbest: 0.8077546 (214)\ttotal: 10.5s\tremaining: 37.9s\n",
      "217:\tlearn: 0.7604582\ttest: 0.8077122\tbest: 0.8077122 (217)\ttotal: 10.5s\tremaining: 37.8s\n",
      "218:\tlearn: 0.7601063\ttest: 0.8075895\tbest: 0.8075895 (218)\ttotal: 10.6s\tremaining: 37.8s\n",
      "219:\tlearn: 0.7597863\ttest: 0.8075566\tbest: 0.8075566 (219)\ttotal: 10.6s\tremaining: 37.7s\n",
      "220:\tlearn: 0.7596165\ttest: 0.8075390\tbest: 0.8075390 (220)\ttotal: 10.7s\tremaining: 37.6s\n",
      "221:\tlearn: 0.7593479\ttest: 0.8075118\tbest: 0.8075118 (221)\ttotal: 10.7s\tremaining: 37.6s\n",
      "222:\tlearn: 0.7591555\ttest: 0.8074685\tbest: 0.8074685 (222)\ttotal: 10.8s\tremaining: 37.5s\n",
      "223:\tlearn: 0.7589818\ttest: 0.8074956\tbest: 0.8074685 (222)\ttotal: 10.8s\tremaining: 37.5s\n",
      "224:\tlearn: 0.7587786\ttest: 0.8075141\tbest: 0.8074685 (222)\ttotal: 10.9s\tremaining: 37.4s\n",
      "225:\tlearn: 0.7583809\ttest: 0.8073260\tbest: 0.8073260 (225)\ttotal: 10.9s\tremaining: 37.4s\n",
      "226:\tlearn: 0.7581986\ttest: 0.8072502\tbest: 0.8072502 (226)\ttotal: 11s\tremaining: 37.3s\n",
      "227:\tlearn: 0.7580307\ttest: 0.8071995\tbest: 0.8071995 (227)\ttotal: 11s\tremaining: 37.3s\n",
      "228:\tlearn: 0.7578470\ttest: 0.8071917\tbest: 0.8071917 (228)\ttotal: 11.1s\tremaining: 37.2s\n",
      "229:\tlearn: 0.7577544\ttest: 0.8071900\tbest: 0.8071900 (229)\ttotal: 11.1s\tremaining: 37.1s\n",
      "230:\tlearn: 0.7575777\ttest: 0.8072231\tbest: 0.8071900 (229)\ttotal: 11.1s\tremaining: 37.1s\n",
      "231:\tlearn: 0.7574779\ttest: 0.8072295\tbest: 0.8071900 (229)\ttotal: 11.2s\tremaining: 37s\n",
      "232:\tlearn: 0.7573639\ttest: 0.8071758\tbest: 0.8071758 (232)\ttotal: 11.2s\tremaining: 37s\n",
      "233:\tlearn: 0.7571875\ttest: 0.8071475\tbest: 0.8071475 (233)\ttotal: 11.3s\tremaining: 36.9s\n",
      "234:\tlearn: 0.7569736\ttest: 0.8071045\tbest: 0.8071045 (234)\ttotal: 11.3s\tremaining: 36.9s\n",
      "235:\tlearn: 0.7568670\ttest: 0.8071240\tbest: 0.8071045 (234)\ttotal: 11.4s\tremaining: 36.8s\n",
      "236:\tlearn: 0.7565869\ttest: 0.8070745\tbest: 0.8070745 (236)\ttotal: 11.4s\tremaining: 36.7s\n",
      "237:\tlearn: 0.7564128\ttest: 0.8070717\tbest: 0.8070717 (237)\ttotal: 11.5s\tremaining: 36.7s\n",
      "238:\tlearn: 0.7562726\ttest: 0.8070792\tbest: 0.8070717 (237)\ttotal: 11.5s\tremaining: 36.6s\n",
      "239:\tlearn: 0.7561233\ttest: 0.8070658\tbest: 0.8070658 (239)\ttotal: 11.6s\tremaining: 36.6s\n",
      "240:\tlearn: 0.7560738\ttest: 0.8070629\tbest: 0.8070629 (240)\ttotal: 11.6s\tremaining: 36.5s\n",
      "241:\tlearn: 0.7558083\ttest: 0.8069982\tbest: 0.8069982 (241)\ttotal: 11.6s\tremaining: 36.5s\n",
      "242:\tlearn: 0.7556071\ttest: 0.8070284\tbest: 0.8069982 (241)\ttotal: 11.7s\tremaining: 36.4s\n",
      "243:\tlearn: 0.7554059\ttest: 0.8070116\tbest: 0.8069982 (241)\ttotal: 11.7s\tremaining: 36.4s\n",
      "244:\tlearn: 0.7552406\ttest: 0.8070682\tbest: 0.8069982 (241)\ttotal: 11.8s\tremaining: 36.3s\n",
      "245:\tlearn: 0.7550530\ttest: 0.8070516\tbest: 0.8069982 (241)\ttotal: 11.8s\tremaining: 36.3s\n",
      "246:\tlearn: 0.7546874\ttest: 0.8069426\tbest: 0.8069426 (246)\ttotal: 11.9s\tremaining: 36.2s\n",
      "247:\tlearn: 0.7544409\ttest: 0.8069086\tbest: 0.8069086 (247)\ttotal: 11.9s\tremaining: 36.2s\n",
      "248:\tlearn: 0.7542512\ttest: 0.8068715\tbest: 0.8068715 (248)\ttotal: 12s\tremaining: 36.1s\n",
      "249:\tlearn: 0.7539761\ttest: 0.8068038\tbest: 0.8068038 (249)\ttotal: 12s\tremaining: 36.1s\n",
      "250:\tlearn: 0.7537650\ttest: 0.8068410\tbest: 0.8068038 (249)\ttotal: 12.1s\tremaining: 36s\n",
      "251:\tlearn: 0.7536152\ttest: 0.8068208\tbest: 0.8068038 (249)\ttotal: 12.1s\tremaining: 35.9s\n",
      "252:\tlearn: 0.7532213\ttest: 0.8066936\tbest: 0.8066936 (252)\ttotal: 12.2s\tremaining: 35.9s\n",
      "253:\tlearn: 0.7529698\ttest: 0.8067015\tbest: 0.8066936 (252)\ttotal: 12.2s\tremaining: 35.8s\n",
      "254:\tlearn: 0.7527331\ttest: 0.8066118\tbest: 0.8066118 (254)\ttotal: 12.2s\tremaining: 35.8s\n",
      "255:\tlearn: 0.7526046\ttest: 0.8066116\tbest: 0.8066116 (255)\ttotal: 12.3s\tremaining: 35.7s\n",
      "256:\tlearn: 0.7522812\ttest: 0.8065149\tbest: 0.8065149 (256)\ttotal: 12.3s\tremaining: 35.7s\n",
      "257:\tlearn: 0.7521956\ttest: 0.8065270\tbest: 0.8065149 (256)\ttotal: 12.4s\tremaining: 35.6s\n",
      "258:\tlearn: 0.7519513\ttest: 0.8065092\tbest: 0.8065092 (258)\ttotal: 12.4s\tremaining: 35.5s\n",
      "259:\tlearn: 0.7517023\ttest: 0.8065045\tbest: 0.8065045 (259)\ttotal: 12.5s\tremaining: 35.5s\n",
      "260:\tlearn: 0.7515697\ttest: 0.8065150\tbest: 0.8065045 (259)\ttotal: 12.5s\tremaining: 35.4s\n",
      "261:\tlearn: 0.7513023\ttest: 0.8064344\tbest: 0.8064344 (261)\ttotal: 12.6s\tremaining: 35.4s\n",
      "262:\tlearn: 0.7510923\ttest: 0.8064746\tbest: 0.8064344 (261)\ttotal: 12.6s\tremaining: 35.3s\n",
      "263:\tlearn: 0.7508467\ttest: 0.8064260\tbest: 0.8064260 (263)\ttotal: 12.7s\tremaining: 35.3s\n",
      "264:\tlearn: 0.7506927\ttest: 0.8064096\tbest: 0.8064096 (264)\ttotal: 12.7s\tremaining: 35.2s\n",
      "265:\tlearn: 0.7503593\ttest: 0.8062667\tbest: 0.8062667 (265)\ttotal: 12.7s\tremaining: 35.2s\n",
      "266:\tlearn: 0.7500251\ttest: 0.8062039\tbest: 0.8062039 (266)\ttotal: 12.8s\tremaining: 35.1s\n",
      "267:\tlearn: 0.7498601\ttest: 0.8061761\tbest: 0.8061761 (267)\ttotal: 12.8s\tremaining: 35.1s\n",
      "268:\tlearn: 0.7496029\ttest: 0.8061716\tbest: 0.8061716 (268)\ttotal: 12.9s\tremaining: 35s\n",
      "269:\tlearn: 0.7494006\ttest: 0.8061481\tbest: 0.8061481 (269)\ttotal: 12.9s\tremaining: 35s\n",
      "270:\tlearn: 0.7491523\ttest: 0.8061279\tbest: 0.8061279 (270)\ttotal: 13s\tremaining: 34.9s\n",
      "271:\tlearn: 0.7491133\ttest: 0.8061316\tbest: 0.8061279 (270)\ttotal: 13s\tremaining: 34.8s\n",
      "272:\tlearn: 0.7489461\ttest: 0.8060680\tbest: 0.8060680 (272)\ttotal: 13.1s\tremaining: 34.8s\n",
      "273:\tlearn: 0.7486849\ttest: 0.8060096\tbest: 0.8060096 (273)\ttotal: 13.1s\tremaining: 34.7s\n",
      "274:\tlearn: 0.7483901\ttest: 0.8059986\tbest: 0.8059986 (274)\ttotal: 13.1s\tremaining: 34.7s\n",
      "275:\tlearn: 0.7482371\ttest: 0.8059456\tbest: 0.8059456 (275)\ttotal: 13.2s\tremaining: 34.6s\n",
      "276:\tlearn: 0.7481503\ttest: 0.8059141\tbest: 0.8059141 (276)\ttotal: 13.2s\tremaining: 34.5s\n",
      "277:\tlearn: 0.7480098\ttest: 0.8058880\tbest: 0.8058880 (277)\ttotal: 13.3s\tremaining: 34.5s\n",
      "278:\tlearn: 0.7477138\ttest: 0.8058419\tbest: 0.8058419 (278)\ttotal: 13.3s\tremaining: 34.4s\n",
      "279:\tlearn: 0.7474804\ttest: 0.8057894\tbest: 0.8057894 (279)\ttotal: 13.4s\tremaining: 34.4s\n",
      "280:\tlearn: 0.7471586\ttest: 0.8057156\tbest: 0.8057156 (280)\ttotal: 13.4s\tremaining: 34.4s\n",
      "281:\tlearn: 0.7469618\ttest: 0.8056529\tbest: 0.8056529 (281)\ttotal: 13.5s\tremaining: 34.3s\n",
      "282:\tlearn: 0.7467079\ttest: 0.8055940\tbest: 0.8055940 (282)\ttotal: 13.5s\tremaining: 34.3s\n",
      "283:\tlearn: 0.7465598\ttest: 0.8055653\tbest: 0.8055653 (283)\ttotal: 13.6s\tremaining: 34.2s\n",
      "284:\tlearn: 0.7463804\ttest: 0.8055801\tbest: 0.8055653 (283)\ttotal: 13.6s\tremaining: 34.2s\n",
      "285:\tlearn: 0.7463158\ttest: 0.8055705\tbest: 0.8055653 (283)\ttotal: 13.7s\tremaining: 34.1s\n",
      "286:\tlearn: 0.7459837\ttest: 0.8055605\tbest: 0.8055605 (286)\ttotal: 13.7s\tremaining: 34.1s\n",
      "287:\tlearn: 0.7458199\ttest: 0.8055512\tbest: 0.8055512 (287)\ttotal: 13.8s\tremaining: 34s\n",
      "288:\tlearn: 0.7457555\ttest: 0.8055446\tbest: 0.8055446 (288)\ttotal: 13.8s\tremaining: 34s\n",
      "289:\tlearn: 0.7455578\ttest: 0.8055868\tbest: 0.8055446 (288)\ttotal: 13.8s\tremaining: 33.9s\n",
      "290:\tlearn: 0.7454350\ttest: 0.8056307\tbest: 0.8055446 (288)\ttotal: 13.9s\tremaining: 33.8s\n",
      "291:\tlearn: 0.7451600\ttest: 0.8056580\tbest: 0.8055446 (288)\ttotal: 13.9s\tremaining: 33.8s\n",
      "292:\tlearn: 0.7448747\ttest: 0.8056846\tbest: 0.8055446 (288)\ttotal: 14s\tremaining: 33.8s\n",
      "293:\tlearn: 0.7445127\ttest: 0.8056335\tbest: 0.8055446 (288)\ttotal: 14s\tremaining: 33.7s\n",
      "294:\tlearn: 0.7443324\ttest: 0.8056544\tbest: 0.8055446 (288)\ttotal: 14.1s\tremaining: 33.7s\n",
      "295:\tlearn: 0.7440860\ttest: 0.8055669\tbest: 0.8055446 (288)\ttotal: 14.1s\tremaining: 33.6s\n",
      "296:\tlearn: 0.7440398\ttest: 0.8055667\tbest: 0.8055446 (288)\ttotal: 14.2s\tremaining: 33.5s\n",
      "297:\tlearn: 0.7437993\ttest: 0.8056334\tbest: 0.8055446 (288)\ttotal: 14.2s\tremaining: 33.5s\n",
      "298:\tlearn: 0.7434906\ttest: 0.8056594\tbest: 0.8055446 (288)\ttotal: 14.3s\tremaining: 33.5s\n",
      "299:\tlearn: 0.7432306\ttest: 0.8056456\tbest: 0.8055446 (288)\ttotal: 14.3s\tremaining: 33.4s\n",
      "300:\tlearn: 0.7429834\ttest: 0.8056063\tbest: 0.8055446 (288)\ttotal: 14.4s\tremaining: 33.4s\n",
      "301:\tlearn: 0.7429000\ttest: 0.8055842\tbest: 0.8055446 (288)\ttotal: 14.4s\tremaining: 33.3s\n",
      "302:\tlearn: 0.7425920\ttest: 0.8055458\tbest: 0.8055446 (288)\ttotal: 14.5s\tremaining: 33.3s\n",
      "303:\tlearn: 0.7423336\ttest: 0.8055204\tbest: 0.8055204 (303)\ttotal: 14.5s\tremaining: 33.2s\n",
      "304:\tlearn: 0.7420091\ttest: 0.8055544\tbest: 0.8055204 (303)\ttotal: 14.6s\tremaining: 33.2s\n",
      "305:\tlearn: 0.7418480\ttest: 0.8055265\tbest: 0.8055204 (303)\ttotal: 14.6s\tremaining: 33.1s\n",
      "306:\tlearn: 0.7418010\ttest: 0.8055134\tbest: 0.8055134 (306)\ttotal: 14.6s\tremaining: 33.1s\n",
      "307:\tlearn: 0.7416869\ttest: 0.8055006\tbest: 0.8055006 (307)\ttotal: 14.7s\tremaining: 33s\n",
      "308:\tlearn: 0.7415298\ttest: 0.8054747\tbest: 0.8054747 (308)\ttotal: 14.7s\tremaining: 32.9s\n",
      "309:\tlearn: 0.7414311\ttest: 0.8054903\tbest: 0.8054747 (308)\ttotal: 14.8s\tremaining: 32.9s\n",
      "310:\tlearn: 0.7412837\ttest: 0.8054591\tbest: 0.8054591 (310)\ttotal: 14.8s\tremaining: 32.8s\n",
      "311:\tlearn: 0.7410410\ttest: 0.8054977\tbest: 0.8054591 (310)\ttotal: 14.9s\tremaining: 32.8s\n",
      "312:\tlearn: 0.7408673\ttest: 0.8054893\tbest: 0.8054591 (310)\ttotal: 14.9s\tremaining: 32.7s\n",
      "313:\tlearn: 0.7407378\ttest: 0.8054394\tbest: 0.8054394 (313)\ttotal: 14.9s\tremaining: 32.7s\n",
      "314:\tlearn: 0.7405919\ttest: 0.8053561\tbest: 0.8053561 (314)\ttotal: 15s\tremaining: 32.6s\n",
      "315:\tlearn: 0.7404368\ttest: 0.8052972\tbest: 0.8052972 (315)\ttotal: 15s\tremaining: 32.5s\n",
      "316:\tlearn: 0.7402515\ttest: 0.8053367\tbest: 0.8052972 (315)\ttotal: 15.1s\tremaining: 32.5s\n",
      "317:\tlearn: 0.7400756\ttest: 0.8053928\tbest: 0.8052972 (315)\ttotal: 15.1s\tremaining: 32.4s\n",
      "318:\tlearn: 0.7399040\ttest: 0.8053523\tbest: 0.8052972 (315)\ttotal: 15.2s\tremaining: 32.4s\n",
      "319:\tlearn: 0.7398263\ttest: 0.8053323\tbest: 0.8052972 (315)\ttotal: 15.2s\tremaining: 32.3s\n",
      "320:\tlearn: 0.7396262\ttest: 0.8053688\tbest: 0.8052972 (315)\ttotal: 15.2s\tremaining: 32.3s\n",
      "321:\tlearn: 0.7394619\ttest: 0.8053847\tbest: 0.8052972 (315)\ttotal: 15.3s\tremaining: 32.2s\n",
      "322:\tlearn: 0.7393080\ttest: 0.8053624\tbest: 0.8052972 (315)\ttotal: 15.3s\tremaining: 32.1s\n",
      "323:\tlearn: 0.7389907\ttest: 0.8053475\tbest: 0.8052972 (315)\ttotal: 15.4s\tremaining: 32.1s\n",
      "324:\tlearn: 0.7387957\ttest: 0.8053236\tbest: 0.8052972 (315)\ttotal: 15.4s\tremaining: 32s\n",
      "325:\tlearn: 0.7385282\ttest: 0.8052473\tbest: 0.8052473 (325)\ttotal: 15.5s\tremaining: 32s\n",
      "326:\tlearn: 0.7383793\ttest: 0.8052355\tbest: 0.8052355 (326)\ttotal: 15.5s\tremaining: 31.9s\n",
      "327:\tlearn: 0.7381345\ttest: 0.8052514\tbest: 0.8052355 (326)\ttotal: 15.6s\tremaining: 31.9s\n",
      "328:\tlearn: 0.7379622\ttest: 0.8052503\tbest: 0.8052355 (326)\ttotal: 15.6s\tremaining: 31.8s\n",
      "329:\tlearn: 0.7378157\ttest: 0.8052011\tbest: 0.8052011 (329)\ttotal: 15.7s\tremaining: 31.8s\n",
      "330:\tlearn: 0.7376761\ttest: 0.8051988\tbest: 0.8051988 (330)\ttotal: 15.7s\tremaining: 31.7s\n",
      "331:\tlearn: 0.7376080\ttest: 0.8051792\tbest: 0.8051792 (331)\ttotal: 15.7s\tremaining: 31.7s\n",
      "332:\tlearn: 0.7373977\ttest: 0.8051777\tbest: 0.8051777 (332)\ttotal: 15.8s\tremaining: 31.6s\n",
      "333:\tlearn: 0.7372316\ttest: 0.8051068\tbest: 0.8051068 (333)\ttotal: 15.8s\tremaining: 31.5s\n",
      "334:\tlearn: 0.7370149\ttest: 0.8050635\tbest: 0.8050635 (334)\ttotal: 15.9s\tremaining: 31.5s\n",
      "335:\tlearn: 0.7369491\ttest: 0.8050380\tbest: 0.8050380 (335)\ttotal: 15.9s\tremaining: 31.4s\n",
      "336:\tlearn: 0.7367531\ttest: 0.8050683\tbest: 0.8050380 (335)\ttotal: 15.9s\tremaining: 31.4s\n",
      "337:\tlearn: 0.7365989\ttest: 0.8050950\tbest: 0.8050380 (335)\ttotal: 16s\tremaining: 31.3s\n",
      "338:\tlearn: 0.7364121\ttest: 0.8051421\tbest: 0.8050380 (335)\ttotal: 16s\tremaining: 31.3s\n",
      "339:\tlearn: 0.7362648\ttest: 0.8051052\tbest: 0.8050380 (335)\ttotal: 16.1s\tremaining: 31.2s\n",
      "340:\tlearn: 0.7360354\ttest: 0.8050835\tbest: 0.8050380 (335)\ttotal: 16.1s\tremaining: 31.1s\n",
      "341:\tlearn: 0.7358726\ttest: 0.8050512\tbest: 0.8050380 (335)\ttotal: 16.2s\tremaining: 31.1s\n",
      "342:\tlearn: 0.7358115\ttest: 0.8050262\tbest: 0.8050262 (342)\ttotal: 16.2s\tremaining: 31s\n",
      "343:\tlearn: 0.7356612\ttest: 0.8050086\tbest: 0.8050086 (343)\ttotal: 16.2s\tremaining: 31s\n",
      "344:\tlearn: 0.7355325\ttest: 0.8049844\tbest: 0.8049844 (344)\ttotal: 16.3s\tremaining: 30.9s\n",
      "345:\tlearn: 0.7352355\ttest: 0.8049883\tbest: 0.8049844 (344)\ttotal: 16.3s\tremaining: 30.9s\n",
      "346:\tlearn: 0.7351395\ttest: 0.8049835\tbest: 0.8049835 (346)\ttotal: 16.4s\tremaining: 30.8s\n",
      "347:\tlearn: 0.7350951\ttest: 0.8049527\tbest: 0.8049527 (347)\ttotal: 16.4s\tremaining: 30.7s\n",
      "348:\tlearn: 0.7350276\ttest: 0.8049504\tbest: 0.8049504 (348)\ttotal: 16.4s\tremaining: 30.7s\n",
      "349:\tlearn: 0.7347675\ttest: 0.8047993\tbest: 0.8047993 (349)\ttotal: 16.5s\tremaining: 30.6s\n",
      "350:\tlearn: 0.7346580\ttest: 0.8048097\tbest: 0.8047993 (349)\ttotal: 16.5s\tremaining: 30.6s\n",
      "351:\tlearn: 0.7345438\ttest: 0.8047965\tbest: 0.8047965 (351)\ttotal: 16.6s\tremaining: 30.5s\n",
      "352:\tlearn: 0.7343364\ttest: 0.8047120\tbest: 0.8047120 (352)\ttotal: 16.6s\tremaining: 30.5s\n",
      "353:\tlearn: 0.7342328\ttest: 0.8047087\tbest: 0.8047087 (353)\ttotal: 16.7s\tremaining: 30.4s\n",
      "354:\tlearn: 0.7340602\ttest: 0.8046372\tbest: 0.8046372 (354)\ttotal: 16.7s\tremaining: 30.4s\n",
      "355:\tlearn: 0.7339440\ttest: 0.8046195\tbest: 0.8046195 (355)\ttotal: 16.8s\tremaining: 30.3s\n",
      "356:\tlearn: 0.7336998\ttest: 0.8046659\tbest: 0.8046195 (355)\ttotal: 16.8s\tremaining: 30.3s\n",
      "357:\tlearn: 0.7336261\ttest: 0.8046194\tbest: 0.8046194 (357)\ttotal: 16.8s\tremaining: 30.2s\n",
      "358:\tlearn: 0.7335231\ttest: 0.8045645\tbest: 0.8045645 (358)\ttotal: 16.9s\tremaining: 30.1s\n",
      "359:\tlearn: 0.7333891\ttest: 0.8045852\tbest: 0.8045645 (358)\ttotal: 16.9s\tremaining: 30.1s\n",
      "360:\tlearn: 0.7332312\ttest: 0.8046039\tbest: 0.8045645 (358)\ttotal: 17s\tremaining: 30s\n",
      "361:\tlearn: 0.7330136\ttest: 0.8045458\tbest: 0.8045458 (361)\ttotal: 17s\tremaining: 30s\n",
      "362:\tlearn: 0.7328808\ttest: 0.8044978\tbest: 0.8044978 (362)\ttotal: 17.1s\tremaining: 29.9s\n",
      "363:\tlearn: 0.7327512\ttest: 0.8044749\tbest: 0.8044749 (363)\ttotal: 17.1s\tremaining: 29.9s\n",
      "364:\tlearn: 0.7326179\ttest: 0.8044504\tbest: 0.8044504 (364)\ttotal: 17.2s\tremaining: 29.8s\n",
      "365:\tlearn: 0.7324680\ttest: 0.8043672\tbest: 0.8043672 (365)\ttotal: 17.2s\tremaining: 29.8s\n",
      "366:\tlearn: 0.7321748\ttest: 0.8043292\tbest: 0.8043292 (366)\ttotal: 17.2s\tremaining: 29.7s\n",
      "367:\tlearn: 0.7318742\ttest: 0.8043180\tbest: 0.8043180 (367)\ttotal: 17.3s\tremaining: 29.7s\n",
      "368:\tlearn: 0.7317415\ttest: 0.8043525\tbest: 0.8043180 (367)\ttotal: 17.3s\tremaining: 29.6s\n",
      "369:\tlearn: 0.7315399\ttest: 0.8043117\tbest: 0.8043117 (369)\ttotal: 17.4s\tremaining: 29.6s\n",
      "370:\tlearn: 0.7312991\ttest: 0.8043567\tbest: 0.8043117 (369)\ttotal: 17.4s\tremaining: 29.5s\n",
      "371:\tlearn: 0.7311317\ttest: 0.8043347\tbest: 0.8043117 (369)\ttotal: 17.5s\tremaining: 29.5s\n",
      "372:\tlearn: 0.7310464\ttest: 0.8043621\tbest: 0.8043117 (369)\ttotal: 17.5s\tremaining: 29.4s\n",
      "373:\tlearn: 0.7307689\ttest: 0.8042309\tbest: 0.8042309 (373)\ttotal: 17.6s\tremaining: 29.4s\n",
      "374:\tlearn: 0.7305986\ttest: 0.8042448\tbest: 0.8042309 (373)\ttotal: 17.6s\tremaining: 29.3s\n",
      "375:\tlearn: 0.7305278\ttest: 0.8042147\tbest: 0.8042147 (375)\ttotal: 17.6s\tremaining: 29.3s\n",
      "376:\tlearn: 0.7303475\ttest: 0.8042322\tbest: 0.8042147 (375)\ttotal: 17.7s\tremaining: 29.2s\n",
      "377:\tlearn: 0.7302095\ttest: 0.8042891\tbest: 0.8042147 (375)\ttotal: 17.7s\tremaining: 29.2s\n",
      "378:\tlearn: 0.7300992\ttest: 0.8042948\tbest: 0.8042147 (375)\ttotal: 17.8s\tremaining: 29.1s\n",
      "379:\tlearn: 0.7299268\ttest: 0.8042915\tbest: 0.8042147 (375)\ttotal: 17.8s\tremaining: 29.1s\n",
      "380:\tlearn: 0.7296698\ttest: 0.8043013\tbest: 0.8042147 (375)\ttotal: 17.9s\tremaining: 29s\n",
      "381:\tlearn: 0.7295780\ttest: 0.8043163\tbest: 0.8042147 (375)\ttotal: 17.9s\tremaining: 29s\n",
      "382:\tlearn: 0.7294540\ttest: 0.8043409\tbest: 0.8042147 (375)\ttotal: 17.9s\tremaining: 28.9s\n",
      "383:\tlearn: 0.7293866\ttest: 0.8043372\tbest: 0.8042147 (375)\ttotal: 18s\tremaining: 28.8s\n",
      "384:\tlearn: 0.7292087\ttest: 0.8043773\tbest: 0.8042147 (375)\ttotal: 18s\tremaining: 28.8s\n",
      "385:\tlearn: 0.7290255\ttest: 0.8043356\tbest: 0.8042147 (375)\ttotal: 18.1s\tremaining: 28.7s\n",
      "386:\tlearn: 0.7289617\ttest: 0.8043411\tbest: 0.8042147 (375)\ttotal: 18.1s\tremaining: 28.7s\n",
      "387:\tlearn: 0.7288455\ttest: 0.8043208\tbest: 0.8042147 (375)\ttotal: 18.1s\tremaining: 28.6s\n",
      "388:\tlearn: 0.7287238\ttest: 0.8043385\tbest: 0.8042147 (375)\ttotal: 18.2s\tremaining: 28.6s\n",
      "389:\tlearn: 0.7286287\ttest: 0.8043402\tbest: 0.8042147 (375)\ttotal: 18.2s\tremaining: 28.5s\n",
      "390:\tlearn: 0.7285941\ttest: 0.8043380\tbest: 0.8042147 (375)\ttotal: 18.3s\tremaining: 28.4s\n",
      "391:\tlearn: 0.7284479\ttest: 0.8043277\tbest: 0.8042147 (375)\ttotal: 18.3s\tremaining: 28.4s\n",
      "392:\tlearn: 0.7282512\ttest: 0.8043263\tbest: 0.8042147 (375)\ttotal: 18.4s\tremaining: 28.3s\n",
      "393:\tlearn: 0.7280916\ttest: 0.8042965\tbest: 0.8042147 (375)\ttotal: 18.4s\tremaining: 28.3s\n",
      "394:\tlearn: 0.7279097\ttest: 0.8043062\tbest: 0.8042147 (375)\ttotal: 18.4s\tremaining: 28.2s\n",
      "395:\tlearn: 0.7277974\ttest: 0.8042831\tbest: 0.8042147 (375)\ttotal: 18.5s\tremaining: 28.2s\n",
      "396:\tlearn: 0.7276102\ttest: 0.8042660\tbest: 0.8042147 (375)\ttotal: 18.5s\tremaining: 28.1s\n",
      "397:\tlearn: 0.7275645\ttest: 0.8042534\tbest: 0.8042147 (375)\ttotal: 18.6s\tremaining: 28.1s\n",
      "398:\tlearn: 0.7273144\ttest: 0.8043124\tbest: 0.8042147 (375)\ttotal: 18.6s\tremaining: 28s\n",
      "399:\tlearn: 0.7271483\ttest: 0.8042952\tbest: 0.8042147 (375)\ttotal: 18.7s\tremaining: 28s\n",
      "400:\tlearn: 0.7268957\ttest: 0.8042964\tbest: 0.8042147 (375)\ttotal: 18.7s\tremaining: 27.9s\n",
      "401:\tlearn: 0.7267172\ttest: 0.8042912\tbest: 0.8042147 (375)\ttotal: 18.8s\tremaining: 27.9s\n",
      "402:\tlearn: 0.7266493\ttest: 0.8043074\tbest: 0.8042147 (375)\ttotal: 18.8s\tremaining: 27.8s\n",
      "403:\tlearn: 0.7264956\ttest: 0.8043289\tbest: 0.8042147 (375)\ttotal: 18.8s\tremaining: 27.8s\n",
      "404:\tlearn: 0.7262411\ttest: 0.8043252\tbest: 0.8042147 (375)\ttotal: 18.9s\tremaining: 27.7s\n",
      "405:\tlearn: 0.7260262\ttest: 0.8043619\tbest: 0.8042147 (375)\ttotal: 18.9s\tremaining: 27.7s\n",
      "406:\tlearn: 0.7259538\ttest: 0.8043587\tbest: 0.8042147 (375)\ttotal: 19s\tremaining: 27.6s\n",
      "407:\tlearn: 0.7258577\ttest: 0.8043607\tbest: 0.8042147 (375)\ttotal: 19s\tremaining: 27.6s\n",
      "408:\tlearn: 0.7257250\ttest: 0.8043401\tbest: 0.8042147 (375)\ttotal: 19.1s\tremaining: 27.5s\n",
      "409:\tlearn: 0.7255673\ttest: 0.8043148\tbest: 0.8042147 (375)\ttotal: 19.1s\tremaining: 27.5s\n",
      "410:\tlearn: 0.7253167\ttest: 0.8043011\tbest: 0.8042147 (375)\ttotal: 19.1s\tremaining: 27.4s\n",
      "411:\tlearn: 0.7250420\ttest: 0.8041707\tbest: 0.8041707 (411)\ttotal: 19.2s\tremaining: 27.4s\n",
      "412:\tlearn: 0.7249011\ttest: 0.8042091\tbest: 0.8041707 (411)\ttotal: 19.2s\tremaining: 27.3s\n",
      "413:\tlearn: 0.7247866\ttest: 0.8041742\tbest: 0.8041707 (411)\ttotal: 19.3s\tremaining: 27.3s\n",
      "414:\tlearn: 0.7246813\ttest: 0.8041714\tbest: 0.8041707 (411)\ttotal: 19.3s\tremaining: 27.2s\n",
      "415:\tlearn: 0.7245517\ttest: 0.8041479\tbest: 0.8041479 (415)\ttotal: 19.4s\tremaining: 27.2s\n",
      "416:\tlearn: 0.7243954\ttest: 0.8041582\tbest: 0.8041479 (415)\ttotal: 19.4s\tremaining: 27.1s\n",
      "417:\tlearn: 0.7242646\ttest: 0.8042036\tbest: 0.8041479 (415)\ttotal: 19.4s\tremaining: 27.1s\n",
      "418:\tlearn: 0.7240641\ttest: 0.8042532\tbest: 0.8041479 (415)\ttotal: 19.5s\tremaining: 27s\n",
      "419:\tlearn: 0.7238831\ttest: 0.8042002\tbest: 0.8041479 (415)\ttotal: 19.5s\tremaining: 27s\n",
      "420:\tlearn: 0.7237759\ttest: 0.8041975\tbest: 0.8041479 (415)\ttotal: 19.6s\tremaining: 26.9s\n",
      "421:\tlearn: 0.7235600\ttest: 0.8041427\tbest: 0.8041427 (421)\ttotal: 19.6s\tremaining: 26.9s\n",
      "422:\tlearn: 0.7234764\ttest: 0.8041870\tbest: 0.8041427 (421)\ttotal: 19.7s\tremaining: 26.8s\n",
      "423:\tlearn: 0.7232519\ttest: 0.8041796\tbest: 0.8041427 (421)\ttotal: 19.7s\tremaining: 26.8s\n",
      "424:\tlearn: 0.7230796\ttest: 0.8041940\tbest: 0.8041427 (421)\ttotal: 19.8s\tremaining: 26.7s\n",
      "425:\tlearn: 0.7229991\ttest: 0.8042247\tbest: 0.8041427 (421)\ttotal: 19.8s\tremaining: 26.7s\n",
      "426:\tlearn: 0.7227968\ttest: 0.8042450\tbest: 0.8041427 (421)\ttotal: 19.9s\tremaining: 26.6s\n",
      "427:\tlearn: 0.7225686\ttest: 0.8042854\tbest: 0.8041427 (421)\ttotal: 19.9s\tremaining: 26.6s\n",
      "428:\tlearn: 0.7224729\ttest: 0.8042590\tbest: 0.8041427 (421)\ttotal: 19.9s\tremaining: 26.6s\n",
      "429:\tlearn: 0.7222853\ttest: 0.8042264\tbest: 0.8041427 (421)\ttotal: 20s\tremaining: 26.5s\n",
      "430:\tlearn: 0.7220753\ttest: 0.8042064\tbest: 0.8041427 (421)\ttotal: 20s\tremaining: 26.5s\n",
      "431:\tlearn: 0.7220042\ttest: 0.8041990\tbest: 0.8041427 (421)\ttotal: 20.1s\tremaining: 26.4s\n",
      "432:\tlearn: 0.7218911\ttest: 0.8042117\tbest: 0.8041427 (421)\ttotal: 20.1s\tremaining: 26.4s\n",
      "433:\tlearn: 0.7217673\ttest: 0.8041633\tbest: 0.8041427 (421)\ttotal: 20.2s\tremaining: 26.3s\n",
      "434:\tlearn: 0.7214784\ttest: 0.8041470\tbest: 0.8041427 (421)\ttotal: 20.2s\tremaining: 26.3s\n",
      "435:\tlearn: 0.7213445\ttest: 0.8041187\tbest: 0.8041187 (435)\ttotal: 20.3s\tremaining: 26.2s\n",
      "436:\tlearn: 0.7212070\ttest: 0.8041217\tbest: 0.8041187 (435)\ttotal: 20.3s\tremaining: 26.2s\n",
      "437:\tlearn: 0.7210852\ttest: 0.8041059\tbest: 0.8041059 (437)\ttotal: 20.4s\tremaining: 26.1s\n",
      "438:\tlearn: 0.7208946\ttest: 0.8040362\tbest: 0.8040362 (438)\ttotal: 20.4s\tremaining: 26.1s\n",
      "439:\tlearn: 0.7207874\ttest: 0.8040042\tbest: 0.8040042 (439)\ttotal: 20.4s\tremaining: 26s\n",
      "440:\tlearn: 0.7206804\ttest: 0.8040132\tbest: 0.8040042 (439)\ttotal: 20.5s\tremaining: 26s\n",
      "441:\tlearn: 0.7204169\ttest: 0.8040370\tbest: 0.8040042 (439)\ttotal: 20.5s\tremaining: 25.9s\n",
      "442:\tlearn: 0.7203585\ttest: 0.8040570\tbest: 0.8040042 (439)\ttotal: 20.6s\tremaining: 25.9s\n",
      "443:\tlearn: 0.7202765\ttest: 0.8040789\tbest: 0.8040042 (439)\ttotal: 20.6s\tremaining: 25.8s\n",
      "444:\tlearn: 0.7201489\ttest: 0.8040895\tbest: 0.8040042 (439)\ttotal: 20.7s\tremaining: 25.8s\n",
      "445:\tlearn: 0.7200138\ttest: 0.8040913\tbest: 0.8040042 (439)\ttotal: 20.7s\tremaining: 25.7s\n",
      "446:\tlearn: 0.7197797\ttest: 0.8041018\tbest: 0.8040042 (439)\ttotal: 20.8s\tremaining: 25.7s\n",
      "447:\tlearn: 0.7196647\ttest: 0.8041254\tbest: 0.8040042 (439)\ttotal: 20.8s\tremaining: 25.6s\n",
      "448:\tlearn: 0.7193387\ttest: 0.8041521\tbest: 0.8040042 (439)\ttotal: 20.9s\tremaining: 25.6s\n",
      "449:\tlearn: 0.7191318\ttest: 0.8041282\tbest: 0.8040042 (439)\ttotal: 20.9s\tremaining: 25.5s\n",
      "450:\tlearn: 0.7189270\ttest: 0.8041689\tbest: 0.8040042 (439)\ttotal: 21s\tremaining: 25.5s\n",
      "451:\tlearn: 0.7188018\ttest: 0.8042007\tbest: 0.8040042 (439)\ttotal: 21s\tremaining: 25.5s\n",
      "452:\tlearn: 0.7185499\ttest: 0.8041607\tbest: 0.8040042 (439)\ttotal: 21s\tremaining: 25.4s\n",
      "453:\tlearn: 0.7183521\ttest: 0.8040997\tbest: 0.8040042 (439)\ttotal: 21.1s\tremaining: 25.4s\n",
      "454:\tlearn: 0.7182021\ttest: 0.8040912\tbest: 0.8040042 (439)\ttotal: 21.1s\tremaining: 25.3s\n",
      "455:\tlearn: 0.7180572\ttest: 0.8040382\tbest: 0.8040042 (439)\ttotal: 21.2s\tremaining: 25.3s\n",
      "456:\tlearn: 0.7178521\ttest: 0.8040194\tbest: 0.8040042 (439)\ttotal: 21.2s\tremaining: 25.2s\n",
      "457:\tlearn: 0.7177131\ttest: 0.8040718\tbest: 0.8040042 (439)\ttotal: 21.3s\tremaining: 25.2s\n",
      "458:\tlearn: 0.7173955\ttest: 0.8040740\tbest: 0.8040042 (439)\ttotal: 21.3s\tremaining: 25.1s\n",
      "459:\tlearn: 0.7172891\ttest: 0.8041083\tbest: 0.8040042 (439)\ttotal: 21.4s\tremaining: 25.1s\n",
      "460:\tlearn: 0.7172048\ttest: 0.8041088\tbest: 0.8040042 (439)\ttotal: 21.4s\tremaining: 25s\n",
      "461:\tlearn: 0.7170275\ttest: 0.8041142\tbest: 0.8040042 (439)\ttotal: 21.5s\tremaining: 25s\n",
      "462:\tlearn: 0.7168533\ttest: 0.8041061\tbest: 0.8040042 (439)\ttotal: 21.5s\tremaining: 24.9s\n",
      "463:\tlearn: 0.7166179\ttest: 0.8041491\tbest: 0.8040042 (439)\ttotal: 21.5s\tremaining: 24.9s\n",
      "464:\tlearn: 0.7163921\ttest: 0.8041658\tbest: 0.8040042 (439)\ttotal: 21.6s\tremaining: 24.8s\n",
      "465:\tlearn: 0.7162326\ttest: 0.8041350\tbest: 0.8040042 (439)\ttotal: 21.6s\tremaining: 24.8s\n",
      "466:\tlearn: 0.7161480\ttest: 0.8041468\tbest: 0.8040042 (439)\ttotal: 21.7s\tremaining: 24.7s\n",
      "467:\tlearn: 0.7159533\ttest: 0.8041906\tbest: 0.8040042 (439)\ttotal: 21.7s\tremaining: 24.7s\n",
      "468:\tlearn: 0.7158676\ttest: 0.8042018\tbest: 0.8040042 (439)\ttotal: 21.8s\tremaining: 24.6s\n",
      "469:\tlearn: 0.7157313\ttest: 0.8042242\tbest: 0.8040042 (439)\ttotal: 21.8s\tremaining: 24.6s\n",
      "470:\tlearn: 0.7155828\ttest: 0.8042725\tbest: 0.8040042 (439)\ttotal: 21.8s\tremaining: 24.5s\n",
      "471:\tlearn: 0.7153323\ttest: 0.8043095\tbest: 0.8040042 (439)\ttotal: 21.9s\tremaining: 24.5s\n",
      "472:\tlearn: 0.7152369\ttest: 0.8043520\tbest: 0.8040042 (439)\ttotal: 21.9s\tremaining: 24.4s\n",
      "473:\tlearn: 0.7151031\ttest: 0.8043315\tbest: 0.8040042 (439)\ttotal: 22s\tremaining: 24.4s\n",
      "474:\tlearn: 0.7150117\ttest: 0.8042902\tbest: 0.8040042 (439)\ttotal: 22s\tremaining: 24.3s\n",
      "475:\tlearn: 0.7148388\ttest: 0.8042935\tbest: 0.8040042 (439)\ttotal: 22.1s\tremaining: 24.3s\n",
      "476:\tlearn: 0.7146535\ttest: 0.8043142\tbest: 0.8040042 (439)\ttotal: 22.1s\tremaining: 24.2s\n",
      "477:\tlearn: 0.7144555\ttest: 0.8042522\tbest: 0.8040042 (439)\ttotal: 22.2s\tremaining: 24.2s\n",
      "478:\tlearn: 0.7142842\ttest: 0.8042410\tbest: 0.8040042 (439)\ttotal: 22.2s\tremaining: 24.2s\n",
      "479:\tlearn: 0.7140604\ttest: 0.8042336\tbest: 0.8040042 (439)\ttotal: 22.3s\tremaining: 24.1s\n",
      "480:\tlearn: 0.7139236\ttest: 0.8042064\tbest: 0.8040042 (439)\ttotal: 22.3s\tremaining: 24.1s\n",
      "481:\tlearn: 0.7136968\ttest: 0.8042124\tbest: 0.8040042 (439)\ttotal: 22.4s\tremaining: 24s\n",
      "482:\tlearn: 0.7135137\ttest: 0.8042263\tbest: 0.8040042 (439)\ttotal: 22.4s\tremaining: 24s\n",
      "483:\tlearn: 0.7134667\ttest: 0.8042323\tbest: 0.8040042 (439)\ttotal: 22.4s\tremaining: 23.9s\n",
      "484:\tlearn: 0.7131847\ttest: 0.8042303\tbest: 0.8040042 (439)\ttotal: 22.5s\tremaining: 23.9s\n",
      "485:\tlearn: 0.7131353\ttest: 0.8042243\tbest: 0.8040042 (439)\ttotal: 22.5s\tremaining: 23.8s\n",
      "486:\tlearn: 0.7130419\ttest: 0.8042546\tbest: 0.8040042 (439)\ttotal: 22.6s\tremaining: 23.8s\n",
      "487:\tlearn: 0.7129374\ttest: 0.8042301\tbest: 0.8040042 (439)\ttotal: 22.6s\tremaining: 23.7s\n",
      "488:\tlearn: 0.7127870\ttest: 0.8042654\tbest: 0.8040042 (439)\ttotal: 22.6s\tremaining: 23.7s\n",
      "489:\tlearn: 0.7127228\ttest: 0.8042398\tbest: 0.8040042 (439)\ttotal: 22.7s\tremaining: 23.6s\n",
      "490:\tlearn: 0.7125143\ttest: 0.8042487\tbest: 0.8040042 (439)\ttotal: 22.7s\tremaining: 23.6s\n",
      "491:\tlearn: 0.7122226\ttest: 0.8041482\tbest: 0.8040042 (439)\ttotal: 22.8s\tremaining: 23.5s\n",
      "492:\tlearn: 0.7121176\ttest: 0.8041581\tbest: 0.8040042 (439)\ttotal: 22.8s\tremaining: 23.5s\n",
      "493:\tlearn: 0.7119198\ttest: 0.8041448\tbest: 0.8040042 (439)\ttotal: 22.9s\tremaining: 23.4s\n",
      "494:\tlearn: 0.7116936\ttest: 0.8041632\tbest: 0.8040042 (439)\ttotal: 22.9s\tremaining: 23.4s\n",
      "495:\tlearn: 0.7115840\ttest: 0.8041596\tbest: 0.8040042 (439)\ttotal: 23s\tremaining: 23.3s\n",
      "496:\tlearn: 0.7114612\ttest: 0.8041193\tbest: 0.8040042 (439)\ttotal: 23s\tremaining: 23.3s\n",
      "497:\tlearn: 0.7113348\ttest: 0.8041240\tbest: 0.8040042 (439)\ttotal: 23.1s\tremaining: 23.2s\n",
      "498:\tlearn: 0.7111880\ttest: 0.8041041\tbest: 0.8040042 (439)\ttotal: 23.1s\tremaining: 23.2s\n",
      "499:\tlearn: 0.7109960\ttest: 0.8041391\tbest: 0.8040042 (439)\ttotal: 23.1s\tremaining: 23.1s\n",
      "500:\tlearn: 0.7109438\ttest: 0.8041383\tbest: 0.8040042 (439)\ttotal: 23.2s\tremaining: 23.1s\n",
      "501:\tlearn: 0.7108631\ttest: 0.8041419\tbest: 0.8040042 (439)\ttotal: 23.2s\tremaining: 23s\n",
      "502:\tlearn: 0.7106461\ttest: 0.8041937\tbest: 0.8040042 (439)\ttotal: 23.3s\tremaining: 23s\n",
      "503:\tlearn: 0.7104707\ttest: 0.8041805\tbest: 0.8040042 (439)\ttotal: 23.3s\tremaining: 22.9s\n",
      "504:\tlearn: 0.7102289\ttest: 0.8041528\tbest: 0.8040042 (439)\ttotal: 23.3s\tremaining: 22.9s\n",
      "505:\tlearn: 0.7101676\ttest: 0.8041651\tbest: 0.8040042 (439)\ttotal: 23.4s\tremaining: 22.8s\n",
      "506:\tlearn: 0.7100805\ttest: 0.8041680\tbest: 0.8040042 (439)\ttotal: 23.4s\tremaining: 22.8s\n",
      "507:\tlearn: 0.7099896\ttest: 0.8041361\tbest: 0.8040042 (439)\ttotal: 23.5s\tremaining: 22.7s\n",
      "508:\tlearn: 0.7097915\ttest: 0.8040881\tbest: 0.8040042 (439)\ttotal: 23.5s\tremaining: 22.7s\n",
      "509:\tlearn: 0.7096290\ttest: 0.8040661\tbest: 0.8040042 (439)\ttotal: 23.6s\tremaining: 22.6s\n",
      "510:\tlearn: 0.7095666\ttest: 0.8040524\tbest: 0.8040042 (439)\ttotal: 23.6s\tremaining: 22.6s\n",
      "511:\tlearn: 0.7094824\ttest: 0.8040592\tbest: 0.8040042 (439)\ttotal: 23.6s\tremaining: 22.5s\n",
      "512:\tlearn: 0.7092225\ttest: 0.8041042\tbest: 0.8040042 (439)\ttotal: 23.7s\tremaining: 22.5s\n",
      "513:\tlearn: 0.7090181\ttest: 0.8040927\tbest: 0.8040042 (439)\ttotal: 23.7s\tremaining: 22.4s\n",
      "514:\tlearn: 0.7088970\ttest: 0.8040919\tbest: 0.8040042 (439)\ttotal: 23.8s\tremaining: 22.4s\n",
      "515:\tlearn: 0.7084994\ttest: 0.8040478\tbest: 0.8040042 (439)\ttotal: 23.8s\tremaining: 22.4s\n",
      "516:\tlearn: 0.7083628\ttest: 0.8040581\tbest: 0.8040042 (439)\ttotal: 23.9s\tremaining: 22.3s\n",
      "517:\tlearn: 0.7081940\ttest: 0.8040774\tbest: 0.8040042 (439)\ttotal: 23.9s\tremaining: 22.3s\n",
      "518:\tlearn: 0.7080272\ttest: 0.8040607\tbest: 0.8040042 (439)\ttotal: 24s\tremaining: 22.2s\n",
      "519:\tlearn: 0.7079218\ttest: 0.8040669\tbest: 0.8040042 (439)\ttotal: 24s\tremaining: 22.2s\n",
      "520:\tlearn: 0.7077651\ttest: 0.8040977\tbest: 0.8040042 (439)\ttotal: 24.1s\tremaining: 22.1s\n",
      "521:\tlearn: 0.7074886\ttest: 0.8040724\tbest: 0.8040042 (439)\ttotal: 24.1s\tremaining: 22.1s\n",
      "522:\tlearn: 0.7072742\ttest: 0.8040568\tbest: 0.8040042 (439)\ttotal: 24.2s\tremaining: 22s\n",
      "523:\tlearn: 0.7071138\ttest: 0.8040387\tbest: 0.8040042 (439)\ttotal: 24.2s\tremaining: 22s\n",
      "524:\tlearn: 0.7070007\ttest: 0.8040488\tbest: 0.8040042 (439)\ttotal: 24.2s\tremaining: 21.9s\n",
      "525:\tlearn: 0.7068859\ttest: 0.8040310\tbest: 0.8040042 (439)\ttotal: 24.3s\tremaining: 21.9s\n",
      "526:\tlearn: 0.7067784\ttest: 0.8040444\tbest: 0.8040042 (439)\ttotal: 24.3s\tremaining: 21.8s\n",
      "527:\tlearn: 0.7065979\ttest: 0.8040629\tbest: 0.8040042 (439)\ttotal: 24.4s\tremaining: 21.8s\n",
      "528:\tlearn: 0.7064808\ttest: 0.8040505\tbest: 0.8040042 (439)\ttotal: 24.4s\tremaining: 21.7s\n",
      "529:\tlearn: 0.7063187\ttest: 0.8039846\tbest: 0.8039846 (529)\ttotal: 24.5s\tremaining: 21.7s\n",
      "530:\tlearn: 0.7060884\ttest: 0.8040002\tbest: 0.8039846 (529)\ttotal: 24.5s\tremaining: 21.6s\n",
      "531:\tlearn: 0.7058049\ttest: 0.8039037\tbest: 0.8039037 (531)\ttotal: 24.6s\tremaining: 21.6s\n",
      "532:\tlearn: 0.7055149\ttest: 0.8039782\tbest: 0.8039037 (531)\ttotal: 24.6s\tremaining: 21.6s\n",
      "533:\tlearn: 0.7054534\ttest: 0.8039932\tbest: 0.8039037 (531)\ttotal: 24.6s\tremaining: 21.5s\n",
      "534:\tlearn: 0.7052798\ttest: 0.8040416\tbest: 0.8039037 (531)\ttotal: 24.7s\tremaining: 21.5s\n",
      "535:\tlearn: 0.7052015\ttest: 0.8040367\tbest: 0.8039037 (531)\ttotal: 24.7s\tremaining: 21.4s\n",
      "536:\tlearn: 0.7050923\ttest: 0.8040775\tbest: 0.8039037 (531)\ttotal: 24.8s\tremaining: 21.4s\n",
      "537:\tlearn: 0.7048752\ttest: 0.8040759\tbest: 0.8039037 (531)\ttotal: 24.8s\tremaining: 21.3s\n",
      "538:\tlearn: 0.7047836\ttest: 0.8040742\tbest: 0.8039037 (531)\ttotal: 24.9s\tremaining: 21.3s\n",
      "539:\tlearn: 0.7046361\ttest: 0.8040137\tbest: 0.8039037 (531)\ttotal: 24.9s\tremaining: 21.2s\n",
      "540:\tlearn: 0.7045777\ttest: 0.8040160\tbest: 0.8039037 (531)\ttotal: 24.9s\tremaining: 21.2s\n",
      "541:\tlearn: 0.7044835\ttest: 0.8039902\tbest: 0.8039037 (531)\ttotal: 25s\tremaining: 21.1s\n",
      "542:\tlearn: 0.7043464\ttest: 0.8040007\tbest: 0.8039037 (531)\ttotal: 25s\tremaining: 21.1s\n",
      "543:\tlearn: 0.7041353\ttest: 0.8039528\tbest: 0.8039037 (531)\ttotal: 25.1s\tremaining: 21s\n",
      "544:\tlearn: 0.7039018\ttest: 0.8039105\tbest: 0.8039037 (531)\ttotal: 25.1s\tremaining: 21s\n",
      "545:\tlearn: 0.7037243\ttest: 0.8039285\tbest: 0.8039037 (531)\ttotal: 25.2s\tremaining: 20.9s\n",
      "546:\tlearn: 0.7036071\ttest: 0.8038741\tbest: 0.8038741 (546)\ttotal: 25.2s\tremaining: 20.9s\n",
      "547:\tlearn: 0.7035285\ttest: 0.8038760\tbest: 0.8038741 (546)\ttotal: 25.3s\tremaining: 20.8s\n",
      "548:\tlearn: 0.7033838\ttest: 0.8039270\tbest: 0.8038741 (546)\ttotal: 25.3s\tremaining: 20.8s\n",
      "549:\tlearn: 0.7032543\ttest: 0.8039776\tbest: 0.8038741 (546)\ttotal: 25.4s\tremaining: 20.7s\n",
      "550:\tlearn: 0.7030852\ttest: 0.8040044\tbest: 0.8038741 (546)\ttotal: 25.4s\tremaining: 20.7s\n",
      "551:\tlearn: 0.7028944\ttest: 0.8040120\tbest: 0.8038741 (546)\ttotal: 25.4s\tremaining: 20.7s\n",
      "552:\tlearn: 0.7027399\ttest: 0.8040221\tbest: 0.8038741 (546)\ttotal: 25.5s\tremaining: 20.6s\n",
      "553:\tlearn: 0.7025965\ttest: 0.8040296\tbest: 0.8038741 (546)\ttotal: 25.5s\tremaining: 20.6s\n",
      "554:\tlearn: 0.7024852\ttest: 0.8040687\tbest: 0.8038741 (546)\ttotal: 25.6s\tremaining: 20.5s\n",
      "555:\tlearn: 0.7024429\ttest: 0.8040652\tbest: 0.8038741 (546)\ttotal: 25.6s\tremaining: 20.5s\n",
      "556:\tlearn: 0.7023943\ttest: 0.8040905\tbest: 0.8038741 (546)\ttotal: 25.6s\tremaining: 20.4s\n",
      "557:\tlearn: 0.7022913\ttest: 0.8040934\tbest: 0.8038741 (546)\ttotal: 25.7s\tremaining: 20.3s\n",
      "558:\tlearn: 0.7021570\ttest: 0.8040576\tbest: 0.8038741 (546)\ttotal: 25.7s\tremaining: 20.3s\n",
      "559:\tlearn: 0.7019269\ttest: 0.8040268\tbest: 0.8038741 (546)\ttotal: 25.8s\tremaining: 20.3s\n",
      "560:\tlearn: 0.7017606\ttest: 0.8040253\tbest: 0.8038741 (546)\ttotal: 25.8s\tremaining: 20.2s\n",
      "561:\tlearn: 0.7015570\ttest: 0.8040649\tbest: 0.8038741 (546)\ttotal: 25.9s\tremaining: 20.2s\n",
      "562:\tlearn: 0.7014405\ttest: 0.8040752\tbest: 0.8038741 (546)\ttotal: 25.9s\tremaining: 20.1s\n",
      "563:\tlearn: 0.7013032\ttest: 0.8041128\tbest: 0.8038741 (546)\ttotal: 26s\tremaining: 20.1s\n",
      "564:\tlearn: 0.7010994\ttest: 0.8041143\tbest: 0.8038741 (546)\ttotal: 26s\tremaining: 20s\n",
      "565:\tlearn: 0.7009843\ttest: 0.8041254\tbest: 0.8038741 (546)\ttotal: 26.1s\tremaining: 20s\n",
      "566:\tlearn: 0.7008144\ttest: 0.8041055\tbest: 0.8038741 (546)\ttotal: 26.1s\tremaining: 19.9s\n",
      "567:\tlearn: 0.7006836\ttest: 0.8040410\tbest: 0.8038741 (546)\ttotal: 26.1s\tremaining: 19.9s\n",
      "568:\tlearn: 0.7004915\ttest: 0.8040740\tbest: 0.8038741 (546)\ttotal: 26.2s\tremaining: 19.8s\n",
      "569:\tlearn: 0.7003887\ttest: 0.8040479\tbest: 0.8038741 (546)\ttotal: 26.2s\tremaining: 19.8s\n",
      "570:\tlearn: 0.7001949\ttest: 0.8040753\tbest: 0.8038741 (546)\ttotal: 26.3s\tremaining: 19.7s\n",
      "571:\tlearn: 0.7000932\ttest: 0.8040678\tbest: 0.8038741 (546)\ttotal: 26.3s\tremaining: 19.7s\n",
      "572:\tlearn: 0.6999708\ttest: 0.8040368\tbest: 0.8038741 (546)\ttotal: 26.4s\tremaining: 19.6s\n",
      "573:\tlearn: 0.6997415\ttest: 0.8040258\tbest: 0.8038741 (546)\ttotal: 26.4s\tremaining: 19.6s\n",
      "574:\tlearn: 0.6994926\ttest: 0.8040194\tbest: 0.8038741 (546)\ttotal: 26.5s\tremaining: 19.6s\n",
      "575:\tlearn: 0.6994466\ttest: 0.8040362\tbest: 0.8038741 (546)\ttotal: 26.5s\tremaining: 19.5s\n",
      "576:\tlearn: 0.6992409\ttest: 0.8040454\tbest: 0.8038741 (546)\ttotal: 26.6s\tremaining: 19.5s\n",
      "577:\tlearn: 0.6989495\ttest: 0.8039767\tbest: 0.8038741 (546)\ttotal: 26.6s\tremaining: 19.4s\n",
      "578:\tlearn: 0.6988822\ttest: 0.8039941\tbest: 0.8038741 (546)\ttotal: 26.6s\tremaining: 19.4s\n",
      "579:\tlearn: 0.6986410\ttest: 0.8039784\tbest: 0.8038741 (546)\ttotal: 26.7s\tremaining: 19.3s\n",
      "580:\tlearn: 0.6985119\ttest: 0.8039770\tbest: 0.8038741 (546)\ttotal: 26.7s\tremaining: 19.3s\n",
      "581:\tlearn: 0.6984266\ttest: 0.8039949\tbest: 0.8038741 (546)\ttotal: 26.8s\tremaining: 19.2s\n",
      "582:\tlearn: 0.6982864\ttest: 0.8040431\tbest: 0.8038741 (546)\ttotal: 26.8s\tremaining: 19.2s\n",
      "583:\tlearn: 0.6981758\ttest: 0.8040436\tbest: 0.8038741 (546)\ttotal: 26.9s\tremaining: 19.1s\n",
      "584:\tlearn: 0.6980870\ttest: 0.8040524\tbest: 0.8038741 (546)\ttotal: 26.9s\tremaining: 19.1s\n",
      "585:\tlearn: 0.6979633\ttest: 0.8040766\tbest: 0.8038741 (546)\ttotal: 26.9s\tremaining: 19s\n",
      "586:\tlearn: 0.6977114\ttest: 0.8040875\tbest: 0.8038741 (546)\ttotal: 27s\tremaining: 19s\n",
      "587:\tlearn: 0.6975905\ttest: 0.8040552\tbest: 0.8038741 (546)\ttotal: 27s\tremaining: 18.9s\n",
      "588:\tlearn: 0.6974673\ttest: 0.8040785\tbest: 0.8038741 (546)\ttotal: 27.1s\tremaining: 18.9s\n",
      "589:\tlearn: 0.6973794\ttest: 0.8041012\tbest: 0.8038741 (546)\ttotal: 27.1s\tremaining: 18.8s\n",
      "590:\tlearn: 0.6971995\ttest: 0.8040568\tbest: 0.8038741 (546)\ttotal: 27.2s\tremaining: 18.8s\n",
      "591:\tlearn: 0.6970126\ttest: 0.8040856\tbest: 0.8038741 (546)\ttotal: 27.2s\tremaining: 18.8s\n",
      "592:\tlearn: 0.6969577\ttest: 0.8041209\tbest: 0.8038741 (546)\ttotal: 27.3s\tremaining: 18.7s\n",
      "593:\tlearn: 0.6968030\ttest: 0.8041471\tbest: 0.8038741 (546)\ttotal: 27.3s\tremaining: 18.7s\n",
      "594:\tlearn: 0.6966307\ttest: 0.8041812\tbest: 0.8038741 (546)\ttotal: 27.4s\tremaining: 18.6s\n",
      "595:\tlearn: 0.6965262\ttest: 0.8041980\tbest: 0.8038741 (546)\ttotal: 27.4s\tremaining: 18.6s\n",
      "596:\tlearn: 0.6963714\ttest: 0.8042031\tbest: 0.8038741 (546)\ttotal: 27.4s\tremaining: 18.5s\n",
      "597:\tlearn: 0.6962104\ttest: 0.8042239\tbest: 0.8038741 (546)\ttotal: 27.5s\tremaining: 18.5s\n",
      "598:\tlearn: 0.6960750\ttest: 0.8042904\tbest: 0.8038741 (546)\ttotal: 27.5s\tremaining: 18.4s\n",
      "599:\tlearn: 0.6959011\ttest: 0.8042951\tbest: 0.8038741 (546)\ttotal: 27.6s\tremaining: 18.4s\n",
      "600:\tlearn: 0.6957733\ttest: 0.8043104\tbest: 0.8038741 (546)\ttotal: 27.6s\tremaining: 18.3s\n",
      "601:\tlearn: 0.6956710\ttest: 0.8043180\tbest: 0.8038741 (546)\ttotal: 27.7s\tremaining: 18.3s\n",
      "602:\tlearn: 0.6954688\ttest: 0.8042980\tbest: 0.8038741 (546)\ttotal: 27.7s\tremaining: 18.2s\n",
      "603:\tlearn: 0.6953551\ttest: 0.8043313\tbest: 0.8038741 (546)\ttotal: 27.8s\tremaining: 18.2s\n",
      "604:\tlearn: 0.6952307\ttest: 0.8043374\tbest: 0.8038741 (546)\ttotal: 27.8s\tremaining: 18.1s\n",
      "605:\tlearn: 0.6950513\ttest: 0.8043581\tbest: 0.8038741 (546)\ttotal: 27.8s\tremaining: 18.1s\n",
      "606:\tlearn: 0.6947438\ttest: 0.8044300\tbest: 0.8038741 (546)\ttotal: 27.9s\tremaining: 18.1s\n",
      "607:\tlearn: 0.6944691\ttest: 0.8044804\tbest: 0.8038741 (546)\ttotal: 27.9s\tremaining: 18s\n",
      "608:\tlearn: 0.6943840\ttest: 0.8044965\tbest: 0.8038741 (546)\ttotal: 28s\tremaining: 18s\n",
      "609:\tlearn: 0.6943217\ttest: 0.8044756\tbest: 0.8038741 (546)\ttotal: 28s\tremaining: 17.9s\n",
      "610:\tlearn: 0.6941847\ttest: 0.8045226\tbest: 0.8038741 (546)\ttotal: 28.1s\tremaining: 17.9s\n",
      "611:\tlearn: 0.6939298\ttest: 0.8045796\tbest: 0.8038741 (546)\ttotal: 28.1s\tremaining: 17.8s\n",
      "612:\tlearn: 0.6937686\ttest: 0.8045159\tbest: 0.8038741 (546)\ttotal: 28.2s\tremaining: 17.8s\n",
      "613:\tlearn: 0.6936953\ttest: 0.8045079\tbest: 0.8038741 (546)\ttotal: 28.2s\tremaining: 17.7s\n",
      "614:\tlearn: 0.6935463\ttest: 0.8045192\tbest: 0.8038741 (546)\ttotal: 28.2s\tremaining: 17.7s\n",
      "615:\tlearn: 0.6933204\ttest: 0.8044984\tbest: 0.8038741 (546)\ttotal: 28.3s\tremaining: 17.6s\n",
      "616:\tlearn: 0.6930909\ttest: 0.8044500\tbest: 0.8038741 (546)\ttotal: 28.4s\tremaining: 17.6s\n",
      "617:\tlearn: 0.6929889\ttest: 0.8044396\tbest: 0.8038741 (546)\ttotal: 28.4s\tremaining: 17.6s\n",
      "618:\tlearn: 0.6928508\ttest: 0.8044488\tbest: 0.8038741 (546)\ttotal: 28.4s\tremaining: 17.5s\n",
      "619:\tlearn: 0.6928236\ttest: 0.8044268\tbest: 0.8038741 (546)\ttotal: 28.5s\tremaining: 17.5s\n",
      "620:\tlearn: 0.6926669\ttest: 0.8044471\tbest: 0.8038741 (546)\ttotal: 28.5s\tremaining: 17.4s\n",
      "621:\tlearn: 0.6926066\ttest: 0.8044355\tbest: 0.8038741 (546)\ttotal: 28.6s\tremaining: 17.4s\n",
      "622:\tlearn: 0.6925274\ttest: 0.8044395\tbest: 0.8038741 (546)\ttotal: 28.6s\tremaining: 17.3s\n",
      "623:\tlearn: 0.6924023\ttest: 0.8044540\tbest: 0.8038741 (546)\ttotal: 28.6s\tremaining: 17.3s\n",
      "624:\tlearn: 0.6922361\ttest: 0.8044528\tbest: 0.8038741 (546)\ttotal: 28.7s\tremaining: 17.2s\n",
      "625:\tlearn: 0.6919646\ttest: 0.8045030\tbest: 0.8038741 (546)\ttotal: 28.7s\tremaining: 17.2s\n",
      "626:\tlearn: 0.6918869\ttest: 0.8044992\tbest: 0.8038741 (546)\ttotal: 28.8s\tremaining: 17.1s\n",
      "627:\tlearn: 0.6917719\ttest: 0.8045122\tbest: 0.8038741 (546)\ttotal: 28.8s\tremaining: 17.1s\n",
      "628:\tlearn: 0.6916094\ttest: 0.8045370\tbest: 0.8038741 (546)\ttotal: 28.9s\tremaining: 17s\n",
      "629:\tlearn: 0.6914990\ttest: 0.8045572\tbest: 0.8038741 (546)\ttotal: 28.9s\tremaining: 17s\n",
      "630:\tlearn: 0.6912293\ttest: 0.8045602\tbest: 0.8038741 (546)\ttotal: 29s\tremaining: 16.9s\n",
      "631:\tlearn: 0.6910610\ttest: 0.8045449\tbest: 0.8038741 (546)\ttotal: 29s\tremaining: 16.9s\n",
      "632:\tlearn: 0.6909521\ttest: 0.8045632\tbest: 0.8038741 (546)\ttotal: 29.1s\tremaining: 16.9s\n",
      "633:\tlearn: 0.6908445\ttest: 0.8045509\tbest: 0.8038741 (546)\ttotal: 29.1s\tremaining: 16.8s\n",
      "634:\tlearn: 0.6906960\ttest: 0.8045624\tbest: 0.8038741 (546)\ttotal: 29.1s\tremaining: 16.8s\n",
      "635:\tlearn: 0.6904872\ttest: 0.8045896\tbest: 0.8038741 (546)\ttotal: 29.2s\tremaining: 16.7s\n",
      "636:\tlearn: 0.6904016\ttest: 0.8046100\tbest: 0.8038741 (546)\ttotal: 29.2s\tremaining: 16.7s\n",
      "637:\tlearn: 0.6902788\ttest: 0.8045980\tbest: 0.8038741 (546)\ttotal: 29.3s\tremaining: 16.6s\n",
      "638:\tlearn: 0.6901390\ttest: 0.8045506\tbest: 0.8038741 (546)\ttotal: 29.3s\tremaining: 16.6s\n",
      "639:\tlearn: 0.6899625\ttest: 0.8045379\tbest: 0.8038741 (546)\ttotal: 29.4s\tremaining: 16.5s\n",
      "640:\tlearn: 0.6898707\ttest: 0.8045947\tbest: 0.8038741 (546)\ttotal: 29.4s\tremaining: 16.5s\n",
      "641:\tlearn: 0.6896996\ttest: 0.8046414\tbest: 0.8038741 (546)\ttotal: 29.5s\tremaining: 16.4s\n",
      "642:\tlearn: 0.6894252\ttest: 0.8046443\tbest: 0.8038741 (546)\ttotal: 29.5s\tremaining: 16.4s\n",
      "643:\tlearn: 0.6892952\ttest: 0.8046518\tbest: 0.8038741 (546)\ttotal: 29.6s\tremaining: 16.4s\n",
      "644:\tlearn: 0.6891740\ttest: 0.8046518\tbest: 0.8038741 (546)\ttotal: 29.6s\tremaining: 16.3s\n",
      "645:\tlearn: 0.6890622\ttest: 0.8046622\tbest: 0.8038741 (546)\ttotal: 29.7s\tremaining: 16.3s\n",
      "646:\tlearn: 0.6888855\ttest: 0.8046250\tbest: 0.8038741 (546)\ttotal: 29.7s\tremaining: 16.2s\n",
      "647:\tlearn: 0.6887729\ttest: 0.8046183\tbest: 0.8038741 (546)\ttotal: 29.7s\tremaining: 16.2s\n",
      "648:\tlearn: 0.6886470\ttest: 0.8046560\tbest: 0.8038741 (546)\ttotal: 29.8s\tremaining: 16.1s\n",
      "649:\tlearn: 0.6885545\ttest: 0.8046612\tbest: 0.8038741 (546)\ttotal: 29.8s\tremaining: 16.1s\n",
      "650:\tlearn: 0.6884294\ttest: 0.8046699\tbest: 0.8038741 (546)\ttotal: 29.9s\tremaining: 16s\n",
      "651:\tlearn: 0.6883210\ttest: 0.8046493\tbest: 0.8038741 (546)\ttotal: 29.9s\tremaining: 16s\n",
      "652:\tlearn: 0.6881165\ttest: 0.8046291\tbest: 0.8038741 (546)\ttotal: 30s\tremaining: 15.9s\n",
      "653:\tlearn: 0.6880136\ttest: 0.8046638\tbest: 0.8038741 (546)\ttotal: 30s\tremaining: 15.9s\n",
      "654:\tlearn: 0.6879426\ttest: 0.8046411\tbest: 0.8038741 (546)\ttotal: 30.1s\tremaining: 15.8s\n",
      "655:\tlearn: 0.6877595\ttest: 0.8046369\tbest: 0.8038741 (546)\ttotal: 30.1s\tremaining: 15.8s\n",
      "656:\tlearn: 0.6876724\ttest: 0.8046386\tbest: 0.8038741 (546)\ttotal: 30.2s\tremaining: 15.7s\n",
      "657:\tlearn: 0.6875360\ttest: 0.8046604\tbest: 0.8038741 (546)\ttotal: 30.2s\tremaining: 15.7s\n",
      "658:\tlearn: 0.6873247\ttest: 0.8046656\tbest: 0.8038741 (546)\ttotal: 30.2s\tremaining: 15.7s\n",
      "659:\tlearn: 0.6872210\ttest: 0.8046736\tbest: 0.8038741 (546)\ttotal: 30.3s\tremaining: 15.6s\n",
      "660:\tlearn: 0.6870902\ttest: 0.8046941\tbest: 0.8038741 (546)\ttotal: 30.3s\tremaining: 15.6s\n",
      "661:\tlearn: 0.6870081\ttest: 0.8047245\tbest: 0.8038741 (546)\ttotal: 30.4s\tremaining: 15.5s\n",
      "662:\tlearn: 0.6868744\ttest: 0.8047308\tbest: 0.8038741 (546)\ttotal: 30.4s\tremaining: 15.5s\n",
      "663:\tlearn: 0.6867353\ttest: 0.8047424\tbest: 0.8038741 (546)\ttotal: 30.5s\tremaining: 15.4s\n",
      "664:\tlearn: 0.6865392\ttest: 0.8047477\tbest: 0.8038741 (546)\ttotal: 30.5s\tremaining: 15.4s\n",
      "665:\tlearn: 0.6864183\ttest: 0.8047529\tbest: 0.8038741 (546)\ttotal: 30.6s\tremaining: 15.3s\n",
      "666:\tlearn: 0.6862817\ttest: 0.8047488\tbest: 0.8038741 (546)\ttotal: 30.6s\tremaining: 15.3s\n",
      "667:\tlearn: 0.6860596\ttest: 0.8047408\tbest: 0.8038741 (546)\ttotal: 30.7s\tremaining: 15.2s\n",
      "668:\tlearn: 0.6859032\ttest: 0.8047484\tbest: 0.8038741 (546)\ttotal: 30.7s\tremaining: 15.2s\n",
      "669:\tlearn: 0.6857925\ttest: 0.8047632\tbest: 0.8038741 (546)\ttotal: 30.8s\tremaining: 15.1s\n",
      "670:\tlearn: 0.6856730\ttest: 0.8047458\tbest: 0.8038741 (546)\ttotal: 30.8s\tremaining: 15.1s\n",
      "671:\tlearn: 0.6855232\ttest: 0.8047393\tbest: 0.8038741 (546)\ttotal: 30.8s\tremaining: 15.1s\n",
      "672:\tlearn: 0.6852864\ttest: 0.8047294\tbest: 0.8038741 (546)\ttotal: 30.9s\tremaining: 15s\n",
      "673:\tlearn: 0.6851104\ttest: 0.8047550\tbest: 0.8038741 (546)\ttotal: 30.9s\tremaining: 15s\n",
      "674:\tlearn: 0.6849249\ttest: 0.8047553\tbest: 0.8038741 (546)\ttotal: 31s\tremaining: 14.9s\n",
      "675:\tlearn: 0.6847674\ttest: 0.8047855\tbest: 0.8038741 (546)\ttotal: 31s\tremaining: 14.9s\n",
      "676:\tlearn: 0.6845961\ttest: 0.8047984\tbest: 0.8038741 (546)\ttotal: 31.1s\tremaining: 14.8s\n",
      "677:\tlearn: 0.6844239\ttest: 0.8049370\tbest: 0.8038741 (546)\ttotal: 31.1s\tremaining: 14.8s\n",
      "678:\tlearn: 0.6842934\ttest: 0.8049547\tbest: 0.8038741 (546)\ttotal: 31.2s\tremaining: 14.7s\n",
      "679:\tlearn: 0.6841662\ttest: 0.8049860\tbest: 0.8038741 (546)\ttotal: 31.2s\tremaining: 14.7s\n",
      "680:\tlearn: 0.6839466\ttest: 0.8049712\tbest: 0.8038741 (546)\ttotal: 31.3s\tremaining: 14.6s\n",
      "681:\tlearn: 0.6838355\ttest: 0.8049815\tbest: 0.8038741 (546)\ttotal: 31.3s\tremaining: 14.6s\n",
      "682:\tlearn: 0.6837421\ttest: 0.8049681\tbest: 0.8038741 (546)\ttotal: 31.4s\tremaining: 14.6s\n",
      "683:\tlearn: 0.6834689\ttest: 0.8048651\tbest: 0.8038741 (546)\ttotal: 31.4s\tremaining: 14.5s\n",
      "684:\tlearn: 0.6834420\ttest: 0.8048598\tbest: 0.8038741 (546)\ttotal: 31.4s\tremaining: 14.5s\n",
      "685:\tlearn: 0.6833104\ttest: 0.8048635\tbest: 0.8038741 (546)\ttotal: 31.5s\tremaining: 14.4s\n",
      "686:\tlearn: 0.6832306\ttest: 0.8048413\tbest: 0.8038741 (546)\ttotal: 31.5s\tremaining: 14.4s\n",
      "687:\tlearn: 0.6831627\ttest: 0.8048319\tbest: 0.8038741 (546)\ttotal: 31.6s\tremaining: 14.3s\n",
      "688:\tlearn: 0.6828642\ttest: 0.8048872\tbest: 0.8038741 (546)\ttotal: 31.6s\tremaining: 14.3s\n",
      "689:\tlearn: 0.6826991\ttest: 0.8049470\tbest: 0.8038741 (546)\ttotal: 31.7s\tremaining: 14.2s\n",
      "690:\tlearn: 0.6825775\ttest: 0.8049801\tbest: 0.8038741 (546)\ttotal: 31.7s\tremaining: 14.2s\n",
      "691:\tlearn: 0.6825173\ttest: 0.8050215\tbest: 0.8038741 (546)\ttotal: 31.7s\tremaining: 14.1s\n",
      "692:\tlearn: 0.6823556\ttest: 0.8050310\tbest: 0.8038741 (546)\ttotal: 31.8s\tremaining: 14.1s\n",
      "693:\tlearn: 0.6822717\ttest: 0.8050236\tbest: 0.8038741 (546)\ttotal: 31.8s\tremaining: 14s\n",
      "694:\tlearn: 0.6820907\ttest: 0.8050885\tbest: 0.8038741 (546)\ttotal: 31.9s\tremaining: 14s\n",
      "695:\tlearn: 0.6819771\ttest: 0.8051102\tbest: 0.8038741 (546)\ttotal: 31.9s\tremaining: 13.9s\n",
      "696:\tlearn: 0.6817433\ttest: 0.8051046\tbest: 0.8038741 (546)\ttotal: 32s\tremaining: 13.9s\n",
      "697:\tlearn: 0.6816551\ttest: 0.8051469\tbest: 0.8038741 (546)\ttotal: 32s\tremaining: 13.8s\n",
      "698:\tlearn: 0.6814953\ttest: 0.8051488\tbest: 0.8038741 (546)\ttotal: 32.1s\tremaining: 13.8s\n",
      "699:\tlearn: 0.6814319\ttest: 0.8051527\tbest: 0.8038741 (546)\ttotal: 32.1s\tremaining: 13.8s\n",
      "700:\tlearn: 0.6814074\ttest: 0.8051634\tbest: 0.8038741 (546)\ttotal: 32.1s\tremaining: 13.7s\n",
      "701:\tlearn: 0.6812677\ttest: 0.8051834\tbest: 0.8038741 (546)\ttotal: 32.2s\tremaining: 13.7s\n",
      "702:\tlearn: 0.6811880\ttest: 0.8052117\tbest: 0.8038741 (546)\ttotal: 32.2s\tremaining: 13.6s\n",
      "703:\tlearn: 0.6809298\ttest: 0.8051927\tbest: 0.8038741 (546)\ttotal: 32.3s\tremaining: 13.6s\n",
      "704:\tlearn: 0.6808249\ttest: 0.8051986\tbest: 0.8038741 (546)\ttotal: 32.3s\tremaining: 13.5s\n",
      "705:\tlearn: 0.6806053\ttest: 0.8052184\tbest: 0.8038741 (546)\ttotal: 32.4s\tremaining: 13.5s\n",
      "706:\tlearn: 0.6804613\ttest: 0.8052193\tbest: 0.8038741 (546)\ttotal: 32.4s\tremaining: 13.4s\n",
      "707:\tlearn: 0.6802908\ttest: 0.8051946\tbest: 0.8038741 (546)\ttotal: 32.5s\tremaining: 13.4s\n",
      "708:\tlearn: 0.6801989\ttest: 0.8052151\tbest: 0.8038741 (546)\ttotal: 32.5s\tremaining: 13.3s\n",
      "709:\tlearn: 0.6801177\ttest: 0.8052322\tbest: 0.8038741 (546)\ttotal: 32.5s\tremaining: 13.3s\n",
      "710:\tlearn: 0.6799872\ttest: 0.8052331\tbest: 0.8038741 (546)\ttotal: 32.6s\tremaining: 13.2s\n",
      "711:\tlearn: 0.6798669\ttest: 0.8052357\tbest: 0.8038741 (546)\ttotal: 32.6s\tremaining: 13.2s\n",
      "712:\tlearn: 0.6795906\ttest: 0.8052685\tbest: 0.8038741 (546)\ttotal: 32.7s\tremaining: 13.2s\n",
      "713:\tlearn: 0.6795371\ttest: 0.8053031\tbest: 0.8038741 (546)\ttotal: 32.7s\tremaining: 13.1s\n",
      "714:\tlearn: 0.6794826\ttest: 0.8052999\tbest: 0.8038741 (546)\ttotal: 32.8s\tremaining: 13.1s\n",
      "715:\tlearn: 0.6793765\ttest: 0.8052838\tbest: 0.8038741 (546)\ttotal: 32.8s\tremaining: 13s\n",
      "716:\tlearn: 0.6793288\ttest: 0.8052794\tbest: 0.8038741 (546)\ttotal: 32.8s\tremaining: 13s\n",
      "717:\tlearn: 0.6791779\ttest: 0.8052630\tbest: 0.8038741 (546)\ttotal: 32.9s\tremaining: 12.9s\n",
      "718:\tlearn: 0.6790263\ttest: 0.8052621\tbest: 0.8038741 (546)\ttotal: 32.9s\tremaining: 12.9s\n",
      "719:\tlearn: 0.6788868\ttest: 0.8052835\tbest: 0.8038741 (546)\ttotal: 33s\tremaining: 12.8s\n",
      "720:\tlearn: 0.6787813\ttest: 0.8052734\tbest: 0.8038741 (546)\ttotal: 33s\tremaining: 12.8s\n",
      "721:\tlearn: 0.6785935\ttest: 0.8052998\tbest: 0.8038741 (546)\ttotal: 33.1s\tremaining: 12.7s\n",
      "722:\tlearn: 0.6785123\ttest: 0.8052782\tbest: 0.8038741 (546)\ttotal: 33.1s\tremaining: 12.7s\n",
      "723:\tlearn: 0.6783332\ttest: 0.8053192\tbest: 0.8038741 (546)\ttotal: 33.2s\tremaining: 12.6s\n",
      "724:\tlearn: 0.6782589\ttest: 0.8053207\tbest: 0.8038741 (546)\ttotal: 33.2s\tremaining: 12.6s\n",
      "725:\tlearn: 0.6780764\ttest: 0.8053271\tbest: 0.8038741 (546)\ttotal: 33.2s\tremaining: 12.5s\n",
      "726:\tlearn: 0.6778330\ttest: 0.8053201\tbest: 0.8038741 (546)\ttotal: 33.3s\tremaining: 12.5s\n",
      "727:\tlearn: 0.6776783\ttest: 0.8053840\tbest: 0.8038741 (546)\ttotal: 33.3s\tremaining: 12.5s\n",
      "728:\tlearn: 0.6774736\ttest: 0.8053987\tbest: 0.8038741 (546)\ttotal: 33.4s\tremaining: 12.4s\n",
      "729:\tlearn: 0.6773837\ttest: 0.8054606\tbest: 0.8038741 (546)\ttotal: 33.4s\tremaining: 12.4s\n",
      "730:\tlearn: 0.6772575\ttest: 0.8054605\tbest: 0.8038741 (546)\ttotal: 33.5s\tremaining: 12.3s\n",
      "731:\tlearn: 0.6771439\ttest: 0.8054730\tbest: 0.8038741 (546)\ttotal: 33.5s\tremaining: 12.3s\n",
      "732:\tlearn: 0.6769707\ttest: 0.8054980\tbest: 0.8038741 (546)\ttotal: 33.6s\tremaining: 12.2s\n",
      "733:\tlearn: 0.6767946\ttest: 0.8054947\tbest: 0.8038741 (546)\ttotal: 33.6s\tremaining: 12.2s\n",
      "734:\tlearn: 0.6766016\ttest: 0.8055391\tbest: 0.8038741 (546)\ttotal: 33.7s\tremaining: 12.1s\n",
      "735:\tlearn: 0.6764356\ttest: 0.8055415\tbest: 0.8038741 (546)\ttotal: 33.7s\tremaining: 12.1s\n",
      "736:\tlearn: 0.6763039\ttest: 0.8055292\tbest: 0.8038741 (546)\ttotal: 33.8s\tremaining: 12.1s\n",
      "737:\tlearn: 0.6761839\ttest: 0.8055526\tbest: 0.8038741 (546)\ttotal: 33.8s\tremaining: 12s\n",
      "738:\tlearn: 0.6759722\ttest: 0.8055222\tbest: 0.8038741 (546)\ttotal: 33.9s\tremaining: 12s\n",
      "739:\tlearn: 0.6759200\ttest: 0.8055098\tbest: 0.8038741 (546)\ttotal: 33.9s\tremaining: 11.9s\n",
      "740:\tlearn: 0.6757473\ttest: 0.8054734\tbest: 0.8038741 (546)\ttotal: 33.9s\tremaining: 11.9s\n",
      "741:\tlearn: 0.6756173\ttest: 0.8054473\tbest: 0.8038741 (546)\ttotal: 34s\tremaining: 11.8s\n",
      "742:\tlearn: 0.6755500\ttest: 0.8054623\tbest: 0.8038741 (546)\ttotal: 34s\tremaining: 11.8s\n",
      "743:\tlearn: 0.6753945\ttest: 0.8054832\tbest: 0.8038741 (546)\ttotal: 34.1s\tremaining: 11.7s\n",
      "744:\tlearn: 0.6751508\ttest: 0.8054862\tbest: 0.8038741 (546)\ttotal: 34.1s\tremaining: 11.7s\n",
      "745:\tlearn: 0.6750591\ttest: 0.8054734\tbest: 0.8038741 (546)\ttotal: 34.2s\tremaining: 11.6s\n",
      "746:\tlearn: 0.6748988\ttest: 0.8054544\tbest: 0.8038741 (546)\ttotal: 34.2s\tremaining: 11.6s\n",
      "747:\tlearn: 0.6748190\ttest: 0.8054673\tbest: 0.8038741 (546)\ttotal: 34.3s\tremaining: 11.5s\n",
      "748:\tlearn: 0.6747091\ttest: 0.8054840\tbest: 0.8038741 (546)\ttotal: 34.3s\tremaining: 11.5s\n",
      "749:\tlearn: 0.6745994\ttest: 0.8054820\tbest: 0.8038741 (546)\ttotal: 34.3s\tremaining: 11.4s\n",
      "750:\tlearn: 0.6744550\ttest: 0.8055090\tbest: 0.8038741 (546)\ttotal: 34.4s\tremaining: 11.4s\n",
      "751:\tlearn: 0.6742844\ttest: 0.8055175\tbest: 0.8038741 (546)\ttotal: 34.4s\tremaining: 11.4s\n",
      "752:\tlearn: 0.6741465\ttest: 0.8055652\tbest: 0.8038741 (546)\ttotal: 34.5s\tremaining: 11.3s\n",
      "753:\tlearn: 0.6740133\ttest: 0.8055258\tbest: 0.8038741 (546)\ttotal: 34.5s\tremaining: 11.3s\n",
      "754:\tlearn: 0.6738070\ttest: 0.8055157\tbest: 0.8038741 (546)\ttotal: 34.6s\tremaining: 11.2s\n",
      "755:\tlearn: 0.6736609\ttest: 0.8054857\tbest: 0.8038741 (546)\ttotal: 34.6s\tremaining: 11.2s\n",
      "756:\tlearn: 0.6735739\ttest: 0.8055124\tbest: 0.8038741 (546)\ttotal: 34.7s\tremaining: 11.1s\n",
      "757:\tlearn: 0.6733582\ttest: 0.8055742\tbest: 0.8038741 (546)\ttotal: 34.7s\tremaining: 11.1s\n",
      "758:\tlearn: 0.6732587\ttest: 0.8055591\tbest: 0.8038741 (546)\ttotal: 34.8s\tremaining: 11s\n",
      "759:\tlearn: 0.6731704\ttest: 0.8055758\tbest: 0.8038741 (546)\ttotal: 34.8s\tremaining: 11s\n",
      "760:\tlearn: 0.6730306\ttest: 0.8055468\tbest: 0.8038741 (546)\ttotal: 34.9s\tremaining: 10.9s\n",
      "761:\tlearn: 0.6728183\ttest: 0.8056247\tbest: 0.8038741 (546)\ttotal: 34.9s\tremaining: 10.9s\n",
      "762:\tlearn: 0.6726826\ttest: 0.8056619\tbest: 0.8038741 (546)\ttotal: 35s\tremaining: 10.9s\n",
      "763:\tlearn: 0.6724506\ttest: 0.8057075\tbest: 0.8038741 (546)\ttotal: 35s\tremaining: 10.8s\n",
      "764:\tlearn: 0.6723593\ttest: 0.8057120\tbest: 0.8038741 (546)\ttotal: 35s\tremaining: 10.8s\n",
      "765:\tlearn: 0.6721855\ttest: 0.8057442\tbest: 0.8038741 (546)\ttotal: 35.1s\tremaining: 10.7s\n",
      "766:\tlearn: 0.6719780\ttest: 0.8057131\tbest: 0.8038741 (546)\ttotal: 35.1s\tremaining: 10.7s\n",
      "767:\tlearn: 0.6718573\ttest: 0.8057020\tbest: 0.8038741 (546)\ttotal: 35.2s\tremaining: 10.6s\n",
      "768:\tlearn: 0.6716516\ttest: 0.8057253\tbest: 0.8038741 (546)\ttotal: 35.2s\tremaining: 10.6s\n",
      "769:\tlearn: 0.6715671\ttest: 0.8057559\tbest: 0.8038741 (546)\ttotal: 35.3s\tremaining: 10.5s\n",
      "770:\tlearn: 0.6714430\ttest: 0.8057529\tbest: 0.8038741 (546)\ttotal: 35.3s\tremaining: 10.5s\n",
      "771:\tlearn: 0.6712922\ttest: 0.8057498\tbest: 0.8038741 (546)\ttotal: 35.4s\tremaining: 10.4s\n",
      "772:\tlearn: 0.6710946\ttest: 0.8057393\tbest: 0.8038741 (546)\ttotal: 35.4s\tremaining: 10.4s\n",
      "773:\tlearn: 0.6709744\ttest: 0.8057467\tbest: 0.8038741 (546)\ttotal: 35.5s\tremaining: 10.4s\n",
      "774:\tlearn: 0.6708024\ttest: 0.8057509\tbest: 0.8038741 (546)\ttotal: 35.5s\tremaining: 10.3s\n",
      "775:\tlearn: 0.6706453\ttest: 0.8057296\tbest: 0.8038741 (546)\ttotal: 35.6s\tremaining: 10.3s\n",
      "776:\tlearn: 0.6705357\ttest: 0.8057040\tbest: 0.8038741 (546)\ttotal: 35.6s\tremaining: 10.2s\n",
      "777:\tlearn: 0.6703079\ttest: 0.8057657\tbest: 0.8038741 (546)\ttotal: 35.7s\tremaining: 10.2s\n",
      "778:\tlearn: 0.6702056\ttest: 0.8057301\tbest: 0.8038741 (546)\ttotal: 35.7s\tremaining: 10.1s\n",
      "779:\tlearn: 0.6700409\ttest: 0.8057163\tbest: 0.8038741 (546)\ttotal: 35.7s\tremaining: 10.1s\n",
      "780:\tlearn: 0.6698610\ttest: 0.8057058\tbest: 0.8038741 (546)\ttotal: 35.8s\tremaining: 10s\n",
      "781:\tlearn: 0.6696749\ttest: 0.8057876\tbest: 0.8038741 (546)\ttotal: 35.8s\tremaining: 9.99s\n",
      "782:\tlearn: 0.6696195\ttest: 0.8057990\tbest: 0.8038741 (546)\ttotal: 35.9s\tremaining: 9.94s\n",
      "783:\tlearn: 0.6694727\ttest: 0.8057995\tbest: 0.8038741 (546)\ttotal: 35.9s\tremaining: 9.9s\n",
      "784:\tlearn: 0.6692920\ttest: 0.8058028\tbest: 0.8038741 (546)\ttotal: 36s\tremaining: 9.85s\n",
      "785:\tlearn: 0.6691436\ttest: 0.8058055\tbest: 0.8038741 (546)\ttotal: 36s\tremaining: 9.81s\n",
      "786:\tlearn: 0.6690539\ttest: 0.8058004\tbest: 0.8038741 (546)\ttotal: 36.1s\tremaining: 9.76s\n",
      "787:\tlearn: 0.6690017\ttest: 0.8058153\tbest: 0.8038741 (546)\ttotal: 36.1s\tremaining: 9.71s\n",
      "788:\tlearn: 0.6688720\ttest: 0.8057592\tbest: 0.8038741 (546)\ttotal: 36.2s\tremaining: 9.67s\n",
      "789:\tlearn: 0.6687294\ttest: 0.8058079\tbest: 0.8038741 (546)\ttotal: 36.2s\tremaining: 9.62s\n",
      "790:\tlearn: 0.6685917\ttest: 0.8057887\tbest: 0.8038741 (546)\ttotal: 36.2s\tremaining: 9.58s\n",
      "791:\tlearn: 0.6684664\ttest: 0.8057839\tbest: 0.8038741 (546)\ttotal: 36.3s\tremaining: 9.53s\n",
      "792:\tlearn: 0.6684180\ttest: 0.8057742\tbest: 0.8038741 (546)\ttotal: 36.3s\tremaining: 9.48s\n",
      "793:\tlearn: 0.6682778\ttest: 0.8057734\tbest: 0.8038741 (546)\ttotal: 36.4s\tremaining: 9.44s\n",
      "794:\tlearn: 0.6681776\ttest: 0.8057806\tbest: 0.8038741 (546)\ttotal: 36.4s\tremaining: 9.39s\n",
      "795:\tlearn: 0.6680086\ttest: 0.8058488\tbest: 0.8038741 (546)\ttotal: 36.5s\tremaining: 9.34s\n",
      "796:\tlearn: 0.6678708\ttest: 0.8058318\tbest: 0.8038741 (546)\ttotal: 36.5s\tremaining: 9.3s\n",
      "797:\tlearn: 0.6677448\ttest: 0.8057859\tbest: 0.8038741 (546)\ttotal: 36.5s\tremaining: 9.25s\n",
      "798:\tlearn: 0.6675855\ttest: 0.8058432\tbest: 0.8038741 (546)\ttotal: 36.6s\tremaining: 9.21s\n",
      "799:\tlearn: 0.6674347\ttest: 0.8058307\tbest: 0.8038741 (546)\ttotal: 36.6s\tremaining: 9.16s\n",
      "800:\tlearn: 0.6672813\ttest: 0.8058610\tbest: 0.8038741 (546)\ttotal: 36.7s\tremaining: 9.12s\n",
      "801:\tlearn: 0.6672410\ttest: 0.8058630\tbest: 0.8038741 (546)\ttotal: 36.7s\tremaining: 9.07s\n",
      "802:\tlearn: 0.6671682\ttest: 0.8058684\tbest: 0.8038741 (546)\ttotal: 36.8s\tremaining: 9.02s\n",
      "803:\tlearn: 0.6671010\ttest: 0.8058869\tbest: 0.8038741 (546)\ttotal: 36.8s\tremaining: 8.97s\n",
      "804:\tlearn: 0.6668703\ttest: 0.8059377\tbest: 0.8038741 (546)\ttotal: 36.9s\tremaining: 8.93s\n",
      "805:\tlearn: 0.6667712\ttest: 0.8059477\tbest: 0.8038741 (546)\ttotal: 36.9s\tremaining: 8.88s\n",
      "806:\tlearn: 0.6666372\ttest: 0.8059507\tbest: 0.8038741 (546)\ttotal: 36.9s\tremaining: 8.84s\n",
      "807:\tlearn: 0.6665046\ttest: 0.8059704\tbest: 0.8038741 (546)\ttotal: 37s\tremaining: 8.79s\n",
      "808:\tlearn: 0.6663772\ttest: 0.8059678\tbest: 0.8038741 (546)\ttotal: 37s\tremaining: 8.74s\n",
      "809:\tlearn: 0.6662582\ttest: 0.8059441\tbest: 0.8038741 (546)\ttotal: 37.1s\tremaining: 8.7s\n",
      "810:\tlearn: 0.6659947\ttest: 0.8059993\tbest: 0.8038741 (546)\ttotal: 37.1s\tremaining: 8.65s\n",
      "811:\tlearn: 0.6658905\ttest: 0.8060125\tbest: 0.8038741 (546)\ttotal: 37.2s\tremaining: 8.61s\n",
      "812:\tlearn: 0.6657676\ttest: 0.8060138\tbest: 0.8038741 (546)\ttotal: 37.2s\tremaining: 8.56s\n",
      "813:\tlearn: 0.6656891\ttest: 0.8060669\tbest: 0.8038741 (546)\ttotal: 37.3s\tremaining: 8.51s\n",
      "814:\tlearn: 0.6654317\ttest: 0.8061048\tbest: 0.8038741 (546)\ttotal: 37.3s\tremaining: 8.47s\n",
      "815:\tlearn: 0.6652429\ttest: 0.8061227\tbest: 0.8038741 (546)\ttotal: 37.4s\tremaining: 8.43s\n",
      "816:\tlearn: 0.6651267\ttest: 0.8061341\tbest: 0.8038741 (546)\ttotal: 37.4s\tremaining: 8.38s\n",
      "817:\tlearn: 0.6650894\ttest: 0.8061165\tbest: 0.8038741 (546)\ttotal: 37.5s\tremaining: 8.33s\n",
      "818:\tlearn: 0.6649608\ttest: 0.8061427\tbest: 0.8038741 (546)\ttotal: 37.5s\tremaining: 8.29s\n",
      "819:\tlearn: 0.6648535\ttest: 0.8061622\tbest: 0.8038741 (546)\ttotal: 37.5s\tremaining: 8.24s\n",
      "820:\tlearn: 0.6647646\ttest: 0.8061840\tbest: 0.8038741 (546)\ttotal: 37.6s\tremaining: 8.19s\n",
      "821:\tlearn: 0.6646272\ttest: 0.8061792\tbest: 0.8038741 (546)\ttotal: 37.6s\tremaining: 8.15s\n",
      "822:\tlearn: 0.6644826\ttest: 0.8062016\tbest: 0.8038741 (546)\ttotal: 37.7s\tremaining: 8.1s\n",
      "823:\tlearn: 0.6642795\ttest: 0.8062173\tbest: 0.8038741 (546)\ttotal: 37.7s\tremaining: 8.06s\n",
      "824:\tlearn: 0.6642020\ttest: 0.8062241\tbest: 0.8038741 (546)\ttotal: 37.8s\tremaining: 8.01s\n",
      "825:\tlearn: 0.6640230\ttest: 0.8062355\tbest: 0.8038741 (546)\ttotal: 37.8s\tremaining: 7.97s\n",
      "826:\tlearn: 0.6639511\ttest: 0.8062536\tbest: 0.8038741 (546)\ttotal: 37.9s\tremaining: 7.92s\n",
      "827:\tlearn: 0.6638627\ttest: 0.8062588\tbest: 0.8038741 (546)\ttotal: 37.9s\tremaining: 7.87s\n",
      "828:\tlearn: 0.6637059\ttest: 0.8062480\tbest: 0.8038741 (546)\ttotal: 38s\tremaining: 7.83s\n",
      "829:\tlearn: 0.6635530\ttest: 0.8062107\tbest: 0.8038741 (546)\ttotal: 38s\tremaining: 7.78s\n",
      "830:\tlearn: 0.6634525\ttest: 0.8061873\tbest: 0.8038741 (546)\ttotal: 38s\tremaining: 7.74s\n",
      "831:\tlearn: 0.6632939\ttest: 0.8062007\tbest: 0.8038741 (546)\ttotal: 38.1s\tremaining: 7.69s\n",
      "832:\tlearn: 0.6632137\ttest: 0.8062235\tbest: 0.8038741 (546)\ttotal: 38.1s\tremaining: 7.64s\n",
      "833:\tlearn: 0.6629610\ttest: 0.8062010\tbest: 0.8038741 (546)\ttotal: 38.2s\tremaining: 7.6s\n",
      "834:\tlearn: 0.6628514\ttest: 0.8062322\tbest: 0.8038741 (546)\ttotal: 38.2s\tremaining: 7.55s\n",
      "835:\tlearn: 0.6627953\ttest: 0.8062615\tbest: 0.8038741 (546)\ttotal: 38.3s\tremaining: 7.51s\n",
      "836:\tlearn: 0.6626147\ttest: 0.8062419\tbest: 0.8038741 (546)\ttotal: 38.3s\tremaining: 7.46s\n",
      "837:\tlearn: 0.6624000\ttest: 0.8062204\tbest: 0.8038741 (546)\ttotal: 38.4s\tremaining: 7.42s\n",
      "838:\tlearn: 0.6622615\ttest: 0.8062093\tbest: 0.8038741 (546)\ttotal: 38.4s\tremaining: 7.37s\n",
      "839:\tlearn: 0.6620874\ttest: 0.8062414\tbest: 0.8038741 (546)\ttotal: 38.5s\tremaining: 7.32s\n",
      "840:\tlearn: 0.6619860\ttest: 0.8062227\tbest: 0.8038741 (546)\ttotal: 38.5s\tremaining: 7.28s\n",
      "841:\tlearn: 0.6618946\ttest: 0.8062276\tbest: 0.8038741 (546)\ttotal: 38.5s\tremaining: 7.23s\n",
      "842:\tlearn: 0.6617656\ttest: 0.8062424\tbest: 0.8038741 (546)\ttotal: 38.6s\tremaining: 7.19s\n",
      "843:\tlearn: 0.6616359\ttest: 0.8062128\tbest: 0.8038741 (546)\ttotal: 38.6s\tremaining: 7.14s\n",
      "844:\tlearn: 0.6615532\ttest: 0.8062421\tbest: 0.8038741 (546)\ttotal: 38.7s\tremaining: 7.09s\n",
      "845:\tlearn: 0.6614895\ttest: 0.8062212\tbest: 0.8038741 (546)\ttotal: 38.7s\tremaining: 7.05s\n",
      "846:\tlearn: 0.6613978\ttest: 0.8062124\tbest: 0.8038741 (546)\ttotal: 38.8s\tremaining: 7s\n",
      "847:\tlearn: 0.6612690\ttest: 0.8062571\tbest: 0.8038741 (546)\ttotal: 38.8s\tremaining: 6.96s\n",
      "848:\tlearn: 0.6612061\ttest: 0.8062523\tbest: 0.8038741 (546)\ttotal: 38.8s\tremaining: 6.91s\n",
      "849:\tlearn: 0.6610866\ttest: 0.8062831\tbest: 0.8038741 (546)\ttotal: 38.9s\tremaining: 6.86s\n",
      "850:\tlearn: 0.6609900\ttest: 0.8062735\tbest: 0.8038741 (546)\ttotal: 38.9s\tremaining: 6.82s\n",
      "851:\tlearn: 0.6609303\ttest: 0.8062887\tbest: 0.8038741 (546)\ttotal: 39s\tremaining: 6.77s\n",
      "852:\tlearn: 0.6608373\ttest: 0.8063148\tbest: 0.8038741 (546)\ttotal: 39s\tremaining: 6.72s\n",
      "853:\tlearn: 0.6606517\ttest: 0.8063660\tbest: 0.8038741 (546)\ttotal: 39.1s\tremaining: 6.68s\n",
      "854:\tlearn: 0.6604741\ttest: 0.8063744\tbest: 0.8038741 (546)\ttotal: 39.1s\tremaining: 6.63s\n",
      "855:\tlearn: 0.6603116\ttest: 0.8063790\tbest: 0.8038741 (546)\ttotal: 39.2s\tremaining: 6.59s\n",
      "856:\tlearn: 0.6602297\ttest: 0.8064134\tbest: 0.8038741 (546)\ttotal: 39.2s\tremaining: 6.54s\n",
      "857:\tlearn: 0.6601071\ttest: 0.8064201\tbest: 0.8038741 (546)\ttotal: 39.2s\tremaining: 6.49s\n",
      "858:\tlearn: 0.6599986\ttest: 0.8064669\tbest: 0.8038741 (546)\ttotal: 39.3s\tremaining: 6.45s\n",
      "859:\tlearn: 0.6598504\ttest: 0.8065204\tbest: 0.8038741 (546)\ttotal: 39.3s\tremaining: 6.4s\n",
      "860:\tlearn: 0.6597392\ttest: 0.8065515\tbest: 0.8038741 (546)\ttotal: 39.4s\tremaining: 6.36s\n",
      "861:\tlearn: 0.6595406\ttest: 0.8065943\tbest: 0.8038741 (546)\ttotal: 39.4s\tremaining: 6.31s\n",
      "862:\tlearn: 0.6593628\ttest: 0.8066161\tbest: 0.8038741 (546)\ttotal: 39.5s\tremaining: 6.27s\n",
      "863:\tlearn: 0.6593039\ttest: 0.8066260\tbest: 0.8038741 (546)\ttotal: 39.5s\tremaining: 6.22s\n",
      "864:\tlearn: 0.6592323\ttest: 0.8066250\tbest: 0.8038741 (546)\ttotal: 39.6s\tremaining: 6.17s\n",
      "865:\tlearn: 0.6590662\ttest: 0.8066810\tbest: 0.8038741 (546)\ttotal: 39.6s\tremaining: 6.13s\n",
      "866:\tlearn: 0.6588861\ttest: 0.8067262\tbest: 0.8038741 (546)\ttotal: 39.7s\tremaining: 6.08s\n",
      "867:\tlearn: 0.6587327\ttest: 0.8067071\tbest: 0.8038741 (546)\ttotal: 39.7s\tremaining: 6.04s\n",
      "868:\tlearn: 0.6586649\ttest: 0.8067297\tbest: 0.8038741 (546)\ttotal: 39.7s\tremaining: 5.99s\n",
      "869:\tlearn: 0.6584711\ttest: 0.8066950\tbest: 0.8038741 (546)\ttotal: 39.8s\tremaining: 5.95s\n",
      "870:\tlearn: 0.6583122\ttest: 0.8067348\tbest: 0.8038741 (546)\ttotal: 39.8s\tremaining: 5.9s\n",
      "871:\tlearn: 0.6582141\ttest: 0.8067523\tbest: 0.8038741 (546)\ttotal: 39.9s\tremaining: 5.85s\n",
      "872:\tlearn: 0.6579599\ttest: 0.8068010\tbest: 0.8038741 (546)\ttotal: 39.9s\tremaining: 5.81s\n",
      "873:\tlearn: 0.6577961\ttest: 0.8067674\tbest: 0.8038741 (546)\ttotal: 40s\tremaining: 5.76s\n",
      "874:\tlearn: 0.6575479\ttest: 0.8067521\tbest: 0.8038741 (546)\ttotal: 40s\tremaining: 5.72s\n",
      "875:\tlearn: 0.6573048\ttest: 0.8067559\tbest: 0.8038741 (546)\ttotal: 40.1s\tremaining: 5.67s\n",
      "876:\tlearn: 0.6571164\ttest: 0.8067639\tbest: 0.8038741 (546)\ttotal: 40.1s\tremaining: 5.63s\n",
      "877:\tlearn: 0.6569753\ttest: 0.8067423\tbest: 0.8038741 (546)\ttotal: 40.2s\tremaining: 5.58s\n",
      "878:\tlearn: 0.6567756\ttest: 0.8067890\tbest: 0.8038741 (546)\ttotal: 40.2s\tremaining: 5.54s\n",
      "879:\tlearn: 0.6566581\ttest: 0.8068264\tbest: 0.8038741 (546)\ttotal: 40.3s\tremaining: 5.49s\n",
      "880:\tlearn: 0.6565538\ttest: 0.8068002\tbest: 0.8038741 (546)\ttotal: 40.3s\tremaining: 5.44s\n",
      "881:\tlearn: 0.6563836\ttest: 0.8068197\tbest: 0.8038741 (546)\ttotal: 40.4s\tremaining: 5.4s\n",
      "882:\tlearn: 0.6562675\ttest: 0.8068288\tbest: 0.8038741 (546)\ttotal: 40.4s\tremaining: 5.35s\n",
      "883:\tlearn: 0.6562007\ttest: 0.8068698\tbest: 0.8038741 (546)\ttotal: 40.4s\tremaining: 5.31s\n",
      "884:\tlearn: 0.6561433\ttest: 0.8068917\tbest: 0.8038741 (546)\ttotal: 40.5s\tremaining: 5.26s\n",
      "885:\tlearn: 0.6560050\ttest: 0.8069592\tbest: 0.8038741 (546)\ttotal: 40.5s\tremaining: 5.21s\n",
      "886:\tlearn: 0.6559411\ttest: 0.8069707\tbest: 0.8038741 (546)\ttotal: 40.6s\tremaining: 5.17s\n",
      "887:\tlearn: 0.6558151\ttest: 0.8069898\tbest: 0.8038741 (546)\ttotal: 40.6s\tremaining: 5.12s\n",
      "888:\tlearn: 0.6557432\ttest: 0.8070177\tbest: 0.8038741 (546)\ttotal: 40.7s\tremaining: 5.08s\n",
      "889:\tlearn: 0.6556579\ttest: 0.8070378\tbest: 0.8038741 (546)\ttotal: 40.7s\tremaining: 5.03s\n",
      "890:\tlearn: 0.6555341\ttest: 0.8070201\tbest: 0.8038741 (546)\ttotal: 40.7s\tremaining: 4.98s\n",
      "891:\tlearn: 0.6553383\ttest: 0.8069531\tbest: 0.8038741 (546)\ttotal: 40.8s\tremaining: 4.94s\n",
      "892:\tlearn: 0.6552648\ttest: 0.8069840\tbest: 0.8038741 (546)\ttotal: 40.8s\tremaining: 4.89s\n",
      "893:\tlearn: 0.6552262\ttest: 0.8069648\tbest: 0.8038741 (546)\ttotal: 40.9s\tremaining: 4.85s\n",
      "894:\tlearn: 0.6549865\ttest: 0.8069409\tbest: 0.8038741 (546)\ttotal: 40.9s\tremaining: 4.8s\n",
      "895:\tlearn: 0.6547411\ttest: 0.8069645\tbest: 0.8038741 (546)\ttotal: 41s\tremaining: 4.76s\n",
      "896:\tlearn: 0.6546919\ttest: 0.8069763\tbest: 0.8038741 (546)\ttotal: 41s\tremaining: 4.71s\n",
      "897:\tlearn: 0.6545909\ttest: 0.8069958\tbest: 0.8038741 (546)\ttotal: 41.1s\tremaining: 4.66s\n",
      "898:\tlearn: 0.6543431\ttest: 0.8069654\tbest: 0.8038741 (546)\ttotal: 41.1s\tremaining: 4.62s\n",
      "899:\tlearn: 0.6542343\ttest: 0.8070192\tbest: 0.8038741 (546)\ttotal: 41.2s\tremaining: 4.57s\n",
      "900:\tlearn: 0.6540581\ttest: 0.8070248\tbest: 0.8038741 (546)\ttotal: 41.2s\tremaining: 4.53s\n",
      "901:\tlearn: 0.6539094\ttest: 0.8070424\tbest: 0.8038741 (546)\ttotal: 41.3s\tremaining: 4.48s\n",
      "902:\tlearn: 0.6538065\ttest: 0.8070392\tbest: 0.8038741 (546)\ttotal: 41.3s\tremaining: 4.44s\n",
      "903:\tlearn: 0.6536522\ttest: 0.8070571\tbest: 0.8038741 (546)\ttotal: 41.4s\tremaining: 4.39s\n",
      "904:\tlearn: 0.6534936\ttest: 0.8070632\tbest: 0.8038741 (546)\ttotal: 41.4s\tremaining: 4.34s\n",
      "905:\tlearn: 0.6532540\ttest: 0.8070077\tbest: 0.8038741 (546)\ttotal: 41.4s\tremaining: 4.3s\n",
      "906:\tlearn: 0.6530830\ttest: 0.8070324\tbest: 0.8038741 (546)\ttotal: 41.5s\tremaining: 4.25s\n",
      "907:\tlearn: 0.6528511\ttest: 0.8070835\tbest: 0.8038741 (546)\ttotal: 41.5s\tremaining: 4.21s\n",
      "908:\tlearn: 0.6526522\ttest: 0.8070089\tbest: 0.8038741 (546)\ttotal: 41.6s\tremaining: 4.16s\n",
      "909:\tlearn: 0.6525995\ttest: 0.8069947\tbest: 0.8038741 (546)\ttotal: 41.6s\tremaining: 4.12s\n",
      "910:\tlearn: 0.6524567\ttest: 0.8069883\tbest: 0.8038741 (546)\ttotal: 41.7s\tremaining: 4.07s\n",
      "911:\tlearn: 0.6523163\ttest: 0.8070206\tbest: 0.8038741 (546)\ttotal: 41.7s\tremaining: 4.03s\n",
      "912:\tlearn: 0.6522427\ttest: 0.8070278\tbest: 0.8038741 (546)\ttotal: 41.8s\tremaining: 3.98s\n",
      "913:\tlearn: 0.6521782\ttest: 0.8070400\tbest: 0.8038741 (546)\ttotal: 41.8s\tremaining: 3.93s\n",
      "914:\tlearn: 0.6521161\ttest: 0.8070448\tbest: 0.8038741 (546)\ttotal: 41.9s\tremaining: 3.89s\n",
      "915:\tlearn: 0.6519758\ttest: 0.8070961\tbest: 0.8038741 (546)\ttotal: 41.9s\tremaining: 3.84s\n",
      "916:\tlearn: 0.6517632\ttest: 0.8070641\tbest: 0.8038741 (546)\ttotal: 42s\tremaining: 3.8s\n",
      "917:\tlearn: 0.6516281\ttest: 0.8071077\tbest: 0.8038741 (546)\ttotal: 42s\tremaining: 3.75s\n",
      "918:\tlearn: 0.6515539\ttest: 0.8071111\tbest: 0.8038741 (546)\ttotal: 42s\tremaining: 3.71s\n",
      "919:\tlearn: 0.6513988\ttest: 0.8071335\tbest: 0.8038741 (546)\ttotal: 42.1s\tremaining: 3.66s\n",
      "920:\tlearn: 0.6512148\ttest: 0.8071334\tbest: 0.8038741 (546)\ttotal: 42.1s\tremaining: 3.61s\n",
      "921:\tlearn: 0.6510788\ttest: 0.8071451\tbest: 0.8038741 (546)\ttotal: 42.2s\tremaining: 3.57s\n",
      "922:\tlearn: 0.6509564\ttest: 0.8071580\tbest: 0.8038741 (546)\ttotal: 42.2s\tremaining: 3.52s\n",
      "923:\tlearn: 0.6508490\ttest: 0.8071882\tbest: 0.8038741 (546)\ttotal: 42.3s\tremaining: 3.48s\n",
      "924:\tlearn: 0.6506670\ttest: 0.8072049\tbest: 0.8038741 (546)\ttotal: 42.3s\tremaining: 3.43s\n",
      "925:\tlearn: 0.6504516\ttest: 0.8072744\tbest: 0.8038741 (546)\ttotal: 42.4s\tremaining: 3.39s\n",
      "926:\tlearn: 0.6502825\ttest: 0.8072121\tbest: 0.8038741 (546)\ttotal: 42.4s\tremaining: 3.34s\n",
      "927:\tlearn: 0.6502330\ttest: 0.8072118\tbest: 0.8038741 (546)\ttotal: 42.5s\tremaining: 3.29s\n",
      "928:\tlearn: 0.6501459\ttest: 0.8072503\tbest: 0.8038741 (546)\ttotal: 42.5s\tremaining: 3.25s\n",
      "929:\tlearn: 0.6500328\ttest: 0.8072494\tbest: 0.8038741 (546)\ttotal: 42.5s\tremaining: 3.2s\n",
      "930:\tlearn: 0.6498563\ttest: 0.8072377\tbest: 0.8038741 (546)\ttotal: 42.6s\tremaining: 3.16s\n",
      "931:\tlearn: 0.6497123\ttest: 0.8072331\tbest: 0.8038741 (546)\ttotal: 42.6s\tremaining: 3.11s\n",
      "932:\tlearn: 0.6495336\ttest: 0.8072123\tbest: 0.8038741 (546)\ttotal: 42.7s\tremaining: 3.06s\n",
      "933:\tlearn: 0.6494040\ttest: 0.8072206\tbest: 0.8038741 (546)\ttotal: 42.7s\tremaining: 3.02s\n",
      "934:\tlearn: 0.6492821\ttest: 0.8072085\tbest: 0.8038741 (546)\ttotal: 42.8s\tremaining: 2.97s\n",
      "935:\tlearn: 0.6492127\ttest: 0.8072333\tbest: 0.8038741 (546)\ttotal: 42.8s\tremaining: 2.93s\n",
      "936:\tlearn: 0.6491133\ttest: 0.8072311\tbest: 0.8038741 (546)\ttotal: 42.9s\tremaining: 2.88s\n",
      "937:\tlearn: 0.6489369\ttest: 0.8072397\tbest: 0.8038741 (546)\ttotal: 42.9s\tremaining: 2.84s\n",
      "938:\tlearn: 0.6488497\ttest: 0.8072323\tbest: 0.8038741 (546)\ttotal: 43s\tremaining: 2.79s\n",
      "939:\tlearn: 0.6487251\ttest: 0.8072329\tbest: 0.8038741 (546)\ttotal: 43s\tremaining: 2.74s\n",
      "940:\tlearn: 0.6485631\ttest: 0.8071897\tbest: 0.8038741 (546)\ttotal: 43.1s\tremaining: 2.7s\n",
      "941:\tlearn: 0.6485013\ttest: 0.8072159\tbest: 0.8038741 (546)\ttotal: 43.1s\tremaining: 2.65s\n",
      "942:\tlearn: 0.6484034\ttest: 0.8072313\tbest: 0.8038741 (546)\ttotal: 43.1s\tremaining: 2.61s\n",
      "943:\tlearn: 0.6483507\ttest: 0.8072357\tbest: 0.8038741 (546)\ttotal: 43.2s\tremaining: 2.56s\n",
      "944:\tlearn: 0.6482590\ttest: 0.8072665\tbest: 0.8038741 (546)\ttotal: 43.2s\tremaining: 2.52s\n",
      "945:\tlearn: 0.6481960\ttest: 0.8072785\tbest: 0.8038741 (546)\ttotal: 43.3s\tremaining: 2.47s\n",
      "946:\tlearn: 0.6481030\ttest: 0.8072661\tbest: 0.8038741 (546)\ttotal: 43.3s\tremaining: 2.42s\n",
      "947:\tlearn: 0.6479702\ttest: 0.8072987\tbest: 0.8038741 (546)\ttotal: 43.4s\tremaining: 2.38s\n",
      "948:\tlearn: 0.6477997\ttest: 0.8073167\tbest: 0.8038741 (546)\ttotal: 43.4s\tremaining: 2.33s\n",
      "949:\tlearn: 0.6477290\ttest: 0.8073415\tbest: 0.8038741 (546)\ttotal: 43.4s\tremaining: 2.29s\n",
      "950:\tlearn: 0.6476002\ttest: 0.8073155\tbest: 0.8038741 (546)\ttotal: 43.5s\tremaining: 2.24s\n",
      "951:\tlearn: 0.6473635\ttest: 0.8073482\tbest: 0.8038741 (546)\ttotal: 43.5s\tremaining: 2.19s\n",
      "952:\tlearn: 0.6471752\ttest: 0.8073643\tbest: 0.8038741 (546)\ttotal: 43.6s\tremaining: 2.15s\n",
      "953:\tlearn: 0.6469520\ttest: 0.8073753\tbest: 0.8038741 (546)\ttotal: 43.6s\tremaining: 2.1s\n",
      "954:\tlearn: 0.6467889\ttest: 0.8074022\tbest: 0.8038741 (546)\ttotal: 43.7s\tremaining: 2.06s\n",
      "955:\tlearn: 0.6466289\ttest: 0.8073930\tbest: 0.8038741 (546)\ttotal: 43.7s\tremaining: 2.01s\n",
      "956:\tlearn: 0.6465193\ttest: 0.8073592\tbest: 0.8038741 (546)\ttotal: 43.8s\tremaining: 1.97s\n",
      "957:\tlearn: 0.6464144\ttest: 0.8073353\tbest: 0.8038741 (546)\ttotal: 43.8s\tremaining: 1.92s\n",
      "958:\tlearn: 0.6462570\ttest: 0.8072743\tbest: 0.8038741 (546)\ttotal: 43.9s\tremaining: 1.88s\n",
      "959:\tlearn: 0.6461219\ttest: 0.8072788\tbest: 0.8038741 (546)\ttotal: 43.9s\tremaining: 1.83s\n",
      "960:\tlearn: 0.6460738\ttest: 0.8072848\tbest: 0.8038741 (546)\ttotal: 44s\tremaining: 1.78s\n",
      "961:\tlearn: 0.6460096\ttest: 0.8073161\tbest: 0.8038741 (546)\ttotal: 44s\tremaining: 1.74s\n",
      "962:\tlearn: 0.6458185\ttest: 0.8072936\tbest: 0.8038741 (546)\ttotal: 44.1s\tremaining: 1.69s\n",
      "963:\tlearn: 0.6456861\ttest: 0.8073180\tbest: 0.8038741 (546)\ttotal: 44.1s\tremaining: 1.65s\n",
      "964:\tlearn: 0.6455811\ttest: 0.8073019\tbest: 0.8038741 (546)\ttotal: 44.2s\tremaining: 1.6s\n",
      "965:\tlearn: 0.6453118\ttest: 0.8072957\tbest: 0.8038741 (546)\ttotal: 44.2s\tremaining: 1.55s\n",
      "966:\tlearn: 0.6451127\ttest: 0.8072082\tbest: 0.8038741 (546)\ttotal: 44.3s\tremaining: 1.51s\n",
      "967:\tlearn: 0.6449578\ttest: 0.8071637\tbest: 0.8038741 (546)\ttotal: 44.3s\tremaining: 1.46s\n",
      "968:\tlearn: 0.6447835\ttest: 0.8071324\tbest: 0.8038741 (546)\ttotal: 44.4s\tremaining: 1.42s\n",
      "969:\tlearn: 0.6445897\ttest: 0.8071760\tbest: 0.8038741 (546)\ttotal: 44.4s\tremaining: 1.37s\n",
      "970:\tlearn: 0.6444125\ttest: 0.8072025\tbest: 0.8038741 (546)\ttotal: 44.5s\tremaining: 1.33s\n",
      "971:\tlearn: 0.6443104\ttest: 0.8072195\tbest: 0.8038741 (546)\ttotal: 44.5s\tremaining: 1.28s\n",
      "972:\tlearn: 0.6441912\ttest: 0.8072184\tbest: 0.8038741 (546)\ttotal: 44.5s\tremaining: 1.24s\n",
      "973:\tlearn: 0.6441152\ttest: 0.8072232\tbest: 0.8038741 (546)\ttotal: 44.6s\tremaining: 1.19s\n",
      "974:\tlearn: 0.6440133\ttest: 0.8073006\tbest: 0.8038741 (546)\ttotal: 44.6s\tremaining: 1.14s\n",
      "975:\tlearn: 0.6438493\ttest: 0.8073229\tbest: 0.8038741 (546)\ttotal: 44.7s\tremaining: 1.1s\n",
      "976:\tlearn: 0.6437204\ttest: 0.8073378\tbest: 0.8038741 (546)\ttotal: 44.7s\tremaining: 1.05s\n",
      "977:\tlearn: 0.6436165\ttest: 0.8073423\tbest: 0.8038741 (546)\ttotal: 44.8s\tremaining: 1.01s\n",
      "978:\tlearn: 0.6435223\ttest: 0.8073503\tbest: 0.8038741 (546)\ttotal: 44.8s\tremaining: 961ms\n",
      "979:\tlearn: 0.6434051\ttest: 0.8073357\tbest: 0.8038741 (546)\ttotal: 44.9s\tremaining: 915ms\n",
      "980:\tlearn: 0.6432903\ttest: 0.8073029\tbest: 0.8038741 (546)\ttotal: 44.9s\tremaining: 870ms\n",
      "981:\tlearn: 0.6431634\ttest: 0.8073061\tbest: 0.8038741 (546)\ttotal: 45s\tremaining: 824ms\n",
      "982:\tlearn: 0.6430914\ttest: 0.8073370\tbest: 0.8038741 (546)\ttotal: 45s\tremaining: 778ms\n",
      "983:\tlearn: 0.6429727\ttest: 0.8073140\tbest: 0.8038741 (546)\ttotal: 45s\tremaining: 732ms\n",
      "984:\tlearn: 0.6428974\ttest: 0.8073194\tbest: 0.8038741 (546)\ttotal: 45.1s\tremaining: 687ms\n",
      "985:\tlearn: 0.6427850\ttest: 0.8073007\tbest: 0.8038741 (546)\ttotal: 45.1s\tremaining: 641ms\n",
      "986:\tlearn: 0.6426597\ttest: 0.8073556\tbest: 0.8038741 (546)\ttotal: 45.2s\tremaining: 595ms\n",
      "987:\tlearn: 0.6425319\ttest: 0.8074092\tbest: 0.8038741 (546)\ttotal: 45.2s\tremaining: 549ms\n",
      "988:\tlearn: 0.6423135\ttest: 0.8074704\tbest: 0.8038741 (546)\ttotal: 45.3s\tremaining: 504ms\n",
      "989:\tlearn: 0.6420939\ttest: 0.8074842\tbest: 0.8038741 (546)\ttotal: 45.3s\tremaining: 458ms\n",
      "990:\tlearn: 0.6419209\ttest: 0.8074824\tbest: 0.8038741 (546)\ttotal: 45.4s\tremaining: 412ms\n",
      "991:\tlearn: 0.6418392\ttest: 0.8075033\tbest: 0.8038741 (546)\ttotal: 45.4s\tremaining: 366ms\n",
      "992:\tlearn: 0.6416986\ttest: 0.8075246\tbest: 0.8038741 (546)\ttotal: 45.5s\tremaining: 320ms\n",
      "993:\tlearn: 0.6415368\ttest: 0.8075154\tbest: 0.8038741 (546)\ttotal: 45.5s\tremaining: 275ms\n",
      "994:\tlearn: 0.6414549\ttest: 0.8075445\tbest: 0.8038741 (546)\ttotal: 45.6s\tremaining: 229ms\n",
      "995:\tlearn: 0.6413155\ttest: 0.8075374\tbest: 0.8038741 (546)\ttotal: 45.6s\tremaining: 183ms\n",
      "996:\tlearn: 0.6411614\ttest: 0.8075559\tbest: 0.8038741 (546)\ttotal: 45.7s\tremaining: 137ms\n",
      "997:\tlearn: 0.6409409\ttest: 0.8075308\tbest: 0.8038741 (546)\ttotal: 45.7s\tremaining: 91.6ms\n",
      "998:\tlearn: 0.6408160\ttest: 0.8075255\tbest: 0.8038741 (546)\ttotal: 45.8s\tremaining: 45.8ms\n",
      "999:\tlearn: 0.6405754\ttest: 0.8075375\tbest: 0.8038741 (546)\ttotal: 45.8s\tremaining: 0us\n",
      "bestTest = 0.8038740885\n",
      "bestIteration = 546\n",
      "Shrink model to first 547 iterations.\n"
     ]
    }
   ],
   "source": [
    "params_cat = {\n",
    "    \"cat_features\": cat_cols_lagged,\n",
    "    \"n_estimators\": 1000,\n",
    "    \"task_type\": \"GPU\",\n",
    "}\n",
    "\n",
    "model = CatBoostClassifier(**params_cat)\n",
    "model.fit(X_train, y_train, eval_set=(X_val, y_val), plot=True)\n",
    "\n",
    "\n",
    "# validate\n",
    "def weighted_roc_auc(y_true, y_pred, labels, weights_dict):\n",
    "    unnorm_weights = np.array([weights_dict[label] for label in labels])\n",
    "    weights = unnorm_weights / unnorm_weights.sum()\n",
    "    classes_roc_auc = roc_auc_score(\n",
    "        y_true, y_pred, labels=labels, multi_class=\"ovr\", average=None\n",
    "    )\n",
    "    return sum(weights * classes_roc_auc)\n",
    "\n",
    "\n",
    "cluster_weights = pd.read_excel(WEIGHTS_PATH).set_index(\"cluster\")\n",
    "weights_dict = cluster_weights[\"unnorm_weight\"].to_dict()"
   ]
  },
  {
   "cell_type": "code",
   "execution_count": 21,
   "metadata": {
    "colab": {
     "base_uri": "https://localhost:8080/"
    },
    "executionInfo": {
     "elapsed": 804,
     "status": "ok",
     "timestamp": 1710370138250,
     "user": {
      "displayName": "Иван Плешаков",
      "userId": "10092824641707831190"
     },
     "user_tz": -180
    },
    "id": "WF5NCCq6JTAQ",
    "outputId": "06b43a7e-b390-4bb0-c9d0-82cc2780f2fa"
   },
   "outputs": [
    {
     "data": {
      "text/plain": [
       "0.9125527741886946"
      ]
     },
     "execution_count": 21,
     "metadata": {},
     "output_type": "execute_result"
    }
   ],
   "source": [
    "# Calculate weighted_roc_auc score on validation dataset\n",
    "y_pred_proba = model.predict_proba(X_val)\n",
    "weighted_roc_auc(y_val, y_pred_proba, model.classes_, weights_dict)"
   ]
  },
  {
   "cell_type": "code",
   "execution_count": 22,
   "metadata": {
    "colab": {
     "base_uri": "https://localhost:8080/"
    },
    "executionInfo": {
     "elapsed": 385,
     "status": "ok",
     "timestamp": 1710370138632,
     "user": {
      "displayName": "Иван Плешаков",
      "userId": "10092824641707831190"
     },
     "user_tz": -180
    },
    "id": "2W2_CmR2yLss",
    "outputId": "c1e5e59a-6462-4846-8040-6da9f4ce5709"
   },
   "outputs": [
    {
     "data": {
      "text/plain": [
       "0.7326333333333334"
      ]
     },
     "execution_count": 22,
     "metadata": {},
     "output_type": "execute_result"
    }
   ],
   "source": [
    "# Calculate accuracy score on validation dataset\n",
    "y_pred = model.predict(X_val)\n",
    "accuracy_score(y_val, y_pred)"
   ]
  },
  {
   "cell_type": "markdown",
   "metadata": {
    "id": "xtMN0ZSHiu_M"
   },
   "source": [
    "### Confusion matrix"
   ]
  },
  {
   "cell_type": "code",
   "execution_count": 23,
   "metadata": {
    "colab": {
     "base_uri": "https://localhost:8080/",
     "height": 1000
    },
    "executionInfo": {
     "elapsed": 1587,
     "status": "ok",
     "timestamp": 1710370140217,
     "user": {
      "displayName": "Иван Плешаков",
      "userId": "10092824641707831190"
     },
     "user_tz": -180
    },
    "id": "q14BG2xgjBC4",
    "outputId": "565bde58-b7b4-496b-e58e-2dd5e6d2be86"
   },
   "outputs": [
    {
     "data": {
      "image/png": "[encoded data removed]",
      "text/plain": [
       "<Figure size 1700x1700 with 2 Axes>"
      ]
     },
     "metadata": {},
     "output_type": "display_data"
    }
   ],
   "source": [
    "# Create confusion matrix\n",
    "\n",
    "cm = confusion_matrix(y_val, y_pred)\n",
    "\n",
    "plt.figure(figsize=(17, 17))\n",
    "sns.heatmap(\n",
    "    cm,\n",
    "    annot=True,\n",
    "    fmt=\"g\",\n",
    "    xticklabels=np.unique(y_val.ravel()),\n",
    "    yticklabels=np.unique(y_val.ravel()),\n",
    "    vmin=0,\n",
    "    vmax=2000,\n",
    ")\n",
    "plt.xticks(rotation=0)\n",
    "plt.yticks(rotation=0)\n",
    "plt.ylabel(\"Prediction\", fontsize=11, rotation=0)\n",
    "plt.xlabel(\"Actual\", fontsize=11)\n",
    "plt.title(\"Confusion Matrix\", fontsize=17)\n",
    "plt.show()"
   ]
  },
  {
   "cell_type": "code",
   "execution_count": 24,
   "metadata": {
    "executionInfo": {
     "elapsed": 13,
     "status": "ok",
     "timestamp": 1710370140218,
     "user": {
      "displayName": "Иван Плешаков",
      "userId": "10092824641707831190"
     },
     "user_tz": -180
    },
    "id": "IkJK2fs43Cd0"
   },
   "outputs": [],
   "source": [
    "def plot_feature_importance(importance, names, model_type):\n",
    "\n",
    "    # Create arrays from feature importance and feature names\n",
    "    feature_importance = np.array(importance)\n",
    "    feature_names = np.array(names)\n",
    "\n",
    "    # Create a DataFrame using a Dictionary\n",
    "    data = {\"feature_names\": feature_names, \"feature_importance\": feature_importance}\n",
    "    fi_df = pd.DataFrame(data)\n",
    "\n",
    "    # Sort the DataFrame in order decreasing feature importance\n",
    "    fi_df.sort_values(by=[\"feature_importance\"], ascending=False, inplace=True)\n",
    "    fi_df = fi_df.iloc[:40]\n",
    "\n",
    "    # Define size of bar plot\n",
    "    plt.figure(figsize=(10, 8))\n",
    "    # Plot Searborn bar chart\n",
    "    sns.barplot(x=fi_df[\"feature_importance\"], y=fi_df[\"feature_names\"])\n",
    "    # Add chart labels\n",
    "    plt.title(model_type + \"FEATURE IMPORTANCE\")\n",
    "    plt.xlabel(\"FEATURE IMPORTANCE\")\n",
    "    plt.ylabel(\"FEATURE NAMES\")"
   ]
  },
  {
   "cell_type": "code",
   "execution_count": 25,
   "metadata": {
    "colab": {
     "base_uri": "https://localhost:8080/",
     "height": 718
    },
    "executionInfo": {
     "elapsed": 581,
     "status": "ok",
     "timestamp": 1710370140787,
     "user": {
      "displayName": "Иван Плешаков",
      "userId": "10092824641707831190"
     },
     "user_tz": -180
    },
    "id": "xLU67Siw3DBU",
    "outputId": "782de07f-cb10-4ad1-b496-6d3b1b820ca8"
   },
   "outputs": [
    {
     "data": {
      "image/png": "[encoded data removed]",
      "text/plain": [
       "<Figure size 1000x800 with 1 Axes>"
      ]
     },
     "metadata": {},
     "output_type": "display_data"
    }
   ],
   "source": [
    "# Visualize Catboost Featire Importance\n",
    "plot_feature_importance(model.get_feature_importance(), X_val.columns, \"CATBOOST\")"
   ]
  },
  {
   "cell_type": "markdown",
   "metadata": {
    "id": "SgKsi2dpyt1G"
   },
   "source": [
    "### Save & Load model"
   ]
  },
  {
   "cell_type": "code",
   "execution_count": 33,
   "metadata": {
    "executionInfo": {
     "elapsed": 269,
     "status": "ok",
     "timestamp": 1710370141566,
     "user": {
      "displayName": "Иван Плешаков",
      "userId": "10092824641707831190"
     },
     "user_tz": -180
    },
    "id": "Mnjwagxw5EgO"
   },
   "outputs": [],
   "source": [
    "model.save_model(MODEL_PATH, format=\"cbm\", export_parameters=None, pool=None)\n",
    "\n",
    "# model = CatBoostClassifier()\n",
    "# model.load_model(MODEL_PATH)"
   ]
  },
  {
   "cell_type": "markdown",
   "metadata": {
    "id": "mICa9D-mP3qe"
   },
   "source": [
    "### Test dataset"
   ]
  },
  {
   "cell_type": "markdown",
   "metadata": {
    "id": "Tl5yfWWp0Kfa"
   },
   "source": [
    "#### Read"
   ]
  },
  {
   "cell_type": "code",
   "execution_count": 34,
   "metadata": {
    "executionInfo": {
     "elapsed": 3555,
     "status": "ok",
     "timestamp": 1710370145118,
     "user": {
      "displayName": "Иван Плешаков",
      "userId": "10092824641707831190"
     },
     "user_tz": -180
    },
    "id": "lXt4_tqrjMMz"
   },
   "outputs": [],
   "source": [
    "test = pd.read_parquet(TEST_PATH)"
   ]
  },
  {
   "cell_type": "code",
   "execution_count": 35,
   "metadata": {
    "executionInfo": {
     "elapsed": 6,
     "status": "ok",
     "timestamp": 1710370145118,
     "user": {
      "displayName": "Иван Плешаков",
      "userId": "10092824641707831190"
     },
     "user_tz": -180
    },
    "id": "4vnlNK_A2D_8"
   },
   "outputs": [],
   "source": [
    "# Encode embedding clusters to letters, like cluster_0 -> cluster_a, cluster_1 -> cluster_b\n",
    "# It is needed because, for example, cluster_1 is the prefix if cluster_10 and it breaks our code\n",
    "\n",
    "test.rename(\n",
    "    columns={\n",
    "        (\"cluster_\" + str(i)): (\"cluster_\" + cluster_letters[i]) for i in range(16)\n",
    "    },\n",
    "    inplace=True,\n",
    ")"
   ]
  },
  {
   "cell_type": "code",
   "execution_count": 36,
   "metadata": {
    "executionInfo": {
     "elapsed": 6,
     "status": "ok",
     "timestamp": 1710370145119,
     "user": {
      "displayName": "Иван Плешаков",
      "userId": "10092824641707831190"
     },
     "user_tz": -180
    },
    "id": "sN8RCgN0hzcz"
   },
   "outputs": [],
   "source": [
    "def predict_start(\n",
    "    dataset_df: pd.DataFrame,\n",
    "    cat_features: tp.List[str],\n",
    "    task_type: str = \"GPU\",\n",
    "    model=None,\n",
    "    params=None,\n",
    "):\n",
    "    \"\"\"Filling missed \"start_cluster\" values in test_dataset (date=month_6) using CatBoostClassifier\n",
    "\n",
    "    Args:\n",
    "        dataset_df: test dataset\n",
    "        cat_features: categorical features\n",
    "        task_type: device\n",
    "        model: If None, we initialize new one\n",
    "        params: hyperparams\n",
    "\n",
    "    Returns:\n",
    "        test_df: transformed test dataset\n",
    "        model: fitted model\n",
    "    \"\"\"\n",
    "\n",
    "    dataset = dataset_df.copy()\n",
    "    dataset.fillna(0, inplace=True)\n",
    "    cat_features = [feat for feat in cat_features if feat != \"start_cluster\"]\n",
    "    cat_features = cat_features + [\"prev_month\"]\n",
    "    if not params:\n",
    "        params = {\n",
    "            \"random_state\": SEED,\n",
    "            \"task_type\": task_type,\n",
    "            \"cat_features\": cat_features,\n",
    "        }\n",
    "    if not model:\n",
    "        model = CatBoostClassifier(**params)\n",
    "    month_4 = dataset[dataset.date == \"month_4\"].copy()\n",
    "    month_5 = dataset[dataset.date == \"month_5\"].copy()\n",
    "    month_6 = dataset[dataset.date == \"month_6\"].copy()\n",
    "    train_dataset = month_5.merge(\n",
    "        month_4[[\"id\", \"start_cluster\"]], on=\"id\", how=\"right\"\n",
    "    )\n",
    "    pred_dataset = month_6.merge(month_5[[\"id\", \"start_cluster\"]], on=\"id\", how=\"right\")\n",
    "    train_dataset.rename(\n",
    "        columns={\"start_cluster_x\": \"target\", \"start_cluster_y\": \"prev_month\"},\n",
    "        inplace=True,\n",
    "    )\n",
    "    pred_dataset.rename(\n",
    "        columns={\"start_cluster_x\": \"target\", \"start_cluster_y\": \"prev_month\"},\n",
    "        inplace=True,\n",
    "    )\n",
    "    X = train_dataset.drop([\"id\", \"date\", \"target\"], axis=1)\n",
    "    y = train_dataset[\"target\"]\n",
    "    model.fit(X, y, verbose=False)\n",
    "    dataset.loc[dataset.date == \"month_6\", \"start_cluster\"] = model.predict(\n",
    "        pred_dataset.drop([\"id\", \"date\", \"target\"], axis=1)\n",
    "    )\n",
    "\n",
    "    return dataset, model"
   ]
  },
  {
   "cell_type": "markdown",
   "metadata": {
    "id": "sXQ2OlJB0M7y"
   },
   "source": [
    "#### Prepare features"
   ]
  },
  {
   "cell_type": "code",
   "execution_count": 37,
   "metadata": {
    "executionInfo": {
     "elapsed": 44872,
     "status": "ok",
     "timestamp": 1710370189986,
     "user": {
      "displayName": "Иван Плешаков",
      "userId": "10092824641707831190"
     },
     "user_tz": -180
    },
    "id": "BCDfR0Ukh52K"
   },
   "outputs": [],
   "source": [
    "# Fill missed start_clusters where date=month_6\n",
    "cat_cols = [\n",
    "    \"channel_code\",\n",
    "    \"city\",\n",
    "    \"city_type\",\n",
    "    \"okved\",\n",
    "    \"segment\",\n",
    "    \"start_cluster\",\n",
    "    \"index_city_code\",\n",
    "    \"ogrn_month\",\n",
    "    \"ogrn_year\",\n",
    "] + [\"cluster_\" + cluster_letters[i] for i in range(16)]\n",
    "\n",
    "dataset_test, _ = predict_start(test, cat_cols)"
   ]
  },
  {
   "cell_type": "code",
   "execution_count": 38,
   "metadata": {
    "executionInfo": {
     "elapsed": 18,
     "status": "ok",
     "timestamp": 1710370189987,
     "user": {
      "displayName": "Иван Плешаков",
      "userId": "10092824641707831190"
     },
     "user_tz": -180
    },
    "id": "P5Dskg0ss7XM"
   },
   "outputs": [],
   "source": [
    "test[\"start_cluster\"] = dataset_test[\"start_cluster\"].copy()"
   ]
  },
  {
   "cell_type": "code",
   "execution_count": 39,
   "metadata": {
    "executionInfo": {
     "elapsed": 5843,
     "status": "ok",
     "timestamp": 1710370195813,
     "user": {
      "displayName": "Иван Плешаков",
      "userId": "10092824641707831190"
     },
     "user_tz": -180
    },
    "id": "kZnG8ITmT01N"
   },
   "outputs": [],
   "source": [
    "# Generate groupby-features for test dataset\n",
    "test = generate_agg_features(\n",
    "    dataset_train,\n",
    "    feats_to_agg,\n",
    "    feats_by_agg,\n",
    "    build_for_train=False,\n",
    "    agg_func_list=agg_func,\n",
    "    test_dataset=test,\n",
    ")"
   ]
  },
  {
   "cell_type": "code",
   "execution_count": 40,
   "metadata": {
    "colab": {
     "base_uri": "https://localhost:8080/",
     "height": 81,
     "referenced_widgets": [
      "9eee6c7676df490ba9d8b309a0764aa6",
      "d33f461b7f094219bf3b985a59143dba",
      "5dfdd870f6794e26af7d9c51799ca3d3",
      "85191e95c1944e85847c36557e703af0",
      "4041ed3da4a04f12a13eca769673c68a",
      "b443614aa79b4d6088d500612d334839",
      "4a56b9c0591140fa8805b10e2a9312bb",
      "d492b6ee79264dd39ef22aa03d839c65",
      "be527fd614c64a29b407eb3595b5d068",
      "12e79ad1befa44158a8e7a250f39dbf1",
      "520122f6d4724b2aa4c1563d02ba0cf8",
      "3c17580c1ab249439730ce67156ac25a",
      "f5a3bec42a69440783a473b9f081fa12",
      "31d95e9fdcf749cfa72483fe8c09a32e",
      "e2924f8ae04f4498b70944c9fce2779e",
      "27c7f9d46f2349ad974a0f8f0db92e79",
      "1b764cd7ee9741de8b5901966b87bc50",
      "29682ccecf7c41a68d1b538e95300bcf",
      "18376cc7e86147f18055c1ac73c7f771",
      "39ac115463464e0fbd775550d4b29bc9",
      "0ed0a37d2a144e189d39128ee97f8926",
      "7f43ca551d304b47b6e438634b0ff603"
     ]
    },
    "executionInfo": {
     "elapsed": 11974,
     "status": "ok",
     "timestamp": 1710370207772,
     "user": {
      "displayName": "Иван Плешаков",
      "userId": "10092824641707831190"
     },
     "user_tz": -180
    },
    "id": "JuKl1OW3hiln",
    "outputId": "2a581f8b-e220-4e5b-a0cb-505317750450"
   },
   "outputs": [
    {
     "data": {
      "application/vnd.jupyter.widget-view+json": {
       "model_id": "49a8495f5eec4f1f8d9e65737057fa60",
       "version_major": 2,
       "version_minor": 0
      },
      "text/plain": [
       "0it [00:00, ?it/s]"
      ]
     },
     "metadata": {},
     "output_type": "display_data"
    },
    {
     "data": {
      "application/vnd.jupyter.widget-view+json": {
       "model_id": "e821e28e51994d3699886579aad33595",
       "version_major": 2,
       "version_minor": 0
      },
      "text/plain": [
       "  0%|          | 0/241 [00:00<?, ?it/s]"
      ]
     },
     "metadata": {},
     "output_type": "display_data"
    }
   ],
   "source": [
    "# Generate OneHotEncoded start_cluster for test dataset\n",
    "X_test_ohe = ohe_start_cluster(train, test)\n",
    "\n",
    "# Generate lags for test dataset\n",
    "not_to_lag = (\n",
    "    list(X_test_ohe.filter(like=\"agg_\").columns)\n",
    "    + [\"id\", \"date\", \"end_cluster\"]\n",
    "    + [\"cluster_\" + cluster_letters[i] for i in range(16)]\n",
    ")\n",
    "X_test = make_lags(X_test_ohe, columns_not_to_use=not_to_lag, drop_months=True)"
   ]
  },
  {
   "cell_type": "code",
   "execution_count": 41,
   "metadata": {
    "executionInfo": {
     "elapsed": 22,
     "status": "ok",
     "timestamp": 1710370207772,
     "user": {
      "displayName": "Иван Плешаков",
      "userId": "10092824641707831190"
     },
     "user_tz": -180
    },
    "id": "sAqtcCYQAxh6"
   },
   "outputs": [],
   "source": [
    "# Get features that show changing of start_cluster between month_1, month_2 and month_3\n",
    "X_test[\"changed_m1_m2\"] = (\n",
    "    X_test[\"start_cluster_lag2\"] != X_test[\"start_cluster_lag1\"]\n",
    ") * 1\n",
    "X_test[\"changed_m2_m3\"] = (X_test[\"start_cluster_lag1\"] != X_test[\"start_cluster\"]) * 1\n",
    "X_test[\"changed_m1_m3\"] = (X_test[\"start_cluster_lag2\"] != X_test[\"start_cluster\"]) * 1"
   ]
  },
  {
   "cell_type": "code",
   "execution_count": 42,
   "metadata": {
    "colab": {
     "base_uri": "https://localhost:8080/"
    },
    "executionInfo": {
     "elapsed": 23,
     "status": "ok",
     "timestamp": 1710370207774,
     "user": {
      "displayName": "Иван Плешаков",
      "userId": "10092824641707831190"
     },
     "user_tz": -180
    },
    "id": "2D9nEyN_BtME",
    "outputId": "4a91f9f2-8605-400a-9ef6-aadbb31f5f50"
   },
   "outputs": [
    {
     "data": {
      "text/plain": [
       "changed_m1_m2    16578\n",
       "changed_m2_m3    10812\n",
       "changed_m1_m3    18140\n",
       "dtype: int64"
      ]
     },
     "execution_count": 42,
     "metadata": {},
     "output_type": "execute_result"
    }
   ],
   "source": [
    "X_test[[\"changed_m1_m2\", \"changed_m2_m3\", \"changed_m1_m3\"]].sum()"
   ]
  },
  {
   "cell_type": "code",
   "execution_count": 43,
   "metadata": {
    "executionInfo": {
     "elapsed": 49459,
     "status": "ok",
     "timestamp": 1710370257212,
     "user": {
      "displayName": "Иван Плешаков",
      "userId": "10092824641707831190"
     },
     "user_tz": -180
    },
    "id": "dHtjHHeBoQdz"
   },
   "outputs": [],
   "source": [
    "X_test = X_test.drop(columns=[\"id\", \"date\"])\n",
    "\n",
    "# We fill NaNs by zero because NaNs appear due to new users and zeros describe them better than other numbers\n",
    "X_test.fillna(\"0\", inplace=True)\n",
    "X_test[cat_cols_lagged] = X_test[cat_cols_lagged].astype(\"category\")\n",
    "X_test[X_test.dtypes[X_test.dtypes == \"object\"].index] = X_test[\n",
    "    X_test.dtypes[X_test.dtypes == \"object\"].index\n",
    "].astype(float)"
   ]
  },
  {
   "cell_type": "markdown",
   "metadata": {
    "id": "Oa3dVs9h0gq5"
   },
   "source": [
    "### Predict"
   ]
  },
  {
   "cell_type": "code",
   "execution_count": 44,
   "metadata": {
    "executionInfo": {
     "elapsed": 972,
     "status": "ok",
     "timestamp": 1710370258155,
     "user": {
      "displayName": "Иван Плешаков",
      "userId": "10092824641707831190"
     },
     "user_tz": -180
    },
    "id": "UUS7JhcJkoRK"
   },
   "outputs": [],
   "source": [
    "test_pred_proba = model.predict_proba(X_test)\n",
    "test_pred_proba_df = pd.DataFrame(test_pred_proba, columns=model.classes_)\n",
    "sorted_classes = sorted(test_pred_proba_df.columns.to_list())\n",
    "test_pred_proba_df = test_pred_proba_df[sorted_classes]"
   ]
  },
  {
   "cell_type": "markdown",
   "metadata": {
    "id": "cwPRCWI2kWuL"
   },
   "source": [
    "### Submission"
   ]
  },
  {
   "cell_type": "code",
   "execution_count": 45,
   "metadata": {
    "executionInfo": {
     "elapsed": 2511,
     "status": "ok",
     "timestamp": 1710370260653,
     "user": {
      "displayName": "Иван Плешаков",
      "userId": "10092824641707831190"
     },
     "user_tz": -180
    },
    "id": "VBlWQDRDkZBJ"
   },
   "outputs": [],
   "source": [
    "sample_submission_df = pd.read_csv(SAMPLE_SUBM_PATH)"
   ]
  },
  {
   "cell_type": "code",
   "execution_count": 46,
   "metadata": {
    "executionInfo": {
     "elapsed": 2777,
     "status": "ok",
     "timestamp": 1710370263425,
     "user": {
      "displayName": "Иван Плешаков",
      "userId": "10092824641707831190"
     },
     "user_tz": -180
    },
    "id": "a5_vB-uWksIT"
   },
   "outputs": [],
   "source": [
    "sample_submission_df[sorted_classes] = test_pred_proba_df\n",
    "sample_submission_df.to_csv(RESULT_PATH, index=False)"
   ]
  }
 ],
 "metadata": {
  "accelerator": "GPU",
  "colab": {
   "gpuType": "T4",
   "provenance": []
  },
  "kernelspec": {
   "display_name": "Python 3",
   "name": "python3"
  },
  "language_info": {
   "codemirror_mode": {
    "name": "ipython",
    "version": 3
   },
   "file_extension": ".py",
   "mimetype": "text/x-python",
   "name": "python",
   "nbconvert_exporter": "python",
   "pygments_lexer": "ipython3",
   "version": "3.10.0"
  },
  "widgets": {
   "application/vnd.jupyter.widget-state+json": {
    "0871b2b1dcd34570b53bb6ee70f1a206": {
     "model_module": "@jupyter-widgets/controls",
     "model_module_version": "1.5.0",
     "model_name": "DescriptionStyleModel",
     "state": {
      "_model_module": "@jupyter-widgets/controls",
      "_model_module_version": "1.5.0",
      "_model_name": "DescriptionStyleModel",
      "_view_count": null,
      "_view_module": "@jupyter-widgets/base",
      "_view_module_version": "1.2.0",
      "_view_name": "StyleView",
      "description_width": ""
     }
    },
    "08bce9cf61fb42f29074b0f42ba0de6a": {
     "model_module": "@jupyter-widgets/base",
     "model_module_version": "1.2.0",
     "model_name": "LayoutModel",
     "state": {
      "_model_module": "@jupyter-widgets/base",
      "_model_module_version": "1.2.0",
      "_model_name": "LayoutModel",
      "_view_count": null,
      "_view_module": "@jupyter-widgets/base",
      "_view_module_version": "1.2.0",
      "_view_name": "LayoutView",
      "align_content": null,
      "align_items": null,
      "align_self": null,
      "border": null,
      "bottom": null,
      "display": null,
      "flex": null,
      "flex_flow": null,
      "grid_area": null,
      "grid_auto_columns": null,
      "grid_auto_flow": null,
      "grid_auto_rows": null,
      "grid_column": null,
      "grid_gap": null,
      "grid_row": null,
      "grid_template_areas": null,
      "grid_template_columns": null,
      "grid_template_rows": null,
      "height": null,
      "justify_content": null,
      "justify_items": null,
      "left": null,
      "margin": null,
      "max_height": null,
      "max_width": null,
      "min_height": null,
      "min_width": null,
      "object_fit": null,
      "object_position": null,
      "order": null,
      "overflow": null,
      "overflow_x": null,
      "overflow_y": null,
      "padding": null,
      "right": null,
      "top": null,
      "visibility": null,
      "width": "20px"
     }
    },
    "091deeb095ce43adbe54ed2dbb395ad9": {
     "model_module": "@jupyter-widgets/controls",
     "model_module_version": "1.5.0",
     "model_name": "HBoxModel",
     "state": {
      "_dom_classes": [],
      "_model_module": "@jupyter-widgets/controls",
      "_model_module_version": "1.5.0",
      "_model_name": "HBoxModel",
      "_view_count": null,
      "_view_module": "@jupyter-widgets/controls",
      "_view_module_version": "1.5.0",
      "_view_name": "HBoxView",
      "box_style": "",
      "children": [
       "IPY_MODEL_36d822d5321141478b07f248595698e7",
       "IPY_MODEL_1f9a7fa317104b64a767aef649e7f3a8",
       "IPY_MODEL_863f2a46e1054c708f8e89781de48071"
      ],
      "layout": "IPY_MODEL_bbf2094d82a64f728edd62426eb9eb38"
     }
    },
    "0ed0a37d2a144e189d39128ee97f8926": {
     "model_module": "@jupyter-widgets/base",
     "model_module_version": "1.2.0",
     "model_name": "LayoutModel",
     "state": {
      "_model_module": "@jupyter-widgets/base",
      "_model_module_version": "1.2.0",
      "_model_name": "LayoutModel",
      "_view_count": null,
      "_view_module": "@jupyter-widgets/base",
      "_view_module_version": "1.2.0",
      "_view_name": "LayoutView",
      "align_content": null,
      "align_items": null,
      "align_self": null,
      "border": null,
      "bottom": null,
      "display": null,
      "flex": null,
      "flex_flow": null,
      "grid_area": null,
      "grid_auto_columns": null,
      "grid_auto_flow": null,
      "grid_auto_rows": null,
      "grid_column": null,
      "grid_gap": null,
      "grid_row": null,
      "grid_template_areas": null,
      "grid_template_columns": null,
      "grid_template_rows": null,
      "height": null,
      "justify_content": null,
      "justify_items": null,
      "left": null,
      "margin": null,
      "max_height": null,
      "max_width": null,
      "min_height": null,
      "min_width": null,
      "object_fit": null,
      "object_position": null,
      "order": null,
      "overflow": null,
      "overflow_x": null,
      "overflow_y": null,
      "padding": null,
      "right": null,
      "top": null,
      "visibility": null,
      "width": null
     }
    },
    "0f5072f7b0e745a39ac47d691af55e7c": {
     "model_module": "@jupyter-widgets/controls",
     "model_module_version": "1.5.0",
     "model_name": "HBoxModel",
     "state": {
      "_dom_classes": [],
      "_model_module": "@jupyter-widgets/controls",
      "_model_module_version": "1.5.0",
      "_model_name": "HBoxModel",
      "_view_count": null,
      "_view_module": "@jupyter-widgets/controls",
      "_view_module_version": "1.5.0",
      "_view_name": "HBoxView",
      "box_style": "",
      "children": [
       "IPY_MODEL_84f73c70ba6d44c8abdf4798714d9492",
       "IPY_MODEL_94abe9f4a976474ebe26814f42f76e6a",
       "IPY_MODEL_e44ba37ddd4d43d095970ee8bd235aac"
      ],
      "layout": "IPY_MODEL_ff61b59b43d14de08ebbb416b0093c7a"
     }
    },
    "12e79ad1befa44158a8e7a250f39dbf1": {
     "model_module": "@jupyter-widgets/base",
     "model_module_version": "1.2.0",
     "model_name": "LayoutModel",
     "state": {
      "_model_module": "@jupyter-widgets/base",
      "_model_module_version": "1.2.0",
      "_model_name": "LayoutModel",
      "_view_count": null,
      "_view_module": "@jupyter-widgets/base",
      "_view_module_version": "1.2.0",
      "_view_name": "LayoutView",
      "align_content": null,
      "align_items": null,
      "align_self": null,
      "border": null,
      "bottom": null,
      "display": null,
      "flex": null,
      "flex_flow": null,
      "grid_area": null,
      "grid_auto_columns": null,
      "grid_auto_flow": null,
      "grid_auto_rows": null,
      "grid_column": null,
      "grid_gap": null,
      "grid_row": null,
      "grid_template_areas": null,
      "grid_template_columns": null,
      "grid_template_rows": null,
      "height": null,
      "justify_content": null,
      "justify_items": null,
      "left": null,
      "margin": null,
      "max_height": null,
      "max_width": null,
      "min_height": null,
      "min_width": null,
      "object_fit": null,
      "object_position": null,
      "order": null,
      "overflow": null,
      "overflow_x": null,
      "overflow_y": null,
      "padding": null,
      "right": null,
      "top": null,
      "visibility": null,
      "width": null
     }
    },
    "18376cc7e86147f18055c1ac73c7f771": {
     "model_module": "@jupyter-widgets/base",
     "model_module_version": "1.2.0",
     "model_name": "LayoutModel",
     "state": {
      "_model_module": "@jupyter-widgets/base",
      "_model_module_version": "1.2.0",
      "_model_name": "LayoutModel",
      "_view_count": null,
      "_view_module": "@jupyter-widgets/base",
      "_view_module_version": "1.2.0",
      "_view_name": "LayoutView",
      "align_content": null,
      "align_items": null,
      "align_self": null,
      "border": null,
      "bottom": null,
      "display": null,
      "flex": null,
      "flex_flow": null,
      "grid_area": null,
      "grid_auto_columns": null,
      "grid_auto_flow": null,
      "grid_auto_rows": null,
      "grid_column": null,
      "grid_gap": null,
      "grid_row": null,
      "grid_template_areas": null,
      "grid_template_columns": null,
      "grid_template_rows": null,
      "height": null,
      "justify_content": null,
      "justify_items": null,
      "left": null,
      "margin": null,
      "max_height": null,
      "max_width": null,
      "min_height": null,
      "min_width": null,
      "object_fit": null,
      "object_position": null,
      "order": null,
      "overflow": null,
      "overflow_x": null,
      "overflow_y": null,
      "padding": null,
      "right": null,
      "top": null,
      "visibility": null,
      "width": null
     }
    },
    "1b764cd7ee9741de8b5901966b87bc50": {
     "model_module": "@jupyter-widgets/base",
     "model_module_version": "1.2.0",
     "model_name": "LayoutModel",
     "state": {
      "_model_module": "@jupyter-widgets/base",
      "_model_module_version": "1.2.0",
      "_model_name": "LayoutModel",
      "_view_count": null,
      "_view_module": "@jupyter-widgets/base",
      "_view_module_version": "1.2.0",
      "_view_name": "LayoutView",
      "align_content": null,
      "align_items": null,
      "align_self": null,
      "border": null,
      "bottom": null,
      "display": null,
      "flex": null,
      "flex_flow": null,
      "grid_area": null,
      "grid_auto_columns": null,
      "grid_auto_flow": null,
      "grid_auto_rows": null,
      "grid_column": null,
      "grid_gap": null,
      "grid_row": null,
      "grid_template_areas": null,
      "grid_template_columns": null,
      "grid_template_rows": null,
      "height": null,
      "justify_content": null,
      "justify_items": null,
      "left": null,
      "margin": null,
      "max_height": null,
      "max_width": null,
      "min_height": null,
      "min_width": null,
      "object_fit": null,
      "object_position": null,
      "order": null,
      "overflow": null,
      "overflow_x": null,
      "overflow_y": null,
      "padding": null,
      "right": null,
      "top": null,
      "visibility": null,
      "width": null
     }
    },
    "1f10e6c66a4640e1b71289a9045c3f25": {
     "model_module": "@jupyter-widgets/controls",
     "model_module_version": "1.5.0",
     "model_name": "FloatProgressModel",
     "state": {
      "_dom_classes": [],
      "_model_module": "@jupyter-widgets/controls",
      "_model_module_version": "1.5.0",
      "_model_name": "FloatProgressModel",
      "_view_count": null,
      "_view_module": "@jupyter-widgets/controls",
      "_view_module_version": "1.5.0",
      "_view_name": "ProgressView",
      "bar_style": "success",
      "description": "",
      "description_tooltip": null,
      "layout": "IPY_MODEL_a9b6fa3b8f78434baecd07c1b8a6eb20",
      "max": 242,
      "min": 0,
      "orientation": "horizontal",
      "style": "IPY_MODEL_386516d5cd524c928ff986c49fad5c8f",
      "value": 242
     }
    },
    "1f9a7fa317104b64a767aef649e7f3a8": {
     "model_module": "@jupyter-widgets/controls",
     "model_module_version": "1.5.0",
     "model_name": "FloatProgressModel",
     "state": {
      "_dom_classes": [],
      "_model_module": "@jupyter-widgets/controls",
      "_model_module_version": "1.5.0",
      "_model_name": "FloatProgressModel",
      "_view_count": null,
      "_view_module": "@jupyter-widgets/controls",
      "_view_module_version": "1.5.0",
      "_view_name": "ProgressView",
      "bar_style": "success",
      "description": "",
      "description_tooltip": null,
      "layout": "IPY_MODEL_db83ef95d30f49849a541d25c80eabaa",
      "max": 242,
      "min": 0,
      "orientation": "horizontal",
      "style": "IPY_MODEL_8d7a0182f6744f0ebf61b952bbfbb3a3",
      "value": 242
     }
    },
    "27c7f9d46f2349ad974a0f8f0db92e79": {
     "model_module": "@jupyter-widgets/base",
     "model_module_version": "1.2.0",
     "model_name": "LayoutModel",
     "state": {
      "_model_module": "@jupyter-widgets/base",
      "_model_module_version": "1.2.0",
      "_model_name": "LayoutModel",
      "_view_count": null,
      "_view_module": "@jupyter-widgets/base",
      "_view_module_version": "1.2.0",
      "_view_name": "LayoutView",
      "align_content": null,
      "align_items": null,
      "align_self": null,
      "border": null,
      "bottom": null,
      "display": null,
      "flex": null,
      "flex_flow": null,
      "grid_area": null,
      "grid_auto_columns": null,
      "grid_auto_flow": null,
      "grid_auto_rows": null,
      "grid_column": null,
      "grid_gap": null,
      "grid_row": null,
      "grid_template_areas": null,
      "grid_template_columns": null,
      "grid_template_rows": null,
      "height": null,
      "justify_content": null,
      "justify_items": null,
      "left": null,
      "margin": null,
      "max_height": null,
      "max_width": null,
      "min_height": null,
      "min_width": null,
      "object_fit": null,
      "object_position": null,
      "order": null,
      "overflow": null,
      "overflow_x": null,
      "overflow_y": null,
      "padding": null,
      "right": null,
      "top": null,
      "visibility": null,
      "width": null
     }
    },
    "29682ccecf7c41a68d1b538e95300bcf": {
     "model_module": "@jupyter-widgets/controls",
     "model_module_version": "1.5.0",
     "model_name": "DescriptionStyleModel",
     "state": {
      "_model_module": "@jupyter-widgets/controls",
      "_model_module_version": "1.5.0",
      "_model_name": "DescriptionStyleModel",
      "_view_count": null,
      "_view_module": "@jupyter-widgets/base",
      "_view_module_version": "1.2.0",
      "_view_name": "StyleView",
      "description_width": ""
     }
    },
    "31d95e9fdcf749cfa72483fe8c09a32e": {
     "model_module": "@jupyter-widgets/controls",
     "model_module_version": "1.5.0",
     "model_name": "FloatProgressModel",
     "state": {
      "_dom_classes": [],
      "_model_module": "@jupyter-widgets/controls",
      "_model_module_version": "1.5.0",
      "_model_name": "FloatProgressModel",
      "_view_count": null,
      "_view_module": "@jupyter-widgets/controls",
      "_view_module_version": "1.5.0",
      "_view_name": "ProgressView",
      "bar_style": "success",
      "description": "",
      "description_tooltip": null,
      "layout": "IPY_MODEL_18376cc7e86147f18055c1ac73c7f771",
      "max": 241,
      "min": 0,
      "orientation": "horizontal",
      "style": "IPY_MODEL_39ac115463464e0fbd775550d4b29bc9",
      "value": 241
     }
    },
    "36d822d5321141478b07f248595698e7": {
     "model_module": "@jupyter-widgets/controls",
     "model_module_version": "1.5.0",
     "model_name": "HTMLModel",
     "state": {
      "_dom_classes": [],
      "_model_module": "@jupyter-widgets/controls",
      "_model_module_version": "1.5.0",
      "_model_name": "HTMLModel",
      "_view_count": null,
      "_view_module": "@jupyter-widgets/controls",
      "_view_module_version": "1.5.0",
      "_view_name": "HTMLView",
      "description": "",
      "description_tooltip": null,
      "layout": "IPY_MODEL_995a04874aa4407d98b8671219e3de16",
      "placeholder": "​",
      "style": "IPY_MODEL_60ff3a09748945b4bf597da0b2d031cb",
      "value": "100%"
     }
    },
    "386516d5cd524c928ff986c49fad5c8f": {
     "model_module": "@jupyter-widgets/controls",
     "model_module_version": "1.5.0",
     "model_name": "ProgressStyleModel",
     "state": {
      "_model_module": "@jupyter-widgets/controls",
      "_model_module_version": "1.5.0",
      "_model_name": "ProgressStyleModel",
      "_view_count": null,
      "_view_module": "@jupyter-widgets/base",
      "_view_module_version": "1.2.0",
      "_view_name": "StyleView",
      "bar_color": null,
      "description_width": ""
     }
    },
    "39ac115463464e0fbd775550d4b29bc9": {
     "model_module": "@jupyter-widgets/controls",
     "model_module_version": "1.5.0",
     "model_name": "ProgressStyleModel",
     "state": {
      "_model_module": "@jupyter-widgets/controls",
      "_model_module_version": "1.5.0",
      "_model_name": "ProgressStyleModel",
      "_view_count": null,
      "_view_module": "@jupyter-widgets/base",
      "_view_module_version": "1.2.0",
      "_view_name": "StyleView",
      "bar_color": null,
      "description_width": ""
     }
    },
    "3c17580c1ab249439730ce67156ac25a": {
     "model_module": "@jupyter-widgets/controls",
     "model_module_version": "1.5.0",
     "model_name": "HBoxModel",
     "state": {
      "_dom_classes": [],
      "_model_module": "@jupyter-widgets/controls",
      "_model_module_version": "1.5.0",
      "_model_name": "HBoxModel",
      "_view_count": null,
      "_view_module": "@jupyter-widgets/controls",
      "_view_module_version": "1.5.0",
      "_view_name": "HBoxView",
      "box_style": "",
      "children": [
       "IPY_MODEL_f5a3bec42a69440783a473b9f081fa12",
       "IPY_MODEL_31d95e9fdcf749cfa72483fe8c09a32e",
       "IPY_MODEL_e2924f8ae04f4498b70944c9fce2779e"
      ],
      "layout": "IPY_MODEL_27c7f9d46f2349ad974a0f8f0db92e79"
     }
    },
    "4041ed3da4a04f12a13eca769673c68a": {
     "model_module": "@jupyter-widgets/base",
     "model_module_version": "1.2.0",
     "model_name": "LayoutModel",
     "state": {
      "_model_module": "@jupyter-widgets/base",
      "_model_module_version": "1.2.0",
      "_model_name": "LayoutModel",
      "_view_count": null,
      "_view_module": "@jupyter-widgets/base",
      "_view_module_version": "1.2.0",
      "_view_name": "LayoutView",
      "align_content": null,
      "align_items": null,
      "align_self": null,
      "border": null,
      "bottom": null,
      "display": null,
      "flex": null,
      "flex_flow": null,
      "grid_area": null,
      "grid_auto_columns": null,
      "grid_auto_flow": null,
      "grid_auto_rows": null,
      "grid_column": null,
      "grid_gap": null,
      "grid_row": null,
      "grid_template_areas": null,
      "grid_template_columns": null,
      "grid_template_rows": null,
      "height": null,
      "justify_content": null,
      "justify_items": null,
      "left": null,
      "margin": null,
      "max_height": null,
      "max_width": null,
      "min_height": null,
      "min_width": null,
      "object_fit": null,
      "object_position": null,
      "order": null,
      "overflow": null,
      "overflow_x": null,
      "overflow_y": null,
      "padding": null,
      "right": null,
      "top": null,
      "visibility": null,
      "width": null
     }
    },
    "4a103aa2452945ad8a93891825ef5882": {
     "model_module": "@jupyter-widgets/controls",
     "model_module_version": "1.5.0",
     "model_name": "HBoxModel",
     "state": {
      "_dom_classes": [],
      "_model_module": "@jupyter-widgets/controls",
      "_model_module_version": "1.5.0",
      "_model_name": "HBoxModel",
      "_view_count": null,
      "_view_module": "@jupyter-widgets/controls",
      "_view_module_version": "1.5.0",
      "_view_name": "HBoxView",
      "box_style": "",
      "children": [
       "IPY_MODEL_6f8577fbd8cf4cb78573a0f596a0e2ed",
       "IPY_MODEL_1f10e6c66a4640e1b71289a9045c3f25",
       "IPY_MODEL_787682aa97744dfbbd4b618efac4388b"
      ],
      "layout": "IPY_MODEL_6035b01053ad4039b668a03d88d2723f"
     }
    },
    "4a56b9c0591140fa8805b10e2a9312bb": {
     "model_module": "@jupyter-widgets/controls",
     "model_module_version": "1.5.0",
     "model_name": "DescriptionStyleModel",
     "state": {
      "_model_module": "@jupyter-widgets/controls",
      "_model_module_version": "1.5.0",
      "_model_name": "DescriptionStyleModel",
      "_view_count": null,
      "_view_module": "@jupyter-widgets/base",
      "_view_module_version": "1.2.0",
      "_view_name": "StyleView",
      "description_width": ""
     }
    },
    "520122f6d4724b2aa4c1563d02ba0cf8": {
     "model_module": "@jupyter-widgets/controls",
     "model_module_version": "1.5.0",
     "model_name": "DescriptionStyleModel",
     "state": {
      "_model_module": "@jupyter-widgets/controls",
      "_model_module_version": "1.5.0",
      "_model_name": "DescriptionStyleModel",
      "_view_count": null,
      "_view_module": "@jupyter-widgets/base",
      "_view_module_version": "1.2.0",
      "_view_name": "StyleView",
      "description_width": ""
     }
    },
    "5dfdd870f6794e26af7d9c51799ca3d3": {
     "model_module": "@jupyter-widgets/controls",
     "model_module_version": "1.5.0",
     "model_name": "FloatProgressModel",
     "state": {
      "_dom_classes": [],
      "_model_module": "@jupyter-widgets/controls",
      "_model_module_version": "1.5.0",
      "_model_name": "FloatProgressModel",
      "_view_count": null,
      "_view_module": "@jupyter-widgets/controls",
      "_view_module_version": "1.5.0",
      "_view_name": "ProgressView",
      "bar_style": "success",
      "description": "",
      "description_tooltip": null,
      "layout": "IPY_MODEL_d492b6ee79264dd39ef22aa03d839c65",
      "max": 1,
      "min": 0,
      "orientation": "horizontal",
      "style": "IPY_MODEL_be527fd614c64a29b407eb3595b5d068",
      "value": 1
     }
    },
    "6035b01053ad4039b668a03d88d2723f": {
     "model_module": "@jupyter-widgets/base",
     "model_module_version": "1.2.0",
     "model_name": "LayoutModel",
     "state": {
      "_model_module": "@jupyter-widgets/base",
      "_model_module_version": "1.2.0",
      "_model_name": "LayoutModel",
      "_view_count": null,
      "_view_module": "@jupyter-widgets/base",
      "_view_module_version": "1.2.0",
      "_view_name": "LayoutView",
      "align_content": null,
      "align_items": null,
      "align_self": null,
      "border": null,
      "bottom": null,
      "display": null,
      "flex": null,
      "flex_flow": null,
      "grid_area": null,
      "grid_auto_columns": null,
      "grid_auto_flow": null,
      "grid_auto_rows": null,
      "grid_column": null,
      "grid_gap": null,
      "grid_row": null,
      "grid_template_areas": null,
      "grid_template_columns": null,
      "grid_template_rows": null,
      "height": null,
      "justify_content": null,
      "justify_items": null,
      "left": null,
      "margin": null,
      "max_height": null,
      "max_width": null,
      "min_height": null,
      "min_width": null,
      "object_fit": null,
      "object_position": null,
      "order": null,
      "overflow": null,
      "overflow_x": null,
      "overflow_y": null,
      "padding": null,
      "right": null,
      "top": null,
      "visibility": null,
      "width": null
     }
    },
    "60cefb4eee6a49398ab4c5168f8fd0f6": {
     "model_module": "@jupyter-widgets/base",
     "model_module_version": "1.2.0",
     "model_name": "LayoutModel",
     "state": {
      "_model_module": "@jupyter-widgets/base",
      "_model_module_version": "1.2.0",
      "_model_name": "LayoutModel",
      "_view_count": null,
      "_view_module": "@jupyter-widgets/base",
      "_view_module_version": "1.2.0",
      "_view_name": "LayoutView",
      "align_content": null,
      "align_items": null,
      "align_self": null,
      "border": null,
      "bottom": null,
      "display": null,
      "flex": null,
      "flex_flow": null,
      "grid_area": null,
      "grid_auto_columns": null,
      "grid_auto_flow": null,
      "grid_auto_rows": null,
      "grid_column": null,
      "grid_gap": null,
      "grid_row": null,
      "grid_template_areas": null,
      "grid_template_columns": null,
      "grid_template_rows": null,
      "height": null,
      "justify_content": null,
      "justify_items": null,
      "left": null,
      "margin": null,
      "max_height": null,
      "max_width": null,
      "min_height": null,
      "min_width": null,
      "object_fit": null,
      "object_position": null,
      "order": null,
      "overflow": null,
      "overflow_x": null,
      "overflow_y": null,
      "padding": null,
      "right": null,
      "top": null,
      "visibility": null,
      "width": null
     }
    },
    "60ff3a09748945b4bf597da0b2d031cb": {
     "model_module": "@jupyter-widgets/controls",
     "model_module_version": "1.5.0",
     "model_name": "DescriptionStyleModel",
     "state": {
      "_model_module": "@jupyter-widgets/controls",
      "_model_module_version": "1.5.0",
      "_model_name": "DescriptionStyleModel",
      "_view_count": null,
      "_view_module": "@jupyter-widgets/base",
      "_view_module_version": "1.2.0",
      "_view_name": "StyleView",
      "description_width": ""
     }
    },
    "6b3a0b79a02c4f749692896248b9f15d": {
     "model_module": "@jupyter-widgets/controls",
     "model_module_version": "1.5.0",
     "model_name": "DescriptionStyleModel",
     "state": {
      "_model_module": "@jupyter-widgets/controls",
      "_model_module_version": "1.5.0",
      "_model_name": "DescriptionStyleModel",
      "_view_count": null,
      "_view_module": "@jupyter-widgets/base",
      "_view_module_version": "1.2.0",
      "_view_name": "StyleView",
      "description_width": ""
     }
    },
    "6f8577fbd8cf4cb78573a0f596a0e2ed": {
     "model_module": "@jupyter-widgets/controls",
     "model_module_version": "1.5.0",
     "model_name": "HTMLModel",
     "state": {
      "_dom_classes": [],
      "_model_module": "@jupyter-widgets/controls",
      "_model_module_version": "1.5.0",
      "_model_name": "HTMLModel",
      "_view_count": null,
      "_view_module": "@jupyter-widgets/controls",
      "_view_module_version": "1.5.0",
      "_view_name": "HTMLView",
      "description": "",
      "description_tooltip": null,
      "layout": "IPY_MODEL_dfa7f4194e95499ba9e1f9db090e54f0",
      "placeholder": "​",
      "style": "IPY_MODEL_0871b2b1dcd34570b53bb6ee70f1a206",
      "value": "100%"
     }
    },
    "76ad2feb073a410c88aee8112762ab14": {
     "model_module": "@jupyter-widgets/controls",
     "model_module_version": "1.5.0",
     "model_name": "ProgressStyleModel",
     "state": {
      "_model_module": "@jupyter-widgets/controls",
      "_model_module_version": "1.5.0",
      "_model_name": "ProgressStyleModel",
      "_view_count": null,
      "_view_module": "@jupyter-widgets/base",
      "_view_module_version": "1.2.0",
      "_view_name": "StyleView",
      "bar_color": null,
      "description_width": ""
     }
    },
    "787682aa97744dfbbd4b618efac4388b": {
     "model_module": "@jupyter-widgets/controls",
     "model_module_version": "1.5.0",
     "model_name": "HTMLModel",
     "state": {
      "_dom_classes": [],
      "_model_module": "@jupyter-widgets/controls",
      "_model_module_version": "1.5.0",
      "_model_name": "HTMLModel",
      "_view_count": null,
      "_view_module": "@jupyter-widgets/controls",
      "_view_module_version": "1.5.0",
      "_view_name": "HTMLView",
      "description": "",
      "description_tooltip": null,
      "layout": "IPY_MODEL_c84eff4a339d45ce9a73f88e40de10e4",
      "placeholder": "​",
      "style": "IPY_MODEL_9631b89ada2647389445955b0a26a112",
      "value": " 242/242 [00:05&lt;00:00, 335.84it/s]"
     }
    },
    "7f43ca551d304b47b6e438634b0ff603": {
     "model_module": "@jupyter-widgets/controls",
     "model_module_version": "1.5.0",
     "model_name": "DescriptionStyleModel",
     "state": {
      "_model_module": "@jupyter-widgets/controls",
      "_model_module_version": "1.5.0",
      "_model_name": "DescriptionStyleModel",
      "_view_count": null,
      "_view_module": "@jupyter-widgets/base",
      "_view_module_version": "1.2.0",
      "_view_name": "StyleView",
      "description_width": ""
     }
    },
    "8478a865d7014bf998c4b4c4a2e5a7ed": {
     "model_module": "@jupyter-widgets/controls",
     "model_module_version": "1.5.0",
     "model_name": "ProgressStyleModel",
     "state": {
      "_model_module": "@jupyter-widgets/controls",
      "_model_module_version": "1.5.0",
      "_model_name": "ProgressStyleModel",
      "_view_count": null,
      "_view_module": "@jupyter-widgets/base",
      "_view_module_version": "1.2.0",
      "_view_name": "StyleView",
      "bar_color": null,
      "description_width": ""
     }
    },
    "84f73c70ba6d44c8abdf4798714d9492": {
     "model_module": "@jupyter-widgets/controls",
     "model_module_version": "1.5.0",
     "model_name": "HTMLModel",
     "state": {
      "_dom_classes": [],
      "_model_module": "@jupyter-widgets/controls",
      "_model_module_version": "1.5.0",
      "_model_name": "HTMLModel",
      "_view_count": null,
      "_view_module": "@jupyter-widgets/controls",
      "_view_module_version": "1.5.0",
      "_view_name": "HTMLView",
      "description": "",
      "description_tooltip": null,
      "layout": "IPY_MODEL_f42a69e08c15444e95fdeab6320a22d1",
      "placeholder": "​",
      "style": "IPY_MODEL_d164b8030885402192419e0e11e18377",
      "value": ""
     }
    },
    "85191e95c1944e85847c36557e703af0": {
     "model_module": "@jupyter-widgets/controls",
     "model_module_version": "1.5.0",
     "model_name": "HTMLModel",
     "state": {
      "_dom_classes": [],
      "_model_module": "@jupyter-widgets/controls",
      "_model_module_version": "1.5.0",
      "_model_name": "HTMLModel",
      "_view_count": null,
      "_view_module": "@jupyter-widgets/controls",
      "_view_module_version": "1.5.0",
      "_view_name": "HTMLView",
      "description": "",
      "description_tooltip": null,
      "layout": "IPY_MODEL_12e79ad1befa44158a8e7a250f39dbf1",
      "placeholder": "​",
      "style": "IPY_MODEL_520122f6d4724b2aa4c1563d02ba0cf8",
      "value": " 13/? [00:00&lt;00:00, 224.17it/s]"
     }
    },
    "863f2a46e1054c708f8e89781de48071": {
     "model_module": "@jupyter-widgets/controls",
     "model_module_version": "1.5.0",
     "model_name": "HTMLModel",
     "state": {
      "_dom_classes": [],
      "_model_module": "@jupyter-widgets/controls",
      "_model_module_version": "1.5.0",
      "_model_name": "HTMLModel",
      "_view_count": null,
      "_view_module": "@jupyter-widgets/controls",
      "_view_module_version": "1.5.0",
      "_view_name": "HTMLView",
      "description": "",
      "description_tooltip": null,
      "layout": "IPY_MODEL_60cefb4eee6a49398ab4c5168f8fd0f6",
      "placeholder": "​",
      "style": "IPY_MODEL_ef9c7e1ddb4e4729b9e0f93d33f7e40c",
      "value": " 242/242 [00:01&lt;00:00, 478.56it/s]"
     }
    },
    "86d92bea3fdb4baeba184bb9a998a0f6": {
     "model_module": "catboost-widget",
     "model_module_version": "^1.0.0",
     "model_name": "CatboostWidgetModel",
     "state": {
      "_dom_classes": [],
      "_model_module": "catboost-widget",
      "_model_module_version": "^1.0.0",
      "_model_name": "CatboostWidgetModel",
      "_view_count": null,
      "_view_module": "catboost-widget",
      "_view_module_version": "^1.0.0",
      "_view_name": "CatboostWidgetView",
      "data": {
       "catboost_info": {
        "content": {
         "data": {
          "iterations": [
           {
            "iteration": 0,
            "learn": [
             1.583383272
            ],
            "passed_time": 0.3105233567,
            "remaining_time": 310.2128333,
            "test": [
             1.581875521
            ]
           },
           {
            "iteration": 1,
            "learn": [
             1.403580974
            ],
            "passed_time": 0.4274389176,
            "remaining_time": 213.2920199,
            "test": [
             1.402317969
            ]
           },
           {
            "iteration": 2,
            "learn": [
             1.281744485
            ],
            "passed_time": 0.5427307641,
            "remaining_time": 180.3675239,
            "test": [
             1.280666667
            ]
           },
           {
            "iteration": 3,
            "learn": [
             1.194583364
            ],
            "passed_time": 0.6122029145,
            "remaining_time": 152.4385257,
            "test": [
             1.19385638
            ]
           },
           {
            "iteration": 4,
            "learn": [
             1.128716085
            ],
            "passed_time": 0.6885443889,
            "remaining_time": 137.0203334,
            "test": [
             1.127938802
            ]
           },
           {
            "iteration": 5,
            "learn": [
             1.079157169
            ],
            "passed_time": 0.7622411397,
            "remaining_time": 126.2779488,
            "test": [
             1.078606901
            ]
           },
           {
            "iteration": 6,
            "learn": [
             1.04208796
            ],
            "passed_time": 0.8385967428,
            "remaining_time": 118.9609379,
            "test": [
             1.041494596
            ]
           },
           {
            "iteration": 7,
            "learn": [
             1.01018796
            ],
            "passed_time": 0.9088083948,
            "remaining_time": 112.692241,
            "test": [
             1.009610352
            ]
           },
           {
            "iteration": 8,
            "learn": [
             0.9852004596
            ],
            "passed_time": 0.9844790365,
            "remaining_time": 108.4020806,
            "test": [
             0.9850445964
            ]
           },
           {
            "iteration": 9,
            "learn": [
             0.9642413603
            ],
            "passed_time": 1.058009026,
            "remaining_time": 104.7428935,
            "test": [
             0.9643630208
            ]
           },
           {
            "iteration": 10,
            "learn": [
             0.9463323529
            ],
            "passed_time": 1.135169807,
            "remaining_time": 102.0620854,
            "test": [
             0.9470633464
            ]
           },
           {
            "iteration": 11,
            "learn": [
             0.9296355699
            ],
            "passed_time": 1.209666708,
            "remaining_time": 99.59589225,
            "test": [
             0.9306745443
            ]
           },
           {
            "iteration": 12,
            "learn": [
             0.9168048713
            ],
            "passed_time": 1.294606562,
            "remaining_time": 98.29051361,
            "test": [
             0.9181405599
            ]
           },
           {
            "iteration": 13,
            "learn": [
             0.9047090993
            ],
            "passed_time": 1.354357859,
            "remaining_time": 95.38548923,
            "test": [
             0.9065590495
            ]
           },
           {
            "iteration": 14,
            "learn": [
             0.8972852941
            ],
            "passed_time": 1.434775609,
            "remaining_time": 94.21693168,
            "test": [
             0.8993425781
            ]
           },
           {
            "iteration": 15,
            "learn": [
             0.888522886
            ],
            "passed_time": 1.496776931,
            "remaining_time": 92.05178123,
            "test": [
             0.8910697266
            ]
           },
           {
            "iteration": 16,
            "learn": [
             0.8820685662
            ],
            "passed_time": 1.569556233,
            "remaining_time": 90.75728099,
            "test": [
             0.8848516927
            ]
           },
           {
            "iteration": 17,
            "learn": [
             0.8766369485
            ],
            "passed_time": 1.637723284,
            "remaining_time": 89.34690358,
            "test": [
             0.8794742839
            ]
           },
           {
            "iteration": 18,
            "learn": [
             0.8724056066
            ],
            "passed_time": 1.704376784,
            "remaining_time": 87.99966449,
            "test": [
             0.8755445964
            ]
           },
           {
            "iteration": 19,
            "learn": [
             0.8674522059
            ],
            "passed_time": 1.778326841,
            "remaining_time": 87.1380152,
            "test": [
             0.8708257161
            ]
           },
           {
            "iteration": 20,
            "learn": [
             0.8647099265
            ],
            "passed_time": 1.848274759,
            "remaining_time": 86.16480898,
            "test": [
             0.8684300781
            ]
           },
           {
            "iteration": 21,
            "learn": [
             0.8612336397
            ],
            "passed_time": 1.91990608,
            "remaining_time": 85.34855211,
            "test": [
             0.8653342448
            ]
           },
           {
            "iteration": 22,
            "learn": [
             0.8583856618
            ],
            "passed_time": 1.986977417,
            "remaining_time": 84.40334505,
            "test": [
             0.8627324219
            ]
           },
           {
            "iteration": 23,
            "learn": [
             0.855873989
            ],
            "passed_time": 2.052621084,
            "remaining_time": 83.47325741,
            "test": [
             0.860554362
            ]
           },
           {
            "iteration": 24,
            "learn": [
             0.8533361213
            ],
            "passed_time": 2.113359977,
            "remaining_time": 82.4210391,
            "test": [
             0.8583257813
            ]
           },
           {
            "iteration": 25,
            "learn": [
             0.851796875
            ],
            "passed_time": 2.164272822,
            "remaining_time": 81.07698956,
            "test": [
             0.8568625651
            ]
           },
           {
            "iteration": 26,
            "learn": [
             0.8491665441
            ],
            "passed_time": 2.232774393,
            "remaining_time": 80.4625735,
            "test": [
             0.8543016276
            ]
           },
           {
            "iteration": 27,
            "learn": [
             0.8469133272
            ],
            "passed_time": 2.300871157,
            "remaining_time": 79.87309874,
            "test": [
             0.8522934896
            ]
           },
           {
            "iteration": 28,
            "learn": [
             0.8456900735
            ],
            "passed_time": 2.371698378,
            "remaining_time": 79.41100432,
            "test": [
             0.8511952474
            ]
           },
           {
            "iteration": 29,
            "learn": [
             0.843121875
            ],
            "passed_time": 2.4563892,
            "remaining_time": 79.42325081,
            "test": [
             0.8491466146
            ]
           },
           {
            "iteration": 30,
            "learn": [
             0.8416685662
            ],
            "passed_time": 2.523121061,
            "remaining_time": 78.86788091,
            "test": [
             0.8479188802
            ]
           },
           {
            "iteration": 31,
            "learn": [
             0.8404736213
            ],
            "passed_time": 2.585823948,
            "remaining_time": 78.22117442,
            "test": [
             0.846923763
            ]
           },
           {
            "iteration": 32,
            "learn": [
             0.8386127757
            ],
            "passed_time": 2.654507806,
            "remaining_time": 77.78512268,
            "test": [
             0.8456425781
            ]
           },
           {
            "iteration": 33,
            "learn": [
             0.8372085478
            ],
            "passed_time": 2.721056,
            "remaining_time": 77.31000282,
            "test": [
             0.8446164063
            ]
           },
           {
            "iteration": 34,
            "learn": [
             0.8353807904
            ],
            "passed_time": 2.794381478,
            "remaining_time": 77.04508933,
            "test": [
             0.843088737
            ]
           },
           {
            "iteration": 35,
            "learn": [
             0.8339080882
            ],
            "passed_time": 2.866262842,
            "remaining_time": 76.75214945,
            "test": [
             0.8419345052
            ]
           },
           {
            "iteration": 36,
            "learn": [
             0.8328726103
            ],
            "passed_time": 2.931854648,
            "remaining_time": 76.30746018,
            "test": [
             0.8410822917
            ]
           },
           {
            "iteration": 37,
            "learn": [
             0.8321004596
            ],
            "passed_time": 2.998474255,
            "remaining_time": 75.90874299,
            "test": [
             0.8404460938
            ]
           },
           {
            "iteration": 38,
            "learn": [
             0.8309788603
            ],
            "passed_time": 3.067948491,
            "remaining_time": 75.59739743,
            "test": [
             0.8396992839
            ]
           },
           {
            "iteration": 39,
            "learn": [
             0.8298545956
            ],
            "passed_time": 3.135884861,
            "remaining_time": 75.26123666,
            "test": [
             0.8389484375
            ]
           },
           {
            "iteration": 40,
            "learn": [
             0.8287028493
            ],
            "passed_time": 3.208940197,
            "remaining_time": 75.05789388,
            "test": [
             0.8380670573
            ]
           },
           {
            "iteration": 41,
            "learn": [
             0.8279040441
            ],
            "passed_time": 3.264130915,
            "remaining_time": 74.45327182,
            "test": [
             0.8374420573
            ]
           },
           {
            "iteration": 42,
            "learn": [
             0.8268398897
            ],
            "passed_time": 3.343168007,
            "remaining_time": 74.40492517,
            "test": [
             0.8365997396
            ]
           },
           {
            "iteration": 43,
            "learn": [
             0.8259337316
            ],
            "passed_time": 3.4033073,
            "remaining_time": 73.94458588,
            "test": [
             0.8359136719
            ]
           },
           {
            "iteration": 44,
            "learn": [
             0.8251419118
            ],
            "passed_time": 3.476739969,
            "remaining_time": 73.78414824,
            "test": [
             0.835295638
            ]
           },
           {
            "iteration": 45,
            "learn": [
             0.8241621324
            ],
            "passed_time": 3.540579695,
            "remaining_time": 73.42854412,
            "test": [
             0.8346084635
            ]
           },
           {
            "iteration": 46,
            "learn": [
             0.8234634191
            ],
            "passed_time": 3.606447704,
            "remaining_time": 73.12648217,
            "test": [
             0.8340820964
            ]
           },
           {
            "iteration": 47,
            "learn": [
             0.8229618566
            ],
            "passed_time": 3.664136481,
            "remaining_time": 72.67204021,
            "test": [
             0.8337535807
            ]
           },
           {
            "iteration": 48,
            "learn": [
             0.8217756434
            ],
            "passed_time": 3.741595568,
            "remaining_time": 72.61749766,
            "test": [
             0.8328128906
            ]
           },
           {
            "iteration": 49,
            "learn": [
             0.8209629596
            ],
            "passed_time": 3.802149629,
            "remaining_time": 72.24084295,
            "test": [
             0.8322164063
            ]
           },
           {
            "iteration": 50,
            "learn": [
             0.8202284007
            ],
            "passed_time": 3.871350538,
            "remaining_time": 72.03748353,
            "test": [
             0.8317830078
            ]
           },
           {
            "iteration": 51,
            "learn": [
             0.8194511029
            ],
            "passed_time": 3.93719621,
            "remaining_time": 71.77811552,
            "test": [
             0.8311414062
            ]
           },
           {
            "iteration": 52,
            "learn": [
             0.8182714154
            ],
            "passed_time": 4.014238349,
            "remaining_time": 71.72610786,
            "test": [
             0.8301513672
            ]
           },
           {
            "iteration": 53,
            "learn": [
             0.8172700368
            ],
            "passed_time": 4.092525835,
            "remaining_time": 71.69498963,
            "test": [
             0.8296298828
            ]
           },
           {
            "iteration": 54,
            "learn": [
             0.8163102941
            ],
            "passed_time": 4.163844909,
            "remaining_time": 71.54242616,
            "test": [
             0.8290427734
            ]
           },
           {
            "iteration": 55,
            "learn": [
             0.8154574449
            ],
            "passed_time": 4.236005634,
            "remaining_time": 71.40695211,
            "test": [
             0.8283804688
            ]
           },
           {
            "iteration": 56,
            "learn": [
             0.8147470588
            ],
            "passed_time": 4.315377594,
            "remaining_time": 71.39300124,
            "test": [
             0.8280447266
            ]
           },
           {
            "iteration": 57,
            "learn": [
             0.8139799632
            ],
            "passed_time": 4.382958386,
            "remaining_time": 71.18528965,
            "test": [
             0.8275438802
            ]
           },
           {
            "iteration": 58,
            "learn": [
             0.8133517463
            ],
            "passed_time": 4.465006435,
            "remaining_time": 71.21306873,
            "test": [
             0.8272686849
            ]
           },
           {
            "iteration": 59,
            "learn": [
             0.8127986213
            ],
            "passed_time": 4.530201327,
            "remaining_time": 70.97315412,
            "test": [
             0.8269091146
            ]
           },
           {
            "iteration": 60,
            "learn": [
             0.8119235294
            ],
            "passed_time": 4.594289261,
            "remaining_time": 70.72192813,
            "test": [
             0.82625625
            ]
           },
           {
            "iteration": 61,
            "learn": [
             0.8111765625
            ],
            "passed_time": 4.668282696,
            "remaining_time": 70.6265995,
            "test": [
             0.8257424479
            ]
           },
           {
            "iteration": 62,
            "learn": [
             0.8106397059
            ],
            "passed_time": 4.731458074,
            "remaining_time": 70.37105104,
            "test": [
             0.8254555339
            ]
           },
           {
            "iteration": 63,
            "learn": [
             0.8100730699
            ],
            "passed_time": 4.800000905,
            "remaining_time": 70.20001324,
            "test": [
             0.8251297526
            ]
           },
           {
            "iteration": 64,
            "learn": [
             0.8094022059
            ],
            "passed_time": 4.8725734,
            "remaining_time": 70.09009429,
            "test": [
             0.824786849
            ]
           },
           {
            "iteration": 65,
            "learn": [
             0.8089787684
            ],
            "passed_time": 4.92598429,
            "remaining_time": 69.71014131,
            "test": [
             0.8244848307
            ]
           },
           {
            "iteration": 66,
            "learn": [
             0.8082323529
            ],
            "passed_time": 4.997359216,
            "remaining_time": 69.59009177,
            "test": [
             0.8240501302
            ]
           },
           {
            "iteration": 67,
            "learn": [
             0.8076347426
            ],
            "passed_time": 5.066492809,
            "remaining_time": 69.44075438,
            "test": [
             0.8237891927
            ]
           },
           {
            "iteration": 68,
            "learn": [
             0.80694375
            ],
            "passed_time": 5.137446782,
            "remaining_time": 69.31830368,
            "test": [
             0.8234633464
            ]
           },
           {
            "iteration": 69,
            "learn": [
             0.8062008272
            ],
            "passed_time": 5.203812218,
            "remaining_time": 69.13636232,
            "test": [
             0.8229895182
            ]
           },
           {
            "iteration": 70,
            "learn": [
             0.8055217831
            ],
            "passed_time": 5.276465554,
            "remaining_time": 69.03995071,
            "test": [
             0.8226224609
            ]
           },
           {
            "iteration": 71,
            "learn": [
             0.8048658088
            ],
            "passed_time": 5.364633831,
            "remaining_time": 69.14416938,
            "test": [
             0.8222895833
            ]
           },
           {
            "iteration": 72,
            "learn": [
             0.8040339154
            ],
            "passed_time": 5.431894962,
            "remaining_time": 68.97762507,
            "test": [
             0.8216513672
            ]
           },
           {
            "iteration": 73,
            "learn": [
             0.8034839154
            ],
            "passed_time": 5.493703931,
            "remaining_time": 68.74553838,
            "test": [
             0.8213940755
            ]
           },
           {
            "iteration": 74,
            "learn": [
             0.8028852941
            ],
            "passed_time": 5.56450343,
            "remaining_time": 68.62887564,
            "test": [
             0.8210759115
            ]
           },
           {
            "iteration": 75,
            "learn": [
             0.8022409926
            ],
            "passed_time": 5.641696349,
            "remaining_time": 68.59115035,
            "test": [
             0.8207462891
            ]
           },
           {
            "iteration": 76,
            "learn": [
             0.8016647059
            ],
            "passed_time": 5.712054117,
            "remaining_time": 68.47046689,
            "test": [
             0.8204393229
            ]
           },
           {
            "iteration": 77,
            "learn": [
             0.801058364
            ],
            "passed_time": 5.776954214,
            "remaining_time": 68.28656135,
            "test": [
             0.8201401042
            ]
           },
           {
            "iteration": 78,
            "learn": [
             0.8005625919
            ],
            "passed_time": 5.852328431,
            "remaining_time": 68.22777829,
            "test": [
             0.8200761068
            ]
           },
           {
            "iteration": 79,
            "learn": [
             0.7999862132
            ],
            "passed_time": 5.922662322,
            "remaining_time": 68.1106167,
            "test": [
             0.8198284505
            ]
           },
           {
            "iteration": 80,
            "learn": [
             0.7995224265
            ],
            "passed_time": 5.98825683,
            "remaining_time": 67.94083984,
            "test": [
             0.8196171875
            ]
           },
           {
            "iteration": 81,
            "learn": [
             0.7991443934
            ],
            "passed_time": 6.046314775,
            "remaining_time": 67.68923127,
            "test": [
             0.8194672526
            ]
           },
           {
            "iteration": 82,
            "learn": [
             0.7986445772
            ],
            "passed_time": 6.114956788,
            "remaining_time": 67.55922138,
            "test": [
             0.8191498047
            ]
           },
           {
            "iteration": 83,
            "learn": [
             0.7983097426
            ],
            "passed_time": 6.176895669,
            "remaining_time": 67.35757658,
            "test": [
             0.819018099
            ]
           },
           {
            "iteration": 84,
            "learn": [
             0.7980039522
            ],
            "passed_time": 6.241086164,
            "remaining_time": 67.18345694,
            "test": [
             0.8188679036
            ]
           },
           {
            "iteration": 85,
            "learn": [
             0.7972171875
            ],
            "passed_time": 6.310750517,
            "remaining_time": 67.07006945,
            "test": [
             0.8183635417
            ]
           },
           {
            "iteration": 86,
            "learn": [
             0.796847886
            ],
            "passed_time": 6.396768313,
            "remaining_time": 67.12930425,
            "test": [
             0.8182076823
            ]
           },
           {
            "iteration": 87,
            "learn": [
             0.7964845588
            ],
            "passed_time": 6.467180649,
            "remaining_time": 67.02350855,
            "test": [
             0.8181707682
            ]
           },
           {
            "iteration": 88,
            "learn": [
             0.7959440257
            ],
            "passed_time": 6.530632163,
            "remaining_time": 66.84725731,
            "test": [
             0.8177491536
            ]
           },
           {
            "iteration": 89,
            "learn": [
             0.7956354779
            ],
            "passed_time": 6.607114978,
            "remaining_time": 66.80527367,
            "test": [
             0.8176403646
            ]
           },
           {
            "iteration": 90,
            "learn": [
             0.7952363051
            ],
            "passed_time": 6.66864145,
            "remaining_time": 66.61313273,
            "test": [
             0.8175195964
            ]
           },
           {
            "iteration": 91,
            "learn": [
             0.7948440257
            ],
            "passed_time": 6.736228168,
            "remaining_time": 66.48364323,
            "test": [
             0.8172513021
            ]
           },
           {
            "iteration": 92,
            "learn": [
             0.7945278493
            ],
            "passed_time": 6.795904551,
            "remaining_time": 66.27833794,
            "test": [
             0.8171222656
            ]
           },
           {
            "iteration": 93,
            "learn": [
             0.794214614
            ],
            "passed_time": 6.855746964,
            "remaining_time": 66.07773137,
            "test": [
             0.8169212891
            ]
           },
           {
            "iteration": 94,
            "learn": [
             0.7939887868
            ],
            "passed_time": 6.918486818,
            "remaining_time": 65.90769021,
            "test": [
             0.8169416667
            ]
           },
           {
            "iteration": 95,
            "learn": [
             0.7935862132
            ],
            "passed_time": 7.003668429,
            "remaining_time": 65.95121104,
            "test": [
             0.816739974
            ]
           },
           {
            "iteration": 96,
            "learn": [
             0.7932648897
            ],
            "passed_time": 7.11641066,
            "remaining_time": 66.24864769,
            "test": [
             0.8166777344
            ]
           },
           {
            "iteration": 97,
            "learn": [
             0.79295
            ],
            "passed_time": 7.250877015,
            "remaining_time": 66.73766395,
            "test": [
             0.8165479818
            ]
           },
           {
            "iteration": 98,
            "learn": [
             0.7926358456
            ],
            "passed_time": 7.378553783,
            "remaining_time": 67.15229251,
            "test": [
             0.8164298177
            ]
           },
           {
            "iteration": 99,
            "learn": [
             0.7918905331
            ],
            "passed_time": 7.493032957,
            "remaining_time": 67.43729661,
            "test": [
             0.816153776
            ]
           },
           {
            "iteration": 100,
            "learn": [
             0.7915480699
            ],
            "passed_time": 7.607381054,
            "remaining_time": 67.71322344,
            "test": [
             0.8161041667
            ]
           },
           {
            "iteration": 101,
            "learn": [
             0.7910487132
            ],
            "passed_time": 7.735069363,
            "remaining_time": 68.098944,
            "test": [
             0.8158261068
            ]
           },
           {
            "iteration": 102,
            "learn": [
             0.7908352022
            ],
            "passed_time": 7.866859331,
            "remaining_time": 68.51041572,
            "test": [
             0.8157867839
            ]
           },
           {
            "iteration": 103,
            "learn": [
             0.7903920956
            ],
            "passed_time": 8.011942046,
            "remaining_time": 69.02596224,
            "test": [
             0.8155729167
            ]
           },
           {
            "iteration": 104,
            "learn": [
             0.7897535846
            ],
            "passed_time": 8.161496538,
            "remaining_time": 69.56704192,
            "test": [
             0.8152017578
            ]
           },
           {
            "iteration": 105,
            "learn": [
             0.7893923713
            ],
            "passed_time": 8.300216205,
            "remaining_time": 70.00371025,
            "test": [
             0.8150625
            ]
           },
           {
            "iteration": 106,
            "learn": [
             0.7890730699
            ],
            "passed_time": 8.460574704,
            "remaining_time": 70.61021692,
            "test": [
             0.8149498047
            ]
           },
           {
            "iteration": 107,
            "learn": [
             0.788805239
            ],
            "passed_time": 8.600897741,
            "remaining_time": 71.03704431,
            "test": [
             0.8149960286
            ]
           },
           {
            "iteration": 108,
            "learn": [
             0.7884299632
            ],
            "passed_time": 8.719833869,
            "remaining_time": 71.27864199,
            "test": [
             0.8149211589
            ]
           },
           {
            "iteration": 109,
            "learn": [
             0.7880662684
            ],
            "passed_time": 8.838460049,
            "remaining_time": 71.51117676,
            "test": [
             0.8147951172
            ]
           },
           {
            "iteration": 110,
            "learn": [
             0.787817739
            ],
            "passed_time": 8.925619196,
            "remaining_time": 71.48536455,
            "test": [
             0.814747526
            ]
           },
           {
            "iteration": 111,
            "learn": [
             0.7876106618
            ],
            "passed_time": 9.032306197,
            "remaining_time": 71.61328485,
            "test": [
             0.814663151
            ]
           },
           {
            "iteration": 112,
            "learn": [
             0.7874005515
            ],
            "passed_time": 9.16617923,
            "remaining_time": 71.95045112,
            "test": [
             0.8146154297
            ]
           },
           {
            "iteration": 113,
            "learn": [
             0.7869931985
            ],
            "passed_time": 9.31286583,
            "remaining_time": 72.37893969,
            "test": [
             0.8144804688
            ]
           },
           {
            "iteration": 114,
            "learn": [
             0.7867965993
            ],
            "passed_time": 9.422016248,
            "remaining_time": 72.50855982,
            "test": [
             0.814389388
            ]
           },
           {
            "iteration": 115,
            "learn": [
             0.7864279412
            ],
            "passed_time": 9.53106591,
            "remaining_time": 72.63329538,
            "test": [
             0.8141977865
            ]
           },
           {
            "iteration": 116,
            "learn": [
             0.7861001838
            ],
            "passed_time": 9.650727676,
            "remaining_time": 72.83412426,
            "test": [
             0.8141063802
            ]
           },
           {
            "iteration": 117,
            "learn": [
             0.7856636029
            ],
            "passed_time": 9.79272795,
            "remaining_time": 73.19649196,
            "test": [
             0.8139852214
            ]
           },
           {
            "iteration": 118,
            "learn": [
             0.7852715993
            ],
            "passed_time": 9.929072221,
            "remaining_time": 73.50850947,
            "test": [
             0.8137332682
            ]
           },
           {
            "iteration": 119,
            "learn": [
             0.7850017463
            ],
            "passed_time": 10.05831689,
            "remaining_time": 73.76099052,
            "test": [
             0.8136503906
            ]
           },
           {
            "iteration": 120,
            "learn": [
             0.7845913603
            ],
            "passed_time": 10.15928251,
            "remaining_time": 73.80172996,
            "test": [
             0.8136466797
            ]
           },
           {
            "iteration": 121,
            "learn": [
             0.7841766544
            ],
            "passed_time": 10.30991427,
            "remaining_time": 74.19757976,
            "test": [
             0.8134486979
            ]
           },
           {
            "iteration": 122,
            "learn": [
             0.7836081801
            ],
            "passed_time": 10.4352409,
            "remaining_time": 74.40411599,
            "test": [
             0.8132436198
            ]
           },
           {
            "iteration": 123,
            "learn": [
             0.7831561581
            ],
            "passed_time": 10.53704182,
            "remaining_time": 74.4391019,
            "test": [
             0.8130510417
            ]
           },
           {
            "iteration": 124,
            "learn": [
             0.7830433824
            ],
            "passed_time": 10.58479041,
            "remaining_time": 74.09353289,
            "test": [
             0.8130265625
            ]
           },
           {
            "iteration": 125,
            "learn": [
             0.7827102941
            ],
            "passed_time": 10.65505089,
            "remaining_time": 73.90884507,
            "test": [
             0.8129468099
            ]
           },
           {
            "iteration": 126,
            "learn": [
             0.7823869485
            ],
            "passed_time": 10.72609423,
            "remaining_time": 73.73134064,
            "test": [
             0.8128582031
            ]
           },
           {
            "iteration": 127,
            "learn": [
             0.7820675551
            ],
            "passed_time": 10.78391058,
            "remaining_time": 73.46539083,
            "test": [
             0.812688151
            ]
           },
           {
            "iteration": 128,
            "learn": [
             0.7816923713
            ],
            "passed_time": 10.84912481,
            "remaining_time": 73.2526179,
            "test": [
             0.8125200521
            ]
           },
           {
            "iteration": 129,
            "learn": [
             0.781336489
            ],
            "passed_time": 10.91861636,
            "remaining_time": 73.07074027,
            "test": [
             0.812489388
            ]
           },
           {
            "iteration": 130,
            "learn": [
             0.7810720588
            ],
            "passed_time": 10.9908684,
            "remaining_time": 72.90889041,
            "test": [
             0.812371224
            ]
           },
           {
            "iteration": 131,
            "learn": [
             0.7807586397
            ],
            "passed_time": 11.05383372,
            "remaining_time": 72.68733084,
            "test": [
             0.8122251953
            ]
           },
           {
            "iteration": 132,
            "learn": [
             0.7802854779
            ],
            "passed_time": 11.12719797,
            "remaining_time": 72.53594464,
            "test": [
             0.8120738281
            ]
           },
           {
            "iteration": 133,
            "learn": [
             0.7800236213
            ],
            "passed_time": 11.19791677,
            "remaining_time": 72.36862632,
            "test": [
             0.8118884115
            ]
           },
           {
            "iteration": 134,
            "learn": [
             0.7797772978
            ],
            "passed_time": 11.25969928,
            "remaining_time": 72.14548059,
            "test": [
             0.8117489583
            ]
           },
           {
            "iteration": 135,
            "learn": [
             0.7796032169
            ],
            "passed_time": 11.3177638,
            "remaining_time": 71.90108766,
            "test": [
             0.811682487
            ]
           },
           {
            "iteration": 136,
            "learn": [
             0.7792061581
            ],
            "passed_time": 11.39300744,
            "remaining_time": 71.76763084,
            "test": [
             0.8116082682
            ]
           },
           {
            "iteration": 137,
            "learn": [
             0.7789107537
            ],
            "passed_time": 11.47090786,
            "remaining_time": 71.65161287,
            "test": [
             0.8115320964
            ]
           },
           {
            "iteration": 138,
            "learn": [
             0.7785897978
            ],
            "passed_time": 11.56271174,
            "remaining_time": 71.62226482,
            "test": [
             0.8115161458
            ]
           },
           {
            "iteration": 139,
            "learn": [
             0.7782700368
            ],
            "passed_time": 11.63553309,
            "remaining_time": 71.47541757,
            "test": [
             0.811455599
            ]
           },
           {
            "iteration": 140,
            "learn": [
             0.7780974265
            ],
            "passed_time": 11.69472164,
            "remaining_time": 71.24656657,
            "test": [
             0.8114132161
            ]
           },
           {
            "iteration": 141,
            "learn": [
             0.7776233456
            ],
            "passed_time": 11.7667927,
            "remaining_time": 71.09794464,
            "test": [
             0.8112304688
            ]
           },
           {
            "iteration": 142,
            "learn": [
             0.7772827206
            ],
            "passed_time": 11.8306224,
            "remaining_time": 70.90100279,
            "test": [
             0.8109811849
            ]
           },
           {
            "iteration": 143,
            "learn": [
             0.7769373162
            ],
            "passed_time": 11.89761357,
            "remaining_time": 70.7247029,
            "test": [
             0.8109098307
            ]
           },
           {
            "iteration": 144,
            "learn": [
             0.776782261
            ],
            "passed_time": 11.954716,
            "remaining_time": 70.49160123,
            "test": [
             0.8108841797
            ]
           },
           {
            "iteration": 145,
            "learn": [
             0.7766655331
            ],
            "passed_time": 12.00986738,
            "remaining_time": 70.24949825,
            "test": [
             0.8108339193
            ]
           },
           {
            "iteration": 146,
            "learn": [
             0.7764455882
            ],
            "passed_time": 12.07209936,
            "remaining_time": 70.05102553,
            "test": [
             0.8107828125
            ]
           },
           {
            "iteration": 147,
            "learn": [
             0.7761176471
            ],
            "passed_time": 12.13926857,
            "remaining_time": 69.88281637,
            "test": [
             0.8106435547
            ]
           },
           {
            "iteration": 148,
            "learn": [
             0.7759409007
            ],
            "passed_time": 12.2076219,
            "remaining_time": 69.72272644,
            "test": [
             0.8106138021
            ]
           },
           {
            "iteration": 149,
            "learn": [
             0.7756188419
            ],
            "passed_time": 12.27324262,
            "remaining_time": 69.54837482,
            "test": [
             0.8105076823
            ]
           },
           {
            "iteration": 150,
            "learn": [
             0.7751933824
            ],
            "passed_time": 12.35181677,
            "remaining_time": 69.44829431,
            "test": [
             0.8104775391
            ]
           },
           {
            "iteration": 151,
            "learn": [
             0.7749997243
            ],
            "passed_time": 12.40627224,
            "remaining_time": 69.21393988,
            "test": [
             0.8104499349
            ]
           },
           {
            "iteration": 152,
            "learn": [
             0.7745486213
            ],
            "passed_time": 12.48653714,
            "remaining_time": 69.12481671,
            "test": [
             0.8101863281
            ]
           },
           {
            "iteration": 153,
            "learn": [
             0.7743534007
            ],
            "passed_time": 12.5485362,
            "remaining_time": 68.93546511,
            "test": [
             0.8101329427
            ]
           },
           {
            "iteration": 154,
            "learn": [
             0.774163511
            ],
            "passed_time": 12.61818805,
            "remaining_time": 68.78947679,
            "test": [
             0.8101063151
            ]
           },
           {
            "iteration": 155,
            "learn": [
             0.7739569853
            ],
            "passed_time": 12.67437195,
            "remaining_time": 68.57160209,
            "test": [
             0.8100188151
            ]
           },
           {
            "iteration": 156,
            "learn": [
             0.7737454044
            ],
            "passed_time": 12.74219081,
            "remaining_time": 68.41826023,
            "test": [
             0.8100342448
            ]
           },
           {
            "iteration": 157,
            "learn": [
             0.7736430147
            ],
            "passed_time": 12.79842367,
            "remaining_time": 68.2042578,
            "test": [
             0.8099972656
            ]
           },
           {
            "iteration": 158,
            "learn": [
             0.7732863051
            ],
            "passed_time": 12.87624516,
            "remaining_time": 68.10642879,
            "test": [
             0.8098783203
            ]
           },
           {
            "iteration": 159,
            "learn": [
             0.7729548713
            ],
            "passed_time": 12.93930017,
            "remaining_time": 67.93132591,
            "test": [
             0.8098422526
            ]
           },
           {
            "iteration": 160,
            "learn": [
             0.7726329044
            ],
            "passed_time": 13.01606901,
            "remaining_time": 67.82908009,
            "test": [
             0.8096034505
            ]
           },
           {
            "iteration": 161,
            "learn": [
             0.7724065257
            ],
            "passed_time": 13.08272782,
            "remaining_time": 67.6748513,
            "test": [
             0.8095826172
            ]
           },
           {
            "iteration": 162,
            "learn": [
             0.7719790441
            ],
            "passed_time": 13.15111994,
            "remaining_time": 67.53059746,
            "test": [
             0.809603125
            ]
           },
           {
            "iteration": 163,
            "learn": [
             0.7717091912
            ],
            "passed_time": 13.22129383,
            "remaining_time": 67.39635149,
            "test": [
             0.8095902344
            ]
           },
           {
            "iteration": 164,
            "learn": [
             0.7714863051
            ],
            "passed_time": 13.28882745,
            "remaining_time": 67.24952074,
            "test": [
             0.8095726562
            ]
           },
           {
            "iteration": 165,
            "learn": [
             0.7712823529
            ],
            "passed_time": 13.35036505,
            "remaining_time": 67.07352079,
            "test": [
             0.8095257161
            ]
           },
           {
            "iteration": 166,
            "learn": [
             0.7710625
            ],
            "passed_time": 13.41670482,
            "remaining_time": 66.92284498,
            "test": [
             0.8094507161
            ]
           },
           {
            "iteration": 167,
            "learn": [
             0.7709386949
            ],
            "passed_time": 13.50242571,
            "remaining_time": 66.86915592,
            "test": [
             0.8094054687
            ]
           },
           {
            "iteration": 168,
            "learn": [
             0.7707161765
            ],
            "passed_time": 13.56451795,
            "remaining_time": 66.69890188,
            "test": [
             0.8093908854
            ]
           },
           {
            "iteration": 169,
            "learn": [
             0.7706329504
            ],
            "passed_time": 13.63190802,
            "remaining_time": 66.55578621,
            "test": [
             0.8093673177
            ]
           },
           {
            "iteration": 170,
            "learn": [
             0.7703820313
            ],
            "passed_time": 13.69417656,
            "remaining_time": 66.38872732,
            "test": [
             0.8093148437
            ]
           },
           {
            "iteration": 171,
            "learn": [
             0.7701568015
            ],
            "passed_time": 13.75709432,
            "remaining_time": 66.22601221,
            "test": [
             0.8093207682
            ]
           },
           {
            "iteration": 172,
            "learn": [
             0.769697886
            ],
            "passed_time": 13.83069321,
            "remaining_time": 66.11551033,
            "test": [
             0.8092472005
            ]
           },
           {
            "iteration": 173,
            "learn": [
             0.7694255515
            ],
            "passed_time": 13.89168732,
            "remaining_time": 65.94559615,
            "test": [
             0.8092429036
            ]
           },
           {
            "iteration": 174,
            "learn": [
             0.7692267004
            ],
            "passed_time": 13.95613262,
            "remaining_time": 65.79319662,
            "test": [
             0.8092595703
            ]
           },
           {
            "iteration": 175,
            "learn": [
             0.7687775735
            ],
            "passed_time": 14.02455788,
            "remaining_time": 65.66043009,
            "test": [
             0.8090560547
            ]
           },
           {
            "iteration": 176,
            "learn": [
             0.7684837316
            ],
            "passed_time": 14.08900149,
            "remaining_time": 65.50987698,
            "test": [
             0.8089694661
            ]
           },
           {
            "iteration": 177,
            "learn": [
             0.7682491728
            ],
            "passed_time": 14.14873082,
            "remaining_time": 65.33852097,
            "test": [
             0.8089304036
            ]
           },
           {
            "iteration": 178,
            "learn": [
             0.7680761949
            ],
            "passed_time": 14.20562056,
            "remaining_time": 65.15538815,
            "test": [
             0.8088954427
            ]
           },
           {
            "iteration": 179,
            "learn": [
             0.7678212316
            ],
            "passed_time": 14.27904768,
            "remaining_time": 65.04899498,
            "test": [
             0.8088411458
            ]
           },
           {
            "iteration": 180,
            "learn": [
             0.7676201287
            ],
            "passed_time": 14.341459,
            "remaining_time": 64.89312109,
            "test": [
             0.8087919271
            ]
           },
           {
            "iteration": 181,
            "learn": [
             0.767398943
            ],
            "passed_time": 14.40724024,
            "remaining_time": 64.75342041,
            "test": [
             0.8088446615
            ]
           },
           {
            "iteration": 182,
            "learn": [
             0.7672547794
            ],
            "passed_time": 14.46782841,
            "remaining_time": 64.59134323,
            "test": [
             0.8089197266
            ]
           },
           {
            "iteration": 183,
            "learn": [
             0.7669066636
            ],
            "passed_time": 14.54519623,
            "remaining_time": 64.5047833,
            "test": [
             0.8088815104
            ]
           },
           {
            "iteration": 184,
            "learn": [
             0.7666748621
            ],
            "passed_time": 14.62655563,
            "remaining_time": 64.43590723,
            "test": [
             0.8088799479
            ]
           },
           {
            "iteration": 185,
            "learn": [
             0.7664886489
            ],
            "passed_time": 14.69112298,
            "remaining_time": 64.29340919,
            "test": [
             0.8088044922
            ]
           },
           {
            "iteration": 186,
            "learn": [
             0.7662630055
            ],
            "passed_time": 14.75458676,
            "remaining_time": 64.14694672,
            "test": [
             0.8087427083
            ]
           },
           {
            "iteration": 187,
            "learn": [
             0.7659892004
            ],
            "passed_time": 14.81936984,
            "remaining_time": 64.00706547,
            "test": [
             0.8086593099
            ]
           },
           {
            "iteration": 188,
            "learn": [
             0.7658925551
            ],
            "passed_time": 14.87194285,
            "remaining_time": 63.81558544,
            "test": [
             0.8086218099
            ]
           },
           {
            "iteration": 189,
            "learn": [
             0.7655897518
            ],
            "passed_time": 14.94682216,
            "remaining_time": 63.72066289,
            "test": [
             0.8085661458
            ]
           },
           {
            "iteration": 190,
            "learn": [
             0.7654817096
            ],
            "passed_time": 15.00613524,
            "remaining_time": 63.56001784,
            "test": [
             0.8085689453
            ]
           },
           {
            "iteration": 191,
            "learn": [
             0.7652839614
            ],
            "passed_time": 15.06424044,
            "remaining_time": 63.39534518,
            "test": [
             0.8085209635
            ]
           },
           {
            "iteration": 192,
            "learn": [
             0.7652259651
            ],
            "passed_time": 15.11897588,
            "remaining_time": 63.21768669,
            "test": [
             0.8084973958
            ]
           },
           {
            "iteration": 193,
            "learn": [
             0.7650152574
            ],
            "passed_time": 15.19047804,
            "remaining_time": 63.11095514,
            "test": [
             0.80845
            ]
           },
           {
            "iteration": 194,
            "learn": [
             0.7647023897
            ],
            "passed_time": 15.26507673,
            "remaining_time": 63.01736805,
            "test": [
             0.808319987
            ]
           },
           {
            "iteration": 195,
            "learn": [
             0.7645964154
            ],
            "passed_time": 15.32010532,
            "remaining_time": 62.84369734,
            "test": [
             0.808318099
            ]
           },
           {
            "iteration": 196,
            "learn": [
             0.7644977941
            ],
            "passed_time": 15.37972554,
            "remaining_time": 62.68994727,
            "test": [
             0.8083279948
            ]
           },
           {
            "iteration": 197,
            "learn": [
             0.7642761029
            ],
            "passed_time": 15.43796209,
            "remaining_time": 62.53154341,
            "test": [
             0.8082289062
            ]
           },
           {
            "iteration": 198,
            "learn": [
             0.7641846507
            ],
            "passed_time": 15.51808608,
            "remaining_time": 62.46224599,
            "test": [
             0.8082292969
            ]
           },
           {
            "iteration": 199,
            "learn": [
             0.7640045496
            ],
            "passed_time": 15.56866685,
            "remaining_time": 62.27466742,
            "test": [
             0.8081645182
            ]
           },
           {
            "iteration": 200,
            "learn": [
             0.7636966452
            ],
            "passed_time": 15.65861637,
            "remaining_time": 62.24494768,
            "test": [
             0.8081345052
            ]
           },
           {
            "iteration": 201,
            "learn": [
             0.7636283548
            ],
            "passed_time": 15.70638965,
            "remaining_time": 62.04801458,
            "test": [
             0.8081339193
            ]
           },
           {
            "iteration": 202,
            "learn": [
             0.7633811121
            ],
            "passed_time": 15.77977409,
            "remaining_time": 61.9531032,
            "test": [
             0.808053125
            ]
           },
           {
            "iteration": 203,
            "learn": [
             0.763195818
            ],
            "passed_time": 15.83620956,
            "remaining_time": 61.79226868,
            "test": [
             0.8080380208
            ]
           },
           {
            "iteration": 204,
            "learn": [
             0.7629397978
            ],
            "passed_time": 15.89557547,
            "remaining_time": 61.64381708,
            "test": [
             0.8079718099
            ]
           },
           {
            "iteration": 205,
            "learn": [
             0.7627461857
            ],
            "passed_time": 15.95554602,
            "remaining_time": 61.49856085,
            "test": [
             0.807996224
            ]
           },
           {
            "iteration": 206,
            "learn": [
             0.7624337776
            ],
            "passed_time": 16.04236862,
            "remaining_time": 61.4569967,
            "test": [
             0.8079407552
            ]
           },
           {
            "iteration": 207,
            "learn": [
             0.7621945313
            ],
            "passed_time": 16.10030148,
            "remaining_time": 61.30499411,
            "test": [
             0.80791875
            ]
           },
           {
            "iteration": 208,
            "learn": [
             0.7617832261
            ],
            "passed_time": 16.17705458,
            "remaining_time": 61.22512043,
            "test": [
             0.8079188151
            ]
           },
           {
            "iteration": 209,
            "learn": [
             0.7617143382
            ],
            "passed_time": 16.23087616,
            "remaining_time": 61.05901032,
            "test": [
             0.8078885417
            ]
           },
           {
            "iteration": 210,
            "learn": [
             0.761489568
            ],
            "passed_time": 16.30027026,
            "remaining_time": 60.95219541,
            "test": [
             0.8078347656
            ]
           },
           {
            "iteration": 211,
            "learn": [
             0.7613589154
            ],
            "passed_time": 16.36084561,
            "remaining_time": 60.81295445,
            "test": [
             0.8078207031
            ]
           },
           {
            "iteration": 212,
            "learn": [
             0.7611253676
            ],
            "passed_time": 16.42852655,
            "remaining_time": 60.70070608,
            "test": [
             0.8077661458
            ]
           },
           {
            "iteration": 213,
            "learn": [
             0.7610426011
            ],
            "passed_time": 16.48375353,
            "remaining_time": 60.54313214,
            "test": [
             0.807767513
            ]
           },
           {
            "iteration": 214,
            "learn": [
             0.7609336857
            ],
            "passed_time": 16.56364464,
            "remaining_time": 60.47656298,
            "test": [
             0.8077544922
            ]
           },
           {
            "iteration": 215,
            "learn": [
             0.7608674632
            ],
            "passed_time": 16.61303071,
            "remaining_time": 60.2991485,
            "test": [
             0.8077576823
            ]
           },
           {
            "iteration": 216,
            "learn": [
             0.7606188879
            ],
            "passed_time": 16.70271227,
            "remaining_time": 60.26831201,
            "test": [
             0.8077703776
            ]
           },
           {
            "iteration": 217,
            "learn": [
             0.7604582721
            ],
            "passed_time": 16.77062996,
            "remaining_time": 60.15886526,
            "test": [
             0.8077126302
            ]
           },
           {
            "iteration": 218,
            "learn": [
             0.7601063419
            ],
            "passed_time": 16.83864344,
            "remaining_time": 60.05013938,
            "test": [
             0.8075892578
            ]
           },
           {
            "iteration": 219,
            "learn": [
             0.7597862132
            ],
            "passed_time": 16.90071636,
            "remaining_time": 59.92072164,
            "test": [
             0.8075563802
            ]
           },
           {
            "iteration": 220,
            "learn": [
             0.759616682
            ],
            "passed_time": 16.96227513,
            "remaining_time": 59.79010101,
            "test": [
             0.8075388672
            ]
           },
           {
            "iteration": 221,
            "learn": [
             0.759347886
            ],
            "passed_time": 17.0284064,
            "remaining_time": 59.67612692,
            "test": [
             0.807511849
            ]
           },
           {
            "iteration": 222,
            "learn": [
             0.7591553309
            ],
            "passed_time": 17.09262921,
            "remaining_time": 59.55593226,
            "test": [
             0.80746875
            ]
           },
           {
            "iteration": 223,
            "learn": [
             0.7589817555
            ],
            "passed_time": 17.14696733,
            "remaining_time": 59.40199398,
            "test": [
             0.8074957682
            ]
           },
           {
            "iteration": 224,
            "learn": [
             0.7587783548
            ],
            "passed_time": 17.21010269,
            "remaining_time": 59.27924259,
            "test": [
             0.8075139323
            ]
           },
           {
            "iteration": 225,
            "learn": [
             0.7583809743
            ],
            "passed_time": 17.2861791,
            "remaining_time": 59.20133903,
            "test": [
             0.8073258464
            ]
           },
           {
            "iteration": 226,
            "learn": [
             0.7581984375
            ],
            "passed_time": 17.35342617,
            "remaining_time": 59.09338516,
            "test": [
             0.8072502604
            ]
           },
           {
            "iteration": 227,
            "learn": [
             0.7580306066
            ],
            "passed_time": 17.42528873,
            "remaining_time": 59.00141623,
            "test": [
             0.8071996745
            ]
           },
           {
            "iteration": 228,
            "learn": [
             0.7578470588
            ],
            "passed_time": 17.49274827,
            "remaining_time": 58.89479877,
            "test": [
             0.807191862
            ]
           },
           {
            "iteration": 229,
            "learn": [
             0.7577543199
            ],
            "passed_time": 17.57867191,
            "remaining_time": 58.8503364,
            "test": [
             0.8071898438
            ]
           },
           {
            "iteration": 230,
            "learn": [
             0.7575776195
            ],
            "passed_time": 17.64821012,
            "remaining_time": 58.75096789,
            "test": [
             0.8072232422
            ]
           },
           {
            "iteration": 231,
            "learn": [
             0.7574779412
            ],
            "passed_time": 17.72001322,
            "remaining_time": 58.65935411,
            "test": [
             0.8072294271
            ]
           },
           {
            "iteration": 232,
            "learn": [
             0.7573638327
            ],
            "passed_time": 17.77475768,
            "remaining_time": 58.51175598,
            "test": [
             0.8071757161
            ]
           },
           {
            "iteration": 233,
            "learn": [
             0.7571874081
            ],
            "passed_time": 17.83597822,
            "remaining_time": 58.38615093,
            "test": [
             0.8071475911
            ]
           },
           {
            "iteration": 234,
            "learn": [
             0.7569734835
            ],
            "passed_time": 17.90387583,
            "remaining_time": 58.28282982,
            "test": [
             0.8071044922
            ]
           },
           {
            "iteration": 235,
            "learn": [
             0.7568669118
            ],
            "passed_time": 17.95756223,
            "remaining_time": 58.13380314,
            "test": [
             0.8071238932
            ]
           },
           {
            "iteration": 236,
            "learn": [
             0.7565869485
            ],
            "passed_time": 18.02720573,
            "remaining_time": 58.03695347,
            "test": [
             0.8070744141
            ]
           },
           {
            "iteration": 237,
            "learn": [
             0.7564129596
            ],
            "passed_time": 18.09159234,
            "remaining_time": 57.92350151,
            "test": [
             0.8070718099
            ]
           },
           {
            "iteration": 238,
            "learn": [
             0.7562725643
            ],
            "passed_time": 18.15205604,
            "remaining_time": 57.79796924,
            "test": [
             0.8070789063
            ]
           },
           {
            "iteration": 239,
            "learn": [
             0.7561233915
            ],
            "passed_time": 18.21762403,
            "remaining_time": 57.68914275,
            "test": [
             0.8070657552
            ]
           },
           {
            "iteration": 240,
            "learn": [
             0.7560738051
            ],
            "passed_time": 18.27699422,
            "remaining_time": 57.56115606,
            "test": [
             0.8070628906
            ]
           },
           {
            "iteration": 241,
            "learn": [
             0.7558081342
            ],
            "passed_time": 18.34408756,
            "remaining_time": 57.45792714,
            "test": [
             0.8069980469
            ]
           },
           {
            "iteration": 242,
            "learn": [
             0.7556069853
            ],
            "passed_time": 18.4148337,
            "remaining_time": 57.36637493,
            "test": [
             0.8070285156
            ]
           },
           {
            "iteration": 243,
            "learn": [
             0.7554058364
            ],
            "passed_time": 18.48701034,
            "remaining_time": 57.27942549,
            "test": [
             0.8070115885
            ]
           },
           {
            "iteration": 244,
            "learn": [
             0.755240671
            ],
            "passed_time": 18.54712191,
            "remaining_time": 57.1554165,
            "test": [
             0.8070684896
            ]
           },
           {
            "iteration": 245,
            "learn": [
             0.7550529412
            ],
            "passed_time": 18.69591679,
            "remaining_time": 57.30374495,
            "test": [
             0.8070516927
            ]
           },
           {
            "iteration": 246,
            "learn": [
             0.7546874081
            ],
            "passed_time": 18.7786509,
            "remaining_time": 57.24827581,
            "test": [
             0.8069426432
            ]
           },
           {
            "iteration": 247,
            "learn": [
             0.7544409467
            ],
            "passed_time": 18.84202285,
            "remaining_time": 57.13387572,
            "test": [
             0.8069085938
            ]
           },
           {
            "iteration": 248,
            "learn": [
             0.7542514246
            ],
            "passed_time": 18.90658498,
            "remaining_time": 57.02347518,
            "test": [
             0.806871224
            ]
           },
           {
            "iteration": 249,
            "learn": [
             0.7539761489
            ],
            "passed_time": 18.96586012,
            "remaining_time": 56.89758035,
            "test": [
             0.8068039062
            ]
           },
           {
            "iteration": 250,
            "learn": [
             0.7537650735
            ],
            "passed_time": 19.02619782,
            "remaining_time": 56.77538712,
            "test": [
             0.8068410807
            ]
           },
           {
            "iteration": 251,
            "learn": [
             0.7536151195
            ],
            "passed_time": 19.09427126,
            "remaining_time": 56.67664645,
            "test": [
             0.8068207682
            ]
           },
           {
            "iteration": 252,
            "learn": [
             0.7532213695
            ],
            "passed_time": 19.16758642,
            "remaining_time": 56.59362474,
            "test": [
             0.80669375
            ]
           },
           {
            "iteration": 253,
            "learn": [
             0.7529695312
            ],
            "passed_time": 19.2277767,
            "remaining_time": 56.47213155,
            "test": [
             0.8067013672
            ]
           },
           {
            "iteration": 254,
            "learn": [
             0.7527330882
            ],
            "passed_time": 19.28681919,
            "remaining_time": 56.34776586,
            "test": [
             0.8066117188
            ]
           },
           {
            "iteration": 255,
            "learn": [
             0.7526044118
            ],
            "passed_time": 19.35482907,
            "remaining_time": 56.249972,
            "test": [
             0.8066113932
            ]
           },
           {
            "iteration": 256,
            "learn": [
             0.75228125
            ],
            "passed_time": 19.4327646,
            "remaining_time": 56.18110543,
            "test": [
             0.8065148438
            ]
           },
           {
            "iteration": 257,
            "learn": [
             0.7521955882
            ],
            "passed_time": 19.48770698,
            "remaining_time": 56.04604101,
            "test": [
             0.8065269531
            ]
           },
           {
            "iteration": 258,
            "learn": [
             0.7519512868
            ],
            "passed_time": 19.55341693,
            "remaining_time": 55.94240133,
            "test": [
             0.8065091146
            ]
           },
           {
            "iteration": 259,
            "learn": [
             0.7517022518
            ],
            "passed_time": 19.62566935,
            "remaining_time": 55.85767431,
            "test": [
             0.8065044922
            ]
           },
           {
            "iteration": 260,
            "learn": [
             0.7515697151
            ],
            "passed_time": 19.68329725,
            "remaining_time": 55.73163473,
            "test": [
             0.8065151042
            ]
           },
           {
            "iteration": 261,
            "learn": [
             0.751302068
            ],
            "passed_time": 19.77378482,
            "remaining_time": 55.69867631,
            "test": [
             0.8064343099
            ]
           },
           {
            "iteration": 262,
            "learn": [
             0.7510923713
            ],
            "passed_time": 19.84115548,
            "remaining_time": 55.60050034,
            "test": [
             0.8064747396
            ]
           },
           {
            "iteration": 263,
            "learn": [
             0.7508465993
            ],
            "passed_time": 19.90800358,
            "remaining_time": 55.50110089,
            "test": [
             0.8064257812
            ]
           },
           {
            "iteration": 264,
            "learn": [
             0.7506927849
            ],
            "passed_time": 19.96734957,
            "remaining_time": 55.38113936,
            "test": [
             0.8064095703
            ]
           },
           {
            "iteration": 265,
            "learn": [
             0.7503590533
            ],
            "passed_time": 20.04109603,
            "remaining_time": 55.30137025,
            "test": [
             0.8062667969
            ]
           },
           {
            "iteration": 266,
            "learn": [
             0.7500250919
            ],
            "passed_time": 20.12932968,
            "remaining_time": 55.26141819,
            "test": [
             0.806203776
            ]
           },
           {
            "iteration": 267,
            "learn": [
             0.7498601563
            ],
            "passed_time": 20.18737343,
            "remaining_time": 55.13864683,
            "test": [
             0.8061761068
            ]
           },
           {
            "iteration": 268,
            "learn": [
             0.7496029871
            ],
            "passed_time": 20.25850552,
            "remaining_time": 55.05192391,
            "test": [
             0.8061714193
            ]
           },
           {
            "iteration": 269,
            "learn": [
             0.7494005974
            ],
            "passed_time": 20.33612367,
            "remaining_time": 54.98285288,
            "test": [
             0.8061482422
            ]
           },
           {
            "iteration": 270,
            "learn": [
             0.7491522518
            ],
            "passed_time": 20.42696285,
            "remaining_time": 54.94928383,
            "test": [
             0.8061277995
            ]
           },
           {
            "iteration": 271,
            "learn": [
             0.7491132353
            ],
            "passed_time": 20.54564227,
            "remaining_time": 54.98980726,
            "test": [
             0.8061318359
            ]
           },
           {
            "iteration": 272,
            "learn": [
             0.7489462776
            ],
            "passed_time": 20.67267225,
            "remaining_time": 55.05140191,
            "test": [
             0.8060681641
            ]
           },
           {
            "iteration": 273,
            "learn": [
             0.7486847886
            ],
            "passed_time": 20.81464866,
            "remaining_time": 55.15122237,
            "test": [
             0.8060093099
            ]
           },
           {
            "iteration": 274,
            "learn": [
             0.7483900735
            ],
            "passed_time": 20.9444418,
            "remaining_time": 55.21716474,
            "test": [
             0.8059986328
            ]
           },
           {
            "iteration": 275,
            "learn": [
             0.7482372243
            ],
            "passed_time": 21.08952519,
            "remaining_time": 55.32179797,
            "test": [
             0.805945638
            ]
           },
           {
            "iteration": 276,
            "learn": [
             0.7481503217
            ],
            "passed_time": 21.20222069,
            "remaining_time": 55.34009228,
            "test": [
             0.8059140625
            ]
           },
           {
            "iteration": 277,
            "learn": [
             0.7480098805
            ],
            "passed_time": 21.3110412,
            "remaining_time": 55.34738038,
            "test": [
             0.8058879557
            ]
           },
           {
            "iteration": 278,
            "learn": [
             0.7477136949
            ],
            "passed_time": 21.44067503,
            "remaining_time": 55.40762258,
            "test": [
             0.8058419271
            ]
           },
           {
            "iteration": 279,
            "learn": [
             0.7474802849
            ],
            "passed_time": 21.60337637,
            "remaining_time": 55.55153923,
            "test": [
             0.8057892578
            ]
           },
           {
            "iteration": 280,
            "learn": [
             0.7471582721
            ],
            "passed_time": 21.7867571,
            "remaining_time": 55.74618633,
            "test": [
             0.805715625
            ]
           },
           {
            "iteration": 281,
            "learn": [
             0.7469615809
            ],
            "passed_time": 21.91529079,
            "remaining_time": 55.79850635,
            "test": [
             0.8056527344
            ]
           },
           {
            "iteration": 282,
            "learn": [
             0.7467079044
            ],
            "passed_time": 22.06141878,
            "remaining_time": 55.89412461,
            "test": [
             0.8055939453
            ]
           },
           {
            "iteration": 283,
            "learn": [
             0.7465596507
            ],
            "passed_time": 22.19820803,
            "remaining_time": 55.96449631,
            "test": [
             0.8055652995
            ]
           },
           {
            "iteration": 284,
            "learn": [
             0.7463805607
            ],
            "passed_time": 22.32599424,
            "remaining_time": 56.01082765,
            "test": [
             0.8055800781
            ]
           },
           {
            "iteration": 285,
            "learn": [
             0.7463158088
            ],
            "passed_time": 22.46666185,
            "remaining_time": 56.08809985,
            "test": [
             0.8055701823
            ]
           },
           {
            "iteration": 286,
            "learn": [
             0.7459836397
            ],
            "passed_time": 22.63512375,
            "remaining_time": 56.23290324,
            "test": [
             0.8055604167
            ]
           },
           {
            "iteration": 287,
            "learn": [
             0.7458198529
            ],
            "passed_time": 22.78201843,
            "remaining_time": 56.32221224,
            "test": [
             0.8055511719
            ]
           },
           {
            "iteration": 288,
            "learn": [
             0.7457555607
            ],
            "passed_time": 22.92153458,
            "remaining_time": 56.39173387,
            "test": [
             0.8055445313
            ]
           },
           {
            "iteration": 289,
            "learn": [
             0.7455578585
            ],
            "passed_time": 23.01118176,
            "remaining_time": 56.33772087,
            "test": [
             0.8055867187
            ]
           },
           {
            "iteration": 290,
            "learn": [
             0.7454350184
            ],
            "passed_time": 23.13847304,
            "remaining_time": 56.37518002,
            "test": [
             0.8056307292
            ]
           },
           {
            "iteration": 291,
            "learn": [
             0.7451601562
            ],
            "passed_time": 23.27340508,
            "remaining_time": 56.43003697,
            "test": [
             0.8056580729
            ]
           },
           {
            "iteration": 292,
            "learn": [
             0.7448748162
            ],
            "passed_time": 23.38407499,
            "remaining_time": 56.42505466,
            "test": [
             0.8056845052
            ]
           },
           {
            "iteration": 293,
            "learn": [
             0.7445125919
            ],
            "passed_time": 23.51549512,
            "remaining_time": 56.46918216,
            "test": [
             0.8056335286
            ]
           },
           {
            "iteration": 294,
            "learn": [
             0.7443323989
            ],
            "passed_time": 23.66935241,
            "remaining_time": 56.5657405,
            "test": [
             0.8056544271
            ]
           },
           {
            "iteration": 295,
            "learn": [
             0.7440859375
            ],
            "passed_time": 23.7956114,
            "remaining_time": 56.59496765,
            "test": [
             0.8055669922
            ]
           },
           {
            "iteration": 296,
            "learn": [
             0.7440397518
            ],
            "passed_time": 23.87368955,
            "remaining_time": 56.50910355,
            "test": [
             0.8055666016
            ]
           },
           {
            "iteration": 297,
            "learn": [
             0.7437994026
            ],
            "passed_time": 23.94107299,
            "remaining_time": 56.39809811,
            "test": [
             0.8056332031
            ]
           },
           {
            "iteration": 298,
            "learn": [
             0.7434905331
            ],
            "passed_time": 24.01530209,
            "remaining_time": 56.303434,
            "test": [
             0.8056591146
            ]
           },
           {
            "iteration": 299,
            "learn": [
             0.7432306526
            ],
            "passed_time": 24.08744733,
            "remaining_time": 56.20404377,
            "test": [
             0.8056455078
            ]
           },
           {
            "iteration": 300,
            "learn": [
             0.742983364
            ],
            "passed_time": 24.15874491,
            "remaining_time": 56.10286608,
            "test": [
             0.80560625
            ]
           },
           {
            "iteration": 301,
            "learn": [
             0.7429
            ],
            "passed_time": 24.22106136,
            "remaining_time": 55.98112858,
            "test": [
             0.8055840495
            ]
           },
           {
            "iteration": 302,
            "learn": [
             0.7425918658
            ],
            "passed_time": 24.29530355,
            "remaining_time": 55.88721642,
            "test": [
             0.8055458333
            ]
           },
           {
            "iteration": 303,
            "learn": [
             0.7423334559
            ],
            "passed_time": 24.37343459,
            "remaining_time": 55.80233708,
            "test": [
             0.8055205078
            ]
           },
           {
            "iteration": 304,
            "learn": [
             0.7420090533
            ],
            "passed_time": 24.45761026,
            "remaining_time": 55.73127584,
            "test": [
             0.8055548177
            ]
           },
           {
            "iteration": 305,
            "learn": [
             0.7418480699
            ],
            "passed_time": 24.5223659,
            "remaining_time": 55.61608474,
            "test": [
             0.8055264974
            ]
           },
           {
            "iteration": 306,
            "learn": [
             0.7418009651
            ],
            "passed_time": 24.57144138,
            "remaining_time": 55.46582695,
            "test": [
             0.8055133464
            ]
           },
           {
            "iteration": 307,
            "learn": [
             0.7416869485
            ],
            "passed_time": 24.62673961,
            "remaining_time": 55.33020719,
            "test": [
             0.8055007813
            ]
           },
           {
            "iteration": 308,
            "learn": [
             0.7415296875
            ],
            "passed_time": 24.69986185,
            "remaining_time": 55.23496615,
            "test": [
             0.8054744792
            ]
           },
           {
            "iteration": 309,
            "learn": [
             0.741431204
            ],
            "passed_time": 24.75819903,
            "remaining_time": 55.10695912,
            "test": [
             0.8054902344
            ]
           },
           {
            "iteration": 310,
            "learn": [
             0.7412835018
            ],
            "passed_time": 24.83834519,
            "remaining_time": 55.02771652,
            "test": [
             0.805458724
            ]
           },
           {
            "iteration": 311,
            "learn": [
             0.7410409007
            ],
            "passed_time": 24.92177526,
            "remaining_time": 54.95570954,
            "test": [
             0.8054976563
            ]
           },
           {
            "iteration": 312,
            "learn": [
             0.7408673254
            ],
            "passed_time": 24.98617446,
            "remaining_time": 54.84185896,
            "test": [
             0.8054892578
            ]
           },
           {
            "iteration": 313,
            "learn": [
             0.7407377298
            ],
            "passed_time": 25.04658942,
            "remaining_time": 54.71961892,
            "test": [
             0.8054393229
            ]
           },
           {
            "iteration": 314,
            "learn": [
             0.7405918658
            ],
            "passed_time": 25.10836261,
            "remaining_time": 54.60072505,
            "test": [
             0.8053559245
            ]
           },
           {
            "iteration": 315,
            "learn": [
             0.7404366728
            ],
            "passed_time": 25.17504806,
            "remaining_time": 54.49282555,
            "test": [
             0.8052971354
            ]
           },
           {
            "iteration": 316,
            "learn": [
             0.7402516085
            ],
            "passed_time": 25.23890422,
            "remaining_time": 54.37909016,
            "test": [
             0.8053366536
            ]
           },
           {
            "iteration": 317,
            "learn": [
             0.7400756893
            ],
            "passed_time": 25.29833438,
            "remaining_time": 54.25617626,
            "test": [
             0.8053928385
            ]
           },
           {
            "iteration": 318,
            "learn": [
             0.7399042279
            ],
            "passed_time": 25.36255595,
            "remaining_time": 54.14388904,
            "test": [
             0.8053522786
            ]
           },
           {
            "iteration": 319,
            "learn": [
             0.7398262408
            ],
            "passed_time": 25.42187658,
            "remaining_time": 54.02148774,
            "test": [
             0.8053321615
            ]
           },
           {
            "iteration": 320,
            "learn": [
             0.7396261029
            ],
            "passed_time": 25.49113881,
            "remaining_time": 53.92050858,
            "test": [
             0.8053689453
            ]
           },
           {
            "iteration": 321,
            "learn": [
             0.7394619485
            ],
            "passed_time": 25.55743723,
            "remaining_time": 53.81348585,
            "test": [
             0.805385026
            ]
           },
           {
            "iteration": 322,
            "learn": [
             0.7393077665
            ],
            "passed_time": 25.61574159,
            "remaining_time": 53.68995992,
            "test": [
             0.8053620443
            ]
           },
           {
            "iteration": 323,
            "learn": [
             0.7389908088
            ],
            "passed_time": 25.68231136,
            "remaining_time": 53.58408174,
            "test": [
             0.8053476563
            ]
           },
           {
            "iteration": 324,
            "learn": [
             0.7387956342
            ],
            "passed_time": 25.75109611,
            "remaining_time": 53.48304578,
            "test": [
             0.8053233724
            ]
           },
           {
            "iteration": 325,
            "learn": [
             0.7385283548
            ],
            "passed_time": 25.86361072,
            "remaining_time": 53.47261849,
            "test": [
             0.8052472005
            ]
           },
           {
            "iteration": 326,
            "learn": [
             0.738379182
            ],
            "passed_time": 25.94154718,
            "remaining_time": 53.39040138,
            "test": [
             0.805235612
            ]
           },
           {
            "iteration": 327,
            "learn": [
             0.738134375
            ],
            "passed_time": 26.00754173,
            "remaining_time": 53.28374402,
            "test": [
             0.8052514323
            ]
           },
           {
            "iteration": 328,
            "learn": [
             0.7379622243
            ],
            "passed_time": 26.07548404,
            "remaining_time": 53.18130635,
            "test": [
             0.8052501302
            ]
           },
           {
            "iteration": 329,
            "learn": [
             0.7378158548
            ],
            "passed_time": 26.13067682,
            "remaining_time": 53.05319233,
            "test": [
             0.8052013021
            ]
           },
           {
            "iteration": 330,
            "learn": [
             0.7376761489
            ],
            "passed_time": 26.19668115,
            "remaining_time": 52.94737066,
            "test": [
             0.8051986328
            ]
           },
           {
            "iteration": 331,
            "learn": [
             0.7376079504
            ],
            "passed_time": 26.24687513,
            "remaining_time": 52.80997767,
            "test": [
             0.8051791667
            ]
           },
           {
            "iteration": 332,
            "learn": [
             0.7373977941
            ],
            "passed_time": 26.3154842,
            "remaining_time": 52.70999387,
            "test": [
             0.8051778646
            ]
           },
           {
            "iteration": 333,
            "learn": [
             0.7372316176
            ],
            "passed_time": 26.37304271,
            "remaining_time": 52.58816302,
            "test": [
             0.8051067708
            ]
           },
           {
            "iteration": 334,
            "learn": [
             0.7370147978
            ],
            "passed_time": 26.44331561,
            "remaining_time": 52.49195487,
            "test": [
             0.8050633464
            ]
           },
           {
            "iteration": 335,
            "learn": [
             0.736948943
            ],
            "passed_time": 26.49740772,
            "remaining_time": 52.36392478,
            "test": [
             0.8050380208
            ]
           },
           {
            "iteration": 336,
            "learn": [
             0.7367530331
            ],
            "passed_time": 26.56366407,
            "remaining_time": 52.26026492,
            "test": [
             0.8050684245
            ]
           },
           {
            "iteration": 337,
            "learn": [
             0.736598989
            ],
            "passed_time": 26.62648667,
            "remaining_time": 52.15010111,
            "test": [
             0.8050950521
            ]
           },
           {
            "iteration": 338,
            "learn": [
             0.7364120864
            ],
            "passed_time": 26.68882979,
            "remaining_time": 52.03928168,
            "test": [
             0.8051419922
            ]
           },
           {
            "iteration": 339,
            "learn": [
             0.7362649357
            ],
            "passed_time": 26.74927562,
            "remaining_time": 51.92506444,
            "test": [
             0.8051050781
            ]
           },
           {
            "iteration": 340,
            "learn": [
             0.736035386
            ],
            "passed_time": 26.80690626,
            "remaining_time": 51.80572207,
            "test": [
             0.8050834635
            ]
           },
           {
            "iteration": 341,
            "learn": [
             0.7358726103
            ],
            "passed_time": 26.88346161,
            "remaining_time": 51.72315129,
            "test": [
             0.805051237
            ]
           },
           {
            "iteration": 342,
            "learn": [
             0.7358113971
            ],
            "passed_time": 26.95411487,
            "remaining_time": 51.62931042,
            "test": [
             0.8050260417
            ]
           },
           {
            "iteration": 343,
            "learn": [
             0.7356611213
            ],
            "passed_time": 27.01838907,
            "remaining_time": 51.52343961,
            "test": [
             0.8050089844
            ]
           },
           {
            "iteration": 344,
            "learn": [
             0.7355324449
            ],
            "passed_time": 27.07534868,
            "remaining_time": 51.40392285,
            "test": [
             0.8049844401
            ]
           },
           {
            "iteration": 345,
            "learn": [
             0.7352355239
            ],
            "passed_time": 27.13406374,
            "remaining_time": 51.2880858,
            "test": [
             0.8049880859
            ]
           },
           {
            "iteration": 346,
            "learn": [
             0.735139568
            ],
            "passed_time": 27.19881948,
            "remaining_time": 51.1839456,
            "test": [
             0.8049835286
            ]
           },
           {
            "iteration": 347,
            "learn": [
             0.7350948989
            ],
            "passed_time": 27.2580596,
            "remaining_time": 51.06969787,
            "test": [
             0.8049526693
            ]
           },
           {
            "iteration": 348,
            "learn": [
             0.7350273897
            ],
            "passed_time": 27.31609353,
            "remaining_time": 50.95351544,
            "test": [
             0.8049505859
            ]
           },
           {
            "iteration": 349,
            "learn": [
             0.7347673713
            ],
            "passed_time": 27.3822083,
            "remaining_time": 50.85267256,
            "test": [
             0.8047992188
            ]
           },
           {
            "iteration": 350,
            "learn": [
             0.7346579963
            ],
            "passed_time": 27.44796899,
            "remaining_time": 50.75137286,
            "test": [
             0.8048097656
            ]
           },
           {
            "iteration": 351,
            "learn": [
             0.7345439798
            ],
            "passed_time": 27.50306154,
            "remaining_time": 50.63063601,
            "test": [
             0.8047964844
            ]
           },
           {
            "iteration": 352,
            "learn": [
             0.734336443
            ],
            "passed_time": 27.57350159,
            "remaining_time": 50.53840092,
            "test": [
             0.8047119141
            ]
           },
           {
            "iteration": 353,
            "learn": [
             0.7342325827
            ],
            "passed_time": 27.63498856,
            "remaining_time": 50.42995088,
            "test": [
             0.804708724
            ]
           },
           {
            "iteration": 354,
            "learn": [
             0.7340602022
            ],
            "passed_time": 27.70457296,
            "remaining_time": 50.33647762,
            "test": [
             0.8046371094
            ]
           },
           {
            "iteration": 355,
            "learn": [
             0.7339441176
            ],
            "passed_time": 27.76885061,
            "remaining_time": 50.23353874,
            "test": [
             0.8046194661
            ]
           },
           {
            "iteration": 356,
            "learn": [
             0.7336998162
            ],
            "passed_time": 27.85290065,
            "remaining_time": 50.16642889,
            "test": [
             0.8046661458
            ]
           },
           {
            "iteration": 357,
            "learn": [
             0.7336262868
            ],
            "passed_time": 27.91716848,
            "remaining_time": 50.06374906,
            "test": [
             0.8046192708
            ]
           },
           {
            "iteration": 358,
            "learn": [
             0.7335230239
            ],
            "passed_time": 27.99142903,
            "remaining_time": 49.97912537,
            "test": [
             0.8045645833
            ]
           },
           {
            "iteration": 359,
            "learn": [
             0.7333892004
            ],
            "passed_time": 28.04832241,
            "remaining_time": 49.86368429,
            "test": [
             0.8045851563
            ]
           },
           {
            "iteration": 360,
            "learn": [
             0.7332311121
            ],
            "passed_time": 28.10705374,
            "remaining_time": 49.75182089,
            "test": [
             0.8046039714
            ]
           },
           {
            "iteration": 361,
            "learn": [
             0.733013557
            ],
            "passed_time": 28.18213552,
            "remaining_time": 49.66906758,
            "test": [
             0.8045457031
            ]
           },
           {
            "iteration": 362,
            "learn": [
             0.7328809283
            ],
            "passed_time": 28.2505268,
            "remaining_time": 49.57461591,
            "test": [
             0.8044979167
            ]
           },
           {
            "iteration": 363,
            "learn": [
             0.7327511949
            ],
            "passed_time": 28.30662862,
            "remaining_time": 49.45883461,
            "test": [
             0.804475
            ]
           },
           {
            "iteration": 364,
            "learn": [
             0.7326178768
            ],
            "passed_time": 28.37170342,
            "remaining_time": 49.35899087,
            "test": [
             0.8044503255
            ]
           },
           {
            "iteration": 365,
            "learn": [
             0.7324680607
            ],
            "passed_time": 28.43955375,
            "remaining_time": 49.26414502,
            "test": [
             0.8043670573
            ]
           },
           {
            "iteration": 366,
            "learn": [
             0.7321748621
            ],
            "passed_time": 28.51006247,
            "remaining_time": 49.17403146,
            "test": [
             0.8043292318
            ]
           },
           {
            "iteration": 367,
            "learn": [
             0.7318742647
            ],
            "passed_time": 28.58572467,
            "remaining_time": 49.09287497,
            "test": [
             0.8043179687
            ]
           },
           {
            "iteration": 368,
            "learn": [
             0.7317412684
            ],
            "passed_time": 28.64808888,
            "remaining_time": 48.98900835,
            "test": [
             0.8043523437
            ]
           },
           {
            "iteration": 369,
            "learn": [
             0.7315401195
            ],
            "passed_time": 28.7130751,
            "remaining_time": 48.88983058,
            "test": [
             0.8043116536
            ]
           },
           {
            "iteration": 370,
            "learn": [
             0.7312991268
            ],
            "passed_time": 28.78040003,
            "remaining_time": 48.7948022,
            "test": [
             0.804356901
            ]
           },
           {
            "iteration": 371,
            "learn": [
             0.7311317555
            ],
            "passed_time": 28.84664738,
            "remaining_time": 48.69810365,
            "test": [
             0.8043346354
            ]
           },
           {
            "iteration": 372,
            "learn": [
             0.7310464154
            ],
            "passed_time": 28.92994005,
            "remaining_time": 48.63022094,
            "test": [
             0.8043621094
            ]
           },
           {
            "iteration": 373,
            "learn": [
             0.7307689798
            ],
            "passed_time": 29.00957654,
            "remaining_time": 48.55613613,
            "test": [
             0.8042311198
            ]
           },
           {
            "iteration": 374,
            "learn": [
             0.7305985754
            ],
            "passed_time": 29.07360544,
            "remaining_time": 48.45600906,
            "test": [
             0.8042449219
            ]
           },
           {
            "iteration": 375,
            "learn": [
             0.7305279412
            ],
            "passed_time": 29.13448761,
            "remaining_time": 48.35085177,
            "test": [
             0.8042151042
            ]
           },
           {
            "iteration": 376,
            "learn": [
             0.7303474724
            ],
            "passed_time": 29.19682279,
            "remaining_time": 48.2483305,
            "test": [
             0.8042322266
            ]
           },
           {
            "iteration": 377,
            "learn": [
             0.7302095129
            ],
            "passed_time": 29.25136589,
            "remaining_time": 48.13319996,
            "test": [
             0.8042890625
            ]
           },
           {
            "iteration": 378,
            "learn": [
             0.7300991728
            ],
            "passed_time": 29.31294634,
            "remaining_time": 48.02991999,
            "test": [
             0.8042950521
            ]
           },
           {
            "iteration": 379,
            "learn": [
             0.7299267463
            ],
            "passed_time": 29.37842243,
            "remaining_time": 47.93321554,
            "test": [
             0.8042911458
            ]
           },
           {
            "iteration": 380,
            "learn": [
             0.729669807
            ],
            "passed_time": 29.44638743,
            "remaining_time": 47.84071868,
            "test": [
             0.8043013672
            ]
           },
           {
            "iteration": 381,
            "learn": [
             0.7295778952
            ],
            "passed_time": 29.50287639,
            "remaining_time": 47.72978432,
            "test": [
             0.8043165365
            ]
           },
           {
            "iteration": 382,
            "learn": [
             0.7294539522
            ],
            "passed_time": 29.56636865,
            "remaining_time": 47.63041633,
            "test": [
             0.8043409505
            ]
           },
           {
            "iteration": 383,
            "learn": [
             0.7293865349
            ],
            "passed_time": 29.62224826,
            "remaining_time": 47.51902325,
            "test": [
             0.8043371745
            ]
           },
           {
            "iteration": 384,
            "learn": [
             0.7292087316
            ],
            "passed_time": 29.6865992,
            "remaining_time": 47.42145066,
            "test": [
             0.804377474
            ]
           },
           {
            "iteration": 385,
            "learn": [
             0.7290253676
            ],
            "passed_time": 29.7486501,
            "remaining_time": 47.32039161,
            "test": [
             0.8043355469
            ]
           },
           {
            "iteration": 386,
            "learn": [
             0.7289616728
            ],
            "passed_time": 29.79915047,
            "remaining_time": 47.20123835,
            "test": [
             0.8043412109
            ]
           },
           {
            "iteration": 387,
            "learn": [
             0.7288454963
            ],
            "passed_time": 29.86318378,
            "remaining_time": 47.10378473,
            "test": [
             0.8043208333
            ]
           },
           {
            "iteration": 388,
            "learn": [
             0.7287236673
            ],
            "passed_time": 29.94205503,
            "remaining_time": 47.0298088,
            "test": [
             0.8043384766
            ]
           },
           {
            "iteration": 389,
            "learn": [
             0.7286287224
            ],
            "passed_time": 30.02381541,
            "remaining_time": 46.96032667,
            "test": [
             0.8043402995
            ]
           },
           {
            "iteration": 390,
            "learn": [
             0.7285941176
            ],
            "passed_time": 30.07606821,
            "remaining_time": 46.84482235,
            "test": [
             0.8043380208
            ]
           },
           {
            "iteration": 391,
            "learn": [
             0.7284480239
            ],
            "passed_time": 30.14215517,
            "remaining_time": 46.75109781,
            "test": [
             0.8043277344
            ]
           },
           {
            "iteration": 392,
            "learn": [
             0.7282511949
            ],
            "passed_time": 30.20633196,
            "remaining_time": 46.65456361,
            "test": [
             0.8043264323
            ]
           },
           {
            "iteration": 393,
            "learn": [
             0.728091682
            ],
            "passed_time": 30.27239013,
            "remaining_time": 46.56108736,
            "test": [
             0.8042962891
            ]
           },
           {
            "iteration": 394,
            "learn": [
             0.7279096507
            ],
            "passed_time": 30.3455534,
            "remaining_time": 46.47863243,
            "test": [
             0.80430625
            ]
           },
           {
            "iteration": 395,
            "learn": [
             0.7277973805
            ],
            "passed_time": 30.40127257,
            "remaining_time": 46.36961775,
            "test": [
             0.8042832682
            ]
           },
           {
            "iteration": 396,
            "learn": [
             0.7276103401
            ],
            "passed_time": 30.46195195,
            "remaining_time": 46.26840561,
            "test": [
             0.8042662109
            ]
           },
           {
            "iteration": 397,
            "learn": [
             0.7275644301
            ],
            "passed_time": 30.5149777,
            "remaining_time": 46.15582054,
            "test": [
             0.8042531901
            ]
           },
           {
            "iteration": 398,
            "learn": [
             0.7273144761
            ],
            "passed_time": 30.58814506,
            "remaining_time": 46.07387263,
            "test": [
             0.8043123047
            ]
           },
           {
            "iteration": 399,
            "learn": [
             0.7271481158
            ],
            "passed_time": 30.65188974,
            "remaining_time": 45.97783462,
            "test": [
             0.8042952474
            ]
           },
           {
            "iteration": 400,
            "learn": [
             0.726895818
            ],
            "passed_time": 30.72446928,
            "remaining_time": 45.89515486,
            "test": [
             0.8042961589
            ]
           },
           {
            "iteration": 401,
            "learn": [
             0.7267171875
            ],
            "passed_time": 30.79403443,
            "remaining_time": 45.80804126,
            "test": [
             0.8042914062
            ]
           },
           {
            "iteration": 402,
            "learn": [
             0.7266493107
            ],
            "passed_time": 30.84668784,
            "remaining_time": 45.69596189,
            "test": [
             0.8043072266
            ]
           },
           {
            "iteration": 403,
            "learn": [
             0.7264955882
            ],
            "passed_time": 30.92518767,
            "remaining_time": 45.62230657,
            "test": [
             0.8043287109
            ]
           },
           {
            "iteration": 404,
            "learn": [
             0.7262411765
            ],
            "passed_time": 31.0070798,
            "remaining_time": 45.55361107,
            "test": [
             0.8043254557
            ]
           },
           {
            "iteration": 405,
            "learn": [
             0.7260261949
            ],
            "passed_time": 31.08683623,
            "remaining_time": 45.48172592,
            "test": [
             0.8043617187
            ]
           },
           {
            "iteration": 406,
            "learn": [
             0.7259536305
            ],
            "passed_time": 31.13953455,
            "remaining_time": 45.37037835,
            "test": [
             0.804358724
            ]
           },
           {
            "iteration": 407,
            "learn": [
             0.7258576746
            ],
            "passed_time": 31.21137472,
            "remaining_time": 45.28709274,
            "test": [
             0.8043604818
            ]
           },
           {
            "iteration": 408,
            "learn": [
             0.725725
            ],
            "passed_time": 31.27575528,
            "remaining_time": 45.19308404,
            "test": [
             0.804339974
            ]
           },
           {
            "iteration": 409,
            "learn": [
             0.7255672335
            ],
            "passed_time": 31.34439955,
            "remaining_time": 45.10535544,
            "test": [
             0.8043147135
            ]
           },
           {
            "iteration": 410,
            "learn": [
             0.7253165441
            ],
            "passed_time": 31.42246663,
            "remaining_time": 45.03122347,
            "test": [
             0.8043010417
            ]
           },
           {
            "iteration": 411,
            "learn": [
             0.7250419118
            ],
            "passed_time": 31.4917222,
            "remaining_time": 44.94449673,
            "test": [
             0.8041709635
            ]
           },
           {
            "iteration": 412,
            "learn": [
             0.724901057
            ],
            "passed_time": 31.55989632,
            "remaining_time": 44.85631753,
            "test": [
             0.8042089193
            ]
           },
           {
            "iteration": 413,
            "learn": [
             0.7247867188
            ],
            "passed_time": 31.61391152,
            "remaining_time": 44.7481936,
            "test": [
             0.8041742839
            ]
           },
           {
            "iteration": 414,
            "learn": [
             0.724681204
            ],
            "passed_time": 31.67263732,
            "remaining_time": 44.64697068,
            "test": [
             0.8041712891
            ]
           },
           {
            "iteration": 415,
            "learn": [
             0.7245516544
            ],
            "passed_time": 31.731191,
            "remaining_time": 44.54571045,
            "test": [
             0.8041480469
            ]
           },
           {
            "iteration": 416,
            "learn": [
             0.7243955423
            ],
            "passed_time": 31.79182533,
            "remaining_time": 44.44756395,
            "test": [
             0.8041579427
            ]
           },
           {
            "iteration": 417,
            "learn": [
             0.7242644761
            ],
            "passed_time": 31.85377689,
            "remaining_time": 44.35143099,
            "test": [
             0.8042036458
            ]
           },
           {
            "iteration": 418,
            "learn": [
             0.7240644761
            ],
            "passed_time": 31.93520044,
            "remaining_time": 44.28246171,
            "test": [
             0.8042530599
            ]
           },
           {
            "iteration": 419,
            "learn": [
             0.7238832721
            ],
            "passed_time": 32.00572205,
            "remaining_time": 44.19837807,
            "test": [
             0.8042004557
            ]
           },
           {
            "iteration": 420,
            "learn": [
             0.7237757812
            ],
            "passed_time": 32.08646726,
            "remaining_time": 44.12841934,
            "test": [
             0.8041974609
            ]
           },
           {
            "iteration": 421,
            "learn": [
             0.7235600184
            ],
            "passed_time": 32.16185435,
            "remaining_time": 44.05107065,
            "test": [
             0.8041427734
            ]
           },
           {
            "iteration": 422,
            "learn": [
             0.7234763327
            ],
            "passed_time": 32.22348954,
            "remaining_time": 43.95497273,
            "test": [
             0.8041870443
            ]
           },
           {
            "iteration": 423,
            "learn": [
             0.7232518382
            ],
            "passed_time": 32.29293993,
            "remaining_time": 43.86965424,
            "test": [
             0.8041796875
            ]
           },
           {
            "iteration": 424,
            "learn": [
             0.7230795037
            ],
            "passed_time": 32.36627221,
            "remaining_time": 43.7896624,
            "test": [
             0.8041938151
            ]
           },
           {
            "iteration": 425,
            "learn": [
             0.7229991268
            ],
            "passed_time": 32.42661931,
            "remaining_time": 43.69220536,
            "test": [
             0.8042247396
            ]
           },
           {
            "iteration": 426,
            "learn": [
             0.7227965074
            ],
            "passed_time": 32.49396294,
            "remaining_time": 43.60431092,
            "test": [
             0.8042450521
            ]
           },
           {
            "iteration": 427,
            "learn": [
             0.7225684743
            ],
            "passed_time": 32.56652499,
            "remaining_time": 43.52348667,
            "test": [
             0.8042852865
            ]
           },
           {
            "iteration": 428,
            "learn": [
             0.722472886
            ],
            "passed_time": 32.62455238,
            "remaining_time": 43.42335527,
            "test": [
             0.8042589844
            ]
           },
           {
            "iteration": 429,
            "learn": [
             0.7222853401
            ],
            "passed_time": 32.69979749,
            "remaining_time": 43.34624319,
            "test": [
             0.8042264323
            ]
           },
           {
            "iteration": 430,
            "learn": [
             0.7220752757
            ],
            "passed_time": 32.77553512,
            "remaining_time": 43.26978998,
            "test": [
             0.8042063151
            ]
           },
           {
            "iteration": 431,
            "learn": [
             0.7220042739
            ],
            "passed_time": 32.83022453,
            "remaining_time": 43.16566559,
            "test": [
             0.8041990234
            ]
           },
           {
            "iteration": 432,
            "learn": [
             0.7218908548
            ],
            "passed_time": 32.89570825,
            "remaining_time": 43.07590433,
            "test": [
             0.8042117187
            ]
           },
           {
            "iteration": 433,
            "learn": [
             0.7217673713
            ],
            "passed_time": 32.97877946,
            "remaining_time": 43.00919165,
            "test": [
             0.8041632161
            ]
           },
           {
            "iteration": 434,
            "learn": [
             0.7214785846
            ],
            "passed_time": 33.07395681,
            "remaining_time": 42.95812781,
            "test": [
             0.8041471354
            ]
           },
           {
            "iteration": 435,
            "learn": [
             0.7213444393
            ],
            "passed_time": 33.13803597,
            "remaining_time": 42.86663368,
            "test": [
             0.8041186198
            ]
           },
           {
            "iteration": 436,
            "learn": [
             0.7212069393
            ],
            "passed_time": 33.20543467,
            "remaining_time": 42.7795417,
            "test": [
             0.8041216797
            ]
           },
           {
            "iteration": 437,
            "learn": [
             0.7210850643
            ],
            "passed_time": 33.26516124,
            "remaining_time": 42.68269547,
            "test": [
             0.8041058594
            ]
           },
           {
            "iteration": 438,
            "learn": [
             0.720894761
            ],
            "passed_time": 33.32982337,
            "remaining_time": 42.59232554,
            "test": [
             0.804036263
            ]
           },
           {
            "iteration": 439,
            "learn": [
             0.7207874081
            ],
            "passed_time": 33.38634927,
            "remaining_time": 42.49171725,
            "test": [
             0.8040042318
            ]
           },
           {
            "iteration": 440,
            "learn": [
             0.7206806066
            ],
            "passed_time": 33.4487028,
            "remaining_time": 42.39869584,
            "test": [
             0.8040129557
            ]
           },
           {
            "iteration": 441,
            "learn": [
             0.7204168199
            ],
            "passed_time": 33.52379923,
            "remaining_time": 42.32190038,
            "test": [
             0.8040369792
            ]
           },
           {
            "iteration": 442,
            "learn": [
             0.720358364
            ],
            "passed_time": 33.58896868,
            "remaining_time": 42.23263105,
            "test": [
             0.8040574219
            ]
           },
           {
            "iteration": 443,
            "learn": [
             0.7202766544
            ],
            "passed_time": 33.66693239,
            "remaining_time": 42.15949191,
            "test": [
             0.8040788411
            ]
           },
           {
            "iteration": 444,
            "learn": [
             0.7201487132
            ],
            "passed_time": 33.77658853,
            "remaining_time": 42.12585761,
            "test": [
             0.8040895833
            ]
           },
           {
            "iteration": 445,
            "learn": [
             0.7200136949
            ],
            "passed_time": 33.89081641,
            "remaining_time": 42.09756119,
            "test": [
             0.8040910807
            ]
           },
           {
            "iteration": 446,
            "learn": [
             0.7197795956
            ],
            "passed_time": 34.05668287,
            "remaining_time": 42.13276427,
            "test": [
             0.8041017578
            ]
           },
           {
            "iteration": 447,
            "learn": [
             0.7196646599
            ],
            "passed_time": 34.20310278,
            "remaining_time": 42.14310879,
            "test": [
             0.8041253906
            ]
           },
           {
            "iteration": 448,
            "learn": [
             0.7193386029
            ],
            "passed_time": 34.36084758,
            "remaining_time": 42.1666526,
            "test": [
             0.8041520833
            ]
           },
           {
            "iteration": 449,
            "learn": [
             0.7191318934
            ],
            "passed_time": 34.50090865,
            "remaining_time": 42.16777724,
            "test": [
             0.8041281901
            ]
           },
           {
            "iteration": 450,
            "learn": [
             0.7189268842
            ],
            "passed_time": 34.64705154,
            "remaining_time": 42.17567915,
            "test": [
             0.8041689453
            ]
           },
           {
            "iteration": 451,
            "learn": [
             0.7188017923
            ],
            "passed_time": 34.77518427,
            "remaining_time": 42.16106412,
            "test": [
             0.8042003906
            ]
           },
           {
            "iteration": 452,
            "learn": [
             0.7185499081
            ],
            "passed_time": 34.92260165,
            "remaining_time": 42.16923422,
            "test": [
             0.8041607422
            ]
           },
           {
            "iteration": 453,
            "learn": [
             0.718352114
            ],
            "passed_time": 35.08506017,
            "remaining_time": 42.19480804,
            "test": [
             0.8040995443
            ]
           },
           {
            "iteration": 454,
            "learn": [
             0.7182019761
            ],
            "passed_time": 35.23245023,
            "remaining_time": 42.20150632,
            "test": [
             0.8040912109
            ]
           },
           {
            "iteration": 455,
            "learn": [
             0.7180571232
            ],
            "passed_time": 35.35934994,
            "remaining_time": 42.18308414,
            "test": [
             0.8040382812
            ]
           },
           {
            "iteration": 456,
            "learn": [
             0.7178522978
            ],
            "passed_time": 35.49985993,
            "remaining_time": 42.18035874,
            "test": [
             0.8040192708
            ]
           },
           {
            "iteration": 457,
            "learn": [
             0.7177132353
            ],
            "passed_time": 35.63783228,
            "remaining_time": 42.1740286,
            "test": [
             0.8040716797
            ]
           },
           {
            "iteration": 458,
            "learn": [
             0.7173954504
            ],
            "passed_time": 35.79297867,
            "remaining_time": 42.18736701,
            "test": [
             0.8040739583
            ]
           },
           {
            "iteration": 459,
            "learn": [
             0.7172891544
            ],
            "passed_time": 35.91745586,
            "remaining_time": 42.16396993,
            "test": [
             0.8041085286
            ]
           },
           {
            "iteration": 460,
            "learn": [
             0.7172049173
            ],
            "passed_time": 36.04604895,
            "remaining_time": 42.14494661,
            "test": [
             0.804108724
            ]
           },
           {
            "iteration": 461,
            "learn": [
             0.7170274357
            ],
            "passed_time": 36.21088839,
            "remaining_time": 42.16765791,
            "test": [
             0.8041141927
            ]
           },
           {
            "iteration": 462,
            "learn": [
             0.7168532169
            ],
            "passed_time": 36.33623556,
            "remaining_time": 42.14375485,
            "test": [
             0.8041059245
            ]
           },
           {
            "iteration": 463,
            "learn": [
             0.7166178768
            ],
            "passed_time": 36.46950841,
            "remaining_time": 42.12857006,
            "test": [
             0.8041492188
            ]
           },
           {
            "iteration": 464,
            "learn": [
             0.7163923254
            ],
            "passed_time": 36.61311906,
            "remaining_time": 42.1247714,
            "test": [
             0.8041656901
            ]
           },
           {
            "iteration": 465,
            "learn": [
             0.7162325368
            ],
            "passed_time": 36.74401488,
            "remaining_time": 42.10580246,
            "test": [
             0.8041347656
            ]
           },
           {
            "iteration": 466,
            "learn": [
             0.7161480699
            ],
            "passed_time": 36.87304256,
            "remaining_time": 42.08422202,
            "test": [
             0.8041466797
            ]
           },
           {
            "iteration": 467,
            "learn": [
             0.7159532169
            ],
            "passed_time": 37.0078118,
            "remaining_time": 42.06870915,
            "test": [
             0.8041905599
            ]
           },
           {
            "iteration": 468,
            "learn": [
             0.715867693
            ],
            "passed_time": 37.14697104,
            "remaining_time": 42.05765804,
            "test": [
             0.8042018229
            ]
           },
           {
            "iteration": 469,
            "learn": [
             0.7157313879
            ],
            "passed_time": 37.30862555,
            "remaining_time": 42.07142881,
            "test": [
             0.8042242188
            ]
           },
           {
            "iteration": 470,
            "learn": [
             0.7155827665
            ],
            "passed_time": 37.45110745,
            "remaining_time": 42.06292111,
            "test": [
             0.8042723307
            ]
           },
           {
            "iteration": 471,
            "learn": [
             0.715332307
            ],
            "passed_time": 37.59677336,
            "remaining_time": 42.05740749,
            "test": [
             0.8043096354
            ]
           },
           {
            "iteration": 472,
            "learn": [
             0.7152368566
            ],
            "passed_time": 37.72662047,
            "remaining_time": 42.03367651,
            "test": [
             0.8043518229
            ]
           },
           {
            "iteration": 473,
            "learn": [
             0.7151029412
            ],
            "passed_time": 37.86837855,
            "remaining_time": 42.02271543,
            "test": [
             0.8043313802
            ]
           },
           {
            "iteration": 474,
            "learn": [
             0.7150115349
            ],
            "passed_time": 37.99420224,
            "remaining_time": 41.99359195,
            "test": [
             0.804290625
            ]
           },
           {
            "iteration": 475,
            "learn": [
             0.7148388327
            ],
            "passed_time": 38.13537836,
            "remaining_time": 41.98096273,
            "test": [
             0.8042934896
            ]
           },
           {
            "iteration": 476,
            "learn": [
             0.7146536765
            ],
            "passed_time": 38.32098924,
            "remaining_time": 42.01651441,
            "test": [
             0.8043139974
            ]
           },
           {
            "iteration": 477,
            "learn": [
             0.7144557904
            ],
            "passed_time": 38.48501017,
            "remaining_time": 42.0275634,
            "test": [
             0.8042522135
            ]
           },
           {
            "iteration": 478,
            "learn": [
             0.7142842831
            ],
            "passed_time": 38.63772134,
            "remaining_time": 42.02558,
            "test": [
             0.8042406901
            ]
           },
           {
            "iteration": 479,
            "learn": [
             0.7140603401
            ],
            "passed_time": 38.78321504,
            "remaining_time": 42.01514963,
            "test": [
             0.804233724
            ]
           },
           {
            "iteration": 480,
            "learn": [
             0.7139236213
            ],
            "passed_time": 38.92333352,
            "remaining_time": 41.99835779,
            "test": [
             0.8042064453
            ]
           },
           {
            "iteration": 481,
            "learn": [
             0.7136966912
            ],
            "passed_time": 39.07009033,
            "remaining_time": 41.98818836,
            "test": [
             0.8042124349
            ]
           },
           {
            "iteration": 482,
            "learn": [
             0.7135136029
            ],
            "passed_time": 39.19731947,
            "remaining_time": 41.95655107,
            "test": [
             0.8042264974
            ]
           },
           {
            "iteration": 483,
            "learn": [
             0.7134665901
            ],
            "passed_time": 39.33749061,
            "remaining_time": 41.93831644,
            "test": [
             0.8042324219
            ]
           },
           {
            "iteration": 484,
            "learn": [
             0.7131846048
            ],
            "passed_time": 39.47104331,
            "remaining_time": 41.91255114,
            "test": [
             0.8042302734
            ]
           },
           {
            "iteration": 485,
            "learn": [
             0.7131352941
            ],
            "passed_time": 39.547537,
            "remaining_time": 41.82599593,
            "test": [
             0.8042239583
            ]
           },
           {
            "iteration": 486,
            "learn": [
             0.7130418658
            ],
            "passed_time": 39.66544181,
            "remaining_time": 41.783104,
            "test": [
             0.8042542969
            ]
           },
           {
            "iteration": 487,
            "learn": [
             0.7129373162
            ],
            "passed_time": 39.82270795,
            "remaining_time": 41.78120178,
            "test": [
             0.8042299479
            ]
           },
           {
            "iteration": 488,
            "learn": [
             0.7127869485
            ],
            "passed_time": 39.8835989,
            "remaining_time": 41.67795304,
            "test": [
             0.8042652995
            ]
           },
           {
            "iteration": 489,
            "learn": [
             0.712722886
            ],
            "passed_time": 39.94802989,
            "remaining_time": 41.57856172,
            "test": [
             0.8042401693
            ]
           },
           {
            "iteration": 490,
            "learn": [
             0.7125142463
            ],
            "passed_time": 40.0181603,
            "remaining_time": 41.48522117,
            "test": [
             0.8042488281
            ]
           },
           {
            "iteration": 491,
            "learn": [
             0.7122225184
            ],
            "passed_time": 40.09370614,
            "remaining_time": 41.3975665,
            "test": [
             0.804148112
            ]
           },
           {
            "iteration": 492,
            "learn": [
             0.712117739
            ],
            "passed_time": 40.15670424,
            "remaining_time": 41.29705689,
            "test": [
             0.8041580729
            ]
           },
           {
            "iteration": 493,
            "learn": [
             0.7119198529
            ],
            "passed_time": 40.21592363,
            "remaining_time": 41.19282866,
            "test": [
             0.8041448568
            ]
           },
           {
            "iteration": 494,
            "learn": [
             0.7116934743
            ],
            "passed_time": 40.29110332,
            "remaining_time": 41.10506501,
            "test": [
             0.804163151
            ]
           },
           {
            "iteration": 495,
            "learn": [
             0.7115837316
            ],
            "passed_time": 40.40482467,
            "remaining_time": 41.05651539,
            "test": [
             0.804159375
            ]
           },
           {
            "iteration": 496,
            "learn": [
             0.7114609375
            ],
            "passed_time": 40.46853601,
            "remaining_time": 40.95708977,
            "test": [
             0.8041191406
            ]
           },
           {
            "iteration": 497,
            "learn": [
             0.7113347426
            ],
            "passed_time": 40.54663923,
            "remaining_time": 40.87231504,
            "test": [
             0.8041236979
            ]
           },
           {
            "iteration": 498,
            "learn": [
             0.7111878217
            ],
            "passed_time": 40.61911061,
            "remaining_time": 40.78191265,
            "test": [
             0.8041040365
            ]
           },
           {
            "iteration": 499,
            "learn": [
             0.7109960937
            ],
            "passed_time": 40.67989715,
            "remaining_time": 40.67989715,
            "test": [
             0.8041390625
            ]
           },
           {
            "iteration": 500,
            "learn": [
             0.71094375
            ],
            "passed_time": 40.7316483,
            "remaining_time": 40.56904691,
            "test": [
             0.8041382812
            ]
           },
           {
            "iteration": 501,
            "learn": [
             0.7108631893
            ],
            "passed_time": 40.78669764,
            "remaining_time": 40.46170403,
            "test": [
             0.8041419271
            ]
           },
           {
            "iteration": 502,
            "learn": [
             0.7106460937
            ],
            "passed_time": 40.85217383,
            "remaining_time": 40.36487155,
            "test": [
             0.8041935547
            ]
           },
           {
            "iteration": 503,
            "learn": [
             0.7104707721
            ],
            "passed_time": 40.9163387,
            "remaining_time": 40.26687301,
            "test": [
             0.8041804688
            ]
           },
           {
            "iteration": 504,
            "learn": [
             0.7102289982
            ],
            "passed_time": 40.98819712,
            "remaining_time": 40.17654965,
            "test": [
             0.8041528646
            ]
           },
           {
            "iteration": 505,
            "learn": [
             0.7101676011
            ],
            "passed_time": 41.04553551,
            "remaining_time": 40.0721236,
            "test": [
             0.8041651042
            ]
           },
           {
            "iteration": 506,
            "learn": [
             0.7100803768
            ],
            "passed_time": 41.1028619,
            "remaining_time": 39.96787163,
            "test": [
             0.8041679687
            ]
           },
           {
            "iteration": 507,
            "learn": [
             0.7099895221
            ],
            "passed_time": 41.16401247,
            "remaining_time": 39.86750814,
            "test": [
             0.8041360026
            ]
           },
           {
            "iteration": 508,
            "learn": [
             0.7097915901
            ],
            "passed_time": 41.23449835,
            "remaining_time": 39.77630391,
            "test": [
             0.8040878906
            ]
           },
           {
            "iteration": 509,
            "learn": [
             0.7096288143
            ],
            "passed_time": 41.30040967,
            "remaining_time": 39.68078576,
            "test": [
             0.804066276
            ]
           },
           {
            "iteration": 510,
            "learn": [
             0.7095665441
            ],
            "passed_time": 41.3915437,
            "remaining_time": 39.60952029,
            "test": [
             0.8040521484
            ]
           },
           {
            "iteration": 511,
            "learn": [
             0.709482261
            ],
            "passed_time": 41.46589067,
            "remaining_time": 39.52217705,
            "test": [
             0.8040591797
            ]
           },
           {
            "iteration": 512,
            "learn": [
             0.7092226563
            ],
            "passed_time": 41.54649817,
            "remaining_time": 39.4408277,
            "test": [
             0.8041044271
            ]
           },
           {
            "iteration": 513,
            "learn": [
             0.7090181526
            ],
            "passed_time": 41.61832572,
            "remaining_time": 39.35117957,
            "test": [
             0.8040928385
            ]
           },
           {
            "iteration": 514,
            "learn": [
             0.7088970129
            ],
            "passed_time": 41.67714296,
            "remaining_time": 39.24934823,
            "test": [
             0.8040917969
            ]
           },
           {
            "iteration": 515,
            "learn": [
             0.7084994945
            ],
            "passed_time": 41.76342037,
            "remaining_time": 39.17344081,
            "test": [
             0.8040478516
            ]
           },
           {
            "iteration": 516,
            "learn": [
             0.7083628217
            ],
            "passed_time": 41.83644451,
            "remaining_time": 39.0851116,
            "test": [
             0.8040582031
            ]
           },
           {
            "iteration": 517,
            "learn": [
             0.7081939798
            ],
            "passed_time": 41.89698979,
            "remaining_time": 38.98522988,
            "test": [
             0.8040772135
            ]
           },
           {
            "iteration": 518,
            "learn": [
             0.7080271599
            ],
            "passed_time": 41.95590827,
            "remaining_time": 38.88399206,
            "test": [
             0.8040605469
            ]
           },
           {
            "iteration": 519,
            "learn": [
             0.7079217371
            ],
            "passed_time": 42.01637918,
            "remaining_time": 38.78435001,
            "test": [
             0.8040669271
            ]
           },
           {
            "iteration": 520,
            "learn": [
             0.7077652114
            ],
            "passed_time": 42.09033421,
            "remaining_time": 38.69725544,
            "test": [
             0.8040977214
            ]
           },
           {
            "iteration": 521,
            "learn": [
             0.7074886489
            ],
            "passed_time": 42.16173705,
            "remaining_time": 38.60787416,
            "test": [
             0.8040723958
            ]
           },
           {
            "iteration": 522,
            "learn": [
             0.7072743566
            ],
            "passed_time": 42.23580274,
            "remaining_time": 38.52099027,
            "test": [
             0.8040567057
            ]
           },
           {
            "iteration": 523,
            "learn": [
             0.7071137868
            ],
            "passed_time": 42.30546245,
            "remaining_time": 38.43015292,
            "test": [
             0.8040388021
            ]
           },
           {
            "iteration": 524,
            "learn": [
             0.7070005974
            ],
            "passed_time": 42.36865144,
            "remaining_time": 38.33354178,
            "test": [
             0.8040488281
            ]
           },
           {
            "iteration": 525,
            "learn": [
             0.7068859375
            ],
            "passed_time": 42.47175188,
            "remaining_time": 38.27302355,
            "test": [
             0.8040309245
            ]
           },
           {
            "iteration": 526,
            "learn": [
             0.7067784007
            ],
            "passed_time": 42.55269978,
            "remaining_time": 38.19246109,
            "test": [
             0.8040444661
            ]
           },
           {
            "iteration": 527,
            "learn": [
             0.7065977482
            ],
            "passed_time": 42.62233082,
            "remaining_time": 38.10178058,
            "test": [
             0.8040628906
            ]
           },
           {
            "iteration": 528,
            "learn": [
             0.7064807904
            ],
            "passed_time": 42.68497343,
            "remaining_time": 38.00495744,
            "test": [
             0.8040502604
            ]
           },
           {
            "iteration": 529,
            "learn": [
             0.706318704
            ],
            "passed_time": 42.7480361,
            "remaining_time": 37.90863578,
            "test": [
             0.8039848307
            ]
           },
           {
            "iteration": 530,
            "learn": [
             0.7060882813
            ],
            "passed_time": 42.82121676,
            "remaining_time": 37.821376,
            "test": [
             0.8040000651
            ]
           },
           {
            "iteration": 531,
            "learn": [
             0.7058047335
            ],
            "passed_time": 42.89644268,
            "remaining_time": 37.73596837,
            "test": [
             0.8039037109
            ]
           },
           {
            "iteration": 532,
            "learn": [
             0.7055148897
            ],
            "passed_time": 42.96237325,
            "remaining_time": 37.64245461,
            "test": [
             0.8039779297
            ]
           },
           {
            "iteration": 533,
            "learn": [
             0.7054533088
            ],
            "passed_time": 43.02422394,
            "remaining_time": 37.54548381,
            "test": [
             0.8039931641
            ]
           },
           {
            "iteration": 534,
            "learn": [
             0.7052797335
            ],
            "passed_time": 43.0901924,
            "remaining_time": 37.4522233,
            "test": [
             0.8040419271
            ]
           },
           {
            "iteration": 535,
            "learn": [
             0.7052013327
            ],
            "passed_time": 43.15080394,
            "remaining_time": 37.35442729,
            "test": [
             0.8040367839
            ]
           },
           {
            "iteration": 536,
            "learn": [
             0.7050924632
            ],
            "passed_time": 43.20955212,
            "remaining_time": 37.25516319,
            "test": [
             0.8040777995
            ]
           },
           {
            "iteration": 537,
            "learn": [
             0.7048753217
            ],
            "passed_time": 43.28348597,
            "remaining_time": 37.16909019,
            "test": [
             0.8040761068
            ]
           },
           {
            "iteration": 538,
            "learn": [
             0.7047835018
            ],
            "passed_time": 43.33918101,
            "remaining_time": 37.06746279,
            "test": [
             0.8040742187
            ]
           },
           {
            "iteration": 539,
            "learn": [
             0.7046361213
            ],
            "passed_time": 43.41175768,
            "remaining_time": 36.98038617,
            "test": [
             0.8040136068
            ]
           },
           {
            "iteration": 540,
            "learn": [
             0.7045776195
            ],
            "passed_time": 43.4798427,
            "remaining_time": 36.88955231,
            "test": [
             0.8040158854
            ]
           },
           {
            "iteration": 541,
            "learn": [
             0.7044836397
            ],
            "passed_time": 43.56731867,
            "remaining_time": 36.8151881,
            "test": [
             0.8039900391
            ]
           },
           {
            "iteration": 542,
            "learn": [
             0.7043465074
            ],
            "passed_time": 43.63294984,
            "remaining_time": 36.72239057,
            "test": [
             0.8040007161
            ]
           },
           {
            "iteration": 543,
            "learn": [
             0.704135432
            ],
            "passed_time": 43.71002229,
            "remaining_time": 36.63928339,
            "test": [
             0.8039527995
            ]
           },
           {
            "iteration": 544,
            "learn": [
             0.7039018382
            ],
            "passed_time": 43.79022372,
            "remaining_time": 36.55881063,
            "test": [
             0.803910612
            ]
           },
           {
            "iteration": 545,
            "learn": [
             0.7037243107
            ],
            "passed_time": 43.87761769,
            "remaining_time": 36.48431947,
            "test": [
             0.8039285156
            ]
           },
           {
            "iteration": 546,
            "learn": [
             0.7036068934
            ],
            "passed_time": 43.93820859,
            "remaining_time": 36.38758408,
            "test": [
             0.8038739583
            ]
           },
           {
            "iteration": 547,
            "learn": [
             0.7035285386
            ],
            "passed_time": 43.9997128,
            "remaining_time": 36.29173391,
            "test": [
             0.8038759766
            ]
           },
           {
            "iteration": 548,
            "learn": [
             0.7033838235
            ],
            "passed_time": 44.0585912,
            "remaining_time": 36.19385178,
            "test": [
             0.8039268229
            ]
           },
           {
            "iteration": 549,
            "learn": [
             0.7032542279
            ],
            "passed_time": 44.12356535,
            "remaining_time": 36.10109892,
            "test": [
             0.8039776042
            ]
           },
           {
            "iteration": 550,
            "learn": [
             0.7030852022
            ],
            "passed_time": 44.18747666,
            "remaining_time": 36.0075808,
            "test": [
             0.804004362
            ]
           },
           {
            "iteration": 551,
            "learn": [
             0.7028944393
            ],
            "passed_time": 44.25935998,
            "remaining_time": 35.92063998,
            "test": [
             0.8040121094
            ]
           },
           {
            "iteration": 552,
            "learn": [
             0.7027400276
            ],
            "passed_time": 44.31875135,
            "remaining_time": 35.82365616,
            "test": [
             0.8040221354
            ]
           },
           {
            "iteration": 553,
            "learn": [
             0.7025964614
            ],
            "passed_time": 44.3824297,
            "remaining_time": 35.73025929,
            "test": [
             0.8040295573
            ]
           },
           {
            "iteration": 554,
            "learn": [
             0.7024851562
            ],
            "passed_time": 44.45743097,
            "remaining_time": 35.64604826,
            "test": [
             0.8040689453
            ]
           },
           {
            "iteration": 555,
            "learn": [
             0.7024429688
            ],
            "passed_time": 44.52341909,
            "remaining_time": 35.5546728,
            "test": [
             0.804064974
            ]
           },
           {
            "iteration": 556,
            "learn": [
             0.7023941636
            ],
            "passed_time": 44.59339713,
            "remaining_time": 35.46656181,
            "test": [
             0.804090625
            ]
           },
           {
            "iteration": 557,
            "learn": [
             0.7022913143
            ],
            "passed_time": 44.6527069,
            "remaining_time": 35.37006532,
            "test": [
             0.8040935547
            ]
           },
           {
            "iteration": 558,
            "learn": [
             0.7021569853
            ],
            "passed_time": 44.71604309,
            "remaining_time": 35.27687836,
            "test": [
             0.8040574219
            ]
           },
           {
            "iteration": 559,
            "learn": [
             0.7019269761
            ],
            "passed_time": 44.78900406,
            "remaining_time": 35.19136033,
            "test": [
             0.8040267578
            ]
           },
           {
            "iteration": 560,
            "learn": [
             0.7017606618
            ],
            "passed_time": 44.85713328,
            "remaining_time": 35.10210608,
            "test": [
             0.8040253906
            ]
           },
           {
            "iteration": 561,
            "learn": [
             0.7015569853
            ],
            "passed_time": 44.93266738,
            "remaining_time": 35.01869806,
            "test": [
             0.804064974
            ]
           },
           {
            "iteration": 562,
            "learn": [
             0.7014404412
            ],
            "passed_time": 44.9958088,
            "remaining_time": 34.92569884,
            "test": [
             0.8040755208
            ]
           },
           {
            "iteration": 563,
            "learn": [
             0.7013032629
            ],
            "passed_time": 45.06482364,
            "remaining_time": 34.83734593,
            "test": [
             0.8041128255
            ]
           },
           {
            "iteration": 564,
            "learn": [
             0.7010995864
            ],
            "passed_time": 45.13198831,
            "remaining_time": 34.74763702,
            "test": [
             0.8041144531
            ]
           },
           {
            "iteration": 565,
            "learn": [
             0.700984329
            ],
            "passed_time": 45.18832078,
            "remaining_time": 34.6497018,
            "test": [
             0.8041253906
            ]
           },
           {
            "iteration": 566,
            "learn": [
             0.7008143842
            ],
            "passed_time": 45.25676609,
            "remaining_time": 34.56116352,
            "test": [
             0.8041055339
            ]
           },
           {
            "iteration": 567,
            "learn": [
             0.7006835938
            ],
            "passed_time": 45.31688317,
            "remaining_time": 34.46636185,
            "test": [
             0.8040408203
            ]
           },
           {
            "iteration": 568,
            "learn": [
             0.7004914062
            ],
            "passed_time": 45.38766385,
            "remaining_time": 34.37975944,
            "test": [
             0.8040740234
            ]
           },
           {
            "iteration": 569,
            "learn": [
             0.7003887408
            ],
            "passed_time": 45.44287621,
            "remaining_time": 34.28146801,
            "test": [
             0.8040478516
            ]
           },
           {
            "iteration": 570,
            "learn": [
             0.700194807
            ],
            "passed_time": 45.54159949,
            "remaining_time": 34.21601783,
            "test": [
             0.8040752604
            ]
           },
           {
            "iteration": 571,
            "learn": [
             0.7000931066
            ],
            "passed_time": 45.6241239,
            "remaining_time": 34.13833047,
            "test": [
             0.8040677083
            ]
           },
           {
            "iteration": 572,
            "learn": [
             0.6999707721
            ],
            "passed_time": 45.69956905,
            "remaining_time": 34.05535076,
            "test": [
             0.8040369141
            ]
           },
           {
            "iteration": 573,
            "learn": [
             0.6997411765
            ],
            "passed_time": 45.77747637,
            "remaining_time": 33.97422462,
            "test": [
             0.8040255859
            ]
           },
           {
            "iteration": 574,
            "learn": [
             0.6994925551
            ],
            "passed_time": 45.84758578,
            "remaining_time": 33.88734601,
            "test": [
             0.8040189453
            ]
           },
           {
            "iteration": 575,
            "learn": [
             0.6994465533
            ],
            "passed_time": 45.90321614,
            "remaining_time": 33.78986743,
            "test": [
             0.8040361328
            ]
           },
           {
            "iteration": 576,
            "learn": [
             0.6992409007
            ],
            "passed_time": 45.97705617,
            "remaining_time": 33.70588346,
            "test": [
             0.8040453125
            ]
           },
           {
            "iteration": 577,
            "learn": [
             0.6989494485
            ],
            "passed_time": 46.06211423,
            "remaining_time": 33.63012492,
            "test": [
             0.8039766927
            ]
           },
           {
            "iteration": 578,
            "learn": [
             0.698882261
            ],
            "passed_time": 46.11547153,
            "remaining_time": 33.53128413,
            "test": [
             0.8039939453
            ]
           },
           {
            "iteration": 579,
            "learn": [
             0.6986410386
            ],
            "passed_time": 46.19063347,
            "remaining_time": 33.44838975,
            "test": [
             0.8039783854
            ]
           },
           {
            "iteration": 580,
            "learn": [
             0.6985117647
            ],
            "passed_time": 46.25789432,
            "remaining_time": 33.35982396,
            "test": [
             0.8039771484
            ]
           },
           {
            "iteration": 581,
            "learn": [
             0.6984265165
            ],
            "passed_time": 46.3222449,
            "remaining_time": 33.26924119,
            "test": [
             0.8039948568
            ]
           },
           {
            "iteration": 582,
            "learn": [
             0.698286489
            ],
            "passed_time": 46.38577423,
            "remaining_time": 33.17816098,
            "test": [
             0.8040431641
            ]
           },
           {
            "iteration": 583,
            "learn": [
             0.6981758732
            ],
            "passed_time": 46.448179,
            "remaining_time": 33.08637408,
            "test": [
             0.8040436849
            ]
           },
           {
            "iteration": 584,
            "learn": [
             0.6980869485
            ],
            "passed_time": 46.52913048,
            "remaining_time": 33.0078447,
            "test": [
             0.8040523438
            ]
           },
           {
            "iteration": 585,
            "learn": [
             0.6979632353
            ],
            "passed_time": 46.61816623,
            "remaining_time": 32.93501846,
            "test": [
             0.8040766276
            ]
           },
           {
            "iteration": 586,
            "learn": [
             0.6977116268
            ],
            "passed_time": 46.69542283,
            "remaining_time": 32.85384945,
            "test": [
             0.8040877604
            ]
           },
           {
            "iteration": 587,
            "learn": [
             0.6975903493
            ],
            "passed_time": 46.76541802,
            "remaining_time": 32.76760582,
            "test": [
             0.804055013
            ]
           },
           {
            "iteration": 588,
            "learn": [
             0.6974673254
            ],
            "passed_time": 46.82960673,
            "remaining_time": 32.67736565,
            "test": [
             0.8040783854
            ]
           },
           {
            "iteration": 589,
            "learn": [
             0.6973793658
            ],
            "passed_time": 46.88540782,
            "remaining_time": 32.58138509,
            "test": [
             0.8041011719
            ]
           },
           {
            "iteration": 590,
            "learn": [
             0.6971994945
            ],
            "passed_time": 46.9519322,
            "remaining_time": 32.49296154,
            "test": [
             0.8040569661
            ]
           },
           {
            "iteration": 591,
            "learn": [
             0.6970125919
            ],
            "passed_time": 47.03362525,
            "remaining_time": 32.41506605,
            "test": [
             0.8040854167
            ]
           },
           {
            "iteration": 592,
            "learn": [
             0.6969577206
            ],
            "passed_time": 47.09094325,
            "remaining_time": 32.32042817,
            "test": [
             0.8041207031
            ]
           },
           {
            "iteration": 593,
            "learn": [
             0.696803079
            ],
            "passed_time": 47.18835953,
            "remaining_time": 32.25332318,
            "test": [
             0.8041472005
            ]
           },
           {
            "iteration": 594,
            "learn": [
             0.6966308364
            ],
            "passed_time": 47.32964718,
            "remaining_time": 32.21597833,
            "test": [
             0.8041811849
            ]
           },
           {
            "iteration": 595,
            "learn": [
             0.6965261949
            ],
            "passed_time": 47.45837291,
            "remaining_time": 32.16976955,
            "test": [
             0.8041980469
            ]
           },
           {
            "iteration": 596,
            "learn": [
             0.6963713235
            ],
            "passed_time": 47.59660007,
            "remaining_time": 32.1296982,
            "test": [
             0.8042029948
            ]
           },
           {
            "iteration": 597,
            "learn": [
             0.6962104779
            ],
            "passed_time": 47.73673251,
            "remaining_time": 32.09057938,
            "test": [
             0.8042238932
            ]
           },
           {
            "iteration": 598,
            "learn": [
             0.696074954
            ],
            "passed_time": 47.83914656,
            "remaining_time": 32.02587274,
            "test": [
             0.8042905599
            ]
           },
           {
            "iteration": 599,
            "learn": [
             0.6959011949
            ],
            "passed_time": 47.93793488,
            "remaining_time": 31.95862325,
            "test": [
             0.8042952474
            ]
           },
           {
            "iteration": 600,
            "learn": [
             0.6957733915
            ],
            "passed_time": 48.05780389,
            "remaining_time": 31.90526415,
            "test": [
             0.804310612
            ]
           },
           {
            "iteration": 601,
            "learn": [
             0.6956709559
            ],
            "passed_time": 48.14197314,
            "remaining_time": 31.82808191,
            "test": [
             0.8043179687
            ]
           },
           {
            "iteration": 602,
            "learn": [
             0.695468796
            ],
            "passed_time": 48.24874866,
            "remaining_time": 31.7657599,
            "test": [
             0.8042977865
            ]
           },
           {
            "iteration": 603,
            "learn": [
             0.6953553768
            ],
            "passed_time": 48.32070779,
            "remaining_time": 31.68046405,
            "test": [
             0.80433125
            ]
           },
           {
            "iteration": 604,
            "learn": [
             0.6952307445
            ],
            "passed_time": 48.49995828,
            "remaining_time": 31.66526202,
            "test": [
             0.8043373698
            ]
           },
           {
            "iteration": 605,
            "learn": [
             0.6950514246
            ],
            "passed_time": 48.80448113,
            "remaining_time": 31.73096628,
            "test": [
             0.8043578776
            ]
           },
           {
            "iteration": 606,
            "learn": [
             0.694743796
            ],
            "passed_time": 49.05034267,
            "remaining_time": 31.75747062,
            "test": [
             0.8044298828
            ]
           },
           {
            "iteration": 607,
            "learn": [
             0.6944689338
            ],
            "passed_time": 49.18494808,
            "remaining_time": 31.7113481,
            "test": [
             0.8044804036
            ]
           },
           {
            "iteration": 608,
            "learn": [
             0.6943842371
            ],
            "passed_time": 49.40013012,
            "remaining_time": 31.71666811,
            "test": [
             0.8044965495
            ]
           },
           {
            "iteration": 609,
            "learn": [
             0.6943217831
            ],
            "passed_time": 49.65613397,
            "remaining_time": 31.74736434,
            "test": [
             0.8044753906
            ]
           },
           {
            "iteration": 610,
            "learn": [
             0.6941846507
            ],
            "passed_time": 49.89326931,
            "remaining_time": 31.76510927,
            "test": [
             0.8045224609
            ]
           },
           {
            "iteration": 611,
            "learn": [
             0.6939298713
            ],
            "passed_time": 50.14252855,
            "remaining_time": 31.78970764,
            "test": [
             0.804579362
            ]
           },
           {
            "iteration": 612,
            "learn": [
             0.69376875
            ],
            "passed_time": 50.42102528,
            "remaining_time": 31.83187077,
            "test": [
             0.8045160156
            ]
           },
           {
            "iteration": 613,
            "learn": [
             0.6936952665
            ],
            "passed_time": 50.68119773,
            "remaining_time": 31.86146958,
            "test": [
             0.8045080729
            ]
           },
           {
            "iteration": 614,
            "learn": [
             0.6935463695
            ],
            "passed_time": 50.96852923,
            "remaining_time": 31.90712806,
            "test": [
             0.804519401
            ]
           },
           {
            "iteration": 615,
            "learn": [
             0.6933203585
            ],
            "passed_time": 51.26217077,
            "remaining_time": 31.95563892,
            "test": [
             0.8044984375
            ]
           },
           {
            "iteration": 616,
            "learn": [
             0.6930908548
            ],
            "passed_time": 51.4982067,
            "remaining_time": 31.96728228,
            "test": [
             0.8044501953
            ]
           },
           {
            "iteration": 617,
            "learn": [
             0.6929888327
            ],
            "passed_time": 51.75627569,
            "remaining_time": 31.99174323,
            "test": [
             0.8044395182
            ]
           },
           {
            "iteration": 618,
            "learn": [
             0.6928506434
            ],
            "passed_time": 52.0130862,
            "remaining_time": 32.01451671,
            "test": [
             0.8044486979
            ]
           },
           {
            "iteration": 619,
            "learn": [
             0.6928236673
            ],
            "passed_time": 52.25772117,
            "remaining_time": 32.02892588,
            "test": [
             0.8044266276
            ]
           },
           {
            "iteration": 620,
            "learn": [
             0.6926669577
            ],
            "passed_time": 52.55082763,
            "remaining_time": 32.07208321,
            "test": [
             0.8044468099
            ]
           },
           {
            "iteration": 621,
            "learn": [
             0.6926067555
            ],
            "passed_time": 52.7556578,
            "remaining_time": 32.0605123,
            "test": [
             0.8044353516
            ]
           },
           {
            "iteration": 622,
            "learn": [
             0.6925272518
            ],
            "passed_time": 52.9222518,
            "remaining_time": 32.02518287,
            "test": [
             0.8044394531
            ]
           },
           {
            "iteration": 623,
            "learn": [
             0.6924022059
            ],
            "passed_time": 53.116592,
            "remaining_time": 32.00615159,
            "test": [
             0.8044541667
            ]
           },
           {
            "iteration": 624,
            "learn": [
             0.6922359375
            ],
            "passed_time": 53.22257421,
            "remaining_time": 31.93354453,
            "test": [
             0.8044527995
            ]
           },
           {
            "iteration": 625,
            "learn": [
             0.6919647059
            ],
            "passed_time": 53.31442375,
            "remaining_time": 31.85238735,
            "test": [
             0.8045033203
            ]
           },
           {
            "iteration": 626,
            "learn": [
             0.6918867187
            ],
            "passed_time": 53.38719038,
            "remaining_time": 31.75984372,
            "test": [
             0.8044992187
            ]
           },
           {
            "iteration": 627,
            "learn": [
             0.691771875
            ],
            "passed_time": 53.44700666,
            "remaining_time": 31.65969184,
            "test": [
             0.8045123047
            ]
           },
           {
            "iteration": 628,
            "learn": [
             0.691609375
            ],
            "passed_time": 53.51094809,
            "remaining_time": 31.56210134,
            "test": [
             0.8045369141
            ]
           },
           {
            "iteration": 629,
            "learn": [
             0.691498989
            ],
            "passed_time": 53.57286984,
            "remaining_time": 31.46343149,
            "test": [
             0.8045572266
            ]
           },
           {
            "iteration": 630,
            "learn": [
             0.6912293199
            ],
            "passed_time": 53.6564225,
            "remaining_time": 31.37752758,
            "test": [
             0.8045598307
            ]
           },
           {
            "iteration": 631,
            "learn": [
             0.6910610294
            ],
            "passed_time": 53.72498416,
            "remaining_time": 31.28290217,
            "test": [
             0.8045446615
            ]
           },
           {
            "iteration": 632,
            "learn": [
             0.690952068
            ],
            "passed_time": 53.78634322,
            "remaining_time": 31.18418319,
            "test": [
             0.8045626953
            ]
           },
           {
            "iteration": 633,
            "learn": [
             0.6908443474
            ],
            "passed_time": 53.84646304,
            "remaining_time": 31.08486667,
            "test": [
             0.8045507813
            ]
           },
           {
            "iteration": 634,
            "learn": [
             0.6906959099
            ],
            "passed_time": 53.92030585,
            "remaining_time": 30.99356163,
            "test": [
             0.8045623698
            ]
           },
           {
            "iteration": 635,
            "learn": [
             0.6904871783
            ],
            "passed_time": 53.99618562,
            "remaining_time": 30.9034773,
            "test": [
             0.8045892578
            ]
           },
           {
            "iteration": 636,
            "learn": [
             0.6904016085
            ],
            "passed_time": 54.05862768,
            "remaining_time": 30.80577998,
            "test": [
             0.8046098958
            ]
           },
           {
            "iteration": 637,
            "learn": [
             0.6902788603
            ],
            "passed_time": 54.19828947,
            "remaining_time": 30.7520075,
            "test": [
             0.8045982422
            ]
           },
           {
            "iteration": 638,
            "learn": [
             0.6901388787
            ],
            "passed_time": 54.26914823,
            "remaining_time": 30.65909626,
            "test": [
             0.804550651
            ]
           },
           {
            "iteration": 639,
            "learn": [
             0.6899627298
            ],
            "passed_time": 54.33924817,
            "remaining_time": 30.56582709,
            "test": [
             0.8045377604
            ]
           },
           {
            "iteration": 640,
            "learn": [
             0.689870818
            ],
            "passed_time": 54.41023262,
            "remaining_time": 30.4731256,
            "test": [
             0.8045946615
            ]
           },
           {
            "iteration": 641,
            "learn": [
             0.6896994485
            ],
            "passed_time": 54.47563057,
            "remaining_time": 30.37737655,
            "test": [
             0.8046414714
            ]
           },
           {
            "iteration": 642,
            "learn": [
             0.6894252757
            ],
            "passed_time": 54.55449111,
            "remaining_time": 30.28919646,
            "test": [
             0.8046442708
            ]
           },
           {
            "iteration": 643,
            "learn": [
             0.6892952665
            ],
            "passed_time": 54.62044272,
            "remaining_time": 30.19390933,
            "test": [
             0.8046517578
            ]
           },
           {
            "iteration": 644,
            "learn": [
             0.6891740349
            ],
            "passed_time": 54.68020822,
            "remaining_time": 30.0953084,
            "test": [
             0.8046517578
            ]
           },
           {
            "iteration": 645,
            "learn": [
             0.6890621783
            ],
            "passed_time": 54.73939133,
            "remaining_time": 29.99650856,
            "test": [
             0.8046623698
            ]
           },
           {
            "iteration": 646,
            "learn": [
             0.6888855239
            ],
            "passed_time": 54.80244035,
            "remaining_time": 29.89994041,
            "test": [
             0.8046249349
            ]
           },
           {
            "iteration": 647,
            "learn": [
             0.688772932
            ],
            "passed_time": 54.86895267,
            "remaining_time": 29.80535701,
            "test": [
             0.804618099
            ]
           },
           {
            "iteration": 648,
            "learn": [
             0.6886472426
            ],
            "passed_time": 54.94447868,
            "remaining_time": 29.715735,
            "test": [
             0.8046558594
            ]
           },
           {
            "iteration": 649,
            "learn": [
             0.6885545037
            ],
            "passed_time": 55.00666423,
            "remaining_time": 29.61897305,
            "test": [
             0.8046613932
            ]
           },
           {
            "iteration": 650,
            "learn": [
             0.688429182
            ],
            "passed_time": 55.0802936,
            "remaining_time": 29.52845233,
            "test": [
             0.8046699219
            ]
           },
           {
            "iteration": 651,
            "learn": [
             0.688320864
            ],
            "passed_time": 55.14530525,
            "remaining_time": 29.43338379,
            "test": [
             0.8046491536
            ]
           },
           {
            "iteration": 652,
            "learn": [
             0.6881164063
            ],
            "passed_time": 55.24360892,
            "remaining_time": 29.35609846,
            "test": [
             0.8046292318
            ]
           },
           {
            "iteration": 653,
            "learn": [
             0.688013557
            ],
            "passed_time": 55.33676836,
            "remaining_time": 29.2760273,
            "test": [
             0.804663737
            ]
           },
           {
            "iteration": 654,
            "learn": [
             0.6879425551
            ],
            "passed_time": 55.39795168,
            "remaining_time": 29.17907379,
            "test": [
             0.8046410807
            ]
           },
           {
            "iteration": 655,
            "learn": [
             0.6877592831
            ],
            "passed_time": 55.47113187,
            "remaining_time": 29.08852037,
            "test": [
             0.8046367187
            ]
           },
           {
            "iteration": 656,
            "learn": [
             0.6876723346
            ],
            "passed_time": 55.52616971,
            "remaining_time": 28.98854826,
            "test": [
             0.8046386719
            ]
           },
           {
            "iteration": 657,
            "learn": [
             0.6875360754
            ],
            "passed_time": 55.60180208,
            "remaining_time": 28.89941689,
            "test": [
             0.8046606771
            ]
           },
           {
            "iteration": 658,
            "learn": [
             0.6873244945
            ],
            "passed_time": 55.67907943,
            "remaining_time": 28.81117767,
            "test": [
             0.8046654297
            ]
           },
           {
            "iteration": 659,
            "learn": [
             0.6872209559
            ],
            "passed_time": 55.73829415,
            "remaining_time": 28.71366669,
            "test": [
             0.8046738932
            ]
           },
           {
            "iteration": 660,
            "learn": [
             0.6870902574
            ],
            "passed_time": 55.8116847,
            "remaining_time": 28.62354178,
            "test": [
             0.8046940755
            ]
           },
           {
            "iteration": 661,
            "learn": [
             0.6870080423
            ],
            "passed_time": 55.88347385,
            "remaining_time": 28.53264979,
            "test": [
             0.8047244141
            ]
           },
           {
            "iteration": 662,
            "learn": [
             0.6868744026
            ],
            "passed_time": 55.94845181,
            "remaining_time": 28.43835333,
            "test": [
             0.8047307292
            ]
           },
           {
            "iteration": 663,
            "learn": [
             0.6867353401
            ],
            "passed_time": 56.02717574,
            "remaining_time": 28.35110097,
            "test": [
             0.8047421875
            ]
           },
           {
            "iteration": 664,
            "learn": [
             0.6865392463
            ],
            "passed_time": 56.09984327,
            "remaining_time": 28.2608233,
            "test": [
             0.8047478516
            ]
           },
           {
            "iteration": 665,
            "learn": [
             0.6864181066
            ],
            "passed_time": 56.16466073,
            "remaining_time": 28.16666169,
            "test": [
             0.8047527995
            ]
           },
           {
            "iteration": 666,
            "learn": [
             0.6862818015
            ],
            "passed_time": 56.2250161,
            "remaining_time": 28.07036036,
            "test": [
             0.8047485026
            ]
           },
           {
            "iteration": 667,
            "learn": [
             0.6860594669
            ],
            "passed_time": 56.33512195,
            "remaining_time": 27.99889295,
            "test": [
             0.8047409505
            ]
           },
           {
            "iteration": 668,
            "learn": [
             0.6859032169
            ],
            "passed_time": 56.39774419,
            "remaining_time": 27.90381663,
            "test": [
             0.8047485677
            ]
           },
           {
            "iteration": 669,
            "learn": [
             0.6857922335
            ],
            "passed_time": 56.45992011,
            "remaining_time": 27.80861737,
            "test": [
             0.8047632812
            ]
           },
           {
            "iteration": 670,
            "learn": [
             0.685672932
            ],
            "passed_time": 56.52779638,
            "remaining_time": 27.71631149,
            "test": [
             0.8047458333
            ]
           },
           {
            "iteration": 671,
            "learn": [
             0.6855231618
            ],
            "passed_time": 56.59842103,
            "remaining_time": 27.62541979,
            "test": [
             0.8047392578
            ]
           },
           {
            "iteration": 672,
            "learn": [
             0.6852861673
            ],
            "passed_time": 56.67460629,
            "remaining_time": 27.53729013,
            "test": [
             0.8047294922
            ]
           },
           {
            "iteration": 673,
            "learn": [
             0.6851102482
            ],
            "passed_time": 56.74467172,
            "remaining_time": 27.44623588,
            "test": [
             0.8047549479
            ]
           },
           {
            "iteration": 674,
            "learn": [
             0.6849248621
            ],
            "passed_time": 56.82094977,
            "remaining_time": 27.35823508,
            "test": [
             0.8047554036
            ]
           },
           {
            "iteration": 675,
            "learn": [
             0.6847674173
            ],
            "passed_time": 56.9020761,
            "remaining_time": 27.27259269,
            "test": [
             0.8047854167
            ]
           },
           {
            "iteration": 676,
            "learn": [
             0.6845961397
            ],
            "passed_time": 56.97331017,
            "remaining_time": 27.182244,
            "test": [
             0.8047984375
            ]
           },
           {
            "iteration": 677,
            "learn": [
             0.6844238051
            ],
            "passed_time": 57.0486675,
            "remaining_time": 27.09390994,
            "test": [
             0.8049371094
            ]
           },
           {
            "iteration": 678,
            "learn": [
             0.6842933824
            ],
            "passed_time": 57.11276973,
            "remaining_time": 27.0002932,
            "test": [
             0.8049548828
            ]
           },
           {
            "iteration": 679,
            "learn": [
             0.6841662684
            ],
            "passed_time": 57.18166594,
            "remaining_time": 26.90901926,
            "test": [
             0.8049860026
            ]
           },
           {
            "iteration": 680,
            "learn": [
             0.6839466452
            ],
            "passed_time": 57.25728398,
            "remaining_time": 26.82095975,
            "test": [
             0.804971224
            ]
           },
           {
            "iteration": 681,
            "learn": [
             0.6838354779
            ],
            "passed_time": 57.37064161,
            "remaining_time": 26.75053377,
            "test": [
             0.8049815755
            ]
           },
           {
            "iteration": 682,
            "learn": [
             0.6837420956
            ],
            "passed_time": 57.43081489,
            "remaining_time": 26.65529769,
            "test": [
             0.8049680339
            ]
           },
           {
            "iteration": 683,
            "learn": [
             0.6834688879
            ],
            "passed_time": 57.51253027,
            "remaining_time": 26.57011632,
            "test": [
             0.804864974
            ]
           },
           {
            "iteration": 684,
            "learn": [
             0.6834420496
            ],
            "passed_time": 57.57262221,
            "remaining_time": 26.47500145,
            "test": [
             0.8048598307
            ]
           },
           {
            "iteration": 685,
            "learn": [
             0.6833105699
            ],
            "passed_time": 57.63676822,
            "remaining_time": 26.38184435,
            "test": [
             0.8048634766
            ]
           },
           {
            "iteration": 686,
            "learn": [
             0.6832304688
            ],
            "passed_time": 57.69294777,
            "remaining_time": 26.28514214,
            "test": [
             0.8048410807
            ]
           },
           {
            "iteration": 687,
            "learn": [
             0.6831626838
            ],
            "passed_time": 57.75560468,
            "remaining_time": 26.19149515,
            "test": [
             0.8048319661
            ]
           },
           {
            "iteration": 688,
            "learn": [
             0.6828642463
            ],
            "passed_time": 57.83188623,
            "remaining_time": 26.10408798,
            "test": [
             0.8048873047
            ]
           },
           {
            "iteration": 689,
            "learn": [
             0.6826990349
            ],
            "passed_time": 57.91248959,
            "remaining_time": 26.01865474,
            "test": [
             0.8049470703
            ]
           },
           {
            "iteration": 690,
            "learn": [
             0.6825774816
            ],
            "passed_time": 57.98193677,
            "remaining_time": 25.92824669,
            "test": [
             0.804980013
            ]
           },
           {
            "iteration": 691,
            "learn": [
             0.6825172794
            ],
            "passed_time": 58.03977052,
            "remaining_time": 25.83273023,
            "test": [
             0.8050214844
            ]
           },
           {
            "iteration": 692,
            "learn": [
             0.6823555607
            ],
            "passed_time": 58.11514345,
            "remaining_time": 25.74509241,
            "test": [
             0.8050310547
            ]
           },
           {
            "iteration": 693,
            "learn": [
             0.6822717371
            ],
            "passed_time": 58.16853664,
            "remaining_time": 25.64779858,
            "test": [
             0.8050235677
            ]
           },
           {
            "iteration": 694,
            "learn": [
             0.682090625
            ],
            "passed_time": 58.24606807,
            "remaining_time": 25.56122412,
            "test": [
             0.8050884766
            ]
           },
           {
            "iteration": 695,
            "learn": [
             0.681977114
            ],
            "passed_time": 58.30165997,
            "remaining_time": 25.46509286,
            "test": [
             0.8051102214
            ]
           },
           {
            "iteration": 696,
            "learn": [
             0.6817431985
            ],
            "passed_time": 58.40926115,
            "remaining_time": 25.39168741,
            "test": [
             0.8051044922
            ]
           },
           {
            "iteration": 697,
            "learn": [
             0.6816551471
            ],
            "passed_time": 58.46896972,
            "remaining_time": 25.29746254,
            "test": [
             0.805146875
            ]
           },
           {
            "iteration": 698,
            "learn": [
             0.6814954044
            ],
            "passed_time": 58.53818864,
            "remaining_time": 25.20743173,
            "test": [
             0.8051485677
            ]
           },
           {
            "iteration": 699,
            "learn": [
             0.6814320312
            ],
            "passed_time": 58.59945927,
            "remaining_time": 25.11405397,
            "test": [
             0.8051526042
            ]
           },
           {
            "iteration": 700,
            "learn": [
             0.6814074449
            ],
            "passed_time": 58.65284454,
            "remaining_time": 25.01740445,
            "test": [
             0.8051632161
            ]
           },
           {
            "iteration": 701,
            "learn": [
             0.6812676471
            ],
            "passed_time": 58.71842102,
            "remaining_time": 24.92605337,
            "test": [
             0.8051833333
            ]
           },
           {
            "iteration": 702,
            "learn": [
             0.6811880515
            ],
            "passed_time": 58.77770323,
            "remaining_time": 24.83211644,
            "test": [
             0.8052117187
            ]
           },
           {
            "iteration": 703,
            "learn": [
             0.6809298254
            ],
            "passed_time": 58.85167005,
            "remaining_time": 24.74445218,
            "test": [
             0.8051926432
            ]
           },
           {
            "iteration": 704,
            "learn": [
             0.6808248162
            ],
            "passed_time": 58.9367405,
            "remaining_time": 24.66147297,
            "test": [
             0.8051982422
            ]
           },
           {
            "iteration": 705,
            "learn": [
             0.680605239
            ],
            "passed_time": 59.01177001,
            "remaining_time": 24.57430649,
            "test": [
             0.8052182292
            ]
           },
           {
            "iteration": 706,
            "learn": [
             0.6804612592
            ],
            "passed_time": 59.07813581,
            "remaining_time": 24.48358386,
            "test": [
             0.8052192057
            ]
           },
           {
            "iteration": 707,
            "learn": [
             0.6802905331
            ],
            "passed_time": 59.16001282,
            "remaining_time": 24.39932732,
            "test": [
             0.8051946615
            ]
           },
           {
            "iteration": 708,
            "learn": [
             0.6801990349
            ],
            "passed_time": 59.22275164,
            "remaining_time": 24.30722246,
            "test": [
             0.8052152344
            ]
           },
           {
            "iteration": 709,
            "learn": [
             0.6801178309
            ],
            "passed_time": 59.28682037,
            "remaining_time": 24.21574353,
            "test": [
             0.8052322917
            ]
           },
           {
            "iteration": 710,
            "learn": [
             0.6799871783
            ],
            "passed_time": 59.34777611,
            "remaining_time": 24.12307637,
            "test": [
             0.8052330078
            ]
           },
           {
            "iteration": 711,
            "learn": [
             0.6798668658
            ],
            "passed_time": 59.4430627,
            "remaining_time": 24.04438491,
            "test": [
             0.805235612
            ]
           },
           {
            "iteration": 712,
            "learn": [
             0.6795905331
            ],
            "passed_time": 59.51929615,
            "remaining_time": 23.95797755,
            "test": [
             0.8052683594
            ]
           },
           {
            "iteration": 713,
            "learn": [
             0.6795372702
            ],
            "passed_time": 59.5758422,
            "remaining_time": 23.8637127,
            "test": [
             0.8053027995
            ]
           },
           {
            "iteration": 714,
            "learn": [
             0.6794826287
            ],
            "passed_time": 59.63514946,
            "remaining_time": 23.77065398,
            "test": [
             0.8052997396
            ]
           },
           {
            "iteration": 715,
            "learn": [
             0.6793764706
            ],
            "passed_time": 59.69058777,
            "remaining_time": 23.67615493,
            "test": [
             0.8052837891
            ]
           },
           {
            "iteration": 716,
            "learn": [
             0.6793286765
            ],
            "passed_time": 59.74717141,
            "remaining_time": 23.58221689,
            "test": [
             0.8052795573
            ]
           },
           {
            "iteration": 717,
            "learn": [
             0.6791779412
            ],
            "passed_time": 59.81592135,
            "remaining_time": 23.49316131,
            "test": [
             0.8052628906
            ]
           },
           {
            "iteration": 718,
            "learn": [
             0.6790263327
            ],
            "passed_time": 59.88620304,
            "remaining_time": 23.40476085,
            "test": [
             0.8052622396
            ]
           },
           {
            "iteration": 719,
            "learn": [
             0.6788866268
            ],
            "passed_time": 59.96938982,
            "remaining_time": 23.32142937,
            "test": [
             0.8052835286
            ]
           },
           {
            "iteration": 720,
            "learn": [
             0.6787813419
            ],
            "passed_time": 60.0339913,
            "remaining_time": 23.23090648,
            "test": [
             0.805273763
            ]
           },
           {
            "iteration": 721,
            "learn": [
             0.6785935202
            ],
            "passed_time": 60.10272488,
            "remaining_time": 23.14204642,
            "test": [
             0.8052998698
            ]
           },
           {
            "iteration": 722,
            "learn": [
             0.6785122702
            ],
            "passed_time": 60.16118137,
            "remaining_time": 23.04930462,
            "test": [
             0.8052780599
            ]
           },
           {
            "iteration": 723,
            "learn": [
             0.6783331801
            ],
            "passed_time": 60.2350446,
            "remaining_time": 22.96253081,
            "test": [
             0.8053192057
            ]
           },
           {
            "iteration": 724,
            "learn": [
             0.6782589614
            ],
            "passed_time": 60.30360704,
            "remaining_time": 22.87378198,
            "test": [
             0.8053210286
            ]
           },
           {
            "iteration": 725,
            "learn": [
             0.6780765165
            ],
            "passed_time": 60.37597732,
            "remaining_time": 22.78652588,
            "test": [
             0.8053270182
            ]
           },
           {
            "iteration": 726,
            "learn": [
             0.6778332261
            ],
            "passed_time": 60.51085668,
            "remaining_time": 22.72278387,
            "test": [
             0.8053200521
            ]
           },
           {
            "iteration": 727,
            "learn": [
             0.6776785386
            ],
            "passed_time": 60.57705325,
            "remaining_time": 22.63318473,
            "test": [
             0.8053839193
            ]
           },
           {
            "iteration": 728,
            "learn": [
             0.6774734835
            ],
            "passed_time": 60.65419004,
            "remaining_time": 22.54771674,
            "test": [
             0.8053989583
            ]
           },
           {
            "iteration": 729,
            "learn": [
             0.6773838695
            ],
            "passed_time": 60.71952457,
            "remaining_time": 22.45790635,
            "test": [
             0.8054600911
            ]
           },
           {
            "iteration": 730,
            "learn": [
             0.6772574449
            ],
            "passed_time": 60.7884235,
            "remaining_time": 22.36947458,
            "test": [
             0.8054603516
            ]
           },
           {
            "iteration": 731,
            "learn": [
             0.6771438879
            ],
            "passed_time": 60.85399861,
            "remaining_time": 22.27987927,
            "test": [
             0.8054729818
            ]
           },
           {
            "iteration": 732,
            "learn": [
             0.6769706342
            ],
            "passed_time": 60.94415,
            "remaining_time": 22.19930157,
            "test": [
             0.8054978516
            ]
           },
           {
            "iteration": 733,
            "learn": [
             0.6767946232
            ],
            "passed_time": 61.01749241,
            "remaining_time": 22.11260624,
            "test": [
             0.8054946615
            ]
           },
           {
            "iteration": 734,
            "learn": [
             0.6766017004
            ],
            "passed_time": 61.09138039,
            "remaining_time": 22.02614395,
            "test": [
             0.8055389323
            ]
           },
           {
            "iteration": 735,
            "learn": [
             0.6764356158
            ],
            "passed_time": 61.16749115,
            "remaining_time": 21.94051313,
            "test": [
             0.8055413411
            ]
           },
           {
            "iteration": 736,
            "learn": [
             0.6763039063
            ],
            "passed_time": 61.23185406,
            "remaining_time": 21.8507159,
            "test": [
             0.8055291016
            ]
           },
           {
            "iteration": 737,
            "learn": [
             0.6761838695
            ],
            "passed_time": 61.29854492,
            "remaining_time": 21.76181405,
            "test": [
             0.805552474
            ]
           },
           {
            "iteration": 738,
            "learn": [
             0.6759723805
            ],
            "passed_time": 61.37443389,
            "remaining_time": 21.6762209,
            "test": [
             0.8055222656
            ]
           },
           {
            "iteration": 739,
            "learn": [
             0.6759200827
            ],
            "passed_time": 61.42835733,
            "remaining_time": 21.58293636,
            "test": [
             0.8055097005
            ]
           },
           {
            "iteration": 740,
            "learn": [
             0.6757471967
            ],
            "passed_time": 61.50961388,
            "remaining_time": 21.49931173,
            "test": [
             0.8054733073
            ]
           },
           {
            "iteration": 741,
            "learn": [
             0.6756171875
            ],
            "passed_time": 61.5997712,
            "remaining_time": 21.41878837,
            "test": [
             0.8054472656
            ]
           },
           {
            "iteration": 742,
            "learn": [
             0.6755502298
            ],
            "passed_time": 61.65500896,
            "remaining_time": 21.32616057,
            "test": [
             0.8054623698
            ]
           },
           {
            "iteration": 743,
            "learn": [
             0.6753944393
            ],
            "passed_time": 61.71816584,
            "remaining_time": 21.23635814,
            "test": [
             0.8054834635
            ]
           },
           {
            "iteration": 744,
            "learn": [
             0.6751508272
            ],
            "passed_time": 61.80629315,
            "remaining_time": 21.15517417,
            "test": [
             0.8054861328
            ]
           },
           {
            "iteration": 745,
            "learn": [
             0.6750592371
            ],
            "passed_time": 61.86309453,
            "remaining_time": 21.06330564,
            "test": [
             0.8054731771
            ]
           },
           {
            "iteration": 746,
            "learn": [
             0.6748986213
            ],
            "passed_time": 61.93107464,
            "remaining_time": 20.97531711,
            "test": [
             0.8054541667
            ]
           },
           {
            "iteration": 747,
            "learn": [
             0.67481875
            ],
            "passed_time": 61.99426732,
            "remaining_time": 20.8857692,
            "test": [
             0.8054671224
            ]
           },
           {
            "iteration": 748,
            "learn": [
             0.6747090074
            ],
            "passed_time": 62.06634455,
            "remaining_time": 20.799269,
            "test": [
             0.8054839844
            ]
           },
           {
            "iteration": 749,
            "learn": [
             0.6745994485
            ],
            "passed_time": 62.12961138,
            "remaining_time": 20.70987046,
            "test": [
             0.8054818359
            ]
           },
           {
            "iteration": 750,
            "learn": [
             0.6744550551
            ],
            "passed_time": 62.19724486,
            "remaining_time": 20.62198931,
            "test": [
             0.8055091797
            ]
           },
           {
            "iteration": 751,
            "learn": [
             0.674284421
            ],
            "passed_time": 62.26395416,
            "remaining_time": 20.53385722,
            "test": [
             0.8055172526
            ]
           },
           {
            "iteration": 752,
            "learn": [
             0.6741465993
            ],
            "passed_time": 62.33428661,
            "remaining_time": 20.44697051,
            "test": [
             0.8055652344
            ]
           },
           {
            "iteration": 753,
            "learn": [
             0.6740132353
            ],
            "passed_time": 62.40728241,
            "remaining_time": 20.36099665,
            "test": [
             0.8055255859
            ]
           },
           {
            "iteration": 754,
            "learn": [
             0.6738069393
            ],
            "passed_time": 62.48175723,
            "remaining_time": 20.27553711,
            "test": [
             0.8055157552
            ]
           },
           {
            "iteration": 755,
            "learn": [
             0.6736608915
            ],
            "passed_time": 62.57119253,
            "remaining_time": 20.19493516,
            "test": [
             0.8054858724
            ]
           },
           {
            "iteration": 756,
            "learn": [
             0.6735738051
            ],
            "passed_time": 62.65774771,
            "remaining_time": 20.11338533,
            "test": [
             0.8055124349
            ]
           },
           {
            "iteration": 757,
            "learn": [
             0.6733582261
            ],
            "passed_time": 62.7342772,
            "remaining_time": 20.02862148,
            "test": [
             0.8055742188
            ]
           },
           {
            "iteration": 758,
            "learn": [
             0.6732586397
            ],
            "passed_time": 62.80946393,
            "remaining_time": 19.94345297,
            "test": [
             0.8055589844
            ]
           },
           {
            "iteration": 759,
            "learn": [
             0.6731705882
            ],
            "passed_time": 62.87121669,
            "remaining_time": 19.85406843,
            "test": [
             0.8055761068
            ]
           },
           {
            "iteration": 760,
            "learn": [
             0.6730305607
            ],
            "passed_time": 62.93613776,
            "remaining_time": 19.76575154,
            "test": [
             0.8055467448
            ]
           },
           {
            "iteration": 761,
            "learn": [
             0.6728183364
            ],
            "passed_time": 63.07658974,
            "remaining_time": 19.70108708,
            "test": [
             0.8056248698
            ]
           },
           {
            "iteration": 762,
            "learn": [
             0.6726825827
            ],
            "passed_time": 63.19998869,
            "remaining_time": 19.63092702,
            "test": [
             0.8056617839
            ]
           },
           {
            "iteration": 763,
            "learn": [
             0.6724505515
            ],
            "passed_time": 63.34571861,
            "remaining_time": 19.56752564,
            "test": [
             0.8057075521
            ]
           },
           {
            "iteration": 764,
            "learn": [
             0.672359375
            ],
            "passed_time": 63.43915296,
            "remaining_time": 19.48784437,
            "test": [
             0.8057119792
            ]
           },
           {
            "iteration": 765,
            "learn": [
             0.672185432
            ],
            "passed_time": 63.58200791,
            "remaining_time": 19.42322435,
            "test": [
             0.8057442708
            ]
           },
           {
            "iteration": 766,
            "learn": [
             0.671978079
            ],
            "passed_time": 63.76936163,
            "remaining_time": 19.3719182,
            "test": [
             0.8057132161
            ]
           },
           {
            "iteration": 767,
            "learn": [
             0.6718572151
            ],
            "passed_time": 63.91947861,
            "remaining_time": 19.30900916,
            "test": [
             0.8057020833
            ]
           },
           {
            "iteration": 768,
            "learn": [
             0.6716515625
            ],
            "passed_time": 64.06227496,
            "remaining_time": 19.24367427,
            "test": [
             0.8057251953
            ]
           },
           {
            "iteration": 769,
            "learn": [
             0.6715668199
            ],
            "passed_time": 64.20609743,
            "remaining_time": 19.17844469,
            "test": [
             0.8057563151
            ]
           },
           {
            "iteration": 770,
            "learn": [
             0.6714430147
            ],
            "passed_time": 64.36410928,
            "remaining_time": 19.11722571,
            "test": [
             0.8057529948
            ]
           },
           {
            "iteration": 771,
            "learn": [
             0.6712923713
            ],
            "passed_time": 64.49603116,
            "remaining_time": 19.04805065,
            "test": [
             0.8057498047
            ]
           },
           {
            "iteration": 772,
            "learn": [
             0.6710946232
            ],
            "passed_time": 64.63865228,
            "remaining_time": 18.9818552,
            "test": [
             0.8057391927
            ]
           },
           {
            "iteration": 773,
            "learn": [
             0.6709743107
            ],
            "passed_time": 64.80255937,
            "remaining_time": 18.92167754,
            "test": [
             0.8057464193
            ]
           },
           {
            "iteration": 774,
            "learn": [
             0.6708023897
            ],
            "passed_time": 64.93753669,
            "remaining_time": 18.85283323,
            "test": [
             0.8057511068
            ]
           },
           {
            "iteration": 775,
            "learn": [
             0.6706452665
            ],
            "passed_time": 65.07819444,
            "remaining_time": 18.78545819,
            "test": [
             0.8057296224
            ]
           },
           {
            "iteration": 776,
            "learn": [
             0.6705357537
            ],
            "passed_time": 65.21162067,
            "remaining_time": 18.71581906,
            "test": [
             0.8057041016
            ]
           },
           {
            "iteration": 777,
            "learn": [
             0.6703077206
            ],
            "passed_time": 65.34997774,
            "remaining_time": 18.64742295,
            "test": [
             0.8057655599
            ]
           },
           {
            "iteration": 778,
            "learn": [
             0.6702054687
            ],
            "passed_time": 65.46726428,
            "remaining_time": 18.57286958,
            "test": [
             0.805730013
            ]
           },
           {
            "iteration": 779,
            "learn": [
             0.6700408548
            ],
            "passed_time": 65.61125599,
            "remaining_time": 18.50573887,
            "test": [
             0.8057163411
            ]
           },
           {
            "iteration": 780,
            "learn": [
             0.6698609835
            ],
            "passed_time": 65.76176167,
            "remaining_time": 18.44023791,
            "test": [
             0.8057052734
            ]
           },
           {
            "iteration": 781,
            "learn": [
             0.669674954
            ],
            "passed_time": 65.93934048,
            "remaining_time": 18.38206678,
            "test": [
             0.8057873698
            ]
           },
           {
            "iteration": 782,
            "learn": [
             0.6696194393
            ],
            "passed_time": 66.05322365,
            "remaining_time": 18.3059381,
            "test": [
             0.8057988281
            ]
           },
           {
            "iteration": 783,
            "learn": [
             0.6694726562
            ],
            "passed_time": 66.18014617,
            "remaining_time": 18.23330558,
            "test": [
             0.8057991536
            ]
           },
           {
            "iteration": 784,
            "learn": [
             0.6692920956
            ],
            "passed_time": 66.29087688,
            "remaining_time": 18.15610004,
            "test": [
             0.8058028646
            ]
           },
           {
            "iteration": 785,
            "learn": [
             0.6691434283
            ],
            "passed_time": 66.40214689,
            "remaining_time": 18.07895602,
            "test": [
             0.8058055339
            ]
           },
           {
            "iteration": 786,
            "learn": [
             0.6690538603
            ],
            "passed_time": 66.45724568,
            "remaining_time": 17.98652266,
            "test": [
             0.8058005208
            ]
           },
           {
            "iteration": 787,
            "learn": [
             0.6690018842
            ],
            "passed_time": 66.51162085,
            "remaining_time": 17.89398937,
            "test": [
             0.8058155599
            ]
           },
           {
            "iteration": 788,
            "learn": [
             0.6688720129
            ],
            "passed_time": 66.5816328,
            "remaining_time": 17.8057345,
            "test": [
             0.8057592448
            ]
           },
           {
            "iteration": 789,
            "learn": [
             0.6687294577
            ],
            "passed_time": 66.65212606,
            "remaining_time": 17.71765376,
            "test": [
             0.8058080729
            ]
           },
           {
            "iteration": 790,
            "learn": [
             0.6685915901
            ],
            "passed_time": 66.71691344,
            "remaining_time": 17.62810987,
            "test": [
             0.8057886719
            ]
           },
           {
            "iteration": 791,
            "learn": [
             0.6684664522
            ],
            "passed_time": 66.78730115,
            "remaining_time": 17.54009929,
            "test": [
             0.8057839844
            ]
           },
           {
            "iteration": 792,
            "learn": [
             0.6684179228
            ],
            "passed_time": 66.84279305,
            "remaining_time": 17.44824484,
            "test": [
             0.8057744141
            ]
           },
           {
            "iteration": 793,
            "learn": [
             0.6682780331
            ],
            "passed_time": 66.93187907,
            "remaining_time": 17.36519784,
            "test": [
             0.8057733073
            ]
           },
           {
            "iteration": 794,
            "learn": [
             0.6681776195
            ],
            "passed_time": 67.01198749,
            "remaining_time": 17.27982067,
            "test": [
             0.8057806641
            ]
           },
           {
            "iteration": 795,
            "learn": [
             0.6680085478
            ],
            "passed_time": 67.07835585,
            "remaining_time": 17.19093542,
            "test": [
             0.8058486979
            ]
           },
           {
            "iteration": 796,
            "learn": [
             0.6678707721
            ],
            "passed_time": 67.15688329,
            "remaining_time": 17.10520365,
            "test": [
             0.8058317708
            ]
           },
           {
            "iteration": 797,
            "learn": [
             0.6677447151
            ],
            "passed_time": 67.22039016,
            "remaining_time": 17.01568774,
            "test": [
             0.8057859375
            ]
           },
           {
            "iteration": 798,
            "learn": [
             0.6675853401
            ],
            "passed_time": 67.28755164,
            "remaining_time": 16.92715629,
            "test": [
             0.8058430339
            ]
           },
           {
            "iteration": 799,
            "learn": [
             0.6674345129
            ],
            "passed_time": 67.37152104,
            "remaining_time": 16.84288026,
            "test": [
             0.805830599
            ]
           },
           {
            "iteration": 800,
            "learn": [
             0.6672813419
            ],
            "passed_time": 67.4397544,
            "remaining_time": 16.75469554,
            "test": [
             0.8058611328
            ]
           },
           {
            "iteration": 801,
            "learn": [
             0.6672412684
            ],
            "passed_time": 67.48998796,
            "remaining_time": 16.66211673,
            "test": [
             0.8058630208
            ]
           },
           {
            "iteration": 802,
            "learn": [
             0.6671680607
            ],
            "passed_time": 67.54496238,
            "remaining_time": 16.57080646,
            "test": [
             0.8058683594
            ]
           },
           {
            "iteration": 803,
            "learn": [
             0.667101057
            ],
            "passed_time": 67.60624203,
            "remaining_time": 16.48112368,
            "test": [
             0.8058867839
            ]
           },
           {
            "iteration": 804,
            "learn": [
             0.6668703125
            ],
            "passed_time": 67.68055798,
            "remaining_time": 16.39466932,
            "test": [
             0.8059376953
            ]
           },
           {
            "iteration": 805,
            "learn": [
             0.6667712316
            ],
            "passed_time": 67.74267381,
            "remaining_time": 16.30530858,
            "test": [
             0.8059477214
            ]
           },
           {
            "iteration": 806,
            "learn": [
             0.6666372702
            ],
            "passed_time": 67.81949648,
            "remaining_time": 16.21953261,
            "test": [
             0.8059505208
            ]
           },
           {
            "iteration": 807,
            "learn": [
             0.6665043658
            ],
            "passed_time": 67.89428454,
            "remaining_time": 16.13329534,
            "test": [
             0.8059703125
            ]
           },
           {
            "iteration": 808,
            "learn": [
             0.6663771599
            ],
            "passed_time": 67.99343093,
            "remaining_time": 16.05283722,
            "test": [
             0.8059676432
            ]
           },
           {
            "iteration": 809,
            "learn": [
             0.6662581342
            ],
            "passed_time": 68.09702812,
            "remaining_time": 15.97337697,
            "test": [
             0.8059440755
            ]
           },
           {
            "iteration": 810,
            "learn": [
             0.665994807
            ],
            "passed_time": 68.18269746,
            "remaining_time": 15.88967919,
            "test": [
             0.805999349
            ]
           },
           {
            "iteration": 811,
            "learn": [
             0.6658905331
            ],
            "passed_time": 68.24585218,
            "remaining_time": 15.80076381,
            "test": [
             0.8060123047
            ]
           },
           {
            "iteration": 812,
            "learn": [
             0.6657674173
            ],
            "passed_time": 68.31498008,
            "remaining_time": 15.7132857,
            "test": [
             0.806013737
            ]
           },
           {
            "iteration": 813,
            "learn": [
             0.6656892463
            ],
            "passed_time": 68.37216369,
            "remaining_time": 15.6231234,
            "test": [
             0.8060667969
            ]
           },
           {
            "iteration": 814,
            "learn": [
             0.6654318015
            ],
            "passed_time": 68.45068075,
            "remaining_time": 15.53788459,
            "test": [
             0.8061048177
            ]
           },
           {
            "iteration": 815,
            "learn": [
             0.6652428768
            ],
            "passed_time": 68.53305437,
            "remaining_time": 15.45353187,
            "test": [
             0.8061228516
            ]
           },
           {
            "iteration": 816,
            "learn": [
             0.6651267004
            ],
            "passed_time": 68.59651178,
            "remaining_time": 15.36494695,
            "test": [
             0.8061340495
            ]
           },
           {
            "iteration": 817,
            "learn": [
             0.6650892463
            ],
            "passed_time": 68.65748093,
            "remaining_time": 15.27586984,
            "test": [
             0.8061165365
            ]
           },
           {
            "iteration": 818,
            "learn": [
             0.6649608915
            ],
            "passed_time": 68.72728515,
            "remaining_time": 15.18881393,
            "test": [
             0.8061429688
            ]
           },
           {
            "iteration": 819,
            "learn": [
             0.6648533548
            ],
            "passed_time": 68.79533655,
            "remaining_time": 15.10141534,
            "test": [
             0.8061623047
            ]
           },
           {
            "iteration": 820,
            "learn": [
             0.6647647059
            ],
            "passed_time": 68.85631548,
            "remaining_time": 15.01252189,
            "test": [
             0.8061840495
            ]
           },
           {
            "iteration": 821,
            "learn": [
             0.6646272518
            ],
            "passed_time": 68.92483986,
            "remaining_time": 14.92533029,
            "test": [
             0.8061789714
            ]
           },
           {
            "iteration": 822,
            "learn": [
             0.6644826746
            ],
            "passed_time": 69.01038881,
            "remaining_time": 14.84184547,
            "test": [
             0.8062016927
            ]
           },
           {
            "iteration": 823,
            "learn": [
             0.6642792279
            ],
            "passed_time": 69.10971276,
            "remaining_time": 14.76129787,
            "test": [
             0.8062170573
            ]
           },
           {
            "iteration": 824,
            "learn": [
             0.6642019301
            ],
            "passed_time": 69.18690447,
            "remaining_time": 14.67601004,
            "test": [
             0.8062238932
            ]
           },
           {
            "iteration": 825,
            "learn": [
             0.664022932
            ],
            "passed_time": 69.25966613,
            "remaining_time": 14.5898086,
            "test": [
             0.8062355469
            ]
           },
           {
            "iteration": 826,
            "learn": [
             0.6639511489
            ],
            "passed_time": 69.32429051,
            "remaining_time": 14.50193744,
            "test": [
             0.8062535807
            ]
           },
           {
            "iteration": 827,
            "learn": [
             0.6638628217
            ],
            "passed_time": 69.39393871,
            "remaining_time": 14.41516601,
            "test": [
             0.8062585286
            ]
           },
           {
            "iteration": 828,
            "learn": [
             0.6637056526
            ],
            "passed_time": 69.47443037,
            "remaining_time": 14.33067261,
            "test": [
             0.8062479167
            ]
           },
           {
            "iteration": 829,
            "learn": [
             0.6635529871
            ],
            "passed_time": 69.53740797,
            "remaining_time": 14.24260163,
            "test": [
             0.8062106771
            ]
           },
           {
            "iteration": 830,
            "learn": [
             0.6634524816
            ],
            "passed_time": 69.60241664,
            "remaining_time": 14.15500411,
            "test": [
             0.8061874349
            ]
           },
           {
            "iteration": 831,
            "learn": [
             0.6632939338
            ],
            "passed_time": 69.67392447,
            "remaining_time": 14.06877321,
            "test": [
             0.8062007813
            ]
           },
           {
            "iteration": 832,
            "learn": [
             0.663213511
            ],
            "passed_time": 69.73459797,
            "remaining_time": 13.98040559,
            "test": [
             0.8062236328
            ]
           },
           {
            "iteration": 833,
            "learn": [
             0.6629611213
            ],
            "passed_time": 69.80309263,
            "remaining_time": 13.89366112,
            "test": [
             0.806201237
            ]
           },
           {
            "iteration": 834,
            "learn": [
             0.6628513787
            ],
            "passed_time": 69.86755024,
            "remaining_time": 13.80616262,
            "test": [
             0.8062322917
            ]
           },
           {
            "iteration": 835,
            "learn": [
             0.6627954504
            ],
            "passed_time": 69.92595157,
            "remaining_time": 13.71753117,
            "test": [
             0.8062615234
            ]
           },
           {
            "iteration": 836,
            "learn": [
             0.6626147059
            ],
            "passed_time": 69.99483582,
            "remaining_time": 13.63101343,
            "test": [
             0.8062419922
            ]
           },
           {
            "iteration": 837,
            "learn": [
             0.662399954
            ],
            "passed_time": 70.11671339,
            "remaining_time": 13.5547823,
            "test": [
             0.8062205078
            ]
           },
           {
            "iteration": 838,
            "learn": [
             0.6622616268
            ],
            "passed_time": 70.19763751,
            "remaining_time": 13.4705836,
            "test": [
             0.8062095052
            ]
           },
           {
            "iteration": 839,
            "learn": [
             0.6620873162
            ],
            "passed_time": 70.27186823,
            "remaining_time": 13.38511776,
            "test": [
             0.8062412109
            ]
           },
           {
            "iteration": 840,
            "learn": [
             0.6619857077
            ],
            "passed_time": 70.33927802,
            "remaining_time": 13.29838907,
            "test": [
             0.8062227214
            ]
           },
           {
            "iteration": 841,
            "learn": [
             0.6618947151
            ],
            "passed_time": 70.40847433,
            "remaining_time": 13.2120415,
            "test": [
             0.8062277344
            ]
           },
           {
            "iteration": 842,
            "learn": [
             0.661765579
            ],
            "passed_time": 70.47206462,
            "remaining_time": 13.12469056,
            "test": [
             0.8062423828
            ]
           },
           {
            "iteration": 843,
            "learn": [
             0.6616360294
            ],
            "passed_time": 70.54053446,
            "remaining_time": 13.03829784,
            "test": [
             0.8062125651
            ]
           },
           {
            "iteration": 844,
            "learn": [
             0.6615534007
            ],
            "passed_time": 70.62914893,
            "remaining_time": 12.9556427,
            "test": [
             0.806241862
            ]
           },
           {
            "iteration": 845,
            "learn": [
             0.6614894761
            ],
            "passed_time": 70.70154671,
            "remaining_time": 12.87002151,
            "test": [
             0.8062208984
            ]
           },
           {
            "iteration": 846,
            "learn": [
             0.6613976103
            ],
            "passed_time": 70.874771,
            "remaining_time": 12.80264458,
            "test": [
             0.8062125
            ]
           },
           {
            "iteration": 847,
            "learn": [
             0.6612688879
            ],
            "passed_time": 71.08454875,
            "remaining_time": 12.74157006,
            "test": [
             0.8062570964
            ]
           },
           {
            "iteration": 848,
            "learn": [
             0.6612059743
            ],
            "passed_time": 71.26666233,
            "remaining_time": 12.67522498,
            "test": [
             0.8062522786
            ]
           },
           {
            "iteration": 849,
            "learn": [
             0.6610868107
            ],
            "passed_time": 71.44963625,
            "remaining_time": 12.60875934,
            "test": [
             0.8062832682
            ]
           },
           {
            "iteration": 850,
            "learn": [
             0.6609902574
            ],
            "passed_time": 71.56866619,
            "remaining_time": 12.53082405,
            "test": [
             0.8062735677
            ]
           },
           {
            "iteration": 851,
            "learn": [
             0.6609305607
            ],
            "passed_time": 71.77327747,
            "remaining_time": 12.46765853,
            "test": [
             0.8062886719
            ]
           },
           {
            "iteration": 852,
            "learn": [
             0.6608373162
            ],
            "passed_time": 71.96969274,
            "remaining_time": 12.40274892,
            "test": [
             0.8063148437
            ]
           },
           {
            "iteration": 853,
            "learn": [
             0.6606517004
            ],
            "passed_time": 72.03861497,
            "remaining_time": 12.31573511,
            "test": [
             0.8063660807
            ]
           },
           {
            "iteration": 854,
            "learn": [
             0.6604742188
            ],
            "passed_time": 72.10889948,
            "remaining_time": 12.22899465,
            "test": [
             0.806374349
            ]
           },
           {
            "iteration": 855,
            "learn": [
             0.6603115809
            ],
            "passed_time": 72.19592248,
            "remaining_time": 12.14510845,
            "test": [
             0.8063789062
            ]
           },
           {
            "iteration": 856,
            "learn": [
             0.6602296415
            ],
            "passed_time": 72.29944305,
            "remaining_time": 12.06396774,
            "test": [
             0.8064133464
            ]
           },
           {
            "iteration": 857,
            "learn": [
             0.660107307
            ],
            "passed_time": 72.36665945,
            "remaining_time": 11.97676648,
            "test": [
             0.8064201823
            ]
           },
           {
            "iteration": 858,
            "learn": [
             0.6599986213
            ],
            "passed_time": 72.43094588,
            "remaining_time": 11.88913081,
            "test": [
             0.8064670573
            ]
           },
           {
            "iteration": 859,
            "learn": [
             0.6598504596
            ],
            "passed_time": 72.50568383,
            "remaining_time": 11.80325086,
            "test": [
             0.8065202474
            ]
           },
           {
            "iteration": 860,
            "learn": [
             0.6597391544
            ],
            "passed_time": 72.5693258,
            "remaining_time": 11.71560544,
            "test": [
             0.8065513021
            ]
           },
           {
            "iteration": 861,
            "learn": [
             0.659540579
            ],
            "passed_time": 72.65156955,
            "remaining_time": 11.63099373,
            "test": [
             0.8065941406
            ]
           },
           {
            "iteration": 862,
            "learn": [
             0.6593629136
            ],
            "passed_time": 72.72060546,
            "remaining_time": 11.54429079,
            "test": [
             0.8066160807
            ]
           },
           {
            "iteration": 863,
            "learn": [
             0.6593039063
            ],
            "passed_time": 72.78296487,
            "remaining_time": 11.4565778,
            "test": [
             0.8066261719
            ]
           },
           {
            "iteration": 864,
            "learn": [
             0.6592322151
            ],
            "passed_time": 72.840901,
            "remaining_time": 11.3682331,
            "test": [
             0.8066250651
            ]
           },
           {
            "iteration": 865,
            "learn": [
             0.6590662224
            ],
            "passed_time": 72.91443908,
            "remaining_time": 11.28237279,
            "test": [
             0.8066807292
            ]
           },
           {
            "iteration": 866,
            "learn": [
             0.6588862132
            ],
            "passed_time": 72.98893499,
            "remaining_time": 11.19668784,
            "test": [
             0.8067263021
            ]
           },
           {
            "iteration": 867,
            "learn": [
             0.6587326746
            ],
            "passed_time": 73.05678184,
            "remaining_time": 11.11001752,
            "test": [
             0.8067072266
            ]
           },
           {
            "iteration": 868,
            "learn": [
             0.6586649816
            ],
            "passed_time": 73.12721896,
            "remaining_time": 11.02378099,
            "test": [
             0.8067296875
            ]
           },
           {
            "iteration": 869,
            "learn": [
             0.6584712316
            ],
            "passed_time": 73.21452275,
            "remaining_time": 10.9401011,
            "test": [
             0.8066948568
            ]
           },
           {
            "iteration": 870,
            "learn": [
             0.6583121324
            ],
            "passed_time": 73.33783543,
            "remaining_time": 10.86174601,
            "test": [
             0.8067348958
            ]
           },
           {
            "iteration": 871,
            "learn": [
             0.6582141085
            ],
            "passed_time": 73.41054284,
            "remaining_time": 10.7758595,
            "test": [
             0.8067524089
            ]
           },
           {
            "iteration": 872,
            "learn": [
             0.6579598805
            ],
            "passed_time": 73.48026851,
            "remaining_time": 10.68956942,
            "test": [
             0.8068011068
            ]
           },
           {
            "iteration": 873,
            "learn": [
             0.6577959559
            ],
            "passed_time": 73.55367421,
            "remaining_time": 10.60384777,
            "test": [
             0.8067676432
            ]
           },
           {
            "iteration": 874,
            "learn": [
             0.657547932
            ],
            "passed_time": 73.62705599,
            "remaining_time": 10.51815086,
            "test": [
             0.8067520833
            ]
           },
           {
            "iteration": 875,
            "learn": [
             0.6573048713
            ],
            "passed_time": 73.70460072,
            "remaining_time": 10.43307133,
            "test": [
             0.8067559245
            ]
           },
           {
            "iteration": 876,
            "learn": [
             0.6571163143
            ],
            "passed_time": 73.77917059,
            "remaining_time": 10.34759177,
            "test": [
             0.8067639974
            ]
           },
           {
            "iteration": 877,
            "learn": [
             0.6569753217
            ],
            "passed_time": 73.84608287,
            "remaining_time": 10.26107302,
            "test": [
             0.8067422526
            ]
           },
           {
            "iteration": 878,
            "learn": [
             0.6567757813
            ],
            "passed_time": 73.92185242,
            "remaining_time": 10.17581814,
            "test": [
             0.8067889323
            ]
           },
           {
            "iteration": 879,
            "learn": [
             0.6566579504
            ],
            "passed_time": 73.98925072,
            "remaining_time": 10.08944328,
            "test": [
             0.8068263672
            ]
           },
           {
            "iteration": 880,
            "learn": [
             0.6565537224
            ],
            "passed_time": 74.05251956,
            "remaining_time": 10.00255372,
            "test": [
             0.8068001953
            ]
           },
           {
            "iteration": 881,
            "learn": [
             0.6563837776
            ],
            "passed_time": 74.12886542,
            "remaining_time": 9.917467256,
            "test": [
             0.8068195964
            ]
           },
           {
            "iteration": 882,
            "learn": [
             0.6562676011
            ],
            "passed_time": 74.20700229,
            "remaining_time": 9.832637902,
            "test": [
             0.8068288411
            ]
           },
           {
            "iteration": 883,
            "learn": [
             0.6562007813
            ],
            "passed_time": 74.26978525,
            "remaining_time": 9.745808924,
            "test": [
             0.8068697917
            ]
           },
           {
            "iteration": 884,
            "learn": [
             0.6561433364
            ],
            "passed_time": 74.380176,
            "remaining_time": 9.66522061,
            "test": [
             0.8068916667
            ]
           },
           {
            "iteration": 885,
            "learn": [
             0.6560050092
            ],
            "passed_time": 74.44615744,
            "remaining_time": 9.578850957,
            "test": [
             0.8069592448
            ]
           },
           {
            "iteration": 886,
            "learn": [
             0.6559408548
            ],
            "passed_time": 74.50857121,
            "remaining_time": 9.49207277,
            "test": [
             0.8069708333
            ]
           },
           {
            "iteration": 887,
            "learn": [
             0.6558149816
            ],
            "passed_time": 74.58043255,
            "remaining_time": 9.406541043,
            "test": [
             0.8069896484
            ]
           },
           {
            "iteration": 888,
            "learn": [
             0.6557431526
            ],
            "passed_time": 74.64463905,
            "remaining_time": 9.320084291,
            "test": [
             0.807017513
            ]
           },
           {
            "iteration": 889,
            "learn": [
             0.6556577665
            ],
            "passed_time": 74.71140879,
            "remaining_time": 9.233994345,
            "test": [
             0.8070376953
            ]
           },
           {
            "iteration": 890,
            "learn": [
             0.6555341912
            ],
            "passed_time": 74.77773879,
            "remaining_time": 9.147893971,
            "test": [
             0.807019987
            ]
           },
           {
            "iteration": 891,
            "learn": [
             0.6553382353
            ],
            "passed_time": 74.84930816,
            "remaining_time": 9.062472288,
            "test": [
             0.8069533203
            ]
           },
           {
            "iteration": 892,
            "learn": [
             0.655264568
            ],
            "passed_time": 74.91980411,
            "remaining_time": 8.976953012,
            "test": [
             0.8069841146
            ]
           },
           {
            "iteration": 893,
            "learn": [
             0.6552262408
            ],
            "passed_time": 74.9833457,
            "remaining_time": 8.890642779,
            "test": [
             0.8069647135
            ]
           },
           {
            "iteration": 894,
            "learn": [
             0.654986489
            ],
            "passed_time": 75.05456794,
            "remaining_time": 8.805284507,
            "test": [
             0.8069408203
            ]
           },
           {
            "iteration": 895,
            "learn": [
             0.6547411305
            ],
            "passed_time": 75.13539917,
            "remaining_time": 8.721073117,
            "test": [
             0.8069639974
            ]
           },
           {
            "iteration": 896,
            "learn": [
             0.6546918199
            ],
            "passed_time": 75.19380534,
            "remaining_time": 8.634294258,
            "test": [
             0.8069761068
            ]
           },
           {
            "iteration": 897,
            "learn": [
             0.6545909467
            ],
            "passed_time": 75.2784865,
            "remaining_time": 8.550563054,
            "test": [
             0.8069955729
            ]
           },
           {
            "iteration": 898,
            "learn": [
             0.6543431066
            ],
            "passed_time": 75.38280973,
            "remaining_time": 8.469036466,
            "test": [
             0.8069654297
            ]
           },
           {
            "iteration": 899,
            "learn": [
             0.654234329
            ],
            "passed_time": 75.47266003,
            "remaining_time": 8.385851115,
            "test": [
             0.8070192708
            ]
           },
           {
            "iteration": 900,
            "learn": [
             0.6540580423
            ],
            "passed_time": 75.54466467,
            "remaining_time": 8.300690124,
            "test": [
             0.8070248698
            ]
           },
           {
            "iteration": 901,
            "learn": [
             0.653909375
            ],
            "passed_time": 75.6142385,
            "remaining_time": 8.215294205,
            "test": [
             0.8070423177
            ]
           },
           {
            "iteration": 902,
            "learn": [
             0.6538066176
            ],
            "passed_time": 75.67894737,
            "remaining_time": 8.129410736,
            "test": [
             0.8070392578
            ]
           },
           {
            "iteration": 903,
            "learn": [
             0.653652114
            ],
            "passed_time": 75.75231291,
            "remaining_time": 8.044493406,
            "test": [
             0.807056901
            ]
           },
           {
            "iteration": 904,
            "learn": [
             0.6534934283
            ],
            "passed_time": 75.82609135,
            "remaining_time": 7.959644948,
            "test": [
             0.8070633464
            ]
           },
           {
            "iteration": 905,
            "learn": [
             0.6532539063
            ],
            "passed_time": 75.89508753,
            "remaining_time": 7.874324755,
            "test": [
             0.8070079427
            ]
           },
           {
            "iteration": 906,
            "learn": [
             0.6530829963
            ],
            "passed_time": 75.96491538,
            "remaining_time": 7.789125833,
            "test": [
             0.8070322917
            ]
           },
           {
            "iteration": 907,
            "learn": [
             0.6528509191
            ],
            "passed_time": 76.04791919,
            "remaining_time": 7.705295777,
            "test": [
             0.8070833984
            ]
           },
           {
            "iteration": 908,
            "learn": [
             0.6526520221
            ],
            "passed_time": 76.12450511,
            "remaining_time": 7.620825044,
            "test": [
             0.8070091797
            ]
           },
           {
            "iteration": 909,
            "learn": [
             0.6525995864
            ],
            "passed_time": 76.20786489,
            "remaining_time": 7.537041583,
            "test": [
             0.8069947266
            ]
           },
           {
            "iteration": 910,
            "learn": [
             0.6524566176
            ],
            "passed_time": 76.32227835,
            "remaining_time": 7.456292835,
            "test": [
             0.8069883464
            ]
           },
           {
            "iteration": 911,
            "learn": [
             0.6523164062
            ],
            "passed_time": 76.5034242,
            "remaining_time": 7.381909353,
            "test": [
             0.8070205729
            ]
           },
           {
            "iteration": 912,
            "learn": [
             0.6522427849
            ],
            "passed_time": 76.62099547,
            "remaining_time": 7.30123396,
            "test": [
             0.8070276042
            ]
           },
           {
            "iteration": 913,
            "learn": [
             0.652178125
            ],
            "passed_time": 76.69748711,
            "remaining_time": 7.216612572,
            "test": [
             0.807039974
            ]
           },
           {
            "iteration": 914,
            "learn": [
             0.6521160846
            ],
            "passed_time": 76.82381933,
            "remaining_time": 7.136638955,
            "test": [
             0.8070449219
            ]
           },
           {
            "iteration": 915,
            "learn": [
             0.6519757353
            ],
            "passed_time": 76.98928182,
            "remaining_time": 7.060152482,
            "test": [
             0.8070963542
            ]
           },
           {
            "iteration": 916,
            "learn": [
             0.6517633272
            ],
            "passed_time": 77.16062224,
            "remaining_time": 6.984003976,
            "test": [
             0.8070642578
            ]
           },
           {
            "iteration": 917,
            "learn": [
             0.651628125
            ],
            "passed_time": 77.31686082,
            "remaining_time": 6.906299115,
            "test": [
             0.8071078776
            ]
           },
           {
            "iteration": 918,
            "learn": [
             0.6515538143
            ],
            "passed_time": 77.46156673,
            "remaining_time": 6.827406861,
            "test": [
             0.8071110026
            ]
           },
           {
            "iteration": 919,
            "learn": [
             0.6513987592
            ],
            "passed_time": 77.66141713,
            "remaining_time": 6.753166707,
            "test": [
             0.8071335286
            ]
           },
           {
            "iteration": 920,
            "learn": [
             0.6512149357
            ],
            "passed_time": 77.7526212,
            "remaining_time": 6.6693345,
            "test": [
             0.8071332682
            ]
           },
           {
            "iteration": 921,
            "learn": [
             0.6510787224
            ],
            "passed_time": 77.90888053,
            "remaining_time": 6.590989893,
            "test": [
             0.807144987
            ]
           },
           {
            "iteration": 922,
            "learn": [
             0.6509564338
            ],
            "passed_time": 78.05693631,
            "remaining_time": 6.511792087,
            "test": [
             0.8071582031
            ]
           },
           {
            "iteration": 923,
            "learn": [
             0.6508488511
            ],
            "passed_time": 78.13174204,
            "remaining_time": 6.426420341,
            "test": [
             0.8071882812
            ]
           },
           {
            "iteration": 924,
            "learn": [
             0.6506669577
            ],
            "passed_time": 78.24365695,
            "remaining_time": 6.344080293,
            "test": [
             0.8072048177
            ]
           },
           {
            "iteration": 925,
            "learn": [
             0.6504515165
            ],
            "passed_time": 78.39320214,
            "remaining_time": 6.26468354,
            "test": [
             0.8072746094
            ]
           },
           {
            "iteration": 926,
            "learn": [
             0.6502825368
            ],
            "passed_time": 78.53542665,
            "remaining_time": 6.184558949,
            "test": [
             0.8072123698
            ]
           },
           {
            "iteration": 927,
            "learn": [
             0.6502329504
            ],
            "passed_time": 78.66487451,
            "remaining_time": 6.103309229,
            "test": [
             0.8072115885
            ]
           },
           {
            "iteration": 928,
            "learn": [
             0.650145864
            ],
            "passed_time": 78.7955112,
            "remaining_time": 6.022046604,
            "test": [
             0.8072501953
            ]
           },
           {
            "iteration": 929,
            "learn": [
             0.6500329504
            ],
            "passed_time": 78.90455122,
            "remaining_time": 5.939052242,
            "test": [
             0.8072491536
            ]
           },
           {
            "iteration": 930,
            "learn": [
             0.6498563879
            ],
            "passed_time": 79.04854518,
            "remaining_time": 5.8585925,
            "test": [
             0.8072375651
            ]
           },
           {
            "iteration": 931,
            "learn": [
             0.6497120864
            ],
            "passed_time": 79.18317059,
            "remaining_time": 5.777312876,
            "test": [
             0.8072328125
            ]
           },
           {
            "iteration": 932,
            "learn": [
             0.6495335018
            ],
            "passed_time": 79.31960825,
            "remaining_time": 5.696049039,
            "test": [
             0.8072121745
            ]
           },
           {
            "iteration": 933,
            "learn": [
             0.6494039522
            ],
            "passed_time": 79.43565208,
            "remaining_time": 5.61322595,
            "test": [
             0.8072204427
            ]
           },
           {
            "iteration": 934,
            "learn": [
             0.649282261
            ],
            "passed_time": 79.52044666,
            "remaining_time": 5.528159394,
            "test": [
             0.8072080729
            ]
           },
           {
            "iteration": 935,
            "learn": [
             0.6492126379
            ],
            "passed_time": 79.65792384,
            "remaining_time": 5.446695647,
            "test": [
             0.8072332031
            ]
           },
           {
            "iteration": 936,
            "learn": [
             0.6491132813
            ],
            "passed_time": 79.77860903,
            "remaining_time": 5.363983318,
            "test": [
             0.8072311849
            ]
           },
           {
            "iteration": 937,
            "learn": [
             0.6489368566
            ],
            "passed_time": 79.87928008,
            "remaining_time": 5.279867127,
            "test": [
             0.8072397786
            ]
           },
           {
            "iteration": 938,
            "learn": [
             0.6488496324
            ],
            "passed_time": 79.94334127,
            "remaining_time": 5.193337399,
            "test": [
             0.8072322917
            ]
           },
           {
            "iteration": 939,
            "learn": [
             0.6487248621
            ],
            "passed_time": 80.01505409,
            "remaining_time": 5.107343878,
            "test": [
             0.8072328125
            ]
           },
           {
            "iteration": 940,
            "learn": [
             0.6485630055
            ],
            "passed_time": 80.10566464,
            "remaining_time": 5.022565583,
            "test": [
             0.8071897786
            ]
           },
           {
            "iteration": 941,
            "learn": [
             0.6485014246
            ],
            "passed_time": 80.16368759,
            "remaining_time": 4.93576845,
            "test": [
             0.8072158203
            ]
           },
           {
            "iteration": 942,
            "learn": [
             0.6484034007
            ],
            "passed_time": 80.22679607,
            "remaining_time": 4.849339741,
            "test": [
             0.80723125
            ]
           },
           {
            "iteration": 943,
            "learn": [
             0.6483507353
            ],
            "passed_time": 80.28727625,
            "remaining_time": 4.762804523,
            "test": [
             0.8072353516
            ]
           },
           {
            "iteration": 944,
            "learn": [
             0.6482589614
            ],
            "passed_time": 80.36512648,
            "remaining_time": 4.677335404,
            "test": [
             0.8072663411
            ]
           },
           {
            "iteration": 945,
            "learn": [
             0.6481959559
            ],
            "passed_time": 80.43618671,
            "remaining_time": 4.591494802,
            "test": [
             0.8072784505
            ]
           },
           {
            "iteration": 946,
            "learn": [
             0.648103079
            ],
            "passed_time": 80.49602744,
            "remaining_time": 4.505057502,
            "test": [
             0.8072661458
            ]
           },
           {
            "iteration": 947,
            "learn": [
             0.6479704504
            ],
            "passed_time": 80.57166495,
            "remaining_time": 4.419542803,
            "test": [
             0.8072988932
            ]
           },
           {
            "iteration": 948,
            "learn": [
             0.6477995864
            ],
            "passed_time": 80.64260671,
            "remaining_time": 4.333796567,
            "test": [
             0.807316862
            ]
           },
           {
            "iteration": 949,
            "learn": [
             0.6477290901
            ],
            "passed_time": 80.70093236,
            "remaining_time": 4.247417492,
            "test": [
             0.8073415365
            ]
           },
           {
            "iteration": 950,
            "learn": [
             0.6476004136
            ],
            "passed_time": 80.79391615,
            "remaining_time": 4.162883167,
            "test": [
             0.8073154297
            ]
           },
           {
            "iteration": 951,
            "learn": [
             0.647363511
            ],
            "passed_time": 80.89402387,
            "remaining_time": 4.078690279,
            "test": [
             0.8073482422
            ]
           },
           {
            "iteration": 952,
            "learn": [
             0.6471752757
            ],
            "passed_time": 80.96300497,
            "remaining_time": 3.992928891,
            "test": [
             0.8073640625
            ]
           },
           {
            "iteration": 953,
            "learn": [
             0.6469520221
            ],
            "passed_time": 81.05353587,
            "remaining_time": 3.908241771,
            "test": [
             0.8073751302
            ]
           },
           {
            "iteration": 954,
            "learn": [
             0.6467887868
            ],
            "passed_time": 81.12569496,
            "remaining_time": 3.822676726,
            "test": [
             0.8074024089
            ]
           },
           {
            "iteration": 955,
            "learn": [
             0.6466288603
            ],
            "passed_time": 81.20335559,
            "remaining_time": 3.737392935,
            "test": [
             0.8073932292
            ]
           },
           {
            "iteration": 956,
            "learn": [
             0.6465193474
            ],
            "passed_time": 81.27765351,
            "remaining_time": 3.651973982,
            "test": [
             0.8073591797
            ]
           },
           {
            "iteration": 957,
            "learn": [
             0.6464143382
            ],
            "passed_time": 81.3443335,
            "remaining_time": 3.566244266,
            "test": [
             0.8073351562
            ]
           },
           {
            "iteration": 958,
            "learn": [
             0.6462570313
            ],
            "passed_time": 81.44129802,
            "remaining_time": 3.481849029,
            "test": [
             0.8072744792
            ]
           },
           {
            "iteration": 959,
            "learn": [
             0.6461221967
            ],
            "passed_time": 81.51597909,
            "remaining_time": 3.396499129,
            "test": [
             0.8072789062
            ]
           },
           {
            "iteration": 960,
            "learn": [
             0.646073943
            ],
            "passed_time": 81.57606796,
            "remaining_time": 3.310579241,
            "test": [
             0.8072850911
            ]
           },
           {
            "iteration": 961,
            "learn": [
             0.6460096507
            ],
            "passed_time": 81.65095596,
            "remaining_time": 3.225297637,
            "test": [
             0.8073161458
            ]
           },
           {
            "iteration": 962,
            "learn": [
             0.6458184743
            ],
            "passed_time": 81.7275565,
            "remaining_time": 3.140103417,
            "test": [
             0.8072934245
            ]
           },
           {
            "iteration": 963,
            "learn": [
             0.6456861673
            ],
            "passed_time": 81.79577201,
            "remaining_time": 3.054613893,
            "test": [
             0.8073178385
            ]
           },
           {
            "iteration": 964,
            "learn": [
             0.6455809283
            ],
            "passed_time": 81.88427214,
            "remaining_time": 2.969895881,
            "test": [
             0.8073018229
            ]
           },
           {
            "iteration": 965,
            "learn": [
             0.6453118566
            ],
            "passed_time": 81.9858995,
            "remaining_time": 2.885632074,
            "test": [
             0.8072959635
            ]
           },
           {
            "iteration": 966,
            "learn": [
             0.6451126379
            ],
            "passed_time": 82.0605916,
            "remaining_time": 2.800413157,
            "test": [
             0.8072080729
            ]
           },
           {
            "iteration": 967,
            "learn": [
             0.6449576287
            ],
            "passed_time": 82.14712633,
            "remaining_time": 2.715607482,
            "test": [
             0.8071638672
            ]
           },
           {
            "iteration": 968,
            "learn": [
             0.6447836397
            ],
            "passed_time": 82.21927112,
            "remaining_time": 2.630337879,
            "test": [
             0.8071323568
            ]
           },
           {
            "iteration": 969,
            "learn": [
             0.6445899357
            ],
            "passed_time": 82.29476946,
            "remaining_time": 2.545199056,
            "test": [
             0.8071757813
            ]
           },
           {
            "iteration": 970,
            "learn": [
             0.6444126838
            ],
            "passed_time": 82.36580335,
            "remaining_time": 2.459946753,
            "test": [
             0.8072020833
            ]
           },
           {
            "iteration": 971,
            "learn": [
             0.6443104779
            ],
            "passed_time": 82.45638968,
            "remaining_time": 2.375286945,
            "test": [
             0.807219401
            ]
           },
           {
            "iteration": 972,
            "learn": [
             0.6441911305
            ],
            "passed_time": 82.51441326,
            "remaining_time": 2.289711365,
            "test": [
             0.8072183594
            ]
           },
           {
            "iteration": 973,
            "learn": [
             0.6441153493
            ],
            "passed_time": 82.57172703,
            "remaining_time": 2.204173412,
            "test": [
             0.8072232422
            ]
           },
           {
            "iteration": 974,
            "learn": [
             0.6440132353
            ],
            "passed_time": 82.63586741,
            "remaining_time": 2.118868395,
            "test": [
             0.8073004557
            ]
           },
           {
            "iteration": 975,
            "learn": [
             0.6438491728
            ],
            "passed_time": 82.70961735,
            "remaining_time": 2.03384305,
            "test": [
             0.8073229167
            ]
           },
           {
            "iteration": 976,
            "learn": [
             0.6437203585
            ],
            "passed_time": 82.77900559,
            "remaining_time": 1.948738105,
            "test": [
             0.8073378906
            ]
           },
           {
            "iteration": 977,
            "learn": [
             0.6436164982
            ],
            "passed_time": 82.84168177,
            "remaining_time": 1.863514314,
            "test": [
             0.8073422526
            ]
           },
           {
            "iteration": 978,
            "learn": [
             0.6435223346
            ],
            "passed_time": 82.91851408,
            "remaining_time": 1.778640241,
            "test": [
             0.8073502604
            ]
           },
           {
            "iteration": 979,
            "learn": [
             0.6434051011
            ],
            "passed_time": 83.04090379,
            "remaining_time": 1.694712322,
            "test": [
             0.807335612
            ]
           },
           {
            "iteration": 980,
            "learn": [
             0.6432903493
            ],
            "passed_time": 83.11301244,
            "remaining_time": 1.609732147,
            "test": [
             0.8073029297
            ]
           },
           {
            "iteration": 981,
            "learn": [
             0.6431632812
            ],
            "passed_time": 83.18320802,
            "remaining_time": 1.524743121,
            "test": [
             0.8073061849
            ]
           },
           {
            "iteration": 982,
            "learn": [
             0.6430914522
            ],
            "passed_time": 83.25760121,
            "remaining_time": 1.439856786,
            "test": [
             0.8073369141
            ]
           },
           {
            "iteration": 983,
            "learn": [
             0.6429727482
            ],
            "passed_time": 83.33365813,
            "remaining_time": 1.355018831,
            "test": [
             0.8073139323
            ]
           },
           {
            "iteration": 984,
            "learn": [
             0.6428975184
            ],
            "passed_time": 83.39356334,
            "remaining_time": 1.269952741,
            "test": [
             0.8073191406
            ]
           },
           {
            "iteration": 985,
            "learn": [
             0.6427849265
            ],
            "passed_time": 83.48565576,
            "remaining_time": 1.185394706,
            "test": [
             0.8073005859
            ]
           },
           {
            "iteration": 986,
            "learn": [
             0.6426596048
            ],
            "passed_time": 83.55283316,
            "remaining_time": 1.100493243,
            "test": [
             0.8073556641
            ]
           },
           {
            "iteration": 987,
            "learn": [
             0.6425320313
            ],
            "passed_time": 83.63388793,
            "remaining_time": 1.01579621,
            "test": [
             0.8074094401
            ]
           },
           {
            "iteration": 988,
            "learn": [
             0.6423134191
            ],
            "passed_time": 83.70763908,
            "remaining_time": 0.9310253083,
            "test": [
             0.8074703125
            ]
           },
           {
            "iteration": 989,
            "learn": [
             0.6420938879
            ],
            "passed_time": 83.78647296,
            "remaining_time": 0.8463280097,
            "test": [
             0.8074841146
            ]
           },
           {
            "iteration": 990,
            "learn": [
             0.6419209559
            ],
            "passed_time": 83.86377379,
            "remaining_time": 0.7616286217,
            "test": [
             0.8074822266
            ]
           },
           {
            "iteration": 991,
            "learn": [
             0.6418393842
            ],
            "passed_time": 83.92246213,
            "remaining_time": 0.6767940495,
            "test": [
             0.8075034505
            ]
           },
           {
            "iteration": 992,
            "learn": [
             0.6416987132
            ],
            "passed_time": 84.00608018,
            "remaining_time": 0.5921878764,
            "test": [
             0.8075245443
            ]
           },
           {
            "iteration": 993,
            "learn": [
             0.6415368107
            ],
            "passed_time": 84.1033911,
            "remaining_time": 0.5076663447,
            "test": [
             0.8075151693
            ]
           },
           {
            "iteration": 994,
            "learn": [
             0.6414549632
            ],
            "passed_time": 84.16588885,
            "remaining_time": 0.4229441651,
            "test": [
             0.8075445964
            ]
           },
           {
            "iteration": 995,
            "learn": [
             0.6413154412
            ],
            "passed_time": 84.23717427,
            "remaining_time": 0.3383019047,
            "test": [
             0.8075372396
            ]
           },
           {
            "iteration": 996,
            "learn": [
             0.6411615349
            ],
            "passed_time": 84.31163757,
            "remaining_time": 0.2536960007,
            "test": [
             0.8075558594
            ]
           },
           {
            "iteration": 997,
            "learn": [
             0.6409410386
            ],
            "passed_time": 84.39707394,
            "remaining_time": 0.1691324127,
            "test": [
             0.8075307943
            ]
           },
           {
            "iteration": 998,
            "learn": [
             0.6408158088
            ],
            "passed_time": 84.49694907,
            "remaining_time": 0.0845815306,
            "test": [
             0.8075254557
            ]
           },
           {
            "iteration": 999,
            "learn": [
             0.6405755055
            ],
            "passed_time": 84.56979245,
            "remaining_time": 0,
            "test": [
             0.8075373047
            ]
           }
          ],
          "meta": {
           "iteration_count": 1000,
           "launch_mode": "Train",
           "learn_metrics": [
            {
             "best_value": "Min",
             "name": "MultiClass"
            }
           ],
           "learn_sets": [
            "learn"
           ],
           "name": "experiment",
           "parameters": "",
           "test_metrics": [
            {
             "best_value": "Min",
             "name": "MultiClass"
            }
           ],
           "test_sets": [
            "test"
           ]
          }
         },
         "passed_iterations": 999,
         "total_iterations": 1000
        },
        "name": "catboost_info",
        "path": "catboost_info"
       }
      },
      "layout": "IPY_MODEL_3f7c1f18b498402abb76fd0f7d5e0d4e"
     }
    },
    "8d7a0182f6744f0ebf61b952bbfbb3a3": {
     "model_module": "@jupyter-widgets/controls",
     "model_module_version": "1.5.0",
     "model_name": "ProgressStyleModel",
     "state": {
      "_model_module": "@jupyter-widgets/controls",
      "_model_module_version": "1.5.0",
      "_model_name": "ProgressStyleModel",
      "_view_count": null,
      "_view_module": "@jupyter-widgets/base",
      "_view_module_version": "1.2.0",
      "_view_name": "StyleView",
      "bar_color": null,
      "description_width": ""
     }
    },
    "929090a640a747dbb3099094a79aaa91": {
     "model_module": "@jupyter-widgets/base",
     "model_module_version": "1.2.0",
     "model_name": "LayoutModel",
     "state": {
      "_model_module": "@jupyter-widgets/base",
      "_model_module_version": "1.2.0",
      "_model_name": "LayoutModel",
      "_view_count": null,
      "_view_module": "@jupyter-widgets/base",
      "_view_module_version": "1.2.0",
      "_view_name": "LayoutView",
      "align_content": null,
      "align_items": null,
      "align_self": null,
      "border": null,
      "bottom": null,
      "display": null,
      "flex": null,
      "flex_flow": null,
      "grid_area": null,
      "grid_auto_columns": null,
      "grid_auto_flow": null,
      "grid_auto_rows": null,
      "grid_column": null,
      "grid_gap": null,
      "grid_row": null,
      "grid_template_areas": null,
      "grid_template_columns": null,
      "grid_template_rows": null,
      "height": null,
      "justify_content": null,
      "justify_items": null,
      "left": null,
      "margin": null,
      "max_height": null,
      "max_width": null,
      "min_height": null,
      "min_width": null,
      "object_fit": null,
      "object_position": null,
      "order": null,
      "overflow": null,
      "overflow_x": null,
      "overflow_y": null,
      "padding": null,
      "right": null,
      "top": null,
      "visibility": null,
      "width": null
     }
    },
    "94abe9f4a976474ebe26814f42f76e6a": {
     "model_module": "@jupyter-widgets/controls",
     "model_module_version": "1.5.0",
     "model_name": "FloatProgressModel",
     "state": {
      "_dom_classes": [],
      "_model_module": "@jupyter-widgets/controls",
      "_model_module_version": "1.5.0",
      "_model_name": "FloatProgressModel",
      "_view_count": null,
      "_view_module": "@jupyter-widgets/controls",
      "_view_module_version": "1.5.0",
      "_view_name": "ProgressView",
      "bar_style": "success",
      "description": "",
      "description_tooltip": null,
      "layout": "IPY_MODEL_c6364cbe977c453c80ba4cd9a7c80a00",
      "max": 1,
      "min": 0,
      "orientation": "horizontal",
      "style": "IPY_MODEL_8478a865d7014bf998c4b4c4a2e5a7ed",
      "value": 1
     }
    },
    "9631b89ada2647389445955b0a26a112": {
     "model_module": "@jupyter-widgets/controls",
     "model_module_version": "1.5.0",
     "model_name": "DescriptionStyleModel",
     "state": {
      "_model_module": "@jupyter-widgets/controls",
      "_model_module_version": "1.5.0",
      "_model_name": "DescriptionStyleModel",
      "_view_count": null,
      "_view_module": "@jupyter-widgets/base",
      "_view_module_version": "1.2.0",
      "_view_name": "StyleView",
      "description_width": ""
     }
    },
    "995a04874aa4407d98b8671219e3de16": {
     "model_module": "@jupyter-widgets/base",
     "model_module_version": "1.2.0",
     "model_name": "LayoutModel",
     "state": {
      "_model_module": "@jupyter-widgets/base",
      "_model_module_version": "1.2.0",
      "_model_name": "LayoutModel",
      "_view_count": null,
      "_view_module": "@jupyter-widgets/base",
      "_view_module_version": "1.2.0",
      "_view_name": "LayoutView",
      "align_content": null,
      "align_items": null,
      "align_self": null,
      "border": null,
      "bottom": null,
      "display": null,
      "flex": null,
      "flex_flow": null,
      "grid_area": null,
      "grid_auto_columns": null,
      "grid_auto_flow": null,
      "grid_auto_rows": null,
      "grid_column": null,
      "grid_gap": null,
      "grid_row": null,
      "grid_template_areas": null,
      "grid_template_columns": null,
      "grid_template_rows": null,
      "height": null,
      "justify_content": null,
      "justify_items": null,
      "left": null,
      "margin": null,
      "max_height": null,
      "max_width": null,
      "min_height": null,
      "min_width": null,
      "object_fit": null,
      "object_position": null,
      "order": null,
      "overflow": null,
      "overflow_x": null,
      "overflow_y": null,
      "padding": null,
      "right": null,
      "top": null,
      "visibility": null,
      "width": null
     }
    },
    "9bb4c5d4bf2e4d01b85369282b7487fc": {
     "model_module": "@jupyter-widgets/controls",
     "model_module_version": "1.5.0",
     "model_name": "HTMLModel",
     "state": {
      "_dom_classes": [],
      "_model_module": "@jupyter-widgets/controls",
      "_model_module_version": "1.5.0",
      "_model_name": "HTMLModel",
      "_view_count": null,
      "_view_module": "@jupyter-widgets/controls",
      "_view_module_version": "1.5.0",
      "_view_name": "HTMLView",
      "description": "",
      "description_tooltip": null,
      "layout": "IPY_MODEL_9c47aad7802b4d92b8c0da59e223ff75",
      "placeholder": "​",
      "style": "IPY_MODEL_6b3a0b79a02c4f749692896248b9f15d",
      "value": ""
     }
    },
    "9c47aad7802b4d92b8c0da59e223ff75": {
     "model_module": "@jupyter-widgets/base",
     "model_module_version": "1.2.0",
     "model_name": "LayoutModel",
     "state": {
      "_model_module": "@jupyter-widgets/base",
      "_model_module_version": "1.2.0",
      "_model_name": "LayoutModel",
      "_view_count": null,
      "_view_module": "@jupyter-widgets/base",
      "_view_module_version": "1.2.0",
      "_view_name": "LayoutView",
      "align_content": null,
      "align_items": null,
      "align_self": null,
      "border": null,
      "bottom": null,
      "display": null,
      "flex": null,
      "flex_flow": null,
      "grid_area": null,
      "grid_auto_columns": null,
      "grid_auto_flow": null,
      "grid_auto_rows": null,
      "grid_column": null,
      "grid_gap": null,
      "grid_row": null,
      "grid_template_areas": null,
      "grid_template_columns": null,
      "grid_template_rows": null,
      "height": null,
      "justify_content": null,
      "justify_items": null,
      "left": null,
      "margin": null,
      "max_height": null,
      "max_width": null,
      "min_height": null,
      "min_width": null,
      "object_fit": null,
      "object_position": null,
      "order": null,
      "overflow": null,
      "overflow_x": null,
      "overflow_y": null,
      "padding": null,
      "right": null,
      "top": null,
      "visibility": null,
      "width": null
     }
    },
    "9e896f11a14e42db89440440fa88a7d4": {
     "model_module": "@jupyter-widgets/base",
     "model_module_version": "1.2.0",
     "model_name": "LayoutModel",
     "state": {
      "_model_module": "@jupyter-widgets/base",
      "_model_module_version": "1.2.0",
      "_model_name": "LayoutModel",
      "_view_count": null,
      "_view_module": "@jupyter-widgets/base",
      "_view_module_version": "1.2.0",
      "_view_name": "LayoutView",
      "align_content": null,
      "align_items": null,
      "align_self": null,
      "border": null,
      "bottom": null,
      "display": null,
      "flex": null,
      "flex_flow": null,
      "grid_area": null,
      "grid_auto_columns": null,
      "grid_auto_flow": null,
      "grid_auto_rows": null,
      "grid_column": null,
      "grid_gap": null,
      "grid_row": null,
      "grid_template_areas": null,
      "grid_template_columns": null,
      "grid_template_rows": null,
      "height": null,
      "justify_content": null,
      "justify_items": null,
      "left": null,
      "margin": null,
      "max_height": null,
      "max_width": null,
      "min_height": null,
      "min_width": null,
      "object_fit": null,
      "object_position": null,
      "order": null,
      "overflow": null,
      "overflow_x": null,
      "overflow_y": null,
      "padding": null,
      "right": null,
      "top": null,
      "visibility": null,
      "width": null
     }
    },
    "9eee6c7676df490ba9d8b309a0764aa6": {
     "model_module": "@jupyter-widgets/controls",
     "model_module_version": "1.5.0",
     "model_name": "HBoxModel",
     "state": {
      "_dom_classes": [],
      "_model_module": "@jupyter-widgets/controls",
      "_model_module_version": "1.5.0",
      "_model_name": "HBoxModel",
      "_view_count": null,
      "_view_module": "@jupyter-widgets/controls",
      "_view_module_version": "1.5.0",
      "_view_name": "HBoxView",
      "box_style": "",
      "children": [
       "IPY_MODEL_d33f461b7f094219bf3b985a59143dba",
       "IPY_MODEL_5dfdd870f6794e26af7d9c51799ca3d3",
       "IPY_MODEL_85191e95c1944e85847c36557e703af0"
      ],
      "layout": "IPY_MODEL_4041ed3da4a04f12a13eca769673c68a"
     }
    },
    "a467940753404caaa17483471bf1084e": {
     "model_module": "@jupyter-widgets/controls",
     "model_module_version": "1.5.0",
     "model_name": "FloatProgressModel",
     "state": {
      "_dom_classes": [],
      "_model_module": "@jupyter-widgets/controls",
      "_model_module_version": "1.5.0",
      "_model_name": "FloatProgressModel",
      "_view_count": null,
      "_view_module": "@jupyter-widgets/controls",
      "_view_module_version": "1.5.0",
      "_view_name": "ProgressView",
      "bar_style": "success",
      "description": "",
      "description_tooltip": null,
      "layout": "IPY_MODEL_08bce9cf61fb42f29074b0f42ba0de6a",
      "max": 1,
      "min": 0,
      "orientation": "horizontal",
      "style": "IPY_MODEL_76ad2feb073a410c88aee8112762ab14",
      "value": 1
     }
    },
    "a9b6fa3b8f78434baecd07c1b8a6eb20": {
     "model_module": "@jupyter-widgets/base",
     "model_module_version": "1.2.0",
     "model_name": "LayoutModel",
     "state": {
      "_model_module": "@jupyter-widgets/base",
      "_model_module_version": "1.2.0",
      "_model_name": "LayoutModel",
      "_view_count": null,
      "_view_module": "@jupyter-widgets/base",
      "_view_module_version": "1.2.0",
      "_view_name": "LayoutView",
      "align_content": null,
      "align_items": null,
      "align_self": null,
      "border": null,
      "bottom": null,
      "display": null,
      "flex": null,
      "flex_flow": null,
      "grid_area": null,
      "grid_auto_columns": null,
      "grid_auto_flow": null,
      "grid_auto_rows": null,
      "grid_column": null,
      "grid_gap": null,
      "grid_row": null,
      "grid_template_areas": null,
      "grid_template_columns": null,
      "grid_template_rows": null,
      "height": null,
      "justify_content": null,
      "justify_items": null,
      "left": null,
      "margin": null,
      "max_height": null,
      "max_width": null,
      "min_height": null,
      "min_width": null,
      "object_fit": null,
      "object_position": null,
      "order": null,
      "overflow": null,
      "overflow_x": null,
      "overflow_y": null,
      "padding": null,
      "right": null,
      "top": null,
      "visibility": null,
      "width": null
     }
    },
    "b443614aa79b4d6088d500612d334839": {
     "model_module": "@jupyter-widgets/base",
     "model_module_version": "1.2.0",
     "model_name": "LayoutModel",
     "state": {
      "_model_module": "@jupyter-widgets/base",
      "_model_module_version": "1.2.0",
      "_model_name": "LayoutModel",
      "_view_count": null,
      "_view_module": "@jupyter-widgets/base",
      "_view_module_version": "1.2.0",
      "_view_name": "LayoutView",
      "align_content": null,
      "align_items": null,
      "align_self": null,
      "border": null,
      "bottom": null,
      "display": null,
      "flex": null,
      "flex_flow": null,
      "grid_area": null,
      "grid_auto_columns": null,
      "grid_auto_flow": null,
      "grid_auto_rows": null,
      "grid_column": null,
      "grid_gap": null,
      "grid_row": null,
      "grid_template_areas": null,
      "grid_template_columns": null,
      "grid_template_rows": null,
      "height": null,
      "justify_content": null,
      "justify_items": null,
      "left": null,
      "margin": null,
      "max_height": null,
      "max_width": null,
      "min_height": null,
      "min_width": null,
      "object_fit": null,
      "object_position": null,
      "order": null,
      "overflow": null,
      "overflow_x": null,
      "overflow_y": null,
      "padding": null,
      "right": null,
      "top": null,
      "visibility": null,
      "width": null
     }
    },
    "bbf2094d82a64f728edd62426eb9eb38": {
     "model_module": "@jupyter-widgets/base",
     "model_module_version": "1.2.0",
     "model_name": "LayoutModel",
     "state": {
      "_model_module": "@jupyter-widgets/base",
      "_model_module_version": "1.2.0",
      "_model_name": "LayoutModel",
      "_view_count": null,
      "_view_module": "@jupyter-widgets/base",
      "_view_module_version": "1.2.0",
      "_view_name": "LayoutView",
      "align_content": null,
      "align_items": null,
      "align_self": null,
      "border": null,
      "bottom": null,
      "display": null,
      "flex": null,
      "flex_flow": null,
      "grid_area": null,
      "grid_auto_columns": null,
      "grid_auto_flow": null,
      "grid_auto_rows": null,
      "grid_column": null,
      "grid_gap": null,
      "grid_row": null,
      "grid_template_areas": null,
      "grid_template_columns": null,
      "grid_template_rows": null,
      "height": null,
      "justify_content": null,
      "justify_items": null,
      "left": null,
      "margin": null,
      "max_height": null,
      "max_width": null,
      "min_height": null,
      "min_width": null,
      "object_fit": null,
      "object_position": null,
      "order": null,
      "overflow": null,
      "overflow_x": null,
      "overflow_y": null,
      "padding": null,
      "right": null,
      "top": null,
      "visibility": null,
      "width": null
     }
    },
    "be527fd614c64a29b407eb3595b5d068": {
     "model_module": "@jupyter-widgets/controls",
     "model_module_version": "1.5.0",
     "model_name": "ProgressStyleModel",
     "state": {
      "_model_module": "@jupyter-widgets/controls",
      "_model_module_version": "1.5.0",
      "_model_name": "ProgressStyleModel",
      "_view_count": null,
      "_view_module": "@jupyter-widgets/base",
      "_view_module_version": "1.2.0",
      "_view_name": "StyleView",
      "bar_color": null,
      "description_width": ""
     }
    },
    "c6364cbe977c453c80ba4cd9a7c80a00": {
     "model_module": "@jupyter-widgets/base",
     "model_module_version": "1.2.0",
     "model_name": "LayoutModel",
     "state": {
      "_model_module": "@jupyter-widgets/base",
      "_model_module_version": "1.2.0",
      "_model_name": "LayoutModel",
      "_view_count": null,
      "_view_module": "@jupyter-widgets/base",
      "_view_module_version": "1.2.0",
      "_view_name": "LayoutView",
      "align_content": null,
      "align_items": null,
      "align_self": null,
      "border": null,
      "bottom": null,
      "display": null,
      "flex": null,
      "flex_flow": null,
      "grid_area": null,
      "grid_auto_columns": null,
      "grid_auto_flow": null,
      "grid_auto_rows": null,
      "grid_column": null,
      "grid_gap": null,
      "grid_row": null,
      "grid_template_areas": null,
      "grid_template_columns": null,
      "grid_template_rows": null,
      "height": null,
      "justify_content": null,
      "justify_items": null,
      "left": null,
      "margin": null,
      "max_height": null,
      "max_width": null,
      "min_height": null,
      "min_width": null,
      "object_fit": null,
      "object_position": null,
      "order": null,
      "overflow": null,
      "overflow_x": null,
      "overflow_y": null,
      "padding": null,
      "right": null,
      "top": null,
      "visibility": null,
      "width": "20px"
     }
    },
    "c84eff4a339d45ce9a73f88e40de10e4": {
     "model_module": "@jupyter-widgets/base",
     "model_module_version": "1.2.0",
     "model_name": "LayoutModel",
     "state": {
      "_model_module": "@jupyter-widgets/base",
      "_model_module_version": "1.2.0",
      "_model_name": "LayoutModel",
      "_view_count": null,
      "_view_module": "@jupyter-widgets/base",
      "_view_module_version": "1.2.0",
      "_view_name": "LayoutView",
      "align_content": null,
      "align_items": null,
      "align_self": null,
      "border": null,
      "bottom": null,
      "display": null,
      "flex": null,
      "flex_flow": null,
      "grid_area": null,
      "grid_auto_columns": null,
      "grid_auto_flow": null,
      "grid_auto_rows": null,
      "grid_column": null,
      "grid_gap": null,
      "grid_row": null,
      "grid_template_areas": null,
      "grid_template_columns": null,
      "grid_template_rows": null,
      "height": null,
      "justify_content": null,
      "justify_items": null,
      "left": null,
      "margin": null,
      "max_height": null,
      "max_width": null,
      "min_height": null,
      "min_width": null,
      "object_fit": null,
      "object_position": null,
      "order": null,
      "overflow": null,
      "overflow_x": null,
      "overflow_y": null,
      "padding": null,
      "right": null,
      "top": null,
      "visibility": null,
      "width": null
     }
    },
    "d164b8030885402192419e0e11e18377": {
     "model_module": "@jupyter-widgets/controls",
     "model_module_version": "1.5.0",
     "model_name": "DescriptionStyleModel",
     "state": {
      "_model_module": "@jupyter-widgets/controls",
      "_model_module_version": "1.5.0",
      "_model_name": "DescriptionStyleModel",
      "_view_count": null,
      "_view_module": "@jupyter-widgets/base",
      "_view_module_version": "1.2.0",
      "_view_name": "StyleView",
      "description_width": ""
     }
    },
    "d33f461b7f094219bf3b985a59143dba": {
     "model_module": "@jupyter-widgets/controls",
     "model_module_version": "1.5.0",
     "model_name": "HTMLModel",
     "state": {
      "_dom_classes": [],
      "_model_module": "@jupyter-widgets/controls",
      "_model_module_version": "1.5.0",
      "_model_name": "HTMLModel",
      "_view_count": null,
      "_view_module": "@jupyter-widgets/controls",
      "_view_module_version": "1.5.0",
      "_view_name": "HTMLView",
      "description": "",
      "description_tooltip": null,
      "layout": "IPY_MODEL_b443614aa79b4d6088d500612d334839",
      "placeholder": "​",
      "style": "IPY_MODEL_4a56b9c0591140fa8805b10e2a9312bb",
      "value": ""
     }
    },
    "d492b6ee79264dd39ef22aa03d839c65": {
     "model_module": "@jupyter-widgets/base",
     "model_module_version": "1.2.0",
     "model_name": "LayoutModel",
     "state": {
      "_model_module": "@jupyter-widgets/base",
      "_model_module_version": "1.2.0",
      "_model_name": "LayoutModel",
      "_view_count": null,
      "_view_module": "@jupyter-widgets/base",
      "_view_module_version": "1.2.0",
      "_view_name": "LayoutView",
      "align_content": null,
      "align_items": null,
      "align_self": null,
      "border": null,
      "bottom": null,
      "display": null,
      "flex": null,
      "flex_flow": null,
      "grid_area": null,
      "grid_auto_columns": null,
      "grid_auto_flow": null,
      "grid_auto_rows": null,
      "grid_column": null,
      "grid_gap": null,
      "grid_row": null,
      "grid_template_areas": null,
      "grid_template_columns": null,
      "grid_template_rows": null,
      "height": null,
      "justify_content": null,
      "justify_items": null,
      "left": null,
      "margin": null,
      "max_height": null,
      "max_width": null,
      "min_height": null,
      "min_width": null,
      "object_fit": null,
      "object_position": null,
      "order": null,
      "overflow": null,
      "overflow_x": null,
      "overflow_y": null,
      "padding": null,
      "right": null,
      "top": null,
      "visibility": null,
      "width": "20px"
     }
    },
    "d787bc0ae5634667b1c2f2e70510b032": {
     "model_module": "@jupyter-widgets/controls",
     "model_module_version": "1.5.0",
     "model_name": "HBoxModel",
     "state": {
      "_dom_classes": [],
      "_model_module": "@jupyter-widgets/controls",
      "_model_module_version": "1.5.0",
      "_model_name": "HBoxModel",
      "_view_count": null,
      "_view_module": "@jupyter-widgets/controls",
      "_view_module_version": "1.5.0",
      "_view_name": "HBoxView",
      "box_style": "",
      "children": [
       "IPY_MODEL_9bb4c5d4bf2e4d01b85369282b7487fc",
       "IPY_MODEL_a467940753404caaa17483471bf1084e",
       "IPY_MODEL_e3369f55ebe54a98a0f0c92c144a0c59"
      ],
      "layout": "IPY_MODEL_929090a640a747dbb3099094a79aaa91"
     }
    },
    "d90efb15e5894d5c85376c532d4df443": {
     "model_module": "@jupyter-widgets/base",
     "model_module_version": "1.2.0",
     "model_name": "LayoutModel",
     "state": {
      "_model_module": "@jupyter-widgets/base",
      "_model_module_version": "1.2.0",
      "_model_name": "LayoutModel",
      "_view_count": null,
      "_view_module": "@jupyter-widgets/base",
      "_view_module_version": "1.2.0",
      "_view_name": "LayoutView",
      "align_content": null,
      "align_items": null,
      "align_self": null,
      "border": null,
      "bottom": null,
      "display": null,
      "flex": null,
      "flex_flow": null,
      "grid_area": null,
      "grid_auto_columns": null,
      "grid_auto_flow": null,
      "grid_auto_rows": null,
      "grid_column": null,
      "grid_gap": null,
      "grid_row": null,
      "grid_template_areas": null,
      "grid_template_columns": null,
      "grid_template_rows": null,
      "height": null,
      "justify_content": null,
      "justify_items": null,
      "left": null,
      "margin": null,
      "max_height": null,
      "max_width": null,
      "min_height": null,
      "min_width": null,
      "object_fit": null,
      "object_position": null,
      "order": null,
      "overflow": null,
      "overflow_x": null,
      "overflow_y": null,
      "padding": null,
      "right": null,
      "top": null,
      "visibility": null,
      "width": null
     }
    },
    "db83ef95d30f49849a541d25c80eabaa": {
     "model_module": "@jupyter-widgets/base",
     "model_module_version": "1.2.0",
     "model_name": "LayoutModel",
     "state": {
      "_model_module": "@jupyter-widgets/base",
      "_model_module_version": "1.2.0",
      "_model_name": "LayoutModel",
      "_view_count": null,
      "_view_module": "@jupyter-widgets/base",
      "_view_module_version": "1.2.0",
      "_view_name": "LayoutView",
      "align_content": null,
      "align_items": null,
      "align_self": null,
      "border": null,
      "bottom": null,
      "display": null,
      "flex": null,
      "flex_flow": null,
      "grid_area": null,
      "grid_auto_columns": null,
      "grid_auto_flow": null,
      "grid_auto_rows": null,
      "grid_column": null,
      "grid_gap": null,
      "grid_row": null,
      "grid_template_areas": null,
      "grid_template_columns": null,
      "grid_template_rows": null,
      "height": null,
      "justify_content": null,
      "justify_items": null,
      "left": null,
      "margin": null,
      "max_height": null,
      "max_width": null,
      "min_height": null,
      "min_width": null,
      "object_fit": null,
      "object_position": null,
      "order": null,
      "overflow": null,
      "overflow_x": null,
      "overflow_y": null,
      "padding": null,
      "right": null,
      "top": null,
      "visibility": null,
      "width": null
     }
    },
    "dfa7f4194e95499ba9e1f9db090e54f0": {
     "model_module": "@jupyter-widgets/base",
     "model_module_version": "1.2.0",
     "model_name": "LayoutModel",
     "state": {
      "_model_module": "@jupyter-widgets/base",
      "_model_module_version": "1.2.0",
      "_model_name": "LayoutModel",
      "_view_count": null,
      "_view_module": "@jupyter-widgets/base",
      "_view_module_version": "1.2.0",
      "_view_name": "LayoutView",
      "align_content": null,
      "align_items": null,
      "align_self": null,
      "border": null,
      "bottom": null,
      "display": null,
      "flex": null,
      "flex_flow": null,
      "grid_area": null,
      "grid_auto_columns": null,
      "grid_auto_flow": null,
      "grid_auto_rows": null,
      "grid_column": null,
      "grid_gap": null,
      "grid_row": null,
      "grid_template_areas": null,
      "grid_template_columns": null,
      "grid_template_rows": null,
      "height": null,
      "justify_content": null,
      "justify_items": null,
      "left": null,
      "margin": null,
      "max_height": null,
      "max_width": null,
      "min_height": null,
      "min_width": null,
      "object_fit": null,
      "object_position": null,
      "order": null,
      "overflow": null,
      "overflow_x": null,
      "overflow_y": null,
      "padding": null,
      "right": null,
      "top": null,
      "visibility": null,
      "width": null
     }
    },
    "e2924f8ae04f4498b70944c9fce2779e": {
     "model_module": "@jupyter-widgets/controls",
     "model_module_version": "1.5.0",
     "model_name": "HTMLModel",
     "state": {
      "_dom_classes": [],
      "_model_module": "@jupyter-widgets/controls",
      "_model_module_version": "1.5.0",
      "_model_name": "HTMLModel",
      "_view_count": null,
      "_view_module": "@jupyter-widgets/controls",
      "_view_module_version": "1.5.0",
      "_view_name": "HTMLView",
      "description": "",
      "description_tooltip": null,
      "layout": "IPY_MODEL_0ed0a37d2a144e189d39128ee97f8926",
      "placeholder": "​",
      "style": "IPY_MODEL_7f43ca551d304b47b6e438634b0ff603",
      "value": " 241/241 [00:02&lt;00:00, 386.49it/s]"
     }
    },
    "e3369f55ebe54a98a0f0c92c144a0c59": {
     "model_module": "@jupyter-widgets/controls",
     "model_module_version": "1.5.0",
     "model_name": "HTMLModel",
     "state": {
      "_dom_classes": [],
      "_model_module": "@jupyter-widgets/controls",
      "_model_module_version": "1.5.0",
      "_model_name": "HTMLModel",
      "_view_count": null,
      "_view_module": "@jupyter-widgets/controls",
      "_view_module_version": "1.5.0",
      "_view_name": "HTMLView",
      "description": "",
      "description_tooltip": null,
      "layout": "IPY_MODEL_d90efb15e5894d5c85376c532d4df443",
      "placeholder": "​",
      "style": "IPY_MODEL_febf184d3a184d21a4ab324243918874",
      "value": " 13/? [00:00&lt;00:00, 186.93it/s]"
     }
    },
    "e44ba37ddd4d43d095970ee8bd235aac": {
     "model_module": "@jupyter-widgets/controls",
     "model_module_version": "1.5.0",
     "model_name": "HTMLModel",
     "state": {
      "_dom_classes": [],
      "_model_module": "@jupyter-widgets/controls",
      "_model_module_version": "1.5.0",
      "_model_name": "HTMLModel",
      "_view_count": null,
      "_view_module": "@jupyter-widgets/controls",
      "_view_module_version": "1.5.0",
      "_view_name": "HTMLView",
      "description": "",
      "description_tooltip": null,
      "layout": "IPY_MODEL_9e896f11a14e42db89440440fa88a7d4",
      "placeholder": "​",
      "style": "IPY_MODEL_fadf9ae4f8cc4ae2ba8a853e5ea75d81",
      "value": " 13/? [00:00&lt;00:00, 348.24it/s]"
     }
    },
    "ef9c7e1ddb4e4729b9e0f93d33f7e40c": {
     "model_module": "@jupyter-widgets/controls",
     "model_module_version": "1.5.0",
     "model_name": "DescriptionStyleModel",
     "state": {
      "_model_module": "@jupyter-widgets/controls",
      "_model_module_version": "1.5.0",
      "_model_name": "DescriptionStyleModel",
      "_view_count": null,
      "_view_module": "@jupyter-widgets/base",
      "_view_module_version": "1.2.0",
      "_view_name": "StyleView",
      "description_width": ""
     }
    },
    "f42a69e08c15444e95fdeab6320a22d1": {
     "model_module": "@jupyter-widgets/base",
     "model_module_version": "1.2.0",
     "model_name": "LayoutModel",
     "state": {
      "_model_module": "@jupyter-widgets/base",
      "_model_module_version": "1.2.0",
      "_model_name": "LayoutModel",
      "_view_count": null,
      "_view_module": "@jupyter-widgets/base",
      "_view_module_version": "1.2.0",
      "_view_name": "LayoutView",
      "align_content": null,
      "align_items": null,
      "align_self": null,
      "border": null,
      "bottom": null,
      "display": null,
      "flex": null,
      "flex_flow": null,
      "grid_area": null,
      "grid_auto_columns": null,
      "grid_auto_flow": null,
      "grid_auto_rows": null,
      "grid_column": null,
      "grid_gap": null,
      "grid_row": null,
      "grid_template_areas": null,
      "grid_template_columns": null,
      "grid_template_rows": null,
      "height": null,
      "justify_content": null,
      "justify_items": null,
      "left": null,
      "margin": null,
      "max_height": null,
      "max_width": null,
      "min_height": null,
      "min_width": null,
      "object_fit": null,
      "object_position": null,
      "order": null,
      "overflow": null,
      "overflow_x": null,
      "overflow_y": null,
      "padding": null,
      "right": null,
      "top": null,
      "visibility": null,
      "width": null
     }
    },
    "f5a3bec42a69440783a473b9f081fa12": {
     "model_module": "@jupyter-widgets/controls",
     "model_module_version": "1.5.0",
     "model_name": "HTMLModel",
     "state": {
      "_dom_classes": [],
      "_model_module": "@jupyter-widgets/controls",
      "_model_module_version": "1.5.0",
      "_model_name": "HTMLModel",
      "_view_count": null,
      "_view_module": "@jupyter-widgets/controls",
      "_view_module_version": "1.5.0",
      "_view_name": "HTMLView",
      "description": "",
      "description_tooltip": null,
      "layout": "IPY_MODEL_1b764cd7ee9741de8b5901966b87bc50",
      "placeholder": "​",
      "style": "IPY_MODEL_29682ccecf7c41a68d1b538e95300bcf",
      "value": "100%"
     }
    },
    "fadf9ae4f8cc4ae2ba8a853e5ea75d81": {
     "model_module": "@jupyter-widgets/controls",
     "model_module_version": "1.5.0",
     "model_name": "DescriptionStyleModel",
     "state": {
      "_model_module": "@jupyter-widgets/controls",
      "_model_module_version": "1.5.0",
      "_model_name": "DescriptionStyleModel",
      "_view_count": null,
      "_view_module": "@jupyter-widgets/base",
      "_view_module_version": "1.2.0",
      "_view_name": "StyleView",
      "description_width": ""
     }
    },
    "febf184d3a184d21a4ab324243918874": {
     "model_module": "@jupyter-widgets/controls",
     "model_module_version": "1.5.0",
     "model_name": "DescriptionStyleModel",
     "state": {
      "_model_module": "@jupyter-widgets/controls",
      "_model_module_version": "1.5.0",
      "_model_name": "DescriptionStyleModel",
      "_view_count": null,
      "_view_module": "@jupyter-widgets/base",
      "_view_module_version": "1.2.0",
      "_view_name": "StyleView",
      "description_width": ""
     }
    },
    "ff61b59b43d14de08ebbb416b0093c7a": {
     "model_module": "@jupyter-widgets/base",
     "model_module_version": "1.2.0",
     "model_name": "LayoutModel",
     "state": {
      "_model_module": "@jupyter-widgets/base",
      "_model_module_version": "1.2.0",
      "_model_name": "LayoutModel",
      "_view_count": null,
      "_view_module": "@jupyter-widgets/base",
      "_view_module_version": "1.2.0",
      "_view_name": "LayoutView",
      "align_content": null,
      "align_items": null,
      "align_self": null,
      "border": null,
      "bottom": null,
      "display": null,
      "flex": null,
      "flex_flow": null,
      "grid_area": null,
      "grid_auto_columns": null,
      "grid_auto_flow": null,
      "grid_auto_rows": null,
      "grid_column": null,
      "grid_gap": null,
      "grid_row": null,
      "grid_template_areas": null,
      "grid_template_columns": null,
      "grid_template_rows": null,
      "height": null,
      "justify_content": null,
      "justify_items": null,
      "left": null,
      "margin": null,
      "max_height": null,
      "max_width": null,
      "min_height": null,
      "min_width": null,
      "object_fit": null,
      "object_position": null,
      "order": null,
      "overflow": null,
      "overflow_x": null,
      "overflow_y": null,
      "padding": null,
      "right": null,
      "top": null,
      "visibility": null,
      "width": null
     }
    }
   }
  }
 },
 "nbformat": 4,
 "nbformat_minor": 0
}
