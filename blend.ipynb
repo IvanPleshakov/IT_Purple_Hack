{
  "cells": [
    {
      "cell_type": "markdown",
      "metadata": {
        "id": "Eo9xtM0_-YHT"
      },
      "source": [
        "# Blend Creation"
      ]
    },
    {
      "cell_type": "code",
      "execution_count": 1,
      "metadata": {
        "id": "8RenVUEW-KFO"
      },
      "outputs": [],
      "source": [
        "import os\n",
        "\n",
        "import numpy as np\n",
        "import pandas as pd"
      ]
    },
    {
      "cell_type": "code",
      "execution_count": 17,
      "metadata": {
        "id": "Mx_kD3DAAHEw"
      },
      "outputs": [],
      "source": [
        "DATA_PATH = 'CSV_for_blend'\n",
        "SAMPLE_SUBM_PATH = 'submissions/sample_submission.csv'"
      ]
    },
    {
      "cell_type": "markdown",
      "metadata": {
        "id": "r5DOK-qZ-XFZ"
      },
      "source": [
        "## Blend"
      ]
    },
    {
      "cell_type": "code",
      "execution_count": 14,
      "metadata": {
        "id": "gf5OX16JJK8u"
      },
      "outputs": [],
      "source": [
        "test_paths = os.listdir(DATA_PATH)\n",
        "ignore_datasets = [\n",
        "    'test_kfold_blend_2.csv',\n",
        "    'test_kfold_blend_3.csv',\n",
        "    'test_kfold_blend_1.csv',\n",
        "    'baseline_subm_cluster_feats_1.csv',\n",
        "    'ae.csv',\n",
        "    '.gitkeep',\n",
        "]\n",
        "\n",
        "test_paths = [path for path in test_paths if path not in ignore_datasets]\n",
        "datasets = [pd.read_csv(os.path.join(DATA_PATH, x)) for x in test_paths if x.endswith('.csv')]"
      ]
    },
    {
      "cell_type": "code",
      "execution_count": 23,
      "metadata": {
        "id": "BzcbDflNADkn"
      },
      "outputs": [],
      "source": [
        "sample_submission_df = pd.read_csv(SAMPLE_SUBM_PATH)\n",
        "sorted_classes = sample_submission_df.drop('id', axis=1).columns\n",
        "sample_submission_df[sorted_classes] = np.average([df[sorted_classes] for df in datasets], axis=0)"
      ]
    },
    {
      "cell_type": "code",
      "execution_count": 26,
      "metadata": {
        "id": "dAbSAFC8An2q"
      },
      "outputs": [],
      "source": [
        "sample_submission_df.to_csv('blend.csv', index=False)"
      ]
    }
  ],
  "metadata": {
    "colab": {
      "provenance": []
    },
    "kernelspec": {
      "display_name": "Python 3",
      "name": "python3"
    },
    "language_info": {
      "codemirror_mode": {
        "name": "ipython",
        "version": 3
      },
      "file_extension": ".py",
      "mimetype": "text/x-python",
      "name": "python",
      "nbconvert_exporter": "python",
      "pygments_lexer": "ipython3",
      "version": "3.10.0"
    }
  },
  "nbformat": 4,
  "nbformat_minor": 0
}
