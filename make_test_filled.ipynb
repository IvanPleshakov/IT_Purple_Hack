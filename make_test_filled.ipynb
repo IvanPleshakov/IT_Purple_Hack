{
  "cells": [
    {
      "cell_type": "code",
      "execution_count": 1,
      "metadata": {
        "id": "v7KMP8NHbn_i"
      },
      "outputs": [],
      "source": [
        "import os\n",
        "import random\n",
        "import typing as tp\n",
        "import warnings\n",
        "\n",
        "import numpy as np\n",
        "import pandas as pd\n",
        "from catboost import CatBoostClassifier\n",
        "\n",
        "warnings.filterwarnings(\"ignore\")\n",
        "\n",
        "def set_seed(seed):\n",
        "    np.random.seed(seed)\n",
        "    random.seed(seed)\n",
        "    os.environ[\"PYTHONHASHSEED\"] = str(seed)\n",
        "\n",
        "TEST_SIZE = 0.15\n",
        "set_seed(560)"
      ]
    },
    {
      "cell_type": "code",
      "execution_count": 2,
      "metadata": {
        "id": "fi6dJwIabsgn"
      },
      "outputs": [],
      "source": [
        "TEST_PATH = 'data/test_data.pqt'\n",
        "test = pd.read_parquet(TEST_PATH)"
      ]
    },
    {
      "cell_type": "code",
      "execution_count": 3,
      "metadata": {
        "id": "04rvvMlPbx3H"
      },
      "outputs": [],
      "source": [
        "def predict_start(\n",
        "    dataset_df: pd.DataFrame,\n",
        "    cat_features: tp.List[str],\n",
        "    task_type: str = 'GPU',\n",
        "    model = None,\n",
        "    params = None,\n",
        "):\n",
        "    \"\"\"\n",
        "    Заполняем пропуски в start_cluster для 6 месяца, обучаемся на 5\n",
        "    Возвращаем копию датасета и модель\n",
        "    \"\"\"\n",
        "    dataset = dataset_df.copy()\n",
        "    dataset.fillna(0, inplace=True)\n",
        "    cat_features = [feat for feat in cat_features if feat != 'start_cluster']\n",
        "    cat_features = cat_features + ['prev_month']\n",
        "    if not params:\n",
        "        params = {\n",
        "            'random_state': 560,\n",
        "            'task_type': task_type,\n",
        "            'cat_features': cat_features,\n",
        "        }\n",
        "    if not model:\n",
        "        model1 = CatBoostClassifier(**params)\n",
        "    month_4 = dataset[dataset.date == 'month_4'].copy()\n",
        "    month_5 = dataset[dataset.date == 'month_5'].copy()\n",
        "    month_6 = dataset[dataset.date == 'month_6'].copy()\n",
        "    train_dataset = month_5.merge(month_4[['id', 'start_cluster']], on='id', how='right')\n",
        "    pred_dataset = month_6.merge(month_5[['id', 'start_cluster']], on='id', how='right')\n",
        "    train_dataset.rename(columns={'start_cluster_x': 'target', 'start_cluster_y': 'prev_month'}, inplace=True)\n",
        "    pred_dataset.rename(columns={'start_cluster_x': 'target', 'start_cluster_y': 'prev_month'}, inplace=True)\n",
        "    X = train_dataset.drop([\"id\", \"date\", \"target\"], axis=1)\n",
        "    y = train_dataset[\"target\"]\n",
        "    model1.fit(X, y, verbose=False)\n",
        "    dataset.loc[dataset.date == 'month_6', 'start_cluster'] = model1.predict(pred_dataset.drop([\"id\", \"date\", \"target\"], axis=1))\n",
        "    return dataset, model"
      ]
    },
    {
      "cell_type": "code",
      "execution_count": 4,
      "metadata": {
        "id": "o7aUN9nNbzMJ"
      },
      "outputs": [],
      "source": [
        "cat_cols = [\n",
        "    \"channel_code\", \"city\", \"city_type\",\n",
        "    \"okved\", \"segment\", \"start_cluster\",\n",
        "    \"index_city_code\", \"ogrn_month\", \"ogrn_year\",\n",
        "]\n",
        "\n",
        "dataset_test, _ = predict_start(test, cat_cols)\n",
        "test['start_cluster'] = dataset_test['start_cluster']"
      ]
    },
    {
      "cell_type": "code",
      "execution_count": null,
      "metadata": {
        "id": "f1uxB5kpb1jf"
      },
      "outputs": [],
      "source": [
        "test.to_parquet(\"data/test_data_filled.pqt\", index=False)"
      ]
    }
  ],
  "metadata": {
    "accelerator": "GPU",
    "colab": {
      "gpuType": "T4",
      "provenance": []
    },
    "kernelspec": {
      "display_name": "Python 3",
      "name": "python3"
    },
    "language_info": {
      "codemirror_mode": {
        "name": "ipython",
        "version": 3
      },
      "file_extension": ".py",
      "mimetype": "text/x-python",
      "name": "python",
      "nbconvert_exporter": "python",
      "pygments_lexer": "ipython3",
      "version": "3.10.0"
    }
  },
  "nbformat": 4,
  "nbformat_minor": 0
}
